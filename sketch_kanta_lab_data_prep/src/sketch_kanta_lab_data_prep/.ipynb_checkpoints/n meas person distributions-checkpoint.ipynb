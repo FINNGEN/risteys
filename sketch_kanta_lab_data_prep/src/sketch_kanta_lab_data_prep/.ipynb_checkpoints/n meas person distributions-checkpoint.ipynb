{
 "cells": [
  {
   "cell_type": "markdown",
   "id": "21db0547-7259-43e9-b5bc-5a920b4283a7",
   "metadata": {},
   "source": [
    "# N measurements / person distribution"
   ]
  },
  {
   "cell_type": "code",
   "execution_count": 1,
   "id": "e578dd39-73f8-40df-a1ec-e3dde0dd957d",
   "metadata": {},
   "outputs": [],
   "source": [
    "from pathlib import Path\n",
    "\n",
    "import altair as alt\n",
    "import polars as pl\n",
    "from IPython.display import display, Markdown\n",
    "\n",
    "import plotting"
   ]
  },
  {
   "cell_type": "code",
   "execution_count": 2,
   "id": "fafbcefa-b18f-4d7c-9469-fe3b242dd5a5",
   "metadata": {},
   "outputs": [],
   "source": [
    "file = \"/Users/vllorens/data/fimm/finregistry-kanta-lab-values/risteys/stats_dist_n_measurements_person__sorted.csv\""
   ]
  },
  {
   "cell_type": "code",
   "execution_count": 4,
   "id": "75a78b5e-58e1-47aa-ae94-9489535be82f",
   "metadata": {},
   "outputs": [
    {
     "data": {
      "text/html": [
       "<div><style>\n",
       ".dataframe > thead > tr,\n",
       ".dataframe > tbody > tr {\n",
       "  text-align: right;\n",
       "  white-space: pre-wrap;\n",
       "}\n",
       "</style>\n",
       "<small>shape: (449, 3)</small><table border=\"1\" class=\"dataframe\"><thead><tr><th>OMOP_ID</th><th>Bin</th><th>NPeople</th></tr><tr><td>str</td><td>i64</td><td>i64</td></tr></thead><tbody><tr><td>&quot;3020564&quot;</td><td>243</td><td>5</td></tr><tr><td>&quot;3020564&quot;</td><td>257</td><td>5</td></tr><tr><td>&quot;3020564&quot;</td><td>258</td><td>5</td></tr><tr><td>&quot;3020564&quot;</td><td>278</td><td>5</td></tr><tr><td>&quot;3020564&quot;</td><td>281</td><td>5</td></tr><tr><td>&hellip;</td><td>&hellip;</td><td>&hellip;</td></tr><tr><td>&quot;3035995&quot;</td><td>2</td><td>363983</td></tr><tr><td>&quot;3020564&quot;</td><td>3</td><td>375426</td></tr><tr><td>&quot;3020564&quot;</td><td>2</td><td>561019</td></tr><tr><td>&quot;3035995&quot;</td><td>1</td><td>838144</td></tr><tr><td>&quot;3020564&quot;</td><td>1</td><td>919291</td></tr></tbody></table></div>"
      ],
      "text/plain": [
       "shape: (449, 3)\n",
       "┌─────────┬─────┬─────────┐\n",
       "│ OMOP_ID ┆ Bin ┆ NPeople │\n",
       "│ ---     ┆ --- ┆ ---     │\n",
       "│ str     ┆ i64 ┆ i64     │\n",
       "╞═════════╪═════╪═════════╡\n",
       "│ 3020564 ┆ 243 ┆ 5       │\n",
       "│ 3020564 ┆ 257 ┆ 5       │\n",
       "│ 3020564 ┆ 258 ┆ 5       │\n",
       "│ 3020564 ┆ 278 ┆ 5       │\n",
       "│ 3020564 ┆ 281 ┆ 5       │\n",
       "│ …       ┆ …   ┆ …       │\n",
       "│ 3035995 ┆ 2   ┆ 363983  │\n",
       "│ 3020564 ┆ 3   ┆ 375426  │\n",
       "│ 3020564 ┆ 2   ┆ 561019  │\n",
       "│ 3035995 ┆ 1   ┆ 838144  │\n",
       "│ 3020564 ┆ 1   ┆ 919291  │\n",
       "└─────────┴─────┴─────────┘"
      ]
     },
     "execution_count": 4,
     "metadata": {},
     "output_type": "execute_result"
    }
   ],
   "source": [
    "dataf = (\n",
    "    pl.read_csv(\n",
    "        file,\n",
    "        dtypes={\"OMOP_ID\": pl.String}\n",
    "    )\n",
    ")"
   ]
  },
  {
   "cell_type": "code",
   "execution_count": 5,
   "id": "7f49032d-29ab-435e-8854-58a1c5e6eda0",
   "metadata": {},
   "outputs": [],
   "source": [
    "omop_ids = dataf.get_column(\"OMOP_ID\").unique()"
   ]
  },
  {
   "cell_type": "code",
   "execution_count": 9,
   "id": "d640c32c-99c5-4ec0-8cbf-0cb6ad43a525",
   "metadata": {},
   "outputs": [
    {
     "data": {
      "text/markdown": [
       "## OMOP ID: 3035995"
      ],
      "text/plain": [
       "<IPython.core.display.Markdown object>"
      ]
     },
     "metadata": {},
     "output_type": "display_data"
    },
    {
     "data": {
      "text/html": [
       "\n",
       "<style>\n",
       "  #altair-viz-06a49ff224d843cab8a19ad08d262f9d.vega-embed {\n",
       "    width: 100%;\n",
       "    display: flex;\n",
       "  }\n",
       "\n",
       "  #altair-viz-06a49ff224d843cab8a19ad08d262f9d.vega-embed details,\n",
       "  #altair-viz-06a49ff224d843cab8a19ad08d262f9d.vega-embed details summary {\n",
       "    position: relative;\n",
       "  }\n",
       "</style>\n",
       "<div id=\"altair-viz-06a49ff224d843cab8a19ad08d262f9d\"></div>\n",
       "<script type=\"text/javascript\">\n",
       "  var VEGA_DEBUG = (typeof VEGA_DEBUG == \"undefined\") ? {} : VEGA_DEBUG;\n",
       "  (function(spec, embedOpt){\n",
       "    let outputDiv = document.currentScript.previousElementSibling;\n",
       "    if (outputDiv.id !== \"altair-viz-06a49ff224d843cab8a19ad08d262f9d\") {\n",
       "      outputDiv = document.getElementById(\"altair-viz-06a49ff224d843cab8a19ad08d262f9d\");\n",
       "    }\n",
       "    const paths = {\n",
       "      \"vega\": \"https://cdn.jsdelivr.net/npm/vega@5?noext\",\n",
       "      \"vega-lib\": \"https://cdn.jsdelivr.net/npm/vega-lib?noext\",\n",
       "      \"vega-lite\": \"https://cdn.jsdelivr.net/npm/vega-lite@5.16.3?noext\",\n",
       "      \"vega-embed\": \"https://cdn.jsdelivr.net/npm/vega-embed@6?noext\",\n",
       "    };\n",
       "\n",
       "    function maybeLoadScript(lib, version) {\n",
       "      var key = `${lib.replace(\"-\", \"\")}_version`;\n",
       "      return (VEGA_DEBUG[key] == version) ?\n",
       "        Promise.resolve(paths[lib]) :\n",
       "        new Promise(function(resolve, reject) {\n",
       "          var s = document.createElement('script');\n",
       "          document.getElementsByTagName(\"head\")[0].appendChild(s);\n",
       "          s.async = true;\n",
       "          s.onload = () => {\n",
       "            VEGA_DEBUG[key] = version;\n",
       "            return resolve(paths[lib]);\n",
       "          };\n",
       "          s.onerror = () => reject(`Error loading script: ${paths[lib]}`);\n",
       "          s.src = paths[lib];\n",
       "        });\n",
       "    }\n",
       "\n",
       "    function showError(err) {\n",
       "      outputDiv.innerHTML = `<div class=\"error\" style=\"color:red;\">${err}</div>`;\n",
       "      throw err;\n",
       "    }\n",
       "\n",
       "    function displayChart(vegaEmbed) {\n",
       "      vegaEmbed(outputDiv, spec, embedOpt)\n",
       "        .catch(err => showError(`Javascript Error: ${err.message}<br>This usually means there's a typo in your chart specification. See the javascript console for the full traceback.`));\n",
       "    }\n",
       "\n",
       "    if(typeof define === \"function\" && define.amd) {\n",
       "      requirejs.config({paths});\n",
       "      require([\"vega-embed\"], displayChart, err => showError(`Error loading script: ${err.message}`));\n",
       "    } else {\n",
       "      maybeLoadScript(\"vega\", \"5\")\n",
       "        .then(() => maybeLoadScript(\"vega-lite\", \"5.16.3\"))\n",
       "        .then(() => maybeLoadScript(\"vega-embed\", \"6\"))\n",
       "        .catch(showError)\n",
       "        .then(() => displayChart(vegaEmbed));\n",
       "    }\n",
       "  })({\"config\": {\"view\": {\"continuousWidth\": 300, \"continuousHeight\": 300}}, \"data\": {\"name\": \"data-54ad581f0afddbd836c2d1a8233679b8\"}, \"mark\": {\"type\": \"bar\"}, \"encoding\": {\"x\": {\"field\": \"Bin\", \"title\": \"Number of measurements\", \"type\": \"quantitative\"}, \"y\": {\"field\": \"NPeople\", \"title\": \"Number of people\", \"type\": \"quantitative\"}}, \"$schema\": \"https://vega.github.io/schema/vega-lite/v5.16.3.json\", \"datasets\": {\"data-54ad581f0afddbd836c2d1a8233679b8\": [{\"OMOP_ID\": \"3035995\", \"Bin\": 150, \"NPeople\": 5}, {\"OMOP_ID\": \"3035995\", \"Bin\": 163, \"NPeople\": 5}, {\"OMOP_ID\": \"3035995\", \"Bin\": 164, \"NPeople\": 5}, {\"OMOP_ID\": \"3035995\", \"Bin\": 168, \"NPeople\": 5}, {\"OMOP_ID\": \"3035995\", \"Bin\": 169, \"NPeople\": 5}, {\"OMOP_ID\": \"3035995\", \"Bin\": 173, \"NPeople\": 5}, {\"OMOP_ID\": \"3035995\", \"Bin\": 176, \"NPeople\": 5}, {\"OMOP_ID\": \"3035995\", \"Bin\": 135, \"NPeople\": 6}, {\"OMOP_ID\": \"3035995\", \"Bin\": 138, \"NPeople\": 6}, {\"OMOP_ID\": \"3035995\", \"Bin\": 140, \"NPeople\": 6}, {\"OMOP_ID\": \"3035995\", \"Bin\": 147, \"NPeople\": 6}, {\"OMOP_ID\": \"3035995\", \"Bin\": 149, \"NPeople\": 6}, {\"OMOP_ID\": \"3035995\", \"Bin\": 167, \"NPeople\": 6}, {\"OMOP_ID\": \"3035995\", \"Bin\": 154, \"NPeople\": 7}, {\"OMOP_ID\": \"3035995\", \"Bin\": 139, \"NPeople\": 8}, {\"OMOP_ID\": \"3035995\", \"Bin\": 143, \"NPeople\": 8}, {\"OMOP_ID\": \"3035995\", \"Bin\": 146, \"NPeople\": 8}, {\"OMOP_ID\": \"3035995\", \"Bin\": 179, \"NPeople\": 8}, {\"OMOP_ID\": \"3035995\", \"Bin\": 136, \"NPeople\": 9}, {\"OMOP_ID\": \"3035995\", \"Bin\": 148, \"NPeople\": 9}, {\"OMOP_ID\": \"3035995\", \"Bin\": 155, \"NPeople\": 9}, {\"OMOP_ID\": \"3035995\", \"Bin\": 115, \"NPeople\": 10}, {\"OMOP_ID\": \"3035995\", \"Bin\": 126, \"NPeople\": 10}, {\"OMOP_ID\": \"3035995\", \"Bin\": 128, \"NPeople\": 10}, {\"OMOP_ID\": \"3035995\", \"Bin\": 134, \"NPeople\": 10}, {\"OMOP_ID\": \"3035995\", \"Bin\": 142, \"NPeople\": 10}, {\"OMOP_ID\": \"3035995\", \"Bin\": 144, \"NPeople\": 10}, {\"OMOP_ID\": \"3035995\", \"Bin\": 145, \"NPeople\": 10}, {\"OMOP_ID\": \"3035995\", \"Bin\": 117, \"NPeople\": 11}, {\"OMOP_ID\": \"3035995\", \"Bin\": 132, \"NPeople\": 11}, {\"OMOP_ID\": \"3035995\", \"Bin\": 130, \"NPeople\": 12}, {\"OMOP_ID\": \"3035995\", \"Bin\": 122, \"NPeople\": 13}, {\"OMOP_ID\": \"3035995\", \"Bin\": 123, \"NPeople\": 13}, {\"OMOP_ID\": \"3035995\", \"Bin\": 137, \"NPeople\": 13}, {\"OMOP_ID\": \"3035995\", \"Bin\": 141, \"NPeople\": 13}, {\"OMOP_ID\": \"3035995\", \"Bin\": 127, \"NPeople\": 14}, {\"OMOP_ID\": \"3035995\", \"Bin\": 120, \"NPeople\": 15}, {\"OMOP_ID\": \"3035995\", \"Bin\": 121, \"NPeople\": 15}, {\"OMOP_ID\": \"3035995\", \"Bin\": 125, \"NPeople\": 15}, {\"OMOP_ID\": \"3035995\", \"Bin\": 131, \"NPeople\": 15}, {\"OMOP_ID\": \"3035995\", \"Bin\": 133, \"NPeople\": 15}, {\"OMOP_ID\": \"3035995\", \"Bin\": 112, \"NPeople\": 16}, {\"OMOP_ID\": \"3035995\", \"Bin\": 118, \"NPeople\": 16}, {\"OMOP_ID\": \"3035995\", \"Bin\": 116, \"NPeople\": 18}, {\"OMOP_ID\": \"3035995\", \"Bin\": 124, \"NPeople\": 18}, {\"OMOP_ID\": \"3035995\", \"Bin\": 129, \"NPeople\": 19}, {\"OMOP_ID\": \"3035995\", \"Bin\": 107, \"NPeople\": 21}, {\"OMOP_ID\": \"3035995\", \"Bin\": 114, \"NPeople\": 23}, {\"OMOP_ID\": \"3035995\", \"Bin\": 104, \"NPeople\": 24}, {\"OMOP_ID\": \"3035995\", \"Bin\": 110, \"NPeople\": 24}, {\"OMOP_ID\": \"3035995\", \"Bin\": 119, \"NPeople\": 25}, {\"OMOP_ID\": \"3035995\", \"Bin\": 113, \"NPeople\": 27}, {\"OMOP_ID\": \"3035995\", \"Bin\": 103, \"NPeople\": 31}, {\"OMOP_ID\": \"3035995\", \"Bin\": 106, \"NPeople\": 31}, {\"OMOP_ID\": \"3035995\", \"Bin\": 102, \"NPeople\": 32}, {\"OMOP_ID\": \"3035995\", \"Bin\": 105, \"NPeople\": 32}, {\"OMOP_ID\": \"3035995\", \"Bin\": 111, \"NPeople\": 32}, {\"OMOP_ID\": \"3035995\", \"Bin\": 101, \"NPeople\": 33}, {\"OMOP_ID\": \"3035995\", \"Bin\": 109, \"NPeople\": 34}, {\"OMOP_ID\": \"3035995\", \"Bin\": 100, \"NPeople\": 35}, {\"OMOP_ID\": \"3035995\", \"Bin\": 108, \"NPeople\": 35}, {\"OMOP_ID\": \"3035995\", \"Bin\": 96, \"NPeople\": 46}, {\"OMOP_ID\": \"3035995\", \"Bin\": 94, \"NPeople\": 47}, {\"OMOP_ID\": \"3035995\", \"Bin\": 99, \"NPeople\": 47}, {\"OMOP_ID\": \"3035995\", \"Bin\": 92, \"NPeople\": 49}, {\"OMOP_ID\": \"3035995\", \"Bin\": 98, \"NPeople\": 49}, {\"OMOP_ID\": \"3035995\", \"Bin\": 97, \"NPeople\": 50}, {\"OMOP_ID\": \"3035995\", \"Bin\": 93, \"NPeople\": 55}, {\"OMOP_ID\": \"3035995\", \"Bin\": 89, \"NPeople\": 61}, {\"OMOP_ID\": \"3035995\", \"Bin\": 88, \"NPeople\": 62}, {\"OMOP_ID\": \"3035995\", \"Bin\": 91, \"NPeople\": 62}, {\"OMOP_ID\": \"3035995\", \"Bin\": 95, \"NPeople\": 62}, {\"OMOP_ID\": \"3035995\", \"Bin\": 87, \"NPeople\": 63}, {\"OMOP_ID\": \"3035995\", \"Bin\": 86, \"NPeople\": 69}, {\"OMOP_ID\": \"3035995\", \"Bin\": 90, \"NPeople\": 71}, {\"OMOP_ID\": \"3035995\", \"Bin\": 85, \"NPeople\": 74}, {\"OMOP_ID\": \"3035995\", \"Bin\": 81, \"NPeople\": 84}, {\"OMOP_ID\": \"3035995\", \"Bin\": 80, \"NPeople\": 86}, {\"OMOP_ID\": \"3035995\", \"Bin\": 84, \"NPeople\": 86}, {\"OMOP_ID\": \"3035995\", \"Bin\": 83, \"NPeople\": 91}, {\"OMOP_ID\": \"3035995\", \"Bin\": 82, \"NPeople\": 94}, {\"OMOP_ID\": \"3035995\", \"Bin\": 77, \"NPeople\": 105}, {\"OMOP_ID\": \"3035995\", \"Bin\": 78, \"NPeople\": 107}, {\"OMOP_ID\": \"3035995\", \"Bin\": 76, \"NPeople\": 111}, {\"OMOP_ID\": \"3035995\", \"Bin\": 75, \"NPeople\": 113}, {\"OMOP_ID\": \"3035995\", \"Bin\": 74, \"NPeople\": 121}, {\"OMOP_ID\": \"3035995\", \"Bin\": 79, \"NPeople\": 124}, {\"OMOP_ID\": \"3035995\", \"Bin\": 73, \"NPeople\": 135}, {\"OMOP_ID\": \"3035995\", \"Bin\": 71, \"NPeople\": 145}, {\"OMOP_ID\": \"3035995\", \"Bin\": 72, \"NPeople\": 150}, {\"OMOP_ID\": \"3035995\", \"Bin\": 68, \"NPeople\": 158}, {\"OMOP_ID\": \"3035995\", \"Bin\": 70, \"NPeople\": 176}, {\"OMOP_ID\": \"3035995\", \"Bin\": 69, \"NPeople\": 181}, {\"OMOP_ID\": \"3035995\", \"Bin\": 67, \"NPeople\": 185}, {\"OMOP_ID\": \"3035995\", \"Bin\": 66, \"NPeople\": 204}, {\"OMOP_ID\": \"3035995\", \"Bin\": 65, \"NPeople\": 206}, {\"OMOP_ID\": \"3035995\", \"Bin\": 64, \"NPeople\": 207}, {\"OMOP_ID\": \"3035995\", \"Bin\": 62, \"NPeople\": 227}, {\"OMOP_ID\": \"3035995\", \"Bin\": 63, \"NPeople\": 227}, {\"OMOP_ID\": \"3035995\", \"Bin\": 61, \"NPeople\": 272}, {\"OMOP_ID\": \"3035995\", \"Bin\": 60, \"NPeople\": 276}, {\"OMOP_ID\": \"3035995\", \"Bin\": 59, \"NPeople\": 292}, {\"OMOP_ID\": \"3035995\", \"Bin\": 58, \"NPeople\": 309}, {\"OMOP_ID\": \"3035995\", \"Bin\": 57, \"NPeople\": 334}, {\"OMOP_ID\": \"3035995\", \"Bin\": 56, \"NPeople\": 335}, {\"OMOP_ID\": \"3035995\", \"Bin\": 55, \"NPeople\": 379}, {\"OMOP_ID\": \"3035995\", \"Bin\": 54, \"NPeople\": 394}, {\"OMOP_ID\": \"3035995\", \"Bin\": 53, \"NPeople\": 402}, {\"OMOP_ID\": \"3035995\", \"Bin\": 52, \"NPeople\": 471}, {\"OMOP_ID\": \"3035995\", \"Bin\": 50, \"NPeople\": 493}, {\"OMOP_ID\": \"3035995\", \"Bin\": 51, \"NPeople\": 496}, {\"OMOP_ID\": \"3035995\", \"Bin\": 49, \"NPeople\": 513}, {\"OMOP_ID\": \"3035995\", \"Bin\": 48, \"NPeople\": 604}, {\"OMOP_ID\": \"3035995\", \"Bin\": 47, \"NPeople\": 628}, {\"OMOP_ID\": \"3035995\", \"Bin\": 46, \"NPeople\": 651}, {\"OMOP_ID\": \"3035995\", \"Bin\": 45, \"NPeople\": 698}, {\"OMOP_ID\": \"3035995\", \"Bin\": 44, \"NPeople\": 721}, {\"OMOP_ID\": \"3035995\", \"Bin\": 43, \"NPeople\": 797}, {\"OMOP_ID\": \"3035995\", \"Bin\": 42, \"NPeople\": 885}, {\"OMOP_ID\": \"3035995\", \"Bin\": 41, \"NPeople\": 924}, {\"OMOP_ID\": \"3035995\", \"Bin\": 40, \"NPeople\": 1040}, {\"OMOP_ID\": \"3035995\", \"Bin\": 39, \"NPeople\": 1050}, {\"OMOP_ID\": \"3035995\", \"Bin\": 38, \"NPeople\": 1180}, {\"OMOP_ID\": \"3035995\", \"Bin\": 37, \"NPeople\": 1274}, {\"OMOP_ID\": \"3035995\", \"Bin\": 36, \"NPeople\": 1420}, {\"OMOP_ID\": \"3035995\", \"Bin\": 35, \"NPeople\": 1611}, {\"OMOP_ID\": \"3035995\", \"Bin\": 34, \"NPeople\": 1645}, {\"OMOP_ID\": \"3035995\", \"Bin\": 33, \"NPeople\": 1873}, {\"OMOP_ID\": \"3035995\", \"Bin\": 32, \"NPeople\": 2022}, {\"OMOP_ID\": \"3035995\", \"Bin\": 31, \"NPeople\": 2164}, {\"OMOP_ID\": \"3035995\", \"Bin\": 30, \"NPeople\": 2313}, {\"OMOP_ID\": \"3035995\", \"Bin\": 29, \"NPeople\": 2631}, {\"OMOP_ID\": \"3035995\", \"Bin\": 28, \"NPeople\": 2827}, {\"OMOP_ID\": \"3035995\", \"Bin\": 27, \"NPeople\": 3103}, {\"OMOP_ID\": \"3035995\", \"Bin\": 26, \"NPeople\": 3343}, {\"OMOP_ID\": \"3035995\", \"Bin\": 25, \"NPeople\": 3605}, {\"OMOP_ID\": \"3035995\", \"Bin\": 24, \"NPeople\": 4051}, {\"OMOP_ID\": \"3035995\", \"Bin\": 23, \"NPeople\": 4702}, {\"OMOP_ID\": \"3035995\", \"Bin\": 22, \"NPeople\": 4996}, {\"OMOP_ID\": \"3035995\", \"Bin\": 21, \"NPeople\": 5583}, {\"OMOP_ID\": \"3035995\", \"Bin\": 20, \"NPeople\": 6306}, {\"OMOP_ID\": \"3035995\", \"Bin\": 19, \"NPeople\": 7014}, {\"OMOP_ID\": \"3035995\", \"Bin\": 18, \"NPeople\": 7701}, {\"OMOP_ID\": \"3035995\", \"Bin\": 17, \"NPeople\": 8782}, {\"OMOP_ID\": \"3035995\", \"Bin\": 16, \"NPeople\": 10014}, {\"OMOP_ID\": \"3035995\", \"Bin\": 15, \"NPeople\": 11500}, {\"OMOP_ID\": \"3035995\", \"Bin\": 14, \"NPeople\": 13566}, {\"OMOP_ID\": \"3035995\", \"Bin\": 13, \"NPeople\": 15508}, {\"OMOP_ID\": \"3035995\", \"Bin\": 12, \"NPeople\": 18304}, {\"OMOP_ID\": \"3035995\", \"Bin\": 11, \"NPeople\": 21801}, {\"OMOP_ID\": \"3035995\", \"Bin\": 10, \"NPeople\": 26483}, {\"OMOP_ID\": \"3035995\", \"Bin\": 9, \"NPeople\": 31945}, {\"OMOP_ID\": \"3035995\", \"Bin\": 8, \"NPeople\": 39998}, {\"OMOP_ID\": \"3035995\", \"Bin\": 7, \"NPeople\": 50460}, {\"OMOP_ID\": \"3035995\", \"Bin\": 6, \"NPeople\": 66168}, {\"OMOP_ID\": \"3035995\", \"Bin\": 5, \"NPeople\": 90268}, {\"OMOP_ID\": \"3035995\", \"Bin\": 4, \"NPeople\": 129947}, {\"OMOP_ID\": \"3035995\", \"Bin\": 3, \"NPeople\": 202671}, {\"OMOP_ID\": \"3035995\", \"Bin\": 2, \"NPeople\": 363983}, {\"OMOP_ID\": \"3035995\", \"Bin\": 1, \"NPeople\": 838144}]}}, {\"mode\": \"vega-lite\"});\n",
       "</script>"
      ],
      "text/plain": [
       "alt.Chart(...)"
      ]
     },
     "metadata": {},
     "output_type": "display_data"
    },
    {
     "data": {
      "text/markdown": [
       "## OMOP ID: 3037522"
      ],
      "text/plain": [
       "<IPython.core.display.Markdown object>"
      ]
     },
     "metadata": {},
     "output_type": "display_data"
    },
    {
     "data": {
      "text/html": [
       "\n",
       "<style>\n",
       "  #altair-viz-96862b7bf97a4631a86040c807b62584.vega-embed {\n",
       "    width: 100%;\n",
       "    display: flex;\n",
       "  }\n",
       "\n",
       "  #altair-viz-96862b7bf97a4631a86040c807b62584.vega-embed details,\n",
       "  #altair-viz-96862b7bf97a4631a86040c807b62584.vega-embed details summary {\n",
       "    position: relative;\n",
       "  }\n",
       "</style>\n",
       "<div id=\"altair-viz-96862b7bf97a4631a86040c807b62584\"></div>\n",
       "<script type=\"text/javascript\">\n",
       "  var VEGA_DEBUG = (typeof VEGA_DEBUG == \"undefined\") ? {} : VEGA_DEBUG;\n",
       "  (function(spec, embedOpt){\n",
       "    let outputDiv = document.currentScript.previousElementSibling;\n",
       "    if (outputDiv.id !== \"altair-viz-96862b7bf97a4631a86040c807b62584\") {\n",
       "      outputDiv = document.getElementById(\"altair-viz-96862b7bf97a4631a86040c807b62584\");\n",
       "    }\n",
       "    const paths = {\n",
       "      \"vega\": \"https://cdn.jsdelivr.net/npm/vega@5?noext\",\n",
       "      \"vega-lib\": \"https://cdn.jsdelivr.net/npm/vega-lib?noext\",\n",
       "      \"vega-lite\": \"https://cdn.jsdelivr.net/npm/vega-lite@5.16.3?noext\",\n",
       "      \"vega-embed\": \"https://cdn.jsdelivr.net/npm/vega-embed@6?noext\",\n",
       "    };\n",
       "\n",
       "    function maybeLoadScript(lib, version) {\n",
       "      var key = `${lib.replace(\"-\", \"\")}_version`;\n",
       "      return (VEGA_DEBUG[key] == version) ?\n",
       "        Promise.resolve(paths[lib]) :\n",
       "        new Promise(function(resolve, reject) {\n",
       "          var s = document.createElement('script');\n",
       "          document.getElementsByTagName(\"head\")[0].appendChild(s);\n",
       "          s.async = true;\n",
       "          s.onload = () => {\n",
       "            VEGA_DEBUG[key] = version;\n",
       "            return resolve(paths[lib]);\n",
       "          };\n",
       "          s.onerror = () => reject(`Error loading script: ${paths[lib]}`);\n",
       "          s.src = paths[lib];\n",
       "        });\n",
       "    }\n",
       "\n",
       "    function showError(err) {\n",
       "      outputDiv.innerHTML = `<div class=\"error\" style=\"color:red;\">${err}</div>`;\n",
       "      throw err;\n",
       "    }\n",
       "\n",
       "    function displayChart(vegaEmbed) {\n",
       "      vegaEmbed(outputDiv, spec, embedOpt)\n",
       "        .catch(err => showError(`Javascript Error: ${err.message}<br>This usually means there's a typo in your chart specification. See the javascript console for the full traceback.`));\n",
       "    }\n",
       "\n",
       "    if(typeof define === \"function\" && define.amd) {\n",
       "      requirejs.config({paths});\n",
       "      require([\"vega-embed\"], displayChart, err => showError(`Error loading script: ${err.message}`));\n",
       "    } else {\n",
       "      maybeLoadScript(\"vega\", \"5\")\n",
       "        .then(() => maybeLoadScript(\"vega-lite\", \"5.16.3\"))\n",
       "        .then(() => maybeLoadScript(\"vega-embed\", \"6\"))\n",
       "        .catch(showError)\n",
       "        .then(() => displayChart(vegaEmbed));\n",
       "    }\n",
       "  })({\"config\": {\"view\": {\"continuousWidth\": 300, \"continuousHeight\": 300}}, \"data\": {\"name\": \"data-6d2fe25f18f68414a9386929dba4e634\"}, \"mark\": {\"type\": \"bar\"}, \"encoding\": {\"x\": {\"field\": \"Bin\", \"title\": \"Number of measurements\", \"type\": \"quantitative\"}, \"y\": {\"field\": \"NPeople\", \"title\": \"Number of people\", \"type\": \"quantitative\"}}, \"$schema\": \"https://vega.github.io/schema/vega-lite/v5.16.3.json\", \"datasets\": {\"data-6d2fe25f18f68414a9386929dba4e634\": [{\"OMOP_ID\": \"3037522\", \"Bin\": 14, \"NPeople\": 7}, {\"OMOP_ID\": \"3037522\", \"Bin\": 12, \"NPeople\": 9}, {\"OMOP_ID\": \"3037522\", \"Bin\": 10, \"NPeople\": 12}, {\"OMOP_ID\": \"3037522\", \"Bin\": 9, \"NPeople\": 26}, {\"OMOP_ID\": \"3037522\", \"Bin\": 8, \"NPeople\": 34}, {\"OMOP_ID\": \"3037522\", \"Bin\": 7, \"NPeople\": 86}, {\"OMOP_ID\": \"3037522\", \"Bin\": 6, \"NPeople\": 143}, {\"OMOP_ID\": \"3037522\", \"Bin\": 5, \"NPeople\": 298}, {\"OMOP_ID\": \"3037522\", \"Bin\": 4, \"NPeople\": 742}, {\"OMOP_ID\": \"3037522\", \"Bin\": 3, \"NPeople\": 2197}, {\"OMOP_ID\": \"3037522\", \"Bin\": 2, \"NPeople\": 9167}, {\"OMOP_ID\": \"3037522\", \"Bin\": 1, \"NPeople\": 64822}]}}, {\"mode\": \"vega-lite\"});\n",
       "</script>"
      ],
      "text/plain": [
       "alt.Chart(...)"
      ]
     },
     "metadata": {},
     "output_type": "display_data"
    },
    {
     "data": {
      "text/markdown": [
       "## OMOP ID: 3020564"
      ],
      "text/plain": [
       "<IPython.core.display.Markdown object>"
      ]
     },
     "metadata": {},
     "output_type": "display_data"
    },
    {
     "data": {
      "text/html": [
       "\n",
       "<style>\n",
       "  #altair-viz-050e248d4990473a8a88c97aa5ec5683.vega-embed {\n",
       "    width: 100%;\n",
       "    display: flex;\n",
       "  }\n",
       "\n",
       "  #altair-viz-050e248d4990473a8a88c97aa5ec5683.vega-embed details,\n",
       "  #altair-viz-050e248d4990473a8a88c97aa5ec5683.vega-embed details summary {\n",
       "    position: relative;\n",
       "  }\n",
       "</style>\n",
       "<div id=\"altair-viz-050e248d4990473a8a88c97aa5ec5683\"></div>\n",
       "<script type=\"text/javascript\">\n",
       "  var VEGA_DEBUG = (typeof VEGA_DEBUG == \"undefined\") ? {} : VEGA_DEBUG;\n",
       "  (function(spec, embedOpt){\n",
       "    let outputDiv = document.currentScript.previousElementSibling;\n",
       "    if (outputDiv.id !== \"altair-viz-050e248d4990473a8a88c97aa5ec5683\") {\n",
       "      outputDiv = document.getElementById(\"altair-viz-050e248d4990473a8a88c97aa5ec5683\");\n",
       "    }\n",
       "    const paths = {\n",
       "      \"vega\": \"https://cdn.jsdelivr.net/npm/vega@5?noext\",\n",
       "      \"vega-lib\": \"https://cdn.jsdelivr.net/npm/vega-lib?noext\",\n",
       "      \"vega-lite\": \"https://cdn.jsdelivr.net/npm/vega-lite@5.16.3?noext\",\n",
       "      \"vega-embed\": \"https://cdn.jsdelivr.net/npm/vega-embed@6?noext\",\n",
       "    };\n",
       "\n",
       "    function maybeLoadScript(lib, version) {\n",
       "      var key = `${lib.replace(\"-\", \"\")}_version`;\n",
       "      return (VEGA_DEBUG[key] == version) ?\n",
       "        Promise.resolve(paths[lib]) :\n",
       "        new Promise(function(resolve, reject) {\n",
       "          var s = document.createElement('script');\n",
       "          document.getElementsByTagName(\"head\")[0].appendChild(s);\n",
       "          s.async = true;\n",
       "          s.onload = () => {\n",
       "            VEGA_DEBUG[key] = version;\n",
       "            return resolve(paths[lib]);\n",
       "          };\n",
       "          s.onerror = () => reject(`Error loading script: ${paths[lib]}`);\n",
       "          s.src = paths[lib];\n",
       "        });\n",
       "    }\n",
       "\n",
       "    function showError(err) {\n",
       "      outputDiv.innerHTML = `<div class=\"error\" style=\"color:red;\">${err}</div>`;\n",
       "      throw err;\n",
       "    }\n",
       "\n",
       "    function displayChart(vegaEmbed) {\n",
       "      vegaEmbed(outputDiv, spec, embedOpt)\n",
       "        .catch(err => showError(`Javascript Error: ${err.message}<br>This usually means there's a typo in your chart specification. See the javascript console for the full traceback.`));\n",
       "    }\n",
       "\n",
       "    if(typeof define === \"function\" && define.amd) {\n",
       "      requirejs.config({paths});\n",
       "      require([\"vega-embed\"], displayChart, err => showError(`Error loading script: ${err.message}`));\n",
       "    } else {\n",
       "      maybeLoadScript(\"vega\", \"5\")\n",
       "        .then(() => maybeLoadScript(\"vega-lite\", \"5.16.3\"))\n",
       "        .then(() => maybeLoadScript(\"vega-embed\", \"6\"))\n",
       "        .catch(showError)\n",
       "        .then(() => displayChart(vegaEmbed));\n",
       "    }\n",
       "  })({\"config\": {\"view\": {\"continuousWidth\": 300, \"continuousHeight\": 300}}, \"data\": {\"name\": \"data-66ed4ea7e2e55e30be0fbccebd115920\"}, \"mark\": {\"type\": \"bar\"}, \"encoding\": {\"x\": {\"field\": \"Bin\", \"title\": \"Number of measurements\", \"type\": \"quantitative\"}, \"y\": {\"field\": \"NPeople\", \"title\": \"Number of people\", \"type\": \"quantitative\"}}, \"$schema\": \"https://vega.github.io/schema/vega-lite/v5.16.3.json\", \"datasets\": {\"data-66ed4ea7e2e55e30be0fbccebd115920\": [{\"OMOP_ID\": \"3020564\", \"Bin\": 243, \"NPeople\": 5}, {\"OMOP_ID\": \"3020564\", \"Bin\": 257, \"NPeople\": 5}, {\"OMOP_ID\": \"3020564\", \"Bin\": 258, \"NPeople\": 5}, {\"OMOP_ID\": \"3020564\", \"Bin\": 278, \"NPeople\": 5}, {\"OMOP_ID\": \"3020564\", \"Bin\": 281, \"NPeople\": 5}, {\"OMOP_ID\": \"3020564\", \"Bin\": 286, \"NPeople\": 5}, {\"OMOP_ID\": \"3020564\", \"Bin\": 287, \"NPeople\": 5}, {\"OMOP_ID\": \"3020564\", \"Bin\": 301, \"NPeople\": 5}, {\"OMOP_ID\": \"3020564\", \"Bin\": 302, \"NPeople\": 5}, {\"OMOP_ID\": \"3020564\", \"Bin\": 311, \"NPeople\": 5}, {\"OMOP_ID\": \"3020564\", \"Bin\": 239, \"NPeople\": 6}, {\"OMOP_ID\": \"3020564\", \"Bin\": 244, \"NPeople\": 6}, {\"OMOP_ID\": \"3020564\", \"Bin\": 246, \"NPeople\": 6}, {\"OMOP_ID\": \"3020564\", \"Bin\": 256, \"NPeople\": 6}, {\"OMOP_ID\": \"3020564\", \"Bin\": 260, \"NPeople\": 6}, {\"OMOP_ID\": \"3020564\", \"Bin\": 263, \"NPeople\": 6}, {\"OMOP_ID\": \"3020564\", \"Bin\": 265, \"NPeople\": 6}, {\"OMOP_ID\": \"3020564\", \"Bin\": 268, \"NPeople\": 6}, {\"OMOP_ID\": \"3020564\", \"Bin\": 274, \"NPeople\": 6}, {\"OMOP_ID\": \"3020564\", \"Bin\": 279, \"NPeople\": 6}, {\"OMOP_ID\": \"3020564\", \"Bin\": 285, \"NPeople\": 6}, {\"OMOP_ID\": \"3020564\", \"Bin\": 232, \"NPeople\": 7}, {\"OMOP_ID\": \"3020564\", \"Bin\": 238, \"NPeople\": 7}, {\"OMOP_ID\": \"3020564\", \"Bin\": 241, \"NPeople\": 7}, {\"OMOP_ID\": \"3020564\", \"Bin\": 245, \"NPeople\": 7}, {\"OMOP_ID\": \"3020564\", \"Bin\": 247, \"NPeople\": 7}, {\"OMOP_ID\": \"3020564\", \"Bin\": 250, \"NPeople\": 7}, {\"OMOP_ID\": \"3020564\", \"Bin\": 254, \"NPeople\": 7}, {\"OMOP_ID\": \"3020564\", \"Bin\": 262, \"NPeople\": 7}, {\"OMOP_ID\": \"3020564\", \"Bin\": 214, \"NPeople\": 8}, {\"OMOP_ID\": \"3020564\", \"Bin\": 255, \"NPeople\": 8}, {\"OMOP_ID\": \"3020564\", \"Bin\": 259, \"NPeople\": 8}, {\"OMOP_ID\": \"3020564\", \"Bin\": 327, \"NPeople\": 8}, {\"OMOP_ID\": \"3020564\", \"Bin\": 222, \"NPeople\": 9}, {\"OMOP_ID\": \"3020564\", \"Bin\": 234, \"NPeople\": 9}, {\"OMOP_ID\": \"3020564\", \"Bin\": 237, \"NPeople\": 9}, {\"OMOP_ID\": \"3020564\", \"Bin\": 249, \"NPeople\": 9}, {\"OMOP_ID\": \"3020564\", \"Bin\": 221, \"NPeople\": 10}, {\"OMOP_ID\": \"3020564\", \"Bin\": 225, \"NPeople\": 10}, {\"OMOP_ID\": \"3020564\", \"Bin\": 235, \"NPeople\": 10}, {\"OMOP_ID\": \"3020564\", \"Bin\": 236, \"NPeople\": 10}, {\"OMOP_ID\": \"3020564\", \"Bin\": 251, \"NPeople\": 10}, {\"OMOP_ID\": \"3020564\", \"Bin\": 253, \"NPeople\": 10}, {\"OMOP_ID\": \"3020564\", \"Bin\": 267, \"NPeople\": 10}, {\"OMOP_ID\": \"3020564\", \"Bin\": 223, \"NPeople\": 11}, {\"OMOP_ID\": \"3020564\", \"Bin\": 233, \"NPeople\": 11}, {\"OMOP_ID\": \"3020564\", \"Bin\": 248, \"NPeople\": 11}, {\"OMOP_ID\": \"3020564\", \"Bin\": 220, \"NPeople\": 12}, {\"OMOP_ID\": \"3020564\", \"Bin\": 229, \"NPeople\": 12}, {\"OMOP_ID\": \"3020564\", \"Bin\": 230, \"NPeople\": 12}, {\"OMOP_ID\": \"3020564\", \"Bin\": 231, \"NPeople\": 12}, {\"OMOP_ID\": \"3020564\", \"Bin\": 240, \"NPeople\": 12}, {\"OMOP_ID\": \"3020564\", \"Bin\": 252, \"NPeople\": 12}, {\"OMOP_ID\": \"3020564\", \"Bin\": 219, \"NPeople\": 13}, {\"OMOP_ID\": \"3020564\", \"Bin\": 264, \"NPeople\": 13}, {\"OMOP_ID\": \"3020564\", \"Bin\": 199, \"NPeople\": 14}, {\"OMOP_ID\": \"3020564\", \"Bin\": 198, \"NPeople\": 15}, {\"OMOP_ID\": \"3020564\", \"Bin\": 224, \"NPeople\": 15}, {\"OMOP_ID\": \"3020564\", \"Bin\": 217, \"NPeople\": 16}, {\"OMOP_ID\": \"3020564\", \"Bin\": 218, \"NPeople\": 16}, {\"OMOP_ID\": \"3020564\", \"Bin\": 226, \"NPeople\": 16}, {\"OMOP_ID\": \"3020564\", \"Bin\": 228, \"NPeople\": 16}, {\"OMOP_ID\": \"3020564\", \"Bin\": 201, \"NPeople\": 17}, {\"OMOP_ID\": \"3020564\", \"Bin\": 216, \"NPeople\": 17}, {\"OMOP_ID\": \"3020564\", \"Bin\": 227, \"NPeople\": 17}, {\"OMOP_ID\": \"3020564\", \"Bin\": 242, \"NPeople\": 17}, {\"OMOP_ID\": \"3020564\", \"Bin\": 193, \"NPeople\": 18}, {\"OMOP_ID\": \"3020564\", \"Bin\": 194, \"NPeople\": 19}, {\"OMOP_ID\": \"3020564\", \"Bin\": 206, \"NPeople\": 19}, {\"OMOP_ID\": \"3020564\", \"Bin\": 196, \"NPeople\": 20}, {\"OMOP_ID\": \"3020564\", \"Bin\": 202, \"NPeople\": 20}, {\"OMOP_ID\": \"3020564\", \"Bin\": 207, \"NPeople\": 20}, {\"OMOP_ID\": \"3020564\", \"Bin\": 209, \"NPeople\": 20}, {\"OMOP_ID\": \"3020564\", \"Bin\": 213, \"NPeople\": 20}, {\"OMOP_ID\": \"3020564\", \"Bin\": 205, \"NPeople\": 21}, {\"OMOP_ID\": \"3020564\", \"Bin\": 210, \"NPeople\": 21}, {\"OMOP_ID\": \"3020564\", \"Bin\": 212, \"NPeople\": 21}, {\"OMOP_ID\": \"3020564\", \"Bin\": 211, \"NPeople\": 22}, {\"OMOP_ID\": \"3020564\", \"Bin\": 215, \"NPeople\": 22}, {\"OMOP_ID\": \"3020564\", \"Bin\": 204, \"NPeople\": 23}, {\"OMOP_ID\": \"3020564\", \"Bin\": 195, \"NPeople\": 24}, {\"OMOP_ID\": \"3020564\", \"Bin\": 208, \"NPeople\": 25}, {\"OMOP_ID\": \"3020564\", \"Bin\": 188, \"NPeople\": 27}, {\"OMOP_ID\": \"3020564\", \"Bin\": 190, \"NPeople\": 27}, {\"OMOP_ID\": \"3020564\", \"Bin\": 187, \"NPeople\": 28}, {\"OMOP_ID\": \"3020564\", \"Bin\": 180, \"NPeople\": 29}, {\"OMOP_ID\": \"3020564\", \"Bin\": 185, \"NPeople\": 29}, {\"OMOP_ID\": \"3020564\", \"Bin\": 186, \"NPeople\": 29}, {\"OMOP_ID\": \"3020564\", \"Bin\": 197, \"NPeople\": 29}, {\"OMOP_ID\": \"3020564\", \"Bin\": 203, \"NPeople\": 29}, {\"OMOP_ID\": \"3020564\", \"Bin\": 192, \"NPeople\": 31}, {\"OMOP_ID\": \"3020564\", \"Bin\": 200, \"NPeople\": 33}, {\"OMOP_ID\": \"3020564\", \"Bin\": 184, \"NPeople\": 34}, {\"OMOP_ID\": \"3020564\", \"Bin\": 191, \"NPeople\": 34}, {\"OMOP_ID\": \"3020564\", \"Bin\": 189, \"NPeople\": 35}, {\"OMOP_ID\": \"3020564\", \"Bin\": 171, \"NPeople\": 38}, {\"OMOP_ID\": \"3020564\", \"Bin\": 182, \"NPeople\": 38}, {\"OMOP_ID\": \"3020564\", \"Bin\": 176, \"NPeople\": 39}, {\"OMOP_ID\": \"3020564\", \"Bin\": 178, \"NPeople\": 39}, {\"OMOP_ID\": \"3020564\", \"Bin\": 175, \"NPeople\": 42}, {\"OMOP_ID\": \"3020564\", \"Bin\": 181, \"NPeople\": 42}, {\"OMOP_ID\": \"3020564\", \"Bin\": 177, \"NPeople\": 44}, {\"OMOP_ID\": \"3020564\", \"Bin\": 183, \"NPeople\": 44}, {\"OMOP_ID\": \"3020564\", \"Bin\": 179, \"NPeople\": 45}, {\"OMOP_ID\": \"3020564\", \"Bin\": 170, \"NPeople\": 48}, {\"OMOP_ID\": \"3020564\", \"Bin\": 159, \"NPeople\": 50}, {\"OMOP_ID\": \"3020564\", \"Bin\": 173, \"NPeople\": 50}, {\"OMOP_ID\": \"3020564\", \"Bin\": 172, \"NPeople\": 51}, {\"OMOP_ID\": \"3020564\", \"Bin\": 167, \"NPeople\": 53}, {\"OMOP_ID\": \"3020564\", \"Bin\": 169, \"NPeople\": 54}, {\"OMOP_ID\": \"3020564\", \"Bin\": 163, \"NPeople\": 56}, {\"OMOP_ID\": \"3020564\", \"Bin\": 165, \"NPeople\": 56}, {\"OMOP_ID\": \"3020564\", \"Bin\": 174, \"NPeople\": 57}, {\"OMOP_ID\": \"3020564\", \"Bin\": 161, \"NPeople\": 60}, {\"OMOP_ID\": \"3020564\", \"Bin\": 166, \"NPeople\": 60}, {\"OMOP_ID\": \"3020564\", \"Bin\": 156, \"NPeople\": 61}, {\"OMOP_ID\": \"3020564\", \"Bin\": 164, \"NPeople\": 63}, {\"OMOP_ID\": \"3020564\", \"Bin\": 160, \"NPeople\": 64}, {\"OMOP_ID\": \"3020564\", \"Bin\": 158, \"NPeople\": 67}, {\"OMOP_ID\": \"3020564\", \"Bin\": 168, \"NPeople\": 67}, {\"OMOP_ID\": \"3020564\", \"Bin\": 155, \"NPeople\": 69}, {\"OMOP_ID\": \"3020564\", \"Bin\": 157, \"NPeople\": 74}, {\"OMOP_ID\": \"3020564\", \"Bin\": 154, \"NPeople\": 81}, {\"OMOP_ID\": \"3020564\", \"Bin\": 162, \"NPeople\": 83}, {\"OMOP_ID\": \"3020564\", \"Bin\": 153, \"NPeople\": 85}, {\"OMOP_ID\": \"3020564\", \"Bin\": 151, \"NPeople\": 91}, {\"OMOP_ID\": \"3020564\", \"Bin\": 152, \"NPeople\": 91}, {\"OMOP_ID\": \"3020564\", \"Bin\": 145, \"NPeople\": 94}, {\"OMOP_ID\": \"3020564\", \"Bin\": 149, \"NPeople\": 94}, {\"OMOP_ID\": \"3020564\", \"Bin\": 150, \"NPeople\": 96}, {\"OMOP_ID\": \"3020564\", \"Bin\": 148, \"NPeople\": 100}, {\"OMOP_ID\": \"3020564\", \"Bin\": 146, \"NPeople\": 104}, {\"OMOP_ID\": \"3020564\", \"Bin\": 147, \"NPeople\": 106}, {\"OMOP_ID\": \"3020564\", \"Bin\": 143, \"NPeople\": 107}, {\"OMOP_ID\": \"3020564\", \"Bin\": 141, \"NPeople\": 112}, {\"OMOP_ID\": \"3020564\", \"Bin\": 140, \"NPeople\": 115}, {\"OMOP_ID\": \"3020564\", \"Bin\": 137, \"NPeople\": 117}, {\"OMOP_ID\": \"3020564\", \"Bin\": 144, \"NPeople\": 121}, {\"OMOP_ID\": \"3020564\", \"Bin\": 139, \"NPeople\": 125}, {\"OMOP_ID\": \"3020564\", \"Bin\": 134, \"NPeople\": 127}, {\"OMOP_ID\": \"3020564\", \"Bin\": 142, \"NPeople\": 133}, {\"OMOP_ID\": \"3020564\", \"Bin\": 135, \"NPeople\": 139}, {\"OMOP_ID\": \"3020564\", \"Bin\": 138, \"NPeople\": 140}, {\"OMOP_ID\": \"3020564\", \"Bin\": 132, \"NPeople\": 141}, {\"OMOP_ID\": \"3020564\", \"Bin\": 136, \"NPeople\": 151}, {\"OMOP_ID\": \"3020564\", \"Bin\": 131, \"NPeople\": 160}, {\"OMOP_ID\": \"3020564\", \"Bin\": 133, \"NPeople\": 176}, {\"OMOP_ID\": \"3020564\", \"Bin\": 127, \"NPeople\": 178}, {\"OMOP_ID\": \"3020564\", \"Bin\": 129, \"NPeople\": 187}, {\"OMOP_ID\": \"3020564\", \"Bin\": 130, \"NPeople\": 187}, {\"OMOP_ID\": \"3020564\", \"Bin\": 128, \"NPeople\": 192}, {\"OMOP_ID\": \"3020564\", \"Bin\": 126, \"NPeople\": 199}, {\"OMOP_ID\": \"3020564\", \"Bin\": 120, \"NPeople\": 212}, {\"OMOP_ID\": \"3020564\", \"Bin\": 122, \"NPeople\": 216}, {\"OMOP_ID\": \"3020564\", \"Bin\": 125, \"NPeople\": 216}, {\"OMOP_ID\": \"3020564\", \"Bin\": 124, \"NPeople\": 218}, {\"OMOP_ID\": \"3020564\", \"Bin\": 123, \"NPeople\": 219}, {\"OMOP_ID\": \"3020564\", \"Bin\": 121, \"NPeople\": 221}, {\"OMOP_ID\": \"3020564\", \"Bin\": 117, \"NPeople\": 232}, {\"OMOP_ID\": \"3020564\", \"Bin\": 119, \"NPeople\": 272}, {\"OMOP_ID\": \"3020564\", \"Bin\": 116, \"NPeople\": 274}, {\"OMOP_ID\": \"3020564\", \"Bin\": 118, \"NPeople\": 279}, {\"OMOP_ID\": \"3020564\", \"Bin\": 115, \"NPeople\": 305}, {\"OMOP_ID\": \"3020564\", \"Bin\": 113, \"NPeople\": 316}, {\"OMOP_ID\": \"3020564\", \"Bin\": 109, \"NPeople\": 318}, {\"OMOP_ID\": \"3020564\", \"Bin\": 110, \"NPeople\": 319}, {\"OMOP_ID\": \"3020564\", \"Bin\": 112, \"NPeople\": 323}, {\"OMOP_ID\": \"3020564\", \"Bin\": 114, \"NPeople\": 327}, {\"OMOP_ID\": \"3020564\", \"Bin\": 111, \"NPeople\": 333}, {\"OMOP_ID\": \"3020564\", \"Bin\": 108, \"NPeople\": 345}, {\"OMOP_ID\": \"3020564\", \"Bin\": 107, \"NPeople\": 355}, {\"OMOP_ID\": \"3020564\", \"Bin\": 106, \"NPeople\": 395}, {\"OMOP_ID\": \"3020564\", \"Bin\": 105, \"NPeople\": 399}, {\"OMOP_ID\": \"3020564\", \"Bin\": 104, \"NPeople\": 420}, {\"OMOP_ID\": \"3020564\", \"Bin\": 103, \"NPeople\": 433}, {\"OMOP_ID\": \"3020564\", \"Bin\": 101, \"NPeople\": 440}, {\"OMOP_ID\": \"3020564\", \"Bin\": 102, \"NPeople\": 475}, {\"OMOP_ID\": \"3020564\", \"Bin\": 97, \"NPeople\": 509}, {\"OMOP_ID\": \"3020564\", \"Bin\": 98, \"NPeople\": 511}, {\"OMOP_ID\": \"3020564\", \"Bin\": 100, \"NPeople\": 520}, {\"OMOP_ID\": \"3020564\", \"Bin\": 99, \"NPeople\": 528}, {\"OMOP_ID\": \"3020564\", \"Bin\": 96, \"NPeople\": 550}, {\"OMOP_ID\": \"3020564\", \"Bin\": 95, \"NPeople\": 573}, {\"OMOP_ID\": \"3020564\", \"Bin\": 93, \"NPeople\": 601}, {\"OMOP_ID\": \"3020564\", \"Bin\": 94, \"NPeople\": 628}, {\"OMOP_ID\": \"3020564\", \"Bin\": 91, \"NPeople\": 642}, {\"OMOP_ID\": \"3020564\", \"Bin\": 92, \"NPeople\": 653}, {\"OMOP_ID\": \"3020564\", \"Bin\": 90, \"NPeople\": 697}, {\"OMOP_ID\": \"3020564\", \"Bin\": 89, \"NPeople\": 712}, {\"OMOP_ID\": \"3020564\", \"Bin\": 88, \"NPeople\": 726}, {\"OMOP_ID\": \"3020564\", \"Bin\": 87, \"NPeople\": 770}, {\"OMOP_ID\": \"3020564\", \"Bin\": 86, \"NPeople\": 790}, {\"OMOP_ID\": \"3020564\", \"Bin\": 85, \"NPeople\": 809}, {\"OMOP_ID\": \"3020564\", \"Bin\": 84, \"NPeople\": 863}, {\"OMOP_ID\": \"3020564\", \"Bin\": 83, \"NPeople\": 942}, {\"OMOP_ID\": \"3020564\", \"Bin\": 82, \"NPeople\": 977}, {\"OMOP_ID\": \"3020564\", \"Bin\": 80, \"NPeople\": 1029}, {\"OMOP_ID\": \"3020564\", \"Bin\": 81, \"NPeople\": 1029}, {\"OMOP_ID\": \"3020564\", \"Bin\": 79, \"NPeople\": 1050}, {\"OMOP_ID\": \"3020564\", \"Bin\": 78, \"NPeople\": 1091}, {\"OMOP_ID\": \"3020564\", \"Bin\": 77, \"NPeople\": 1161}, {\"OMOP_ID\": \"3020564\", \"Bin\": 76, \"NPeople\": 1183}, {\"OMOP_ID\": \"3020564\", \"Bin\": 75, \"NPeople\": 1256}, {\"OMOP_ID\": \"3020564\", \"Bin\": 74, \"NPeople\": 1281}, {\"OMOP_ID\": \"3020564\", \"Bin\": 72, \"NPeople\": 1392}, {\"OMOP_ID\": \"3020564\", \"Bin\": 73, \"NPeople\": 1404}, {\"OMOP_ID\": \"3020564\", \"Bin\": 71, \"NPeople\": 1528}, {\"OMOP_ID\": \"3020564\", \"Bin\": 70, \"NPeople\": 1535}, {\"OMOP_ID\": \"3020564\", \"Bin\": 68, \"NPeople\": 1580}, {\"OMOP_ID\": \"3020564\", \"Bin\": 69, \"NPeople\": 1631}, {\"OMOP_ID\": \"3020564\", \"Bin\": 67, \"NPeople\": 1767}, {\"OMOP_ID\": \"3020564\", \"Bin\": 66, \"NPeople\": 1807}, {\"OMOP_ID\": \"3020564\", \"Bin\": 65, \"NPeople\": 1945}, {\"OMOP_ID\": \"3020564\", \"Bin\": 64, \"NPeople\": 2041}, {\"OMOP_ID\": \"3020564\", \"Bin\": 63, \"NPeople\": 2081}, {\"OMOP_ID\": \"3020564\", \"Bin\": 62, \"NPeople\": 2284}, {\"OMOP_ID\": \"3020564\", \"Bin\": 61, \"NPeople\": 2309}, {\"OMOP_ID\": \"3020564\", \"Bin\": 60, \"NPeople\": 2394}, {\"OMOP_ID\": \"3020564\", \"Bin\": 59, \"NPeople\": 2576}, {\"OMOP_ID\": \"3020564\", \"Bin\": 58, \"NPeople\": 2749}, {\"OMOP_ID\": \"3020564\", \"Bin\": 57, \"NPeople\": 2819}, {\"OMOP_ID\": \"3020564\", \"Bin\": 56, \"NPeople\": 2985}, {\"OMOP_ID\": \"3020564\", \"Bin\": 55, \"NPeople\": 3063}, {\"OMOP_ID\": \"3020564\", \"Bin\": 54, \"NPeople\": 3272}, {\"OMOP_ID\": \"3020564\", \"Bin\": 53, \"NPeople\": 3367}, {\"OMOP_ID\": \"3020564\", \"Bin\": 52, \"NPeople\": 3679}, {\"OMOP_ID\": \"3020564\", \"Bin\": 51, \"NPeople\": 3736}, {\"OMOP_ID\": \"3020564\", \"Bin\": 50, \"NPeople\": 3892}, {\"OMOP_ID\": \"3020564\", \"Bin\": 49, \"NPeople\": 4188}, {\"OMOP_ID\": \"3020564\", \"Bin\": 48, \"NPeople\": 4467}, {\"OMOP_ID\": \"3020564\", \"Bin\": 47, \"NPeople\": 4731}, {\"OMOP_ID\": \"3020564\", \"Bin\": 46, \"NPeople\": 4953}, {\"OMOP_ID\": \"3020564\", \"Bin\": 44, \"NPeople\": 5290}, {\"OMOP_ID\": \"3020564\", \"Bin\": 45, \"NPeople\": 5331}, {\"OMOP_ID\": \"3020564\", \"Bin\": 43, \"NPeople\": 5740}, {\"OMOP_ID\": \"3020564\", \"Bin\": 42, \"NPeople\": 6060}, {\"OMOP_ID\": \"3020564\", \"Bin\": 41, \"NPeople\": 6452}, {\"OMOP_ID\": \"3020564\", \"Bin\": 40, \"NPeople\": 6760}, {\"OMOP_ID\": \"3020564\", \"Bin\": 39, \"NPeople\": 7149}, {\"OMOP_ID\": \"3020564\", \"Bin\": 38, \"NPeople\": 7534}, {\"OMOP_ID\": \"3020564\", \"Bin\": 37, \"NPeople\": 8438}, {\"OMOP_ID\": \"3020564\", \"Bin\": 36, \"NPeople\": 8574}, {\"OMOP_ID\": \"3020564\", \"Bin\": 35, \"NPeople\": 9160}, {\"OMOP_ID\": \"3020564\", \"Bin\": 34, \"NPeople\": 9896}, {\"OMOP_ID\": \"3020564\", \"Bin\": 33, \"NPeople\": 10572}, {\"OMOP_ID\": \"3020564\", \"Bin\": 32, \"NPeople\": 11368}, {\"OMOP_ID\": \"3020564\", \"Bin\": 31, \"NPeople\": 12255}, {\"OMOP_ID\": \"3020564\", \"Bin\": 30, \"NPeople\": 12868}, {\"OMOP_ID\": \"3020564\", \"Bin\": 29, \"NPeople\": 13823}, {\"OMOP_ID\": \"3020564\", \"Bin\": 28, \"NPeople\": 14906}, {\"OMOP_ID\": \"3020564\", \"Bin\": 27, \"NPeople\": 15897}, {\"OMOP_ID\": \"3020564\", \"Bin\": 26, \"NPeople\": 17144}, {\"OMOP_ID\": \"3020564\", \"Bin\": 25, \"NPeople\": 18426}, {\"OMOP_ID\": \"3020564\", \"Bin\": 24, \"NPeople\": 20210}, {\"OMOP_ID\": \"3020564\", \"Bin\": 23, \"NPeople\": 21627}, {\"OMOP_ID\": \"3020564\", \"Bin\": 22, \"NPeople\": 23522}, {\"OMOP_ID\": \"3020564\", \"Bin\": 21, \"NPeople\": 25750}, {\"OMOP_ID\": \"3020564\", \"Bin\": 20, \"NPeople\": 27797}, {\"OMOP_ID\": \"3020564\", \"Bin\": 19, \"NPeople\": 30688}, {\"OMOP_ID\": \"3020564\", \"Bin\": 18, \"NPeople\": 33341}, {\"OMOP_ID\": \"3020564\", \"Bin\": 17, \"NPeople\": 37456}, {\"OMOP_ID\": \"3020564\", \"Bin\": 16, \"NPeople\": 41316}, {\"OMOP_ID\": \"3020564\", \"Bin\": 15, \"NPeople\": 45866}, {\"OMOP_ID\": \"3020564\", \"Bin\": 14, \"NPeople\": 51708}, {\"OMOP_ID\": \"3020564\", \"Bin\": 13, \"NPeople\": 58429}, {\"OMOP_ID\": \"3020564\", \"Bin\": 12, \"NPeople\": 66461}, {\"OMOP_ID\": \"3020564\", \"Bin\": 11, \"NPeople\": 76579}, {\"OMOP_ID\": \"3020564\", \"Bin\": 10, \"NPeople\": 89482}, {\"OMOP_ID\": \"3020564\", \"Bin\": 9, \"NPeople\": 104623}, {\"OMOP_ID\": \"3020564\", \"Bin\": 8, \"NPeople\": 122934}, {\"OMOP_ID\": \"3020564\", \"Bin\": 7, \"NPeople\": 146385}, {\"OMOP_ID\": \"3020564\", \"Bin\": 6, \"NPeople\": 176065}, {\"OMOP_ID\": \"3020564\", \"Bin\": 5, \"NPeople\": 216669}, {\"OMOP_ID\": \"3020564\", \"Bin\": 4, \"NPeople\": 276582}, {\"OMOP_ID\": \"3020564\", \"Bin\": 3, \"NPeople\": 375426}, {\"OMOP_ID\": \"3020564\", \"Bin\": 2, \"NPeople\": 561019}, {\"OMOP_ID\": \"3020564\", \"Bin\": 1, \"NPeople\": 919291}]}}, {\"mode\": \"vega-lite\"});\n",
       "</script>"
      ],
      "text/plain": [
       "alt.Chart(...)"
      ]
     },
     "metadata": {},
     "output_type": "display_data"
    }
   ],
   "source": [
    "for omop_id in omop_ids:\n",
    "    display(Markdown(f\"## OMOP ID: {omop_id}\"))\n",
    "    \n",
    "    plot_data = dataf.filter(pl.col(\"OMOP_ID\") == omop_id)\n",
    "    \n",
    "    display(\n",
    "        alt.Chart(plot_data).mark_bar().encode(\n",
    "            alt.X(\"Bin:Q\").title(\"Number of measurements\"),\n",
    "            alt.Y(\"NPeople:Q\").title(\"Number of people\")\n",
    "        )\n",
    "    )"
   ]
  }
 ],
 "metadata": {
  "kernelspec": {
   "display_name": "Python 3 (ipykernel)",
   "language": "python",
   "name": "python3"
  },
  "language_info": {
   "codemirror_mode": {
    "name": "ipython",
    "version": 3
   },
   "file_extension": ".py",
   "mimetype": "text/x-python",
   "name": "python",
   "nbconvert_exporter": "python",
   "pygments_lexer": "ipython3",
   "version": "3.12.1"
  }
 },
 "nbformat": 4,
 "nbformat_minor": 5
}
