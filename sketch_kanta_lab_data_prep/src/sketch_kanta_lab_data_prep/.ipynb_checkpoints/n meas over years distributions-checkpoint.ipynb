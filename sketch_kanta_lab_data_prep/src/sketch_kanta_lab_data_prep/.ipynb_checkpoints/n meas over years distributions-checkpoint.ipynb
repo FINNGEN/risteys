{
 "cells": [
  {
   "cell_type": "markdown",
   "id": "c7c96fbc-230d-4bdc-a71a-36dfd1db2a98",
   "metadata": {},
   "source": [
    "# N measurements / years distribution"
   ]
  },
  {
   "cell_type": "code",
   "execution_count": 1,
   "id": "ac755991-5b19-465a-a3b3-a3dcf29706de",
   "metadata": {},
   "outputs": [],
   "source": [
    "from pathlib import Path\n",
    "\n",
    "import altair as alt\n",
    "import polars as pl\n",
    "from IPython.display import display, Markdown\n",
    "\n",
    "import plotting"
   ]
  },
  {
   "cell_type": "code",
   "execution_count": 3,
   "id": "262ae595-a9bb-47d9-8003-a385e5a2c82a",
   "metadata": {},
   "outputs": [],
   "source": [
    "file = \"/Users/vllorens/data/fimm/finregistry-kanta-lab-values/risteys/stats_dist_n_measurements_years__sorted.csv\""
   ]
  },
  {
   "cell_type": "code",
   "execution_count": 25,
   "id": "6cb56f2b-36e0-46e1-b7d8-7990cb8da23c",
   "metadata": {},
   "outputs": [],
   "source": [
    "dataf = (\n",
    "    pl.read_csv(\n",
    "        file,\n",
    "        dtypes={\"OMOP_ID\": pl.String}\n",
    "    )\n",
    "    .sort(pl.col(\"OMOP_ID\"), pl.col(\"YearMonth\"))\n",
    "    .with_columns(\n",
    "        pl.col(\"YearMonth\").str.split(\"-\")\n",
    "    )\n",
    "    .with_columns(\n",
    "        pl.col(\"YearMonth\").list.get(0).cast(pl.Int64).alias(\"Year\"),\n",
    "        pl.col(\"YearMonth\").list.get(1).cast(pl.Int64).alias(\"Month\")\n",
    "    )\n",
    "    .select(\n",
    "        pl.col(\"OMOP_ID\"),\n",
    "        pl.col(\"NRecords\"),\n",
    "        pl.date(pl.col(\"Year\"), pl.col(\"Month\"), 1).cast(pl.String).alias(\"Date\")\n",
    "    )\n",
    ")"
   ]
  },
  {
   "cell_type": "code",
   "execution_count": 26,
   "id": "73f659b5-a89e-4f72-b507-a70bf148a014",
   "metadata": {},
   "outputs": [],
   "source": [
    "omop_ids = dataf.get_column(\"OMOP_ID\").unique()"
   ]
  },
  {
   "cell_type": "code",
   "execution_count": 28,
   "id": "863ac5d9-928d-4884-ad64-fb36b0ccf341",
   "metadata": {},
   "outputs": [
    {
     "data": {
      "text/markdown": [
       "## OMOP ID: 3035995"
      ],
      "text/plain": [
       "<IPython.core.display.Markdown object>"
      ]
     },
     "metadata": {},
     "output_type": "display_data"
    },
    {
     "data": {
      "text/html": [
       "\n",
       "<style>\n",
       "  #altair-viz-3558ff09f16f479891d9a10521fc94dd.vega-embed {\n",
       "    width: 100%;\n",
       "    display: flex;\n",
       "  }\n",
       "\n",
       "  #altair-viz-3558ff09f16f479891d9a10521fc94dd.vega-embed details,\n",
       "  #altair-viz-3558ff09f16f479891d9a10521fc94dd.vega-embed details summary {\n",
       "    position: relative;\n",
       "  }\n",
       "</style>\n",
       "<div id=\"altair-viz-3558ff09f16f479891d9a10521fc94dd\"></div>\n",
       "<script type=\"text/javascript\">\n",
       "  var VEGA_DEBUG = (typeof VEGA_DEBUG == \"undefined\") ? {} : VEGA_DEBUG;\n",
       "  (function(spec, embedOpt){\n",
       "    let outputDiv = document.currentScript.previousElementSibling;\n",
       "    if (outputDiv.id !== \"altair-viz-3558ff09f16f479891d9a10521fc94dd\") {\n",
       "      outputDiv = document.getElementById(\"altair-viz-3558ff09f16f479891d9a10521fc94dd\");\n",
       "    }\n",
       "    const paths = {\n",
       "      \"vega\": \"https://cdn.jsdelivr.net/npm/vega@5?noext\",\n",
       "      \"vega-lib\": \"https://cdn.jsdelivr.net/npm/vega-lib?noext\",\n",
       "      \"vega-lite\": \"https://cdn.jsdelivr.net/npm/vega-lite@5.16.3?noext\",\n",
       "      \"vega-embed\": \"https://cdn.jsdelivr.net/npm/vega-embed@6?noext\",\n",
       "    };\n",
       "\n",
       "    function maybeLoadScript(lib, version) {\n",
       "      var key = `${lib.replace(\"-\", \"\")}_version`;\n",
       "      return (VEGA_DEBUG[key] == version) ?\n",
       "        Promise.resolve(paths[lib]) :\n",
       "        new Promise(function(resolve, reject) {\n",
       "          var s = document.createElement('script');\n",
       "          document.getElementsByTagName(\"head\")[0].appendChild(s);\n",
       "          s.async = true;\n",
       "          s.onload = () => {\n",
       "            VEGA_DEBUG[key] = version;\n",
       "            return resolve(paths[lib]);\n",
       "          };\n",
       "          s.onerror = () => reject(`Error loading script: ${paths[lib]}`);\n",
       "          s.src = paths[lib];\n",
       "        });\n",
       "    }\n",
       "\n",
       "    function showError(err) {\n",
       "      outputDiv.innerHTML = `<div class=\"error\" style=\"color:red;\">${err}</div>`;\n",
       "      throw err;\n",
       "    }\n",
       "\n",
       "    function displayChart(vegaEmbed) {\n",
       "      vegaEmbed(outputDiv, spec, embedOpt)\n",
       "        .catch(err => showError(`Javascript Error: ${err.message}<br>This usually means there's a typo in your chart specification. See the javascript console for the full traceback.`));\n",
       "    }\n",
       "\n",
       "    if(typeof define === \"function\" && define.amd) {\n",
       "      requirejs.config({paths});\n",
       "      require([\"vega-embed\"], displayChart, err => showError(`Error loading script: ${err.message}`));\n",
       "    } else {\n",
       "      maybeLoadScript(\"vega\", \"5\")\n",
       "        .then(() => maybeLoadScript(\"vega-lite\", \"5.16.3\"))\n",
       "        .then(() => maybeLoadScript(\"vega-embed\", \"6\"))\n",
       "        .catch(showError)\n",
       "        .then(() => displayChart(vegaEmbed));\n",
       "    }\n",
       "  })({\"config\": {\"view\": {\"continuousWidth\": 300, \"continuousHeight\": 300}}, \"data\": {\"name\": \"data-6d322adb3cdc12a926afda880adc23a8\"}, \"mark\": {\"type\": \"bar\"}, \"encoding\": {\"x\": {\"field\": \"Date\", \"type\": \"temporal\"}, \"y\": {\"field\": \"NRecords\", \"title\": \"Number of records\", \"type\": \"quantitative\"}}, \"$schema\": \"https://vega.github.io/schema/vega-lite/v5.16.3.json\", \"datasets\": {\"data-6d322adb3cdc12a926afda880adc23a8\": [{\"OMOP_ID\": \"3035995\", \"NRecords\": 17, \"Date\": \"2014-01-01\"}, {\"OMOP_ID\": \"3035995\", \"NRecords\": 19, \"Date\": \"2014-02-01\"}, {\"OMOP_ID\": \"3035995\", \"NRecords\": 48, \"Date\": \"2014-03-01\"}, {\"OMOP_ID\": \"3035995\", \"NRecords\": 240, \"Date\": \"2014-04-01\"}, {\"OMOP_ID\": \"3035995\", \"NRecords\": 1787, \"Date\": \"2014-05-01\"}, {\"OMOP_ID\": \"3035995\", \"NRecords\": 7125, \"Date\": \"2014-06-01\"}, {\"OMOP_ID\": \"3035995\", \"NRecords\": 8373, \"Date\": \"2014-07-01\"}, {\"OMOP_ID\": \"3035995\", \"NRecords\": 9958, \"Date\": \"2014-08-01\"}, {\"OMOP_ID\": \"3035995\", \"NRecords\": 12063, \"Date\": \"2014-09-01\"}, {\"OMOP_ID\": \"3035995\", \"NRecords\": 16114, \"Date\": \"2014-10-01\"}, {\"OMOP_ID\": \"3035995\", \"NRecords\": 19379, \"Date\": \"2014-11-01\"}, {\"OMOP_ID\": \"3035995\", \"NRecords\": 24107, \"Date\": \"2014-12-01\"}, {\"OMOP_ID\": \"3035995\", \"NRecords\": 27090, \"Date\": \"2015-01-01\"}, {\"OMOP_ID\": \"3035995\", \"NRecords\": 27089, \"Date\": \"2015-02-01\"}, {\"OMOP_ID\": \"3035995\", \"NRecords\": 30671, \"Date\": \"2015-03-01\"}, {\"OMOP_ID\": \"3035995\", \"NRecords\": 29281, \"Date\": \"2015-04-01\"}, {\"OMOP_ID\": \"3035995\", \"NRecords\": 29581, \"Date\": \"2015-05-01\"}, {\"OMOP_ID\": \"3035995\", \"NRecords\": 29051, \"Date\": \"2015-06-01\"}, {\"OMOP_ID\": \"3035995\", \"NRecords\": 25986, \"Date\": \"2015-07-01\"}, {\"OMOP_ID\": \"3035995\", \"NRecords\": 30230, \"Date\": \"2015-08-01\"}, {\"OMOP_ID\": \"3035995\", \"NRecords\": 32213, \"Date\": \"2015-09-01\"}, {\"OMOP_ID\": \"3035995\", \"NRecords\": 32011, \"Date\": \"2015-10-01\"}, {\"OMOP_ID\": \"3035995\", \"NRecords\": 32609, \"Date\": \"2015-11-01\"}, {\"OMOP_ID\": \"3035995\", \"NRecords\": 30322, \"Date\": \"2015-12-01\"}, {\"OMOP_ID\": \"3035995\", \"NRecords\": 30400, \"Date\": \"2016-01-01\"}, {\"OMOP_ID\": \"3035995\", \"NRecords\": 33451, \"Date\": \"2016-02-01\"}, {\"OMOP_ID\": \"3035995\", \"NRecords\": 33856, \"Date\": \"2016-03-01\"}, {\"OMOP_ID\": \"3035995\", \"NRecords\": 40109, \"Date\": \"2016-04-01\"}, {\"OMOP_ID\": \"3035995\", \"NRecords\": 50595, \"Date\": \"2016-05-01\"}, {\"OMOP_ID\": \"3035995\", \"NRecords\": 47929, \"Date\": \"2016-06-01\"}, {\"OMOP_ID\": \"3035995\", \"NRecords\": 38812, \"Date\": \"2016-07-01\"}, {\"OMOP_ID\": \"3035995\", \"NRecords\": 55381, \"Date\": \"2016-08-01\"}, {\"OMOP_ID\": \"3035995\", \"NRecords\": 57008, \"Date\": \"2016-09-01\"}, {\"OMOP_ID\": \"3035995\", \"NRecords\": 56652, \"Date\": \"2016-10-01\"}, {\"OMOP_ID\": \"3035995\", \"NRecords\": 60441, \"Date\": \"2016-11-01\"}, {\"OMOP_ID\": \"3035995\", \"NRecords\": 56213, \"Date\": \"2016-12-01\"}, {\"OMOP_ID\": \"3035995\", \"NRecords\": 67485, \"Date\": \"2017-01-01\"}, {\"OMOP_ID\": \"3035995\", \"NRecords\": 63064, \"Date\": \"2017-02-01\"}, {\"OMOP_ID\": \"3035995\", \"NRecords\": 71749, \"Date\": \"2017-03-01\"}, {\"OMOP_ID\": \"3035995\", \"NRecords\": 61783, \"Date\": \"2017-04-01\"}, {\"OMOP_ID\": \"3035995\", \"NRecords\": 82399, \"Date\": \"2017-05-01\"}, {\"OMOP_ID\": \"3035995\", \"NRecords\": 74053, \"Date\": \"2017-06-01\"}, {\"OMOP_ID\": \"3035995\", \"NRecords\": 62684, \"Date\": \"2017-07-01\"}, {\"OMOP_ID\": \"3035995\", \"NRecords\": 83543, \"Date\": \"2017-08-01\"}, {\"OMOP_ID\": \"3035995\", \"NRecords\": 84903, \"Date\": \"2017-09-01\"}, {\"OMOP_ID\": \"3035995\", \"NRecords\": 92585, \"Date\": \"2017-10-01\"}, {\"OMOP_ID\": \"3035995\", \"NRecords\": 94412, \"Date\": \"2017-11-01\"}, {\"OMOP_ID\": \"3035995\", \"NRecords\": 81771, \"Date\": \"2017-12-01\"}, {\"OMOP_ID\": \"3035995\", \"NRecords\": 107049, \"Date\": \"2018-01-01\"}, {\"OMOP_ID\": \"3035995\", \"NRecords\": 92478, \"Date\": \"2018-02-01\"}, {\"OMOP_ID\": \"3035995\", \"NRecords\": 101587, \"Date\": \"2018-03-01\"}, {\"OMOP_ID\": \"3035995\", \"NRecords\": 101924, \"Date\": \"2018-04-01\"}, {\"OMOP_ID\": \"3035995\", \"NRecords\": 109878, \"Date\": \"2018-05-01\"}, {\"OMOP_ID\": \"3035995\", \"NRecords\": 96208, \"Date\": \"2018-06-01\"}, {\"OMOP_ID\": \"3035995\", \"NRecords\": 88690, \"Date\": \"2018-07-01\"}, {\"OMOP_ID\": \"3035995\", \"NRecords\": 112918, \"Date\": \"2018-08-01\"}, {\"OMOP_ID\": \"3035995\", \"NRecords\": 105563, \"Date\": \"2018-09-01\"}, {\"OMOP_ID\": \"3035995\", \"NRecords\": 117207, \"Date\": \"2018-10-01\"}, {\"OMOP_ID\": \"3035995\", \"NRecords\": 113314, \"Date\": \"2018-11-01\"}, {\"OMOP_ID\": \"3035995\", \"NRecords\": 92159, \"Date\": \"2018-12-01\"}, {\"OMOP_ID\": \"3035995\", \"NRecords\": 122278, \"Date\": \"2019-01-01\"}, {\"OMOP_ID\": \"3035995\", \"NRecords\": 111199, \"Date\": \"2019-02-01\"}, {\"OMOP_ID\": \"3035995\", \"NRecords\": 119004, \"Date\": \"2019-03-01\"}, {\"OMOP_ID\": \"3035995\", \"NRecords\": 116825, \"Date\": \"2019-04-01\"}, {\"OMOP_ID\": \"3035995\", \"NRecords\": 124188, \"Date\": \"2019-05-01\"}, {\"OMOP_ID\": \"3035995\", \"NRecords\": 106896, \"Date\": \"2019-06-01\"}, {\"OMOP_ID\": \"3035995\", \"NRecords\": 104480, \"Date\": \"2019-07-01\"}, {\"OMOP_ID\": \"3035995\", \"NRecords\": 125146, \"Date\": \"2019-08-01\"}, {\"OMOP_ID\": \"3035995\", \"NRecords\": 127031, \"Date\": \"2019-09-01\"}, {\"OMOP_ID\": \"3035995\", \"NRecords\": 130533, \"Date\": \"2019-10-01\"}, {\"OMOP_ID\": \"3035995\", \"NRecords\": 122819, \"Date\": \"2019-11-01\"}, {\"OMOP_ID\": \"3035995\", \"NRecords\": 106729, \"Date\": \"2019-12-01\"}, {\"OMOP_ID\": \"3035995\", \"NRecords\": 129635, \"Date\": \"2020-01-01\"}, {\"OMOP_ID\": \"3035995\", \"NRecords\": 115132, \"Date\": \"2020-02-01\"}, {\"OMOP_ID\": \"3035995\", \"NRecords\": 112476, \"Date\": \"2020-03-01\"}, {\"OMOP_ID\": \"3035995\", \"NRecords\": 97732, \"Date\": \"2020-04-01\"}, {\"OMOP_ID\": \"3035995\", \"NRecords\": 110974, \"Date\": \"2020-05-01\"}, {\"OMOP_ID\": \"3035995\", \"NRecords\": 115217, \"Date\": \"2020-06-01\"}, {\"OMOP_ID\": \"3035995\", \"NRecords\": 104243, \"Date\": \"2020-07-01\"}, {\"OMOP_ID\": \"3035995\", \"NRecords\": 120001, \"Date\": \"2020-08-01\"}, {\"OMOP_ID\": \"3035995\", \"NRecords\": 129013, \"Date\": \"2020-09-01\"}, {\"OMOP_ID\": \"3035995\", \"NRecords\": 126376, \"Date\": \"2020-10-01\"}, {\"OMOP_ID\": \"3035995\", \"NRecords\": 124387, \"Date\": \"2020-11-01\"}, {\"OMOP_ID\": \"3035995\", \"NRecords\": 116008, \"Date\": \"2020-12-01\"}, {\"OMOP_ID\": \"3035995\", \"NRecords\": 120002, \"Date\": \"2021-01-01\"}, {\"OMOP_ID\": \"3035995\", \"NRecords\": 118367, \"Date\": \"2021-02-01\"}, {\"OMOP_ID\": \"3035995\", \"NRecords\": 133274, \"Date\": \"2021-03-01\"}, {\"OMOP_ID\": \"3035995\", \"NRecords\": 123944, \"Date\": \"2021-04-01\"}, {\"OMOP_ID\": \"3035995\", \"NRecords\": 128215, \"Date\": \"2021-05-01\"}, {\"OMOP_ID\": \"3035995\", \"NRecords\": 119893, \"Date\": \"2021-06-01\"}, {\"OMOP_ID\": \"3035995\", \"NRecords\": 101978, \"Date\": \"2021-07-01\"}, {\"OMOP_ID\": \"3035995\", \"NRecords\": 130721, \"Date\": \"2021-08-01\"}, {\"OMOP_ID\": \"3035995\", \"NRecords\": 136786, \"Date\": \"2021-09-01\"}, {\"OMOP_ID\": \"3035995\", \"NRecords\": 131106, \"Date\": \"2021-10-01\"}, {\"OMOP_ID\": \"3035995\", \"NRecords\": 138838, \"Date\": \"2021-11-01\"}, {\"OMOP_ID\": \"3035995\", \"NRecords\": 119897, \"Date\": \"2021-12-01\"}, {\"OMOP_ID\": \"3035995\", \"NRecords\": 123365, \"Date\": \"2022-01-01\"}, {\"OMOP_ID\": \"3035995\", \"NRecords\": 118872, \"Date\": \"2022-02-01\"}, {\"OMOP_ID\": \"3035995\", \"NRecords\": 134167, \"Date\": \"2022-03-01\"}, {\"OMOP_ID\": \"3035995\", \"NRecords\": 102654, \"Date\": \"2022-04-01\"}, {\"OMOP_ID\": \"3035995\", \"NRecords\": 130887, \"Date\": \"2022-05-01\"}, {\"OMOP_ID\": \"3035995\", \"NRecords\": 114442, \"Date\": \"2022-06-01\"}, {\"OMOP_ID\": \"3035995\", \"NRecords\": 95368, \"Date\": \"2022-07-01\"}, {\"OMOP_ID\": \"3035995\", \"NRecords\": 128482, \"Date\": \"2022-08-01\"}, {\"OMOP_ID\": \"3035995\", \"NRecords\": 127321, \"Date\": \"2022-09-01\"}, {\"OMOP_ID\": \"3035995\", \"NRecords\": 123054, \"Date\": \"2022-10-01\"}, {\"OMOP_ID\": \"3035995\", \"NRecords\": 127033, \"Date\": \"2022-11-01\"}, {\"OMOP_ID\": \"3035995\", \"NRecords\": 109144, \"Date\": \"2022-12-01\"}]}}, {\"mode\": \"vega-lite\"});\n",
       "</script>"
      ],
      "text/plain": [
       "alt.Chart(...)"
      ]
     },
     "metadata": {},
     "output_type": "display_data"
    },
    {
     "data": {
      "text/markdown": [
       "## OMOP ID: 3020564"
      ],
      "text/plain": [
       "<IPython.core.display.Markdown object>"
      ]
     },
     "metadata": {},
     "output_type": "display_data"
    },
    {
     "data": {
      "text/html": [
       "\n",
       "<style>\n",
       "  #altair-viz-0de48ed501b34293aaecfd1cb2925ff3.vega-embed {\n",
       "    width: 100%;\n",
       "    display: flex;\n",
       "  }\n",
       "\n",
       "  #altair-viz-0de48ed501b34293aaecfd1cb2925ff3.vega-embed details,\n",
       "  #altair-viz-0de48ed501b34293aaecfd1cb2925ff3.vega-embed details summary {\n",
       "    position: relative;\n",
       "  }\n",
       "</style>\n",
       "<div id=\"altair-viz-0de48ed501b34293aaecfd1cb2925ff3\"></div>\n",
       "<script type=\"text/javascript\">\n",
       "  var VEGA_DEBUG = (typeof VEGA_DEBUG == \"undefined\") ? {} : VEGA_DEBUG;\n",
       "  (function(spec, embedOpt){\n",
       "    let outputDiv = document.currentScript.previousElementSibling;\n",
       "    if (outputDiv.id !== \"altair-viz-0de48ed501b34293aaecfd1cb2925ff3\") {\n",
       "      outputDiv = document.getElementById(\"altair-viz-0de48ed501b34293aaecfd1cb2925ff3\");\n",
       "    }\n",
       "    const paths = {\n",
       "      \"vega\": \"https://cdn.jsdelivr.net/npm/vega@5?noext\",\n",
       "      \"vega-lib\": \"https://cdn.jsdelivr.net/npm/vega-lib?noext\",\n",
       "      \"vega-lite\": \"https://cdn.jsdelivr.net/npm/vega-lite@5.16.3?noext\",\n",
       "      \"vega-embed\": \"https://cdn.jsdelivr.net/npm/vega-embed@6?noext\",\n",
       "    };\n",
       "\n",
       "    function maybeLoadScript(lib, version) {\n",
       "      var key = `${lib.replace(\"-\", \"\")}_version`;\n",
       "      return (VEGA_DEBUG[key] == version) ?\n",
       "        Promise.resolve(paths[lib]) :\n",
       "        new Promise(function(resolve, reject) {\n",
       "          var s = document.createElement('script');\n",
       "          document.getElementsByTagName(\"head\")[0].appendChild(s);\n",
       "          s.async = true;\n",
       "          s.onload = () => {\n",
       "            VEGA_DEBUG[key] = version;\n",
       "            return resolve(paths[lib]);\n",
       "          };\n",
       "          s.onerror = () => reject(`Error loading script: ${paths[lib]}`);\n",
       "          s.src = paths[lib];\n",
       "        });\n",
       "    }\n",
       "\n",
       "    function showError(err) {\n",
       "      outputDiv.innerHTML = `<div class=\"error\" style=\"color:red;\">${err}</div>`;\n",
       "      throw err;\n",
       "    }\n",
       "\n",
       "    function displayChart(vegaEmbed) {\n",
       "      vegaEmbed(outputDiv, spec, embedOpt)\n",
       "        .catch(err => showError(`Javascript Error: ${err.message}<br>This usually means there's a typo in your chart specification. See the javascript console for the full traceback.`));\n",
       "    }\n",
       "\n",
       "    if(typeof define === \"function\" && define.amd) {\n",
       "      requirejs.config({paths});\n",
       "      require([\"vega-embed\"], displayChart, err => showError(`Error loading script: ${err.message}`));\n",
       "    } else {\n",
       "      maybeLoadScript(\"vega\", \"5\")\n",
       "        .then(() => maybeLoadScript(\"vega-lite\", \"5.16.3\"))\n",
       "        .then(() => maybeLoadScript(\"vega-embed\", \"6\"))\n",
       "        .catch(showError)\n",
       "        .then(() => displayChart(vegaEmbed));\n",
       "    }\n",
       "  })({\"config\": {\"view\": {\"continuousWidth\": 300, \"continuousHeight\": 300}}, \"data\": {\"name\": \"data-030b48b31de9e5a1c08fc8b9a0b98ecc\"}, \"mark\": {\"type\": \"bar\"}, \"encoding\": {\"x\": {\"field\": \"Date\", \"type\": \"temporal\"}, \"y\": {\"field\": \"NRecords\", \"title\": \"Number of records\", \"type\": \"quantitative\"}}, \"$schema\": \"https://vega.github.io/schema/vega-lite/v5.16.3.json\", \"datasets\": {\"data-030b48b31de9e5a1c08fc8b9a0b98ecc\": [{\"OMOP_ID\": \"3020564\", \"NRecords\": 80, \"Date\": \"2014-01-01\"}, {\"OMOP_ID\": \"3020564\", \"NRecords\": 116, \"Date\": \"2014-02-01\"}, {\"OMOP_ID\": \"3020564\", \"NRecords\": 199, \"Date\": \"2014-03-01\"}, {\"OMOP_ID\": \"3020564\", \"NRecords\": 1084, \"Date\": \"2014-04-01\"}, {\"OMOP_ID\": \"3020564\", \"NRecords\": 7920, \"Date\": \"2014-05-01\"}, {\"OMOP_ID\": \"3020564\", \"NRecords\": 29783, \"Date\": \"2014-06-01\"}, {\"OMOP_ID\": \"3020564\", \"NRecords\": 34207, \"Date\": \"2014-07-01\"}, {\"OMOP_ID\": \"3020564\", \"NRecords\": 39643, \"Date\": \"2014-08-01\"}, {\"OMOP_ID\": \"3020564\", \"NRecords\": 48618, \"Date\": \"2014-09-01\"}, {\"OMOP_ID\": \"3020564\", \"NRecords\": 66915, \"Date\": \"2014-10-01\"}, {\"OMOP_ID\": \"3020564\", \"NRecords\": 83142, \"Date\": \"2014-11-01\"}, {\"OMOP_ID\": \"3020564\", \"NRecords\": 108211, \"Date\": \"2014-12-01\"}, {\"OMOP_ID\": \"3020564\", \"NRecords\": 123243, \"Date\": \"2015-01-01\"}, {\"OMOP_ID\": \"3020564\", \"NRecords\": 123663, \"Date\": \"2015-02-01\"}, {\"OMOP_ID\": \"3020564\", \"NRecords\": 141324, \"Date\": \"2015-03-01\"}, {\"OMOP_ID\": \"3020564\", \"NRecords\": 135615, \"Date\": \"2015-04-01\"}, {\"OMOP_ID\": \"3020564\", \"NRecords\": 135460, \"Date\": \"2015-05-01\"}, {\"OMOP_ID\": \"3020564\", \"NRecords\": 130675, \"Date\": \"2015-06-01\"}, {\"OMOP_ID\": \"3020564\", \"NRecords\": 119230, \"Date\": \"2015-07-01\"}, {\"OMOP_ID\": \"3020564\", \"NRecords\": 134530, \"Date\": \"2015-08-01\"}, {\"OMOP_ID\": \"3020564\", \"NRecords\": 143477, \"Date\": \"2015-09-01\"}, {\"OMOP_ID\": \"3020564\", \"NRecords\": 143464, \"Date\": \"2015-10-01\"}, {\"OMOP_ID\": \"3020564\", \"NRecords\": 148049, \"Date\": \"2015-11-01\"}, {\"OMOP_ID\": \"3020564\", \"NRecords\": 139339, \"Date\": \"2015-12-01\"}, {\"OMOP_ID\": \"3020564\", \"NRecords\": 143145, \"Date\": \"2016-01-01\"}, {\"OMOP_ID\": \"3020564\", \"NRecords\": 156180, \"Date\": \"2016-02-01\"}, {\"OMOP_ID\": \"3020564\", \"NRecords\": 158038, \"Date\": \"2016-03-01\"}, {\"OMOP_ID\": \"3020564\", \"NRecords\": 178768, \"Date\": \"2016-04-01\"}, {\"OMOP_ID\": \"3020564\", \"NRecords\": 215246, \"Date\": \"2016-05-01\"}, {\"OMOP_ID\": \"3020564\", \"NRecords\": 199135, \"Date\": \"2016-06-01\"}, {\"OMOP_ID\": \"3020564\", \"NRecords\": 168119, \"Date\": \"2016-07-01\"}, {\"OMOP_ID\": \"3020564\", \"NRecords\": 219066, \"Date\": \"2016-08-01\"}, {\"OMOP_ID\": \"3020564\", \"NRecords\": 229118, \"Date\": \"2016-09-01\"}, {\"OMOP_ID\": \"3020564\", \"NRecords\": 233548, \"Date\": \"2016-10-01\"}, {\"OMOP_ID\": \"3020564\", \"NRecords\": 246573, \"Date\": \"2016-11-01\"}, {\"OMOP_ID\": \"3020564\", \"NRecords\": 234069, \"Date\": \"2016-12-01\"}, {\"OMOP_ID\": \"3020564\", \"NRecords\": 271239, \"Date\": \"2017-01-01\"}, {\"OMOP_ID\": \"3020564\", \"NRecords\": 250938, \"Date\": \"2017-02-01\"}, {\"OMOP_ID\": \"3020564\", \"NRecords\": 285136, \"Date\": \"2017-03-01\"}, {\"OMOP_ID\": \"3020564\", \"NRecords\": 245545, \"Date\": \"2017-04-01\"}, {\"OMOP_ID\": \"3020564\", \"NRecords\": 316652, \"Date\": \"2017-05-01\"}, {\"OMOP_ID\": \"3020564\", \"NRecords\": 287505, \"Date\": \"2017-06-01\"}, {\"OMOP_ID\": \"3020564\", \"NRecords\": 243978, \"Date\": \"2017-07-01\"}, {\"OMOP_ID\": \"3020564\", \"NRecords\": 313429, \"Date\": \"2017-08-01\"}, {\"OMOP_ID\": \"3020564\", \"NRecords\": 328161, \"Date\": \"2017-09-01\"}, {\"OMOP_ID\": \"3020564\", \"NRecords\": 358987, \"Date\": \"2017-10-01\"}, {\"OMOP_ID\": \"3020564\", \"NRecords\": 362801, \"Date\": \"2017-11-01\"}, {\"OMOP_ID\": \"3020564\", \"NRecords\": 325682, \"Date\": \"2017-12-01\"}, {\"OMOP_ID\": \"3020564\", \"NRecords\": 407518, \"Date\": \"2018-01-01\"}, {\"OMOP_ID\": \"3020564\", \"NRecords\": 360124, \"Date\": \"2018-02-01\"}, {\"OMOP_ID\": \"3020564\", \"NRecords\": 399155, \"Date\": \"2018-03-01\"}, {\"OMOP_ID\": \"3020564\", \"NRecords\": 391050, \"Date\": \"2018-04-01\"}, {\"OMOP_ID\": \"3020564\", \"NRecords\": 411639, \"Date\": \"2018-05-01\"}, {\"OMOP_ID\": \"3020564\", \"NRecords\": 364199, \"Date\": \"2018-06-01\"}, {\"OMOP_ID\": \"3020564\", \"NRecords\": 343196, \"Date\": \"2018-07-01\"}, {\"OMOP_ID\": \"3020564\", \"NRecords\": 415900, \"Date\": \"2018-08-01\"}, {\"OMOP_ID\": \"3020564\", \"NRecords\": 394765, \"Date\": \"2018-09-01\"}, {\"OMOP_ID\": \"3020564\", \"NRecords\": 434606, \"Date\": \"2018-10-01\"}, {\"OMOP_ID\": \"3020564\", \"NRecords\": 415026, \"Date\": \"2018-11-01\"}, {\"OMOP_ID\": \"3020564\", \"NRecords\": 351321, \"Date\": \"2018-12-01\"}, {\"OMOP_ID\": \"3020564\", \"NRecords\": 452214, \"Date\": \"2019-01-01\"}, {\"OMOP_ID\": \"3020564\", \"NRecords\": 421841, \"Date\": \"2019-02-01\"}, {\"OMOP_ID\": \"3020564\", \"NRecords\": 457669, \"Date\": \"2019-03-01\"}, {\"OMOP_ID\": \"3020564\", \"NRecords\": 437440, \"Date\": \"2019-04-01\"}, {\"OMOP_ID\": \"3020564\", \"NRecords\": 463522, \"Date\": \"2019-05-01\"}, {\"OMOP_ID\": \"3020564\", \"NRecords\": 407392, \"Date\": \"2019-06-01\"}, {\"OMOP_ID\": \"3020564\", \"NRecords\": 393162, \"Date\": \"2019-07-01\"}, {\"OMOP_ID\": \"3020564\", \"NRecords\": 451142, \"Date\": \"2019-08-01\"}, {\"OMOP_ID\": \"3020564\", \"NRecords\": 462322, \"Date\": \"2019-09-01\"}, {\"OMOP_ID\": \"3020564\", \"NRecords\": 486663, \"Date\": \"2019-10-01\"}, {\"OMOP_ID\": \"3020564\", \"NRecords\": 453755, \"Date\": \"2019-11-01\"}, {\"OMOP_ID\": \"3020564\", \"NRecords\": 404377, \"Date\": \"2019-12-01\"}, {\"OMOP_ID\": \"3020564\", \"NRecords\": 481855, \"Date\": \"2020-01-01\"}, {\"OMOP_ID\": \"3020564\", \"NRecords\": 441700, \"Date\": \"2020-02-01\"}, {\"OMOP_ID\": \"3020564\", \"NRecords\": 414048, \"Date\": \"2020-03-01\"}, {\"OMOP_ID\": \"3020564\", \"NRecords\": 339997, \"Date\": \"2020-04-01\"}, {\"OMOP_ID\": \"3020564\", \"NRecords\": 405300, \"Date\": \"2020-05-01\"}, {\"OMOP_ID\": \"3020564\", \"NRecords\": 428652, \"Date\": \"2020-06-01\"}, {\"OMOP_ID\": \"3020564\", \"NRecords\": 397625, \"Date\": \"2020-07-01\"}, {\"OMOP_ID\": \"3020564\", \"NRecords\": 433447, \"Date\": \"2020-08-01\"}, {\"OMOP_ID\": \"3020564\", \"NRecords\": 469883, \"Date\": \"2020-09-01\"}, {\"OMOP_ID\": \"3020564\", \"NRecords\": 473938, \"Date\": \"2020-10-01\"}, {\"OMOP_ID\": \"3020564\", \"NRecords\": 459581, \"Date\": \"2020-11-01\"}, {\"OMOP_ID\": \"3020564\", \"NRecords\": 428868, \"Date\": \"2020-12-01\"}, {\"OMOP_ID\": \"3020564\", \"NRecords\": 446254, \"Date\": \"2021-01-01\"}, {\"OMOP_ID\": \"3020564\", \"NRecords\": 437120, \"Date\": \"2021-02-01\"}, {\"OMOP_ID\": \"3020564\", \"NRecords\": 492862, \"Date\": \"2021-03-01\"}, {\"OMOP_ID\": \"3020564\", \"NRecords\": 457730, \"Date\": \"2021-04-01\"}, {\"OMOP_ID\": \"3020564\", \"NRecords\": 477019, \"Date\": \"2021-05-01\"}, {\"OMOP_ID\": \"3020564\", \"NRecords\": 458690, \"Date\": \"2021-06-01\"}, {\"OMOP_ID\": \"3020564\", \"NRecords\": 403667, \"Date\": \"2021-07-01\"}, {\"OMOP_ID\": \"3020564\", \"NRecords\": 478787, \"Date\": \"2021-08-01\"}, {\"OMOP_ID\": \"3020564\", \"NRecords\": 506908, \"Date\": \"2021-09-01\"}, {\"OMOP_ID\": \"3020564\", \"NRecords\": 501540, \"Date\": \"2021-10-01\"}, {\"OMOP_ID\": \"3020564\", \"NRecords\": 513789, \"Date\": \"2021-11-01\"}, {\"OMOP_ID\": \"3020564\", \"NRecords\": 453496, \"Date\": \"2021-12-01\"}, {\"OMOP_ID\": \"3020564\", \"NRecords\": 462119, \"Date\": \"2022-01-01\"}, {\"OMOP_ID\": \"3020564\", \"NRecords\": 452136, \"Date\": \"2022-02-01\"}, {\"OMOP_ID\": \"3020564\", \"NRecords\": 514476, \"Date\": \"2022-03-01\"}, {\"OMOP_ID\": \"3020564\", \"NRecords\": 395976, \"Date\": \"2022-04-01\"}, {\"OMOP_ID\": \"3020564\", \"NRecords\": 498792, \"Date\": \"2022-05-01\"}, {\"OMOP_ID\": \"3020564\", \"NRecords\": 444639, \"Date\": \"2022-06-01\"}, {\"OMOP_ID\": \"3020564\", \"NRecords\": 383434, \"Date\": \"2022-07-01\"}, {\"OMOP_ID\": \"3020564\", \"NRecords\": 479196, \"Date\": \"2022-08-01\"}, {\"OMOP_ID\": \"3020564\", \"NRecords\": 487170, \"Date\": \"2022-09-01\"}, {\"OMOP_ID\": \"3020564\", \"NRecords\": 479013, \"Date\": \"2022-10-01\"}, {\"OMOP_ID\": \"3020564\", \"NRecords\": 483012, \"Date\": \"2022-11-01\"}, {\"OMOP_ID\": \"3020564\", \"NRecords\": 429123, \"Date\": \"2022-12-01\"}]}}, {\"mode\": \"vega-lite\"});\n",
       "</script>"
      ],
      "text/plain": [
       "alt.Chart(...)"
      ]
     },
     "metadata": {},
     "output_type": "display_data"
    },
    {
     "data": {
      "text/markdown": [
       "## OMOP ID: 3037522"
      ],
      "text/plain": [
       "<IPython.core.display.Markdown object>"
      ]
     },
     "metadata": {},
     "output_type": "display_data"
    },
    {
     "data": {
      "text/html": [
       "\n",
       "<style>\n",
       "  #altair-viz-7173a71c357d4306917c1086e2aaf445.vega-embed {\n",
       "    width: 100%;\n",
       "    display: flex;\n",
       "  }\n",
       "\n",
       "  #altair-viz-7173a71c357d4306917c1086e2aaf445.vega-embed details,\n",
       "  #altair-viz-7173a71c357d4306917c1086e2aaf445.vega-embed details summary {\n",
       "    position: relative;\n",
       "  }\n",
       "</style>\n",
       "<div id=\"altair-viz-7173a71c357d4306917c1086e2aaf445\"></div>\n",
       "<script type=\"text/javascript\">\n",
       "  var VEGA_DEBUG = (typeof VEGA_DEBUG == \"undefined\") ? {} : VEGA_DEBUG;\n",
       "  (function(spec, embedOpt){\n",
       "    let outputDiv = document.currentScript.previousElementSibling;\n",
       "    if (outputDiv.id !== \"altair-viz-7173a71c357d4306917c1086e2aaf445\") {\n",
       "      outputDiv = document.getElementById(\"altair-viz-7173a71c357d4306917c1086e2aaf445\");\n",
       "    }\n",
       "    const paths = {\n",
       "      \"vega\": \"https://cdn.jsdelivr.net/npm/vega@5?noext\",\n",
       "      \"vega-lib\": \"https://cdn.jsdelivr.net/npm/vega-lib?noext\",\n",
       "      \"vega-lite\": \"https://cdn.jsdelivr.net/npm/vega-lite@5.16.3?noext\",\n",
       "      \"vega-embed\": \"https://cdn.jsdelivr.net/npm/vega-embed@6?noext\",\n",
       "    };\n",
       "\n",
       "    function maybeLoadScript(lib, version) {\n",
       "      var key = `${lib.replace(\"-\", \"\")}_version`;\n",
       "      return (VEGA_DEBUG[key] == version) ?\n",
       "        Promise.resolve(paths[lib]) :\n",
       "        new Promise(function(resolve, reject) {\n",
       "          var s = document.createElement('script');\n",
       "          document.getElementsByTagName(\"head\")[0].appendChild(s);\n",
       "          s.async = true;\n",
       "          s.onload = () => {\n",
       "            VEGA_DEBUG[key] = version;\n",
       "            return resolve(paths[lib]);\n",
       "          };\n",
       "          s.onerror = () => reject(`Error loading script: ${paths[lib]}`);\n",
       "          s.src = paths[lib];\n",
       "        });\n",
       "    }\n",
       "\n",
       "    function showError(err) {\n",
       "      outputDiv.innerHTML = `<div class=\"error\" style=\"color:red;\">${err}</div>`;\n",
       "      throw err;\n",
       "    }\n",
       "\n",
       "    function displayChart(vegaEmbed) {\n",
       "      vegaEmbed(outputDiv, spec, embedOpt)\n",
       "        .catch(err => showError(`Javascript Error: ${err.message}<br>This usually means there's a typo in your chart specification. See the javascript console for the full traceback.`));\n",
       "    }\n",
       "\n",
       "    if(typeof define === \"function\" && define.amd) {\n",
       "      requirejs.config({paths});\n",
       "      require([\"vega-embed\"], displayChart, err => showError(`Error loading script: ${err.message}`));\n",
       "    } else {\n",
       "      maybeLoadScript(\"vega\", \"5\")\n",
       "        .then(() => maybeLoadScript(\"vega-lite\", \"5.16.3\"))\n",
       "        .then(() => maybeLoadScript(\"vega-embed\", \"6\"))\n",
       "        .catch(showError)\n",
       "        .then(() => displayChart(vegaEmbed));\n",
       "    }\n",
       "  })({\"config\": {\"view\": {\"continuousWidth\": 300, \"continuousHeight\": 300}}, \"data\": {\"name\": \"data-a71e578bccfe7d14995da995c11baef0\"}, \"mark\": {\"type\": \"bar\"}, \"encoding\": {\"x\": {\"field\": \"Date\", \"type\": \"temporal\"}, \"y\": {\"field\": \"NRecords\", \"title\": \"Number of records\", \"type\": \"quantitative\"}}, \"$schema\": \"https://vega.github.io/schema/vega-lite/v5.16.3.json\", \"datasets\": {\"data-a71e578bccfe7d14995da995c11baef0\": [{\"OMOP_ID\": \"3037522\", \"NRecords\": 17, \"Date\": \"2014-05-01\"}, {\"OMOP_ID\": \"3037522\", \"NRecords\": 52, \"Date\": \"2014-06-01\"}, {\"OMOP_ID\": \"3037522\", \"NRecords\": 29, \"Date\": \"2014-07-01\"}, {\"OMOP_ID\": \"3037522\", \"NRecords\": 54, \"Date\": \"2014-08-01\"}, {\"OMOP_ID\": \"3037522\", \"NRecords\": 78, \"Date\": \"2014-09-01\"}, {\"OMOP_ID\": \"3037522\", \"NRecords\": 100, \"Date\": \"2014-10-01\"}, {\"OMOP_ID\": \"3037522\", \"NRecords\": 127, \"Date\": \"2014-11-01\"}, {\"OMOP_ID\": \"3037522\", \"NRecords\": 137, \"Date\": \"2014-12-01\"}, {\"OMOP_ID\": \"3037522\", \"NRecords\": 170, \"Date\": \"2015-01-01\"}, {\"OMOP_ID\": \"3037522\", \"NRecords\": 137, \"Date\": \"2015-02-01\"}, {\"OMOP_ID\": \"3037522\", \"NRecords\": 203, \"Date\": \"2015-03-01\"}, {\"OMOP_ID\": \"3037522\", \"NRecords\": 237, \"Date\": \"2015-04-01\"}, {\"OMOP_ID\": \"3037522\", \"NRecords\": 231, \"Date\": \"2015-05-01\"}, {\"OMOP_ID\": \"3037522\", \"NRecords\": 203, \"Date\": \"2015-06-01\"}, {\"OMOP_ID\": \"3037522\", \"NRecords\": 191, \"Date\": \"2015-07-01\"}, {\"OMOP_ID\": \"3037522\", \"NRecords\": 204, \"Date\": \"2015-08-01\"}, {\"OMOP_ID\": \"3037522\", \"NRecords\": 225, \"Date\": \"2015-09-01\"}, {\"OMOP_ID\": \"3037522\", \"NRecords\": 296, \"Date\": \"2015-10-01\"}, {\"OMOP_ID\": \"3037522\", \"NRecords\": 315, \"Date\": \"2015-11-01\"}, {\"OMOP_ID\": \"3037522\", \"NRecords\": 257, \"Date\": \"2015-12-01\"}, {\"OMOP_ID\": \"3037522\", \"NRecords\": 261, \"Date\": \"2016-01-01\"}, {\"OMOP_ID\": \"3037522\", \"NRecords\": 335, \"Date\": \"2016-02-01\"}, {\"OMOP_ID\": \"3037522\", \"NRecords\": 291, \"Date\": \"2016-03-01\"}, {\"OMOP_ID\": \"3037522\", \"NRecords\": 381, \"Date\": \"2016-04-01\"}, {\"OMOP_ID\": \"3037522\", \"NRecords\": 435, \"Date\": \"2016-05-01\"}, {\"OMOP_ID\": \"3037522\", \"NRecords\": 532, \"Date\": \"2016-06-01\"}, {\"OMOP_ID\": \"3037522\", \"NRecords\": 322, \"Date\": \"2016-07-01\"}, {\"OMOP_ID\": \"3037522\", \"NRecords\": 618, \"Date\": \"2016-08-01\"}, {\"OMOP_ID\": \"3037522\", \"NRecords\": 796, \"Date\": \"2016-09-01\"}, {\"OMOP_ID\": \"3037522\", \"NRecords\": 708, \"Date\": \"2016-10-01\"}, {\"OMOP_ID\": \"3037522\", \"NRecords\": 913, \"Date\": \"2016-11-01\"}, {\"OMOP_ID\": \"3037522\", \"NRecords\": 717, \"Date\": \"2016-12-01\"}, {\"OMOP_ID\": \"3037522\", \"NRecords\": 751, \"Date\": \"2017-01-01\"}, {\"OMOP_ID\": \"3037522\", \"NRecords\": 795, \"Date\": \"2017-02-01\"}, {\"OMOP_ID\": \"3037522\", \"NRecords\": 913, \"Date\": \"2017-03-01\"}, {\"OMOP_ID\": \"3037522\", \"NRecords\": 735, \"Date\": \"2017-04-01\"}, {\"OMOP_ID\": \"3037522\", \"NRecords\": 941, \"Date\": \"2017-05-01\"}, {\"OMOP_ID\": \"3037522\", \"NRecords\": 878, \"Date\": \"2017-06-01\"}, {\"OMOP_ID\": \"3037522\", \"NRecords\": 570, \"Date\": \"2017-07-01\"}, {\"OMOP_ID\": \"3037522\", \"NRecords\": 1050, \"Date\": \"2017-08-01\"}, {\"OMOP_ID\": \"3037522\", \"NRecords\": 915, \"Date\": \"2017-09-01\"}, {\"OMOP_ID\": \"3037522\", \"NRecords\": 1110, \"Date\": \"2017-10-01\"}, {\"OMOP_ID\": \"3037522\", \"NRecords\": 1186, \"Date\": \"2017-11-01\"}, {\"OMOP_ID\": \"3037522\", \"NRecords\": 856, \"Date\": \"2017-12-01\"}, {\"OMOP_ID\": \"3037522\", \"NRecords\": 1171, \"Date\": \"2018-01-01\"}, {\"OMOP_ID\": \"3037522\", \"NRecords\": 1061, \"Date\": \"2018-02-01\"}, {\"OMOP_ID\": \"3037522\", \"NRecords\": 1040, \"Date\": \"2018-03-01\"}, {\"OMOP_ID\": \"3037522\", \"NRecords\": 1031, \"Date\": \"2018-04-01\"}, {\"OMOP_ID\": \"3037522\", \"NRecords\": 1125, \"Date\": \"2018-05-01\"}, {\"OMOP_ID\": \"3037522\", \"NRecords\": 863, \"Date\": \"2018-06-01\"}, {\"OMOP_ID\": \"3037522\", \"NRecords\": 715, \"Date\": \"2018-07-01\"}, {\"OMOP_ID\": \"3037522\", \"NRecords\": 1080, \"Date\": \"2018-08-01\"}, {\"OMOP_ID\": \"3037522\", \"NRecords\": 1016, \"Date\": \"2018-09-01\"}, {\"OMOP_ID\": \"3037522\", \"NRecords\": 1119, \"Date\": \"2018-10-01\"}, {\"OMOP_ID\": \"3037522\", \"NRecords\": 1068, \"Date\": \"2018-11-01\"}, {\"OMOP_ID\": \"3037522\", \"NRecords\": 826, \"Date\": \"2018-12-01\"}, {\"OMOP_ID\": \"3037522\", \"NRecords\": 1319, \"Date\": \"2019-01-01\"}, {\"OMOP_ID\": \"3037522\", \"NRecords\": 909, \"Date\": \"2019-02-01\"}, {\"OMOP_ID\": \"3037522\", \"NRecords\": 956, \"Date\": \"2019-03-01\"}, {\"OMOP_ID\": \"3037522\", \"NRecords\": 874, \"Date\": \"2019-04-01\"}, {\"OMOP_ID\": \"3037522\", \"NRecords\": 922, \"Date\": \"2019-05-01\"}, {\"OMOP_ID\": \"3037522\", \"NRecords\": 830, \"Date\": \"2019-06-01\"}, {\"OMOP_ID\": \"3037522\", \"NRecords\": 676, \"Date\": \"2019-07-01\"}, {\"OMOP_ID\": \"3037522\", \"NRecords\": 829, \"Date\": \"2019-08-01\"}, {\"OMOP_ID\": \"3037522\", \"NRecords\": 853, \"Date\": \"2019-09-01\"}, {\"OMOP_ID\": \"3037522\", \"NRecords\": 986, \"Date\": \"2019-10-01\"}, {\"OMOP_ID\": \"3037522\", \"NRecords\": 1049, \"Date\": \"2019-11-01\"}, {\"OMOP_ID\": \"3037522\", \"NRecords\": 743, \"Date\": \"2019-12-01\"}, {\"OMOP_ID\": \"3037522\", \"NRecords\": 960, \"Date\": \"2020-01-01\"}, {\"OMOP_ID\": \"3037522\", \"NRecords\": 1046, \"Date\": \"2020-02-01\"}, {\"OMOP_ID\": \"3037522\", \"NRecords\": 1061, \"Date\": \"2020-03-01\"}, {\"OMOP_ID\": \"3037522\", \"NRecords\": 939, \"Date\": \"2020-04-01\"}, {\"OMOP_ID\": \"3037522\", \"NRecords\": 1096, \"Date\": \"2020-05-01\"}, {\"OMOP_ID\": \"3037522\", \"NRecords\": 1063, \"Date\": \"2020-06-01\"}, {\"OMOP_ID\": \"3037522\", \"NRecords\": 862, \"Date\": \"2020-07-01\"}, {\"OMOP_ID\": \"3037522\", \"NRecords\": 1117, \"Date\": \"2020-08-01\"}, {\"OMOP_ID\": \"3037522\", \"NRecords\": 1239, \"Date\": \"2020-09-01\"}, {\"OMOP_ID\": \"3037522\", \"NRecords\": 1403, \"Date\": \"2020-10-01\"}, {\"OMOP_ID\": \"3037522\", \"NRecords\": 1422, \"Date\": \"2020-11-01\"}, {\"OMOP_ID\": \"3037522\", \"NRecords\": 1305, \"Date\": \"2020-12-01\"}, {\"OMOP_ID\": \"3037522\", \"NRecords\": 1412, \"Date\": \"2021-01-01\"}, {\"OMOP_ID\": \"3037522\", \"NRecords\": 1461, \"Date\": \"2021-02-01\"}, {\"OMOP_ID\": \"3037522\", \"NRecords\": 1559, \"Date\": \"2021-03-01\"}, {\"OMOP_ID\": \"3037522\", \"NRecords\": 1512, \"Date\": \"2021-04-01\"}, {\"OMOP_ID\": \"3037522\", \"NRecords\": 1590, \"Date\": \"2021-05-01\"}, {\"OMOP_ID\": \"3037522\", \"NRecords\": 1557, \"Date\": \"2021-06-01\"}, {\"OMOP_ID\": \"3037522\", \"NRecords\": 1215, \"Date\": \"2021-07-01\"}, {\"OMOP_ID\": \"3037522\", \"NRecords\": 1742, \"Date\": \"2021-08-01\"}, {\"OMOP_ID\": \"3037522\", \"NRecords\": 1787, \"Date\": \"2021-09-01\"}, {\"OMOP_ID\": \"3037522\", \"NRecords\": 1863, \"Date\": \"2021-10-01\"}, {\"OMOP_ID\": \"3037522\", \"NRecords\": 2011, \"Date\": \"2021-11-01\"}, {\"OMOP_ID\": \"3037522\", \"NRecords\": 1659, \"Date\": \"2021-12-01\"}, {\"OMOP_ID\": \"3037522\", \"NRecords\": 1859, \"Date\": \"2022-01-01\"}, {\"OMOP_ID\": \"3037522\", \"NRecords\": 1862, \"Date\": \"2022-02-01\"}, {\"OMOP_ID\": \"3037522\", \"NRecords\": 2201, \"Date\": \"2022-03-01\"}, {\"OMOP_ID\": \"3037522\", \"NRecords\": 1498, \"Date\": \"2022-04-01\"}, {\"OMOP_ID\": \"3037522\", \"NRecords\": 1964, \"Date\": \"2022-05-01\"}, {\"OMOP_ID\": \"3037522\", \"NRecords\": 1578, \"Date\": \"2022-06-01\"}, {\"OMOP_ID\": \"3037522\", \"NRecords\": 1139, \"Date\": \"2022-07-01\"}, {\"OMOP_ID\": \"3037522\", \"NRecords\": 1707, \"Date\": \"2022-08-01\"}, {\"OMOP_ID\": \"3037522\", \"NRecords\": 1808, \"Date\": \"2022-09-01\"}, {\"OMOP_ID\": \"3037522\", \"NRecords\": 1625, \"Date\": \"2022-10-01\"}, {\"OMOP_ID\": \"3037522\", \"NRecords\": 1867, \"Date\": \"2022-11-01\"}, {\"OMOP_ID\": \"3037522\", \"NRecords\": 1498, \"Date\": \"2022-12-01\"}]}}, {\"mode\": \"vega-lite\"});\n",
       "</script>"
      ],
      "text/plain": [
       "alt.Chart(...)"
      ]
     },
     "metadata": {},
     "output_type": "display_data"
    }
   ],
   "source": [
    "for omop_id in omop_ids:\n",
    "    display(Markdown(f\"## OMOP ID: {omop_id}\"))\n",
    "    \n",
    "    plot_data = dataf.filter(pl.col(\"OMOP_ID\") == omop_id)\n",
    "    \n",
    "    display(\n",
    "        alt.Chart(plot_data).mark_bar().encode(\n",
    "            alt.X(\"Date:T\"),\n",
    "            alt.Y(\"NRecords:Q\").title(\"Number of records\")\n",
    "        )\n",
    "    )"
   ]
  }
 ],
 "metadata": {
  "kernelspec": {
   "display_name": "Python 3 (ipykernel)",
   "language": "python",
   "name": "python3"
  },
  "language_info": {
   "codemirror_mode": {
    "name": "ipython",
    "version": 3
   },
   "file_extension": ".py",
   "mimetype": "text/x-python",
   "name": "python",
   "nbconvert_exporter": "python",
   "pygments_lexer": "ipython3",
   "version": "3.12.1"
  }
 },
 "nbformat": 4,
 "nbformat_minor": 5
}
