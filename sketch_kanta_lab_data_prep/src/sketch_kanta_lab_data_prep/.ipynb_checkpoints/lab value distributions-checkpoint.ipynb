{
 "cells": [
  {
   "cell_type": "markdown",
   "id": "89b16858-c193-408a-92ad-cf56251bf077",
   "metadata": {},
   "source": [
    "# Lab values distributions"
   ]
  },
  {
   "cell_type": "code",
   "execution_count": 6,
   "id": "5ccab054-fcb1-4c55-b9c9-ae4324d58e1e",
   "metadata": {},
   "outputs": [],
   "source": [
    "from pathlib import Path\n",
    "\n",
    "import altair as alt\n",
    "import polars as pl\n",
    "from IPython.display import display, Markdown\n",
    "\n",
    "import plotting"
   ]
  },
  {
   "cell_type": "code",
   "execution_count": 7,
   "id": "95941687-3159-4033-ad28-089a4003e2c1",
   "metadata": {},
   "outputs": [],
   "source": [
    "file = \"/Users/vllorens/data/fimm/finregistry-kanta-lab-values/risteys/stats_dist_lab_values__sorted.csv\""
   ]
  },
  {
   "cell_type": "code",
   "execution_count": 8,
   "id": "9fa39f00-cbe5-48d6-abce-cb5828bdbb82",
   "metadata": {},
   "outputs": [],
   "source": [
    "dataf = (\n",
    "    pl.read_csv(\n",
    "        file,\n",
    "        dtypes={\n",
    "            \"OMOP_ID\": pl.String,\n",
    "        }\n",
    "    )\n",
    "    .filter(\n",
    "        # Just get the unit with the most people in it for each OMOP ID\n",
    "        (pl.col(\"NPeopleTotalInDist\") == pl.col(\"NPeopleTotalInDist\").max().over(\"OMOP_ID\"))\n",
    "    )\n",
    "    .pipe(plotting.extract_bin_left_right, column_bin=\"Bin\")\n",
    ")"
   ]
  },
  {
   "cell_type": "code",
   "execution_count": 9,
   "id": "f93f30aa-ab23-4efc-a697-e581f5f8c0ff",
   "metadata": {},
   "outputs": [],
   "source": [
    "omop_ids = dataf.get_column(\"OMOP_ID\").unique()"
   ]
  },
  {
   "cell_type": "code",
   "execution_count": 12,
   "id": "14b94d9f-196a-4d74-917a-4351ec0ceae3",
   "metadata": {},
   "outputs": [
    {
     "data": {
      "text/markdown": [
       "## OMOP ID: 3035995"
      ],
      "text/plain": [
       "<IPython.core.display.Markdown object>"
      ]
     },
     "metadata": {},
     "output_type": "display_data"
    },
    {
     "data": {
      "text/html": [
       "\n",
       "<style>\n",
       "  #altair-viz-043697edf00246cda727b35f16018dda.vega-embed {\n",
       "    width: 100%;\n",
       "    display: flex;\n",
       "  }\n",
       "\n",
       "  #altair-viz-043697edf00246cda727b35f16018dda.vega-embed details,\n",
       "  #altair-viz-043697edf00246cda727b35f16018dda.vega-embed details summary {\n",
       "    position: relative;\n",
       "  }\n",
       "</style>\n",
       "<div id=\"altair-viz-043697edf00246cda727b35f16018dda\"></div>\n",
       "<script type=\"text/javascript\">\n",
       "  var VEGA_DEBUG = (typeof VEGA_DEBUG == \"undefined\") ? {} : VEGA_DEBUG;\n",
       "  (function(spec, embedOpt){\n",
       "    let outputDiv = document.currentScript.previousElementSibling;\n",
       "    if (outputDiv.id !== \"altair-viz-043697edf00246cda727b35f16018dda\") {\n",
       "      outputDiv = document.getElementById(\"altair-viz-043697edf00246cda727b35f16018dda\");\n",
       "    }\n",
       "    const paths = {\n",
       "      \"vega\": \"https://cdn.jsdelivr.net/npm/vega@5?noext\",\n",
       "      \"vega-lib\": \"https://cdn.jsdelivr.net/npm/vega-lib?noext\",\n",
       "      \"vega-lite\": \"https://cdn.jsdelivr.net/npm/vega-lite@5.16.3?noext\",\n",
       "      \"vega-embed\": \"https://cdn.jsdelivr.net/npm/vega-embed@6?noext\",\n",
       "    };\n",
       "\n",
       "    function maybeLoadScript(lib, version) {\n",
       "      var key = `${lib.replace(\"-\", \"\")}_version`;\n",
       "      return (VEGA_DEBUG[key] == version) ?\n",
       "        Promise.resolve(paths[lib]) :\n",
       "        new Promise(function(resolve, reject) {\n",
       "          var s = document.createElement('script');\n",
       "          document.getElementsByTagName(\"head\")[0].appendChild(s);\n",
       "          s.async = true;\n",
       "          s.onload = () => {\n",
       "            VEGA_DEBUG[key] = version;\n",
       "            return resolve(paths[lib]);\n",
       "          };\n",
       "          s.onerror = () => reject(`Error loading script: ${paths[lib]}`);\n",
       "          s.src = paths[lib];\n",
       "        });\n",
       "    }\n",
       "\n",
       "    function showError(err) {\n",
       "      outputDiv.innerHTML = `<div class=\"error\" style=\"color:red;\">${err}</div>`;\n",
       "      throw err;\n",
       "    }\n",
       "\n",
       "    function displayChart(vegaEmbed) {\n",
       "      vegaEmbed(outputDiv, spec, embedOpt)\n",
       "        .catch(err => showError(`Javascript Error: ${err.message}<br>This usually means there's a typo in your chart specification. See the javascript console for the full traceback.`));\n",
       "    }\n",
       "\n",
       "    if(typeof define === \"function\" && define.amd) {\n",
       "      requirejs.config({paths});\n",
       "      require([\"vega-embed\"], displayChart, err => showError(`Error loading script: ${err.message}`));\n",
       "    } else {\n",
       "      maybeLoadScript(\"vega\", \"5\")\n",
       "        .then(() => maybeLoadScript(\"vega-lite\", \"5.16.3\"))\n",
       "        .then(() => maybeLoadScript(\"vega-embed\", \"6\"))\n",
       "        .catch(showError)\n",
       "        .then(() => displayChart(vegaEmbed));\n",
       "    }\n",
       "  })({\"config\": {\"view\": {\"continuousWidth\": 300, \"continuousHeight\": 300}}, \"data\": {\"name\": \"data-669b9aec9ef9cf7cd7e2f2b12a4dafda\"}, \"mark\": {\"type\": \"rect\"}, \"encoding\": {\"tooltip\": [{\"field\": \"BinLeft\", \"type\": \"quantitative\"}, {\"field\": \"BinRight\", \"type\": \"quantitative\"}, {\"field\": \"NRecords\", \"type\": \"quantitative\"}], \"x\": {\"field\": \"BinLeft\", \"title\": \"Lab value (u/l)\", \"type\": \"quantitative\"}, \"x2\": {\"field\": \"BinRight\"}, \"y\": {\"field\": \"NRecords\", \"title\": \"Number of records\", \"type\": \"quantitative\"}}, \"$schema\": \"https://vega.github.io/schema/vega-lite/v5.16.3.json\", \"datasets\": {\"data-669b9aec9ef9cf7cd7e2f2b12a4dafda\": [{\"LAB_UNIT\": \"u/l\", \"BinLeft\": \"230.10204081632654\", \"BinRight\": \"234\", \"NRecords\": 10090}, {\"LAB_UNIT\": \"u/l\", \"BinLeft\": \"226.20408163265307\", \"BinRight\": \"230.10204081632654\", \"NRecords\": 14182}, {\"LAB_UNIT\": \"u/l\", \"BinLeft\": \"222.3061224489796\", \"BinRight\": \"226.20408163265307\", \"NRecords\": 14843}, {\"LAB_UNIT\": \"u/l\", \"BinLeft\": \"218.40816326530611\", \"BinRight\": \"222.3061224489796\", \"NRecords\": 15345}, {\"LAB_UNIT\": \"u/l\", \"BinLeft\": \"195.0204081632653\", \"BinRight\": \"198.9183673469388\", \"NRecords\": 15393}, {\"LAB_UNIT\": \"u/l\", \"BinLeft\": \"214.51020408163265\", \"BinRight\": \"218.40816326530611\", \"NRecords\": 16213}, {\"LAB_UNIT\": \"u/l\", \"BinLeft\": \"210.6122448979592\", \"BinRight\": \"214.51020408163265\", \"NRecords\": 16827}, {\"LAB_UNIT\": \"u/l\", \"BinLeft\": \"206.71428571428572\", \"BinRight\": \"210.6122448979592\", \"NRecords\": 17655}, {\"LAB_UNIT\": \"u/l\", \"BinLeft\": \"202.81632653061226\", \"BinRight\": \"206.71428571428572\", \"NRecords\": 18470}, {\"LAB_UNIT\": \"u/l\", \"BinLeft\": \"198.9183673469388\", \"BinRight\": \"202.81632653061226\", \"NRecords\": 19216}, {\"LAB_UNIT\": \"u/l\", \"BinLeft\": \"191.12244897959184\", \"BinRight\": \"195.0204081632653\", \"NRecords\": 21085}, {\"LAB_UNIT\": \"u/l\", \"BinLeft\": \"187.22448979591837\", \"BinRight\": \"191.12244897959184\", \"NRecords\": 22351}, {\"LAB_UNIT\": \"u/l\", \"BinLeft\": \"183.3265306122449\", \"BinRight\": \"187.22448979591837\", \"NRecords\": 23909}, {\"LAB_UNIT\": \"u/l\", \"BinLeft\": \"179.42857142857144\", \"BinRight\": \"183.3265306122449\", \"NRecords\": 25355}, {\"LAB_UNIT\": \"u/l\", \"BinLeft\": \"175.53061224489795\", \"BinRight\": \"179.42857142857144\", \"NRecords\": 26753}, {\"LAB_UNIT\": \"u/l\", \"BinLeft\": \"171.6326530612245\", \"BinRight\": \"175.53061224489795\", \"NRecords\": 28501}, {\"LAB_UNIT\": \"u/l\", \"BinLeft\": \"156.0408163265306\", \"BinRight\": \"159.9387755102041\", \"NRecords\": 28585}, {\"LAB_UNIT\": \"u/l\", \"BinLeft\": \"167.73469387755102\", \"BinRight\": \"171.6326530612245\", \"NRecords\": 30510}, {\"LAB_UNIT\": \"u/l\", \"BinLeft\": \"163.83673469387756\", \"BinRight\": \"167.73469387755102\", \"NRecords\": 32833}, {\"LAB_UNIT\": \"u/l\", \"BinLeft\": \"159.9387755102041\", \"BinRight\": \"163.83673469387756\", \"NRecords\": 35045}, {\"LAB_UNIT\": \"u/l\", \"BinLeft\": \"152.14285714285714\", \"BinRight\": \"156.0408163265306\", \"NRecords\": 40897}, {\"LAB_UNIT\": \"u/l\", \"BinLeft\": \"148.24489795918367\", \"BinRight\": \"152.14285714285714\", \"NRecords\": 44794}, {\"LAB_UNIT\": \"u/l\", \"BinLeft\": \"144.3469387755102\", \"BinRight\": \"148.24489795918367\", \"NRecords\": 49423}, {\"LAB_UNIT\": \"u/l\", \"BinLeft\": \"140.44897959183675\", \"BinRight\": \"144.3469387755102\", \"NRecords\": 53821}, {\"LAB_UNIT\": \"u/l\", \"BinLeft\": \"136.55102040816325\", \"BinRight\": \"140.44897959183675\", \"NRecords\": 60121}, {\"LAB_UNIT\": \"u/l\", \"BinLeft\": \"132.65306122448982\", \"BinRight\": \"136.55102040816325\", \"NRecords\": 67784}, {\"LAB_UNIT\": \"u/l\", \"BinLeft\": \"128.75510204081633\", \"BinRight\": \"132.65306122448982\", \"NRecords\": 76086}, {\"LAB_UNIT\": \"u/l\", \"BinLeft\": \"117.06122448979592\", \"BinRight\": \"120.9591836734694\", \"NRecords\": 82355}, {\"LAB_UNIT\": \"u/l\", \"BinLeft\": \"124.85714285714286\", \"BinRight\": \"128.75510204081633\", \"NRecords\": 86075}, {\"LAB_UNIT\": \"u/l\", \"BinLeft\": \"120.9591836734694\", \"BinRight\": \"124.85714285714286\", \"NRecords\": 97904}, {\"LAB_UNIT\": \"u/l\", \"BinLeft\": \"113.16326530612245\", \"BinRight\": \"117.06122448979592\", \"NRecords\": 123751}, {\"LAB_UNIT\": \"u/l\", \"BinLeft\": \"109.26530612244898\", \"BinRight\": \"113.16326530612245\", \"NRecords\": 141714}, {\"LAB_UNIT\": \"u/l\", \"BinLeft\": \"105.36734693877551\", \"BinRight\": \"109.26530612244898\", \"NRecords\": 164101}, {\"LAB_UNIT\": \"u/l\", \"BinLeft\": \"234\", \"BinRight\": \"inf\", \"NRecords\": 436010}, {\"LAB_UNIT\": \"u/l\", \"BinLeft\": \"101.46938775510205\", \"BinRight\": \"105.36734693877551\", \"NRecords\": 193610}, {\"LAB_UNIT\": \"u/l\", \"BinLeft\": \"97.57142857142857\", \"BinRight\": \"101.46938775510205\", \"NRecords\": 224037}, {\"LAB_UNIT\": \"u/l\", \"BinLeft\": \"43\", \"BinRight\": \"46.89795918367347\", \"NRecords\": 272062}, {\"LAB_UNIT\": \"u/l\", \"BinLeft\": \"-inf\", \"BinRight\": \"43\", \"NRecords\": 408066}, {\"LAB_UNIT\": \"u/l\", \"BinLeft\": \"93.6734693877551\", \"BinRight\": \"97.57142857142857\", \"NRecords\": 258431}, {\"LAB_UNIT\": \"u/l\", \"BinLeft\": \"89.77551020408163\", \"BinRight\": \"93.6734693877551\", \"NRecords\": 299410}, {\"LAB_UNIT\": \"u/l\", \"BinLeft\": \"46.89795918367347\", \"BinRight\": \"50.79591836734694\", \"NRecords\": 362886}, {\"LAB_UNIT\": \"u/l\", \"BinLeft\": \"85.87755102040816\", \"BinRight\": \"89.77551020408163\", \"NRecords\": 345039}, {\"LAB_UNIT\": \"u/l\", \"BinLeft\": \"78.08163265306123\", \"BinRight\": \"81.9795918367347\", \"NRecords\": 330760}, {\"LAB_UNIT\": \"u/l\", \"BinLeft\": \"81.9795918367347\", \"BinRight\": \"85.87755102040816\", \"NRecords\": 395190}, {\"LAB_UNIT\": \"u/l\", \"BinLeft\": \"50.79591836734694\", \"BinRight\": \"54.69387755102041\", \"NRecords\": 446065}, {\"LAB_UNIT\": \"u/l\", \"BinLeft\": \"54.69387755102041\", \"BinRight\": \"58.59183673469388\", \"NRecords\": 512587}, {\"LAB_UNIT\": \"u/l\", \"BinLeft\": \"74.18367346938776\", \"BinRight\": \"78.08163265306123\", \"NRecords\": 485662}, {\"LAB_UNIT\": \"u/l\", \"BinLeft\": \"70.28571428571428\", \"BinRight\": \"74.18367346938776\", \"NRecords\": 527048}, {\"LAB_UNIT\": \"u/l\", \"BinLeft\": \"58.59183673469388\", \"BinRight\": \"62.48979591836735\", \"NRecords\": 551858}, {\"LAB_UNIT\": \"u/l\", \"BinLeft\": \"66.38775510204081\", \"BinRight\": \"70.28571428571428\", \"NRecords\": 555215}, {\"LAB_UNIT\": \"u/l\", \"BinLeft\": \"62.48979591836735\", \"BinRight\": \"66.38775510204081\", \"NRecords\": 566013}]}}, {\"mode\": \"vega-lite\"});\n",
       "</script>"
      ],
      "text/plain": [
       "alt.Chart(...)"
      ]
     },
     "metadata": {},
     "output_type": "display_data"
    },
    {
     "data": {
      "text/markdown": [
       "## OMOP ID: 3020564"
      ],
      "text/plain": [
       "<IPython.core.display.Markdown object>"
      ]
     },
     "metadata": {},
     "output_type": "display_data"
    },
    {
     "data": {
      "text/html": [
       "\n",
       "<style>\n",
       "  #altair-viz-34ee8ae00ca94344b8698467443fa3e9.vega-embed {\n",
       "    width: 100%;\n",
       "    display: flex;\n",
       "  }\n",
       "\n",
       "  #altair-viz-34ee8ae00ca94344b8698467443fa3e9.vega-embed details,\n",
       "  #altair-viz-34ee8ae00ca94344b8698467443fa3e9.vega-embed details summary {\n",
       "    position: relative;\n",
       "  }\n",
       "</style>\n",
       "<div id=\"altair-viz-34ee8ae00ca94344b8698467443fa3e9\"></div>\n",
       "<script type=\"text/javascript\">\n",
       "  var VEGA_DEBUG = (typeof VEGA_DEBUG == \"undefined\") ? {} : VEGA_DEBUG;\n",
       "  (function(spec, embedOpt){\n",
       "    let outputDiv = document.currentScript.previousElementSibling;\n",
       "    if (outputDiv.id !== \"altair-viz-34ee8ae00ca94344b8698467443fa3e9\") {\n",
       "      outputDiv = document.getElementById(\"altair-viz-34ee8ae00ca94344b8698467443fa3e9\");\n",
       "    }\n",
       "    const paths = {\n",
       "      \"vega\": \"https://cdn.jsdelivr.net/npm/vega@5?noext\",\n",
       "      \"vega-lib\": \"https://cdn.jsdelivr.net/npm/vega-lib?noext\",\n",
       "      \"vega-lite\": \"https://cdn.jsdelivr.net/npm/vega-lite@5.16.3?noext\",\n",
       "      \"vega-embed\": \"https://cdn.jsdelivr.net/npm/vega-embed@6?noext\",\n",
       "    };\n",
       "\n",
       "    function maybeLoadScript(lib, version) {\n",
       "      var key = `${lib.replace(\"-\", \"\")}_version`;\n",
       "      return (VEGA_DEBUG[key] == version) ?\n",
       "        Promise.resolve(paths[lib]) :\n",
       "        new Promise(function(resolve, reject) {\n",
       "          var s = document.createElement('script');\n",
       "          document.getElementsByTagName(\"head\")[0].appendChild(s);\n",
       "          s.async = true;\n",
       "          s.onload = () => {\n",
       "            VEGA_DEBUG[key] = version;\n",
       "            return resolve(paths[lib]);\n",
       "          };\n",
       "          s.onerror = () => reject(`Error loading script: ${paths[lib]}`);\n",
       "          s.src = paths[lib];\n",
       "        });\n",
       "    }\n",
       "\n",
       "    function showError(err) {\n",
       "      outputDiv.innerHTML = `<div class=\"error\" style=\"color:red;\">${err}</div>`;\n",
       "      throw err;\n",
       "    }\n",
       "\n",
       "    function displayChart(vegaEmbed) {\n",
       "      vegaEmbed(outputDiv, spec, embedOpt)\n",
       "        .catch(err => showError(`Javascript Error: ${err.message}<br>This usually means there's a typo in your chart specification. See the javascript console for the full traceback.`));\n",
       "    }\n",
       "\n",
       "    if(typeof define === \"function\" && define.amd) {\n",
       "      requirejs.config({paths});\n",
       "      require([\"vega-embed\"], displayChart, err => showError(`Error loading script: ${err.message}`));\n",
       "    } else {\n",
       "      maybeLoadScript(\"vega\", \"5\")\n",
       "        .then(() => maybeLoadScript(\"vega-lite\", \"5.16.3\"))\n",
       "        .then(() => maybeLoadScript(\"vega-embed\", \"6\"))\n",
       "        .catch(showError)\n",
       "        .then(() => displayChart(vegaEmbed));\n",
       "    }\n",
       "  })({\"config\": {\"view\": {\"continuousWidth\": 300, \"continuousHeight\": 300}}, \"data\": {\"name\": \"data-b27f4d55447094b94a02f48c5766f7d2\"}, \"mark\": {\"type\": \"rect\"}, \"encoding\": {\"tooltip\": [{\"field\": \"BinLeft\", \"type\": \"quantitative\"}, {\"field\": \"BinRight\", \"type\": \"quantitative\"}, {\"field\": \"NRecords\", \"type\": \"quantitative\"}], \"x\": {\"field\": \"BinLeft\", \"title\": \"Lab value (\\u00b5mol/l)\", \"type\": \"quantitative\"}, \"x2\": {\"field\": \"BinRight\"}, \"y\": {\"field\": \"NRecords\", \"title\": \"Number of records\", \"type\": \"quantitative\"}}, \"$schema\": \"https://vega.github.io/schema/vega-lite/v5.16.3.json\", \"datasets\": {\"data-b27f4d55447094b94a02f48c5766f7d2\": [{\"LAB_UNIT\": \"\\u00b5mol/l\", \"BinLeft\": \"161.6122448979592\", \"BinRight\": \"164\", \"NRecords\": 49544}, {\"LAB_UNIT\": \"\\u00b5mol/l\", \"BinLeft\": \"159.22448979591837\", \"BinRight\": \"161.6122448979592\", \"NRecords\": 52318}, {\"LAB_UNIT\": \"\\u00b5mol/l\", \"BinLeft\": \"154.44897959183675\", \"BinRight\": \"156.83673469387756\", \"NRecords\": 59269}, {\"LAB_UNIT\": \"\\u00b5mol/l\", \"BinLeft\": \"152.06122448979593\", \"BinRight\": \"154.44897959183675\", \"NRecords\": 62193}, {\"LAB_UNIT\": \"\\u00b5mol/l\", \"BinLeft\": \"147.28571428571428\", \"BinRight\": \"149.67346938775512\", \"NRecords\": 71397}, {\"LAB_UNIT\": \"\\u00b5mol/l\", \"BinLeft\": \"156.83673469387756\", \"BinRight\": \"159.22448979591837\", \"NRecords\": 83366}, {\"LAB_UNIT\": \"\\u00b5mol/l\", \"BinLeft\": \"142.51020408163265\", \"BinRight\": \"144.8979591836735\", \"NRecords\": 82361}, {\"LAB_UNIT\": \"\\u00b5mol/l\", \"BinLeft\": \"140.12244897959187\", \"BinRight\": \"142.51020408163265\", \"NRecords\": 86563}, {\"LAB_UNIT\": \"\\u00b5mol/l\", \"BinLeft\": \"149.67346938775512\", \"BinRight\": \"152.06122448979593\", \"NRecords\": 100169}, {\"LAB_UNIT\": \"\\u00b5mol/l\", \"BinLeft\": \"135.3469387755102\", \"BinRight\": \"137.73469387755102\", \"NRecords\": 100544}, {\"LAB_UNIT\": \"\\u00b5mol/l\", \"BinLeft\": \"144.8979591836735\", \"BinRight\": \"147.28571428571428\", \"NRecords\": 114943}, {\"LAB_UNIT\": \"\\u00b5mol/l\", \"BinLeft\": \"130.57142857142858\", \"BinRight\": \"132.9591836734694\", \"NRecords\": 118301}, {\"LAB_UNIT\": \"\\u00b5mol/l\", \"BinLeft\": \"137.73469387755102\", \"BinRight\": \"140.12244897959187\", \"NRecords\": 140319}, {\"LAB_UNIT\": \"\\u00b5mol/l\", \"BinLeft\": \"128.18367346938777\", \"BinRight\": \"130.57142857142858\", \"NRecords\": 125799}, {\"LAB_UNIT\": \"\\u00b5mol/l\", \"BinLeft\": \"132.9591836734694\", \"BinRight\": \"135.3469387755102\", \"NRecords\": 163075}, {\"LAB_UNIT\": \"\\u00b5mol/l\", \"BinLeft\": \"123.40816326530613\", \"BinRight\": \"125.79591836734694\", \"NRecords\": 148640}, {\"LAB_UNIT\": \"\\u00b5mol/l\", \"BinLeft\": \"121.02040816326532\", \"BinRight\": \"123.40816326530613\", \"NRecords\": 159404}, {\"LAB_UNIT\": \"\\u00b5mol/l\", \"BinLeft\": \"125.79591836734694\", \"BinRight\": \"128.18367346938777\", \"NRecords\": 204552}, {\"LAB_UNIT\": \"\\u00b5mol/l\", \"BinLeft\": \"116.24489795918367\", \"BinRight\": \"118.6326530612245\", \"NRecords\": 192330}, {\"LAB_UNIT\": \"\\u00b5mol/l\", \"BinLeft\": \"118.6326530612245\", \"BinRight\": \"121.02040816326532\", \"NRecords\": 262115}, {\"LAB_UNIT\": \"\\u00b5mol/l\", \"BinLeft\": \"111.46938775510205\", \"BinRight\": \"113.85714285714286\", \"NRecords\": 235359}, {\"LAB_UNIT\": \"\\u00b5mol/l\", \"BinLeft\": \"164\", \"BinRight\": \"inf\", \"NRecords\": 1662403}, {\"LAB_UNIT\": \"\\u00b5mol/l\", \"BinLeft\": \"109.08163265306123\", \"BinRight\": \"111.46938775510205\", \"NRecords\": 255988}, {\"LAB_UNIT\": \"\\u00b5mol/l\", \"BinLeft\": \"113.85714285714286\", \"BinRight\": \"116.24489795918367\", \"NRecords\": 317621}, {\"LAB_UNIT\": \"\\u00b5mol/l\", \"BinLeft\": \"104.3061224489796\", \"BinRight\": \"106.69387755102042\", \"NRecords\": 320833}, {\"LAB_UNIT\": \"\\u00b5mol/l\", \"BinLeft\": \"106.69387755102042\", \"BinRight\": \"109.08163265306123\", \"NRecords\": 428874}, {\"LAB_UNIT\": \"\\u00b5mol/l\", \"BinLeft\": \"99.53061224489797\", \"BinRight\": \"101.91836734693878\", \"NRecords\": 413350}, {\"LAB_UNIT\": \"\\u00b5mol/l\", \"BinLeft\": \"97.14285714285714\", \"BinRight\": \"99.53061224489797\", \"NRecords\": 463514}, {\"LAB_UNIT\": \"\\u00b5mol/l\", \"BinLeft\": \"101.91836734693878\", \"BinRight\": \"104.3061224489796\", \"NRecords\": 542734}, {\"LAB_UNIT\": \"\\u00b5mol/l\", \"BinLeft\": \"47\", \"BinRight\": \"49.38775510204081\", \"NRecords\": 700239}, {\"LAB_UNIT\": \"\\u00b5mol/l\", \"BinLeft\": \"49.38775510204081\", \"BinRight\": \"51.775510204081634\", \"NRecords\": 606406}, {\"LAB_UNIT\": \"\\u00b5mol/l\", \"BinLeft\": \"92.36734693877551\", \"BinRight\": \"94.75510204081633\", \"NRecords\": 596096}, {\"LAB_UNIT\": \"\\u00b5mol/l\", \"BinLeft\": \"-inf\", \"BinRight\": \"47\", \"NRecords\": 1615578}, {\"LAB_UNIT\": \"\\u00b5mol/l\", \"BinLeft\": \"94.75510204081633\", \"BinRight\": \"97.14285714285714\", \"NRecords\": 789843}, {\"LAB_UNIT\": \"\\u00b5mol/l\", \"BinLeft\": \"87.59183673469389\", \"BinRight\": \"89.9795918367347\", \"NRecords\": 769681}, {\"LAB_UNIT\": \"\\u00b5mol/l\", \"BinLeft\": \"54.16326530612245\", \"BinRight\": \"56.55102040816327\", \"NRecords\": 908225}, {\"LAB_UNIT\": \"\\u00b5mol/l\", \"BinLeft\": \"51.775510204081634\", \"BinRight\": \"54.16326530612245\", \"NRecords\": 1132801}, {\"LAB_UNIT\": \"\\u00b5mol/l\", \"BinLeft\": \"85.20408163265307\", \"BinRight\": \"87.59183673469389\", \"NRecords\": 837542}, {\"LAB_UNIT\": \"\\u00b5mol/l\", \"BinLeft\": \"89.9795918367347\", \"BinRight\": \"92.36734693877551\", \"NRecords\": 1016053}, {\"LAB_UNIT\": \"\\u00b5mol/l\", \"BinLeft\": \"56.55102040816327\", \"BinRight\": \"58.93877551020408\", \"NRecords\": 1020453}, {\"LAB_UNIT\": \"\\u00b5mol/l\", \"BinLeft\": \"80.42857142857143\", \"BinRight\": \"82.81632653061226\", \"NRecords\": 1020288}, {\"LAB_UNIT\": \"\\u00b5mol/l\", \"BinLeft\": \"78.04081632653062\", \"BinRight\": \"80.42857142857143\", \"NRecords\": 1085277}, {\"LAB_UNIT\": \"\\u00b5mol/l\", \"BinLeft\": \"61.326530612244895\", \"BinRight\": \"63.714285714285715\", \"NRecords\": 1248221}, {\"LAB_UNIT\": \"\\u00b5mol/l\", \"BinLeft\": \"73.26530612244898\", \"BinRight\": \"75.65306122448979\", \"NRecords\": 1236359}, {\"LAB_UNIT\": \"\\u00b5mol/l\", \"BinLeft\": \"82.81632653061226\", \"BinRight\": \"85.20408163265307\", \"NRecords\": 1396516}, {\"LAB_UNIT\": \"\\u00b5mol/l\", \"BinLeft\": \"66.10204081632654\", \"BinRight\": \"68.48979591836735\", \"NRecords\": 1329299}, {\"LAB_UNIT\": \"\\u00b5mol/l\", \"BinLeft\": \"68.48979591836735\", \"BinRight\": \"70.87755102040816\", \"NRecords\": 1320895}, {\"LAB_UNIT\": \"\\u00b5mol/l\", \"BinLeft\": \"58.93877551020408\", \"BinRight\": \"61.326530612244895\", \"NRecords\": 1723039}, {\"LAB_UNIT\": \"\\u00b5mol/l\", \"BinLeft\": \"75.65306122448979\", \"BinRight\": \"78.04081632653062\", \"NRecords\": 1748561}, {\"LAB_UNIT\": \"\\u00b5mol/l\", \"BinLeft\": \"63.714285714285715\", \"BinRight\": \"66.10204081632654\", \"NRecords\": 1953508}, {\"LAB_UNIT\": \"\\u00b5mol/l\", \"BinLeft\": \"70.87755102040816\", \"BinRight\": \"73.26530612244898\", \"NRecords\": 1931017}]}}, {\"mode\": \"vega-lite\"});\n",
       "</script>"
      ],
      "text/plain": [
       "alt.Chart(...)"
      ]
     },
     "metadata": {},
     "output_type": "display_data"
    },
    {
     "data": {
      "text/markdown": [
       "## OMOP ID: 3037522"
      ],
      "text/plain": [
       "<IPython.core.display.Markdown object>"
      ]
     },
     "metadata": {},
     "output_type": "display_data"
    },
    {
     "data": {
      "text/html": [
       "\n",
       "<style>\n",
       "  #altair-viz-41d9baafc8fb42c3b6ce7f56b54dc3c4.vega-embed {\n",
       "    width: 100%;\n",
       "    display: flex;\n",
       "  }\n",
       "\n",
       "  #altair-viz-41d9baafc8fb42c3b6ce7f56b54dc3c4.vega-embed details,\n",
       "  #altair-viz-41d9baafc8fb42c3b6ce7f56b54dc3c4.vega-embed details summary {\n",
       "    position: relative;\n",
       "  }\n",
       "</style>\n",
       "<div id=\"altair-viz-41d9baafc8fb42c3b6ce7f56b54dc3c4\"></div>\n",
       "<script type=\"text/javascript\">\n",
       "  var VEGA_DEBUG = (typeof VEGA_DEBUG == \"undefined\") ? {} : VEGA_DEBUG;\n",
       "  (function(spec, embedOpt){\n",
       "    let outputDiv = document.currentScript.previousElementSibling;\n",
       "    if (outputDiv.id !== \"altair-viz-41d9baafc8fb42c3b6ce7f56b54dc3c4\") {\n",
       "      outputDiv = document.getElementById(\"altair-viz-41d9baafc8fb42c3b6ce7f56b54dc3c4\");\n",
       "    }\n",
       "    const paths = {\n",
       "      \"vega\": \"https://cdn.jsdelivr.net/npm/vega@5?noext\",\n",
       "      \"vega-lib\": \"https://cdn.jsdelivr.net/npm/vega-lib?noext\",\n",
       "      \"vega-lite\": \"https://cdn.jsdelivr.net/npm/vega-lite@5.16.3?noext\",\n",
       "      \"vega-embed\": \"https://cdn.jsdelivr.net/npm/vega-embed@6?noext\",\n",
       "    };\n",
       "\n",
       "    function maybeLoadScript(lib, version) {\n",
       "      var key = `${lib.replace(\"-\", \"\")}_version`;\n",
       "      return (VEGA_DEBUG[key] == version) ?\n",
       "        Promise.resolve(paths[lib]) :\n",
       "        new Promise(function(resolve, reject) {\n",
       "          var s = document.createElement('script');\n",
       "          document.getElementsByTagName(\"head\")[0].appendChild(s);\n",
       "          s.async = true;\n",
       "          s.onload = () => {\n",
       "            VEGA_DEBUG[key] = version;\n",
       "            return resolve(paths[lib]);\n",
       "          };\n",
       "          s.onerror = () => reject(`Error loading script: ${paths[lib]}`);\n",
       "          s.src = paths[lib];\n",
       "        });\n",
       "    }\n",
       "\n",
       "    function showError(err) {\n",
       "      outputDiv.innerHTML = `<div class=\"error\" style=\"color:red;\">${err}</div>`;\n",
       "      throw err;\n",
       "    }\n",
       "\n",
       "    function displayChart(vegaEmbed) {\n",
       "      vegaEmbed(outputDiv, spec, embedOpt)\n",
       "        .catch(err => showError(`Javascript Error: ${err.message}<br>This usually means there's a typo in your chart specification. See the javascript console for the full traceback.`));\n",
       "    }\n",
       "\n",
       "    if(typeof define === \"function\" && define.amd) {\n",
       "      requirejs.config({paths});\n",
       "      require([\"vega-embed\"], displayChart, err => showError(`Error loading script: ${err.message}`));\n",
       "    } else {\n",
       "      maybeLoadScript(\"vega\", \"5\")\n",
       "        .then(() => maybeLoadScript(\"vega-lite\", \"5.16.3\"))\n",
       "        .then(() => maybeLoadScript(\"vega-embed\", \"6\"))\n",
       "        .catch(showError)\n",
       "        .then(() => displayChart(vegaEmbed));\n",
       "    }\n",
       "  })({\"config\": {\"view\": {\"continuousWidth\": 300, \"continuousHeight\": 300}}, \"data\": {\"name\": \"data-5f53eafb95e13e29dbeee67b42a49bc6\"}, \"mark\": {\"type\": \"bar\"}, \"encoding\": {\"tooltip\": [{\"field\": \"BinLeft\", \"type\": \"quantitative\"}, {\"field\": \"NRecords\", \"type\": \"quantitative\"}], \"x\": {\"field\": \"BinLeft\", \"title\": \"Lab value (titre)\", \"type\": \"quantitative\"}, \"y\": {\"field\": \"NRecords\", \"title\": \"Number of records\", \"type\": \"quantitative\"}}, \"$schema\": \"https://vega.github.io/schema/vega-lite/v5.16.3.json\", \"datasets\": {\"data-5f53eafb95e13e29dbeee67b42a49bc6\": [{\"LAB_UNIT\": \"titre\", \"BinLeft\": \"0.0\", \"BinRight\": null, \"NRecords\": 58}, {\"LAB_UNIT\": \"titre\", \"BinLeft\": \"6400.0\", \"BinRight\": null, \"NRecords\": 247}, {\"LAB_UNIT\": \"titre\", \"BinLeft\": \"1600.0\", \"BinRight\": null, \"NRecords\": 523}, {\"LAB_UNIT\": \"titre\", \"BinLeft\": \"5120.0\", \"BinRight\": null, \"NRecords\": 959}, {\"LAB_UNIT\": \"titre\", \"BinLeft\": \"5000.0\", \"BinRight\": null, \"NRecords\": 1209}, {\"LAB_UNIT\": \"titre\", \"BinLeft\": \"400.0\", \"BinRight\": null, \"NRecords\": 1395}, {\"LAB_UNIT\": \"titre\", \"BinLeft\": \"2560.0\", \"BinRight\": null, \"NRecords\": 2322}, {\"LAB_UNIT\": \"titre\", \"BinLeft\": \"200.0\", \"BinRight\": null, \"NRecords\": 2333}, {\"LAB_UNIT\": \"titre\", \"BinLeft\": \"640.0\", \"BinRight\": null, \"NRecords\": 5294}, {\"LAB_UNIT\": \"titre\", \"BinLeft\": \"1280.0\", \"BinRight\": null, \"NRecords\": 6406}, {\"LAB_UNIT\": \"titre\", \"BinLeft\": \"160.0\", \"BinRight\": null, \"NRecords\": 7204}, {\"LAB_UNIT\": \"titre\", \"BinLeft\": \"80.0\", \"BinRight\": null, \"NRecords\": 10052}, {\"LAB_UNIT\": \"titre\", \"BinLeft\": \"320.0\", \"BinRight\": null, \"NRecords\": 20204}]}}, {\"mode\": \"vega-lite\"});\n",
       "</script>"
      ],
      "text/plain": [
       "alt.Chart(...)"
      ]
     },
     "metadata": {},
     "output_type": "display_data"
    }
   ],
   "source": [
    "for omop_id in omop_ids:\n",
    "    display(Markdown(f\"## OMOP ID: {omop_id}\"))\n",
    "\n",
    "    plot_data = (\n",
    "        dataf\n",
    "        .filter(pl.col(\"OMOP_ID\") == omop_id)\n",
    "        .select(\n",
    "            pl.col(\"LAB_UNIT\"),\n",
    "            pl.col(\"BinLeft\"),\n",
    "            pl.col(\"BinRight\"),\n",
    "            pl.col(\"NRecords\")\n",
    "        )\n",
    "    )\n",
    "    unit = plot_data.head(1).get_column(\"LAB_UNIT\").item()\n",
    "    \n",
    "    if unit == \"binary\":\n",
    "        pass  # TODO\n",
    "    elif unit == \"titre\":\n",
    "        chart = (\n",
    "            alt.Chart(plot_data)\n",
    "            .mark_bar()\n",
    "            .encode(\n",
    "                alt.X(\"BinLeft:Q\").title(f\"Lab value ({unit})\"),\n",
    "                alt.Y(\"NRecords:Q\").title(\"Number of records\"),\n",
    "                tooltip=[\"BinLeft:Q\", \"NRecords:Q\"]\n",
    "            )\n",
    "        )\n",
    "    else:\n",
    "        chart = (\n",
    "            alt.Chart(plot_data)\n",
    "            .mark_rect()\n",
    "            #.mark_point()  # Highlight the weird dist overlap\n",
    "            .encode(\n",
    "                alt.X(\"BinLeft:Q\").title(f\"Lab value ({unit})\"),\n",
    "                alt.X2(\"BinRight:Q\"),\n",
    "                alt.Y(\"NRecords:Q\").title(\"Number of records\"),\n",
    "                tooltip=[\"BinLeft:Q\", \"BinRight:Q\", \"NRecords:Q\"]\n",
    "            )\n",
    "        )\n",
    "\n",
    "    display(chart)"
   ]
  },
  {
   "cell_type": "code",
   "execution_count": null,
   "id": "51a0ec4f-505f-4b76-91f1-42ae6bef286f",
   "metadata": {},
   "outputs": [],
   "source": []
  }
 ],
 "metadata": {
  "kernelspec": {
   "display_name": "Python 3 (ipykernel)",
   "language": "python",
   "name": "python3"
  },
  "language_info": {
   "codemirror_mode": {
    "name": "ipython",
    "version": 3
   },
   "file_extension": ".py",
   "mimetype": "text/x-python",
   "name": "python",
   "nbconvert_exporter": "python",
   "pygments_lexer": "ipython3",
   "version": "3.12.1"
  }
 },
 "nbformat": 4,
 "nbformat_minor": 5
}
