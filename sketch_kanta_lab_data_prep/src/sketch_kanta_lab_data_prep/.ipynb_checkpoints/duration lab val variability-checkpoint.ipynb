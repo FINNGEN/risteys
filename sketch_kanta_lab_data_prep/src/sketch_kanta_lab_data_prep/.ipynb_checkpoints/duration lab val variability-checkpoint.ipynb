{
 "cells": [
  {
   "cell_type": "markdown",
   "id": "5f7de98f-e444-43c0-9168-5d55ee396c3a",
   "metadata": {},
   "source": [
    "# Distribution of lab value variability"
   ]
  },
  {
   "cell_type": "code",
   "execution_count": 1,
   "id": "bf824390-5c76-4e97-840d-f63ff9dcf4c1",
   "metadata": {},
   "outputs": [],
   "source": [
    "from pathlib import Path\n",
    "\n",
    "import altair as alt\n",
    "import polars as pl\n",
    "from IPython.display import display, Markdown\n",
    "\n",
    "import plotting"
   ]
  },
  {
   "cell_type": "code",
   "execution_count": 2,
   "id": "3a5a6fcb-b99e-4042-8886-7fcaf4ca0511",
   "metadata": {},
   "outputs": [],
   "source": [
    "file = \"/Users/vllorens/data/fimm/finregistry-kanta-lab-values/risteys/stats_lab_value_variability_distribution__sorted.csv\""
   ]
  },
  {
   "cell_type": "code",
   "execution_count": 15,
   "id": "e65a034b-b94e-46f4-8971-70922d46be64",
   "metadata": {},
   "outputs": [],
   "source": [
    "dataf = (\n",
    "    pl.read_csv(\n",
    "        file,\n",
    "        dtypes={\"OMOP_ID\": pl.String}\n",
    "    )\n",
    "    .pipe(plotting.extract_bin_left_right, column_bin=\"Bin\")\n",
    "    .select(\n",
    "        pl.col(\"OMOP_ID\"),\n",
    "        pl.col(\"NPeople\"),\n",
    "        pl.col(\"BinLeft\").cast(pl.Float64),\n",
    "        pl.col(\"BinRight\").cast(pl.Float64)\n",
    "    )\n",
    ")"
   ]
  },
  {
   "cell_type": "code",
   "execution_count": 17,
   "id": "b7e6f1af-3647-43dc-a255-c8e3bff528b2",
   "metadata": {},
   "outputs": [],
   "source": [
    "omop_ids = dataf.get_column(\"OMOP_ID\").unique()"
   ]
  },
  {
   "cell_type": "code",
   "execution_count": 19,
   "id": "26e7261a-1490-4e15-9b26-c559f4a4e5f2",
   "metadata": {},
   "outputs": [
    {
     "data": {
      "text/markdown": [
       "## OMOP ID: 3035995"
      ],
      "text/plain": [
       "<IPython.core.display.Markdown object>"
      ]
     },
     "metadata": {},
     "output_type": "display_data"
    },
    {
     "data": {
      "text/html": [
       "\n",
       "<style>\n",
       "  #altair-viz-0d635d106dd54a6988d58aad96297479.vega-embed {\n",
       "    width: 100%;\n",
       "    display: flex;\n",
       "  }\n",
       "\n",
       "  #altair-viz-0d635d106dd54a6988d58aad96297479.vega-embed details,\n",
       "  #altair-viz-0d635d106dd54a6988d58aad96297479.vega-embed details summary {\n",
       "    position: relative;\n",
       "  }\n",
       "</style>\n",
       "<div id=\"altair-viz-0d635d106dd54a6988d58aad96297479\"></div>\n",
       "<script type=\"text/javascript\">\n",
       "  var VEGA_DEBUG = (typeof VEGA_DEBUG == \"undefined\") ? {} : VEGA_DEBUG;\n",
       "  (function(spec, embedOpt){\n",
       "    let outputDiv = document.currentScript.previousElementSibling;\n",
       "    if (outputDiv.id !== \"altair-viz-0d635d106dd54a6988d58aad96297479\") {\n",
       "      outputDiv = document.getElementById(\"altair-viz-0d635d106dd54a6988d58aad96297479\");\n",
       "    }\n",
       "    const paths = {\n",
       "      \"vega\": \"https://cdn.jsdelivr.net/npm/vega@5?noext\",\n",
       "      \"vega-lib\": \"https://cdn.jsdelivr.net/npm/vega-lib?noext\",\n",
       "      \"vega-lite\": \"https://cdn.jsdelivr.net/npm/vega-lite@5.16.3?noext\",\n",
       "      \"vega-embed\": \"https://cdn.jsdelivr.net/npm/vega-embed@6?noext\",\n",
       "    };\n",
       "\n",
       "    function maybeLoadScript(lib, version) {\n",
       "      var key = `${lib.replace(\"-\", \"\")}_version`;\n",
       "      return (VEGA_DEBUG[key] == version) ?\n",
       "        Promise.resolve(paths[lib]) :\n",
       "        new Promise(function(resolve, reject) {\n",
       "          var s = document.createElement('script');\n",
       "          document.getElementsByTagName(\"head\")[0].appendChild(s);\n",
       "          s.async = true;\n",
       "          s.onload = () => {\n",
       "            VEGA_DEBUG[key] = version;\n",
       "            return resolve(paths[lib]);\n",
       "          };\n",
       "          s.onerror = () => reject(`Error loading script: ${paths[lib]}`);\n",
       "          s.src = paths[lib];\n",
       "        });\n",
       "    }\n",
       "\n",
       "    function showError(err) {\n",
       "      outputDiv.innerHTML = `<div class=\"error\" style=\"color:red;\">${err}</div>`;\n",
       "      throw err;\n",
       "    }\n",
       "\n",
       "    function displayChart(vegaEmbed) {\n",
       "      vegaEmbed(outputDiv, spec, embedOpt)\n",
       "        .catch(err => showError(`Javascript Error: ${err.message}<br>This usually means there's a typo in your chart specification. See the javascript console for the full traceback.`));\n",
       "    }\n",
       "\n",
       "    if(typeof define === \"function\" && define.amd) {\n",
       "      requirejs.config({paths});\n",
       "      require([\"vega-embed\"], displayChart, err => showError(`Error loading script: ${err.message}`));\n",
       "    } else {\n",
       "      maybeLoadScript(\"vega\", \"5\")\n",
       "        .then(() => maybeLoadScript(\"vega-lite\", \"5.16.3\"))\n",
       "        .then(() => maybeLoadScript(\"vega-embed\", \"6\"))\n",
       "        .catch(showError)\n",
       "        .then(() => displayChart(vegaEmbed));\n",
       "    }\n",
       "  })({\"config\": {\"view\": {\"continuousWidth\": 300, \"continuousHeight\": 300}}, \"data\": {\"name\": \"data-d6f72c85a73a170049b8efe79774da3a\"}, \"mark\": {\"type\": \"rect\"}, \"encoding\": {\"tooltip\": [{\"field\": \"BinLeft\", \"type\": \"quantitative\"}, {\"field\": \"BinRight\", \"type\": \"quantitative\"}, {\"field\": \"NPeople\", \"type\": \"quantitative\"}], \"x\": {\"field\": \"BinLeft\", \"title\": \"Lab value, as range from min to max value per person (all units)\", \"type\": \"quantitative\"}, \"x2\": {\"field\": \"BinRight\"}, \"y\": {\"field\": \"NPeople\", \"title\": \"Number of people\", \"type\": \"quantitative\"}}, \"$schema\": \"https://vega.github.io/schema/vega-lite/v5.16.3.json\", \"datasets\": {\"data-d6f72c85a73a170049b8efe79774da3a\": [{\"OMOP_ID\": \"3035995\", \"NPeople\": 1814, \"BinLeft\": 136.16326530612244, \"BinRight\": 139.0}, {\"OMOP_ID\": \"3035995\", \"NPeople\": 2513, \"BinLeft\": 119.14285714285714, \"BinRight\": 121.97959183673468}, {\"OMOP_ID\": \"3035995\", \"NPeople\": 3022, \"BinLeft\": 133.32653061224488, \"BinRight\": 136.16326530612244}, {\"OMOP_ID\": \"3035995\", \"NPeople\": 3134, \"BinLeft\": 130.48979591836735, \"BinRight\": 133.32653061224488}, {\"OMOP_ID\": \"3035995\", \"NPeople\": 3328, \"BinLeft\": 127.65306122448979, \"BinRight\": 130.48979591836735}, {\"OMOP_ID\": \"3035995\", \"NPeople\": 3440, \"BinLeft\": 124.81632653061223, \"BinRight\": 127.65306122448979}, {\"OMOP_ID\": \"3035995\", \"NPeople\": 3569, \"BinLeft\": 102.12244897959184, \"BinRight\": 104.95918367346938}, {\"OMOP_ID\": \"3035995\", \"NPeople\": 3655, \"BinLeft\": 121.97959183673468, \"BinRight\": 124.81632653061223}, {\"OMOP_ID\": \"3035995\", \"NPeople\": 3917, \"BinLeft\": 116.30612244897958, \"BinRight\": 119.14285714285714}, {\"OMOP_ID\": \"3035995\", \"NPeople\": 4068, \"BinLeft\": 113.46938775510203, \"BinRight\": 116.30612244897958}, {\"OMOP_ID\": \"3035995\", \"NPeople\": 4309, \"BinLeft\": 110.63265306122449, \"BinRight\": 113.46938775510203}, {\"OMOP_ID\": \"3035995\", \"NPeople\": 4333, \"BinLeft\": 85.10204081632652, \"BinRight\": 87.93877551020408}, {\"OMOP_ID\": \"3035995\", \"NPeople\": 4617, \"BinLeft\": 107.79591836734693, \"BinRight\": 110.63265306122449}, {\"OMOP_ID\": \"3035995\", \"NPeople\": 4689, \"BinLeft\": 104.95918367346938, \"BinRight\": 107.79591836734693}, {\"OMOP_ID\": \"3035995\", \"NPeople\": 5432, \"BinLeft\": 99.28571428571428, \"BinRight\": 102.12244897959184}, {\"OMOP_ID\": \"3035995\", \"NPeople\": 5595, \"BinLeft\": 93.61224489795917, \"BinRight\": 96.44897959183673}, {\"OMOP_ID\": \"3035995\", \"NPeople\": 5626, \"BinLeft\": 96.44897959183673, \"BinRight\": 99.28571428571428}, {\"OMOP_ID\": \"3035995\", \"NPeople\": 5875, \"BinLeft\": 68.08163265306122, \"BinRight\": 70.91836734693877}, {\"OMOP_ID\": \"3035995\", \"NPeople\": 5939, \"BinLeft\": 90.77551020408163, \"BinRight\": 93.61224489795917}, {\"OMOP_ID\": \"3035995\", \"NPeople\": 6269, \"BinLeft\": 87.93877551020408, \"BinRight\": 90.77551020408163}, {\"OMOP_ID\": \"3035995\", \"NPeople\": 6823, \"BinLeft\": 82.26530612244898, \"BinRight\": 85.10204081632652}, {\"OMOP_ID\": \"3035995\", \"NPeople\": 7017, \"BinLeft\": 79.42857142857142, \"BinRight\": 82.26530612244898}, {\"OMOP_ID\": \"3035995\", \"NPeople\": 7416, \"BinLeft\": 76.59183673469387, \"BinRight\": 79.42857142857142}, {\"OMOP_ID\": \"3035995\", \"NPeople\": 7785, \"BinLeft\": 73.75510204081633, \"BinRight\": 76.59183673469387}, {\"OMOP_ID\": \"3035995\", \"NPeople\": 8388, \"BinLeft\": 70.91836734693877, \"BinRight\": 73.75510204081633}, {\"OMOP_ID\": \"3035995\", \"NPeople\": 9364, \"BinLeft\": 51.06122448979592, \"BinRight\": 53.897959183673464}, {\"OMOP_ID\": \"3035995\", \"NPeople\": 9538, \"BinLeft\": 65.24489795918367, \"BinRight\": 68.08163265306122}, {\"OMOP_ID\": \"3035995\", \"NPeople\": 10026, \"BinLeft\": 62.408163265306115, \"BinRight\": 65.24489795918367}, {\"OMOP_ID\": \"3035995\", \"NPeople\": 10862, \"BinLeft\": 59.57142857142857, \"BinRight\": 62.408163265306115}, {\"OMOP_ID\": \"3035995\", \"NPeople\": 11865, \"BinLeft\": 56.73469387755102, \"BinRight\": 59.57142857142857}, {\"OMOP_ID\": \"3035995\", \"NPeople\": 12737, \"BinLeft\": 53.897959183673464, \"BinRight\": 56.73469387755102}, {\"OMOP_ID\": \"3035995\", \"NPeople\": 15173, \"BinLeft\": 48.224489795918366, \"BinRight\": 51.06122448979592}, {\"OMOP_ID\": \"3035995\", \"NPeople\": 17257, \"BinLeft\": 45.38775510204081, \"BinRight\": 48.224489795918366}, {\"OMOP_ID\": \"3035995\", \"NPeople\": 18763, \"BinLeft\": 34.04081632653061, \"BinRight\": 36.87755102040816}, {\"OMOP_ID\": \"3035995\", \"NPeople\": 19220, \"BinLeft\": 42.55102040816326, \"BinRight\": 45.38775510204081}, {\"OMOP_ID\": \"3035995\", \"NPeople\": 21998, \"BinLeft\": 39.71428571428571, \"BinRight\": 42.55102040816326}, {\"OMOP_ID\": \"3035995\", \"NPeople\": 25429, \"BinLeft\": 36.87755102040816, \"BinRight\": 39.71428571428571}, {\"OMOP_ID\": \"3035995\", \"NPeople\": 31644, \"BinLeft\": 31.204081632653057, \"BinRight\": 34.04081632653061}, {\"OMOP_ID\": \"3035995\", \"NPeople\": 36912, \"BinLeft\": 28.36734693877551, \"BinRight\": 31.204081632653057}, {\"OMOP_ID\": \"3035995\", \"NPeople\": 43413, \"BinLeft\": 25.53061224489796, \"BinRight\": 28.36734693877551}, {\"OMOP_ID\": \"3035995\", \"NPeople\": 44505, \"BinLeft\": 17.020408163265305, \"BinRight\": 19.857142857142854}, {\"OMOP_ID\": \"3035995\", \"NPeople\": 50533, \"BinLeft\": 22.693877551020407, \"BinRight\": 25.53061224489796}, {\"OMOP_ID\": \"3035995\", \"NPeople\": 58971, \"BinLeft\": 19.857142857142854, \"BinRight\": 22.693877551020407}, {\"OMOP_ID\": \"3035995\", \"NPeople\": 74248, \"BinLeft\": 14.183673469387754, \"BinRight\": 17.020408163265305}, {\"OMOP_ID\": \"3035995\", \"NPeople\": 83924, \"BinLeft\": 11.346938775510203, \"BinRight\": 14.183673469387754}, {\"OMOP_ID\": \"3035995\", \"NPeople\": 91568, \"BinLeft\": 8.510204081632653, \"BinRight\": 11.346938775510203}, {\"OMOP_ID\": \"3035995\", \"NPeople\": 91980, \"BinLeft\": 2.836734693877551, \"BinRight\": 5.673469387755102}, {\"OMOP_ID\": \"3035995\", \"NPeople\": 95578, \"BinLeft\": 5.673469387755102, \"BinRight\": 8.510204081632653}, {\"OMOP_ID\": \"3035995\", \"NPeople\": 101471, \"BinLeft\": 139.0, \"BinRight\": Infinity}, {\"OMOP_ID\": \"3035995\", \"NPeople\": 919560, \"BinLeft\": 0.0, \"BinRight\": 2.836734693877551}]}}, {\"mode\": \"vega-lite\"});\n",
       "</script>"
      ],
      "text/plain": [
       "alt.Chart(...)"
      ]
     },
     "metadata": {},
     "output_type": "display_data"
    },
    {
     "data": {
      "text/markdown": [
       "## OMOP ID: 3037522"
      ],
      "text/plain": [
       "<IPython.core.display.Markdown object>"
      ]
     },
     "metadata": {},
     "output_type": "display_data"
    },
    {
     "data": {
      "text/html": [
       "\n",
       "<style>\n",
       "  #altair-viz-38b5d4d16cba4338be2a1410de854435.vega-embed {\n",
       "    width: 100%;\n",
       "    display: flex;\n",
       "  }\n",
       "\n",
       "  #altair-viz-38b5d4d16cba4338be2a1410de854435.vega-embed details,\n",
       "  #altair-viz-38b5d4d16cba4338be2a1410de854435.vega-embed details summary {\n",
       "    position: relative;\n",
       "  }\n",
       "</style>\n",
       "<div id=\"altair-viz-38b5d4d16cba4338be2a1410de854435\"></div>\n",
       "<script type=\"text/javascript\">\n",
       "  var VEGA_DEBUG = (typeof VEGA_DEBUG == \"undefined\") ? {} : VEGA_DEBUG;\n",
       "  (function(spec, embedOpt){\n",
       "    let outputDiv = document.currentScript.previousElementSibling;\n",
       "    if (outputDiv.id !== \"altair-viz-38b5d4d16cba4338be2a1410de854435\") {\n",
       "      outputDiv = document.getElementById(\"altair-viz-38b5d4d16cba4338be2a1410de854435\");\n",
       "    }\n",
       "    const paths = {\n",
       "      \"vega\": \"https://cdn.jsdelivr.net/npm/vega@5?noext\",\n",
       "      \"vega-lib\": \"https://cdn.jsdelivr.net/npm/vega-lib?noext\",\n",
       "      \"vega-lite\": \"https://cdn.jsdelivr.net/npm/vega-lite@5.16.3?noext\",\n",
       "      \"vega-embed\": \"https://cdn.jsdelivr.net/npm/vega-embed@6?noext\",\n",
       "    };\n",
       "\n",
       "    function maybeLoadScript(lib, version) {\n",
       "      var key = `${lib.replace(\"-\", \"\")}_version`;\n",
       "      return (VEGA_DEBUG[key] == version) ?\n",
       "        Promise.resolve(paths[lib]) :\n",
       "        new Promise(function(resolve, reject) {\n",
       "          var s = document.createElement('script');\n",
       "          document.getElementsByTagName(\"head\")[0].appendChild(s);\n",
       "          s.async = true;\n",
       "          s.onload = () => {\n",
       "            VEGA_DEBUG[key] = version;\n",
       "            return resolve(paths[lib]);\n",
       "          };\n",
       "          s.onerror = () => reject(`Error loading script: ${paths[lib]}`);\n",
       "          s.src = paths[lib];\n",
       "        });\n",
       "    }\n",
       "\n",
       "    function showError(err) {\n",
       "      outputDiv.innerHTML = `<div class=\"error\" style=\"color:red;\">${err}</div>`;\n",
       "      throw err;\n",
       "    }\n",
       "\n",
       "    function displayChart(vegaEmbed) {\n",
       "      vegaEmbed(outputDiv, spec, embedOpt)\n",
       "        .catch(err => showError(`Javascript Error: ${err.message}<br>This usually means there's a typo in your chart specification. See the javascript console for the full traceback.`));\n",
       "    }\n",
       "\n",
       "    if(typeof define === \"function\" && define.amd) {\n",
       "      requirejs.config({paths});\n",
       "      require([\"vega-embed\"], displayChart, err => showError(`Error loading script: ${err.message}`));\n",
       "    } else {\n",
       "      maybeLoadScript(\"vega\", \"5\")\n",
       "        .then(() => maybeLoadScript(\"vega-lite\", \"5.16.3\"))\n",
       "        .then(() => maybeLoadScript(\"vega-embed\", \"6\"))\n",
       "        .catch(showError)\n",
       "        .then(() => displayChart(vegaEmbed));\n",
       "    }\n",
       "  })({\"config\": {\"view\": {\"continuousWidth\": 300, \"continuousHeight\": 300}}, \"data\": {\"name\": \"data-00c49f5be2d284d9e0f0185b151aa022\"}, \"mark\": {\"type\": \"rect\"}, \"encoding\": {\"tooltip\": [{\"field\": \"BinLeft\", \"type\": \"quantitative\"}, {\"field\": \"BinRight\", \"type\": \"quantitative\"}, {\"field\": \"NPeople\", \"type\": \"quantitative\"}], \"x\": {\"field\": \"BinLeft\", \"title\": \"Lab value, as range from min to max value per person (all units)\", \"type\": \"quantitative\"}, \"x2\": {\"field\": \"BinRight\"}, \"y\": {\"field\": \"NPeople\", \"title\": \"Number of people\", \"type\": \"quantitative\"}}, \"$schema\": \"https://vega.github.io/schema/vega-lite/v5.16.3.json\", \"datasets\": {\"data-00c49f5be2d284d9e0f0185b151aa022\": [{\"OMOP_ID\": \"3037522\", \"NPeople\": 36, \"BinLeft\": 117.55102040816327, \"BinRight\": 124.08163265306123}, {\"OMOP_ID\": \"3037522\", \"NPeople\": 112, \"BinLeft\": 195.9183673469388, \"BinRight\": 202.44897959183675}, {\"OMOP_ID\": \"3037522\", \"NPeople\": 279, \"BinLeft\": 313.46938775510205, \"BinRight\": 320.0}, {\"OMOP_ID\": \"3037522\", \"NPeople\": 451, \"BinLeft\": 235.10204081632654, \"BinRight\": 241.6326530612245}, {\"OMOP_ID\": \"3037522\", \"NPeople\": 549, \"BinLeft\": 156.73469387755102, \"BinRight\": 163.26530612244898}, {\"OMOP_ID\": \"3037522\", \"NPeople\": 626, \"BinLeft\": 78.36734693877551, \"BinRight\": 84.89795918367346}, {\"OMOP_ID\": \"3037522\", \"NPeople\": 4584, \"BinLeft\": 320.0, \"BinRight\": Infinity}, {\"OMOP_ID\": \"3037522\", \"NPeople\": 70920, \"BinLeft\": 0.0, \"BinRight\": 6.530612244897959}]}}, {\"mode\": \"vega-lite\"});\n",
       "</script>"
      ],
      "text/plain": [
       "alt.Chart(...)"
      ]
     },
     "metadata": {},
     "output_type": "display_data"
    },
    {
     "data": {
      "text/markdown": [
       "## OMOP ID: 3020564"
      ],
      "text/plain": [
       "<IPython.core.display.Markdown object>"
      ]
     },
     "metadata": {},
     "output_type": "display_data"
    },
    {
     "data": {
      "text/html": [
       "\n",
       "<style>\n",
       "  #altair-viz-08a9ea3173ac4663a291befe62e947c7.vega-embed {\n",
       "    width: 100%;\n",
       "    display: flex;\n",
       "  }\n",
       "\n",
       "  #altair-viz-08a9ea3173ac4663a291befe62e947c7.vega-embed details,\n",
       "  #altair-viz-08a9ea3173ac4663a291befe62e947c7.vega-embed details summary {\n",
       "    position: relative;\n",
       "  }\n",
       "</style>\n",
       "<div id=\"altair-viz-08a9ea3173ac4663a291befe62e947c7\"></div>\n",
       "<script type=\"text/javascript\">\n",
       "  var VEGA_DEBUG = (typeof VEGA_DEBUG == \"undefined\") ? {} : VEGA_DEBUG;\n",
       "  (function(spec, embedOpt){\n",
       "    let outputDiv = document.currentScript.previousElementSibling;\n",
       "    if (outputDiv.id !== \"altair-viz-08a9ea3173ac4663a291befe62e947c7\") {\n",
       "      outputDiv = document.getElementById(\"altair-viz-08a9ea3173ac4663a291befe62e947c7\");\n",
       "    }\n",
       "    const paths = {\n",
       "      \"vega\": \"https://cdn.jsdelivr.net/npm/vega@5?noext\",\n",
       "      \"vega-lib\": \"https://cdn.jsdelivr.net/npm/vega-lib?noext\",\n",
       "      \"vega-lite\": \"https://cdn.jsdelivr.net/npm/vega-lite@5.16.3?noext\",\n",
       "      \"vega-embed\": \"https://cdn.jsdelivr.net/npm/vega-embed@6?noext\",\n",
       "    };\n",
       "\n",
       "    function maybeLoadScript(lib, version) {\n",
       "      var key = `${lib.replace(\"-\", \"\")}_version`;\n",
       "      return (VEGA_DEBUG[key] == version) ?\n",
       "        Promise.resolve(paths[lib]) :\n",
       "        new Promise(function(resolve, reject) {\n",
       "          var s = document.createElement('script');\n",
       "          document.getElementsByTagName(\"head\")[0].appendChild(s);\n",
       "          s.async = true;\n",
       "          s.onload = () => {\n",
       "            VEGA_DEBUG[key] = version;\n",
       "            return resolve(paths[lib]);\n",
       "          };\n",
       "          s.onerror = () => reject(`Error loading script: ${paths[lib]}`);\n",
       "          s.src = paths[lib];\n",
       "        });\n",
       "    }\n",
       "\n",
       "    function showError(err) {\n",
       "      outputDiv.innerHTML = `<div class=\"error\" style=\"color:red;\">${err}</div>`;\n",
       "      throw err;\n",
       "    }\n",
       "\n",
       "    function displayChart(vegaEmbed) {\n",
       "      vegaEmbed(outputDiv, spec, embedOpt)\n",
       "        .catch(err => showError(`Javascript Error: ${err.message}<br>This usually means there's a typo in your chart specification. See the javascript console for the full traceback.`));\n",
       "    }\n",
       "\n",
       "    if(typeof define === \"function\" && define.amd) {\n",
       "      requirejs.config({paths});\n",
       "      require([\"vega-embed\"], displayChart, err => showError(`Error loading script: ${err.message}`));\n",
       "    } else {\n",
       "      maybeLoadScript(\"vega\", \"5\")\n",
       "        .then(() => maybeLoadScript(\"vega-lite\", \"5.16.3\"))\n",
       "        .then(() => maybeLoadScript(\"vega-embed\", \"6\"))\n",
       "        .catch(showError)\n",
       "        .then(() => displayChart(vegaEmbed));\n",
       "    }\n",
       "  })({\"config\": {\"view\": {\"continuousWidth\": 300, \"continuousHeight\": 300}}, \"data\": {\"name\": \"data-db051ccaf17927d4a1466ad5ddced97a\"}, \"mark\": {\"type\": \"rect\"}, \"encoding\": {\"tooltip\": [{\"field\": \"BinLeft\", \"type\": \"quantitative\"}, {\"field\": \"BinRight\", \"type\": \"quantitative\"}, {\"field\": \"NPeople\", \"type\": \"quantitative\"}], \"x\": {\"field\": \"BinLeft\", \"title\": \"Lab value, as range from min to max value per person (all units)\", \"type\": \"quantitative\"}, \"x2\": {\"field\": \"BinRight\"}, \"y\": {\"field\": \"NPeople\", \"title\": \"Number of people\", \"type\": \"quantitative\"}}, \"$schema\": \"https://vega.github.io/schema/vega-lite/v5.16.3.json\", \"datasets\": {\"data-db051ccaf17927d4a1466ad5ddced97a\": [{\"OMOP_ID\": \"3020564\", \"NPeople\": 6902, \"BinLeft\": 104.81632653061224, \"BinRight\": 107.0}, {\"OMOP_ID\": \"3020564\", \"NPeople\": 6972, \"BinLeft\": 102.63265306122449, \"BinRight\": 104.81632653061224}, {\"OMOP_ID\": \"3020564\", \"NPeople\": 7425, \"BinLeft\": 100.44897959183673, \"BinRight\": 102.63265306122449}, {\"OMOP_ID\": \"3020564\", \"NPeople\": 8120, \"BinLeft\": 91.71428571428571, \"BinRight\": 93.89795918367346}, {\"OMOP_ID\": \"3020564\", \"NPeople\": 8136, \"BinLeft\": 98.26530612244898, \"BinRight\": 100.44897959183673}, {\"OMOP_ID\": \"3020564\", \"NPeople\": 8219, \"BinLeft\": 89.53061224489795, \"BinRight\": 91.71428571428571}, {\"OMOP_ID\": \"3020564\", \"NPeople\": 8594, \"BinLeft\": 96.08163265306122, \"BinRight\": 98.26530612244898}, {\"OMOP_ID\": \"3020564\", \"NPeople\": 9058, \"BinLeft\": 85.16326530612245, \"BinRight\": 87.34693877551021}, {\"OMOP_ID\": \"3020564\", \"NPeople\": 9079, \"BinLeft\": 80.79591836734694, \"BinRight\": 82.9795918367347}, {\"OMOP_ID\": \"3020564\", \"NPeople\": 9369, \"BinLeft\": 87.34693877551021, \"BinRight\": 89.53061224489795}, {\"OMOP_ID\": \"3020564\", \"NPeople\": 9451, \"BinLeft\": 78.61224489795919, \"BinRight\": 80.79591836734694}, {\"OMOP_ID\": \"3020564\", \"NPeople\": 9526, \"BinLeft\": 76.42857142857143, \"BinRight\": 78.61224489795919}, {\"OMOP_ID\": \"3020564\", \"NPeople\": 10170, \"BinLeft\": 74.24489795918367, \"BinRight\": 76.42857142857143}, {\"OMOP_ID\": \"3020564\", \"NPeople\": 10463, \"BinLeft\": 72.06122448979592, \"BinRight\": 74.24489795918367}, {\"OMOP_ID\": \"3020564\", \"NPeople\": 11744, \"BinLeft\": 67.6938775510204, \"BinRight\": 69.87755102040816}, {\"OMOP_ID\": \"3020564\", \"NPeople\": 12345, \"BinLeft\": 65.51020408163265, \"BinRight\": 67.6938775510204}, {\"OMOP_ID\": \"3020564\", \"NPeople\": 12353, \"BinLeft\": 93.89795918367346, \"BinRight\": 96.08163265306122}, {\"OMOP_ID\": \"3020564\", \"NPeople\": 12966, \"BinLeft\": 63.326530612244895, \"BinRight\": 65.51020408163265}, {\"OMOP_ID\": \"3020564\", \"NPeople\": 13216, \"BinLeft\": 61.14285714285714, \"BinRight\": 63.326530612244895}, {\"OMOP_ID\": \"3020564\", \"NPeople\": 13402, \"BinLeft\": 82.9795918367347, \"BinRight\": 85.16326530612245}, {\"OMOP_ID\": \"3020564\", \"NPeople\": 14579, \"BinLeft\": 56.775510204081634, \"BinRight\": 58.95918367346939}, {\"OMOP_ID\": \"3020564\", \"NPeople\": 14933, \"BinLeft\": 54.59183673469388, \"BinRight\": 56.775510204081634}, {\"OMOP_ID\": \"3020564\", \"NPeople\": 15527, \"BinLeft\": 52.40816326530612, \"BinRight\": 54.59183673469388}, {\"OMOP_ID\": \"3020564\", \"NPeople\": 16415, \"BinLeft\": 50.224489795918366, \"BinRight\": 52.40816326530612}, {\"OMOP_ID\": \"3020564\", \"NPeople\": 16826, \"BinLeft\": 48.04081632653061, \"BinRight\": 50.224489795918366}, {\"OMOP_ID\": \"3020564\", \"NPeople\": 16898, \"BinLeft\": 69.87755102040816, \"BinRight\": 72.06122448979592}, {\"OMOP_ID\": \"3020564\", \"NPeople\": 19750, \"BinLeft\": 43.673469387755105, \"BinRight\": 45.857142857142854}, {\"OMOP_ID\": \"3020564\", \"NPeople\": 20838, \"BinLeft\": 58.95918367346939, \"BinRight\": 61.14285714285714}, {\"OMOP_ID\": \"3020564\", \"NPeople\": 22114, \"BinLeft\": 41.48979591836735, \"BinRight\": 43.673469387755105}, {\"OMOP_ID\": \"3020564\", \"NPeople\": 24568, \"BinLeft\": 39.30612244897959, \"BinRight\": 41.48979591836735}, {\"OMOP_ID\": \"3020564\", \"NPeople\": 26767, \"BinLeft\": 45.857142857142854, \"BinRight\": 48.04081632653061}, {\"OMOP_ID\": \"3020564\", \"NPeople\": 27662, \"BinLeft\": 37.12244897959184, \"BinRight\": 39.30612244897959}, {\"OMOP_ID\": \"3020564\", \"NPeople\": 39064, \"BinLeft\": 32.755102040816325, \"BinRight\": 34.93877551020408}, {\"OMOP_ID\": \"3020564\", \"NPeople\": 45265, \"BinLeft\": 30.57142857142857, \"BinRight\": 32.755102040816325}, {\"OMOP_ID\": \"3020564\", \"NPeople\": 49025, \"BinLeft\": 34.93877551020408, \"BinRight\": 37.12244897959184}, {\"OMOP_ID\": \"3020564\", \"NPeople\": 53075, \"BinLeft\": 28.387755102040817, \"BinRight\": 30.57142857142857}, {\"OMOP_ID\": \"3020564\", \"NPeople\": 62744, \"BinLeft\": 26.20408163265306, \"BinRight\": 28.387755102040817}, {\"OMOP_ID\": \"3020564\", \"NPeople\": 73771, \"BinLeft\": 24.020408163265305, \"BinRight\": 26.20408163265306}, {\"OMOP_ID\": \"3020564\", \"NPeople\": 113582, \"BinLeft\": 19.653061224489797, \"BinRight\": 21.836734693877553}, {\"OMOP_ID\": \"3020564\", \"NPeople\": 134055, \"BinLeft\": 17.46938775510204, \"BinRight\": 19.653061224489797}, {\"OMOP_ID\": \"3020564\", \"NPeople\": 136317, \"BinLeft\": 21.836734693877553, \"BinRight\": 24.020408163265305}, {\"OMOP_ID\": \"3020564\", \"NPeople\": 156424, \"BinLeft\": 15.285714285714285, \"BinRight\": 17.46938775510204}, {\"OMOP_ID\": \"3020564\", \"NPeople\": 167157, \"BinLeft\": 2.183673469387755, \"BinRight\": 4.36734693877551}, {\"OMOP_ID\": \"3020564\", \"NPeople\": 180263, \"BinLeft\": 13.10204081632653, \"BinRight\": 15.285714285714285}, {\"OMOP_ID\": \"3020564\", \"NPeople\": 192891, \"BinLeft\": 4.36734693877551, \"BinRight\": 6.551020408163265}, {\"OMOP_ID\": \"3020564\", \"NPeople\": 196176, \"BinLeft\": 107.0, \"BinRight\": Infinity}, {\"OMOP_ID\": \"3020564\", \"NPeople\": 210028, \"BinLeft\": 6.551020408163265, \"BinRight\": 8.73469387755102}, {\"OMOP_ID\": \"3020564\", \"NPeople\": 214751, \"BinLeft\": 8.73469387755102, \"BinRight\": 10.918367346938776}, {\"OMOP_ID\": \"3020564\", \"NPeople\": 305341, \"BinLeft\": 10.918367346938776, \"BinRight\": 13.10204081632653}, {\"OMOP_ID\": \"3020564\", \"NPeople\": 1111463, \"BinLeft\": 0.0, \"BinRight\": 2.183673469387755}]}}, {\"mode\": \"vega-lite\"});\n",
       "</script>"
      ],
      "text/plain": [
       "alt.Chart(...)"
      ]
     },
     "metadata": {},
     "output_type": "display_data"
    }
   ],
   "source": [
    "for omop_id in omop_ids:\n",
    "    display(Markdown(f\"## OMOP ID: {omop_id}\"))\n",
    "    \n",
    "    plot_data = dataf.filter(pl.col(\"OMOP_ID\") == omop_id)\n",
    "    \n",
    "    display(\n",
    "        alt.Chart(plot_data).mark_rect().encode(\n",
    "            alt.X(\"BinLeft:Q\").title(\"Lab value, as range from min to max value per person (all units)\"),\n",
    "            alt.X2(\"BinRight:Q\"),\n",
    "            alt.Y(\"NPeople:Q\").title(\"Number of people\"),\n",
    "            tooltip=[\"BinLeft:Q\", \"BinRight:Q\", \"NPeople:Q\"]\n",
    "        )\n",
    "    )"
   ]
  },
  {
   "cell_type": "code",
   "execution_count": null,
   "id": "7ef75613-e28b-4a66-8cec-29bec4d7eade",
   "metadata": {},
   "outputs": [],
   "source": []
  }
 ],
 "metadata": {
  "kernelspec": {
   "display_name": "Python 3 (ipykernel)",
   "language": "python",
   "name": "python3"
  },
  "language_info": {
   "codemirror_mode": {
    "name": "ipython",
    "version": 3
   },
   "file_extension": ".py",
   "mimetype": "text/x-python",
   "name": "python",
   "nbconvert_exporter": "python",
   "pygments_lexer": "ipython3",
   "version": "3.12.1"
  }
 },
 "nbformat": 4,
 "nbformat_minor": 5
}
