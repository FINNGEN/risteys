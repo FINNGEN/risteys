{
 "cells": [
  {
   "cell_type": "markdown",
   "id": "1b6b242a-f744-4825-a67f-96c6f46fab77",
   "metadata": {},
   "source": [
    "# Year of birth distributions"
   ]
  },
  {
   "cell_type": "code",
   "execution_count": 1,
   "id": "d85c76d3-db25-42c5-ac7d-620ad41dd6d6",
   "metadata": {},
   "outputs": [],
   "source": [
    "from pathlib import Path\n",
    "\n",
    "import altair as alt\n",
    "import polars as pl\n",
    "from IPython.display import display, Markdown\n",
    "\n",
    "import plotting"
   ]
  },
  {
   "cell_type": "code",
   "execution_count": 2,
   "id": "7c91ca53-b736-48ee-a64a-2dbef894bc73",
   "metadata": {},
   "outputs": [],
   "source": [
    "file = \"/Users/vllorens/data/fimm/finregistry-kanta-lab-values/risteys/stats_year_of_birth_distribution__sorted.csv\""
   ]
  },
  {
   "cell_type": "code",
   "execution_count": 9,
   "id": "b45f4e0b-d9b9-483f-8fe7-c7b61956d5f4",
   "metadata": {},
   "outputs": [],
   "source": [
    "dataf = (\n",
    "    pl.read_csv(\n",
    "        file,\n",
    "        dtypes={\"OMOP_ID\": pl.String}\n",
    "    )\n",
    "    .pipe(plotting.extract_bin_left_right, column_bin=\"Bin\")\n",
    "    .select(\n",
    "        pl.col(\"OMOP_ID\"),\n",
    "        pl.col(\"NPeople\"),\n",
    "        pl.col(\"BinLeft\"),\n",
    "        pl.col(\"BinRight\")\n",
    "    )\n",
    ")"
   ]
  },
  {
   "cell_type": "code",
   "execution_count": 11,
   "id": "5cd6322c-537d-4e11-9efc-ec70424f8fee",
   "metadata": {},
   "outputs": [],
   "source": [
    "omop_ids = dataf.get_column(\"OMOP_ID\").unique()"
   ]
  },
  {
   "cell_type": "code",
   "execution_count": 14,
   "id": "3293c2ae-14a0-4fff-a593-f435287dc3fa",
   "metadata": {},
   "outputs": [
    {
     "data": {
      "text/markdown": [
       "## OMOP ID: 3020564"
      ],
      "text/plain": [
       "<IPython.core.display.Markdown object>"
      ]
     },
     "metadata": {},
     "output_type": "display_data"
    },
    {
     "data": {
      "text/html": [
       "\n",
       "<style>\n",
       "  #altair-viz-172f326d1ac74b98add27c036c67527f.vega-embed {\n",
       "    width: 100%;\n",
       "    display: flex;\n",
       "  }\n",
       "\n",
       "  #altair-viz-172f326d1ac74b98add27c036c67527f.vega-embed details,\n",
       "  #altair-viz-172f326d1ac74b98add27c036c67527f.vega-embed details summary {\n",
       "    position: relative;\n",
       "  }\n",
       "</style>\n",
       "<div id=\"altair-viz-172f326d1ac74b98add27c036c67527f\"></div>\n",
       "<script type=\"text/javascript\">\n",
       "  var VEGA_DEBUG = (typeof VEGA_DEBUG == \"undefined\") ? {} : VEGA_DEBUG;\n",
       "  (function(spec, embedOpt){\n",
       "    let outputDiv = document.currentScript.previousElementSibling;\n",
       "    if (outputDiv.id !== \"altair-viz-172f326d1ac74b98add27c036c67527f\") {\n",
       "      outputDiv = document.getElementById(\"altair-viz-172f326d1ac74b98add27c036c67527f\");\n",
       "    }\n",
       "    const paths = {\n",
       "      \"vega\": \"https://cdn.jsdelivr.net/npm/vega@5?noext\",\n",
       "      \"vega-lib\": \"https://cdn.jsdelivr.net/npm/vega-lib?noext\",\n",
       "      \"vega-lite\": \"https://cdn.jsdelivr.net/npm/vega-lite@5.16.3?noext\",\n",
       "      \"vega-embed\": \"https://cdn.jsdelivr.net/npm/vega-embed@6?noext\",\n",
       "    };\n",
       "\n",
       "    function maybeLoadScript(lib, version) {\n",
       "      var key = `${lib.replace(\"-\", \"\")}_version`;\n",
       "      return (VEGA_DEBUG[key] == version) ?\n",
       "        Promise.resolve(paths[lib]) :\n",
       "        new Promise(function(resolve, reject) {\n",
       "          var s = document.createElement('script');\n",
       "          document.getElementsByTagName(\"head\")[0].appendChild(s);\n",
       "          s.async = true;\n",
       "          s.onload = () => {\n",
       "            VEGA_DEBUG[key] = version;\n",
       "            return resolve(paths[lib]);\n",
       "          };\n",
       "          s.onerror = () => reject(`Error loading script: ${paths[lib]}`);\n",
       "          s.src = paths[lib];\n",
       "        });\n",
       "    }\n",
       "\n",
       "    function showError(err) {\n",
       "      outputDiv.innerHTML = `<div class=\"error\" style=\"color:red;\">${err}</div>`;\n",
       "      throw err;\n",
       "    }\n",
       "\n",
       "    function displayChart(vegaEmbed) {\n",
       "      vegaEmbed(outputDiv, spec, embedOpt)\n",
       "        .catch(err => showError(`Javascript Error: ${err.message}<br>This usually means there's a typo in your chart specification. See the javascript console for the full traceback.`));\n",
       "    }\n",
       "\n",
       "    if(typeof define === \"function\" && define.amd) {\n",
       "      requirejs.config({paths});\n",
       "      require([\"vega-embed\"], displayChart, err => showError(`Error loading script: ${err.message}`));\n",
       "    } else {\n",
       "      maybeLoadScript(\"vega\", \"5\")\n",
       "        .then(() => maybeLoadScript(\"vega-lite\", \"5.16.3\"))\n",
       "        .then(() => maybeLoadScript(\"vega-embed\", \"6\"))\n",
       "        .catch(showError)\n",
       "        .then(() => displayChart(vegaEmbed));\n",
       "    }\n",
       "  })({\"config\": {\"view\": {\"continuousWidth\": 300, \"continuousHeight\": 300}}, \"data\": {\"name\": \"data-d2d460c63142910ec7b1ab7373aa3858\"}, \"mark\": {\"type\": \"rect\"}, \"encoding\": {\"x\": {\"field\": \"BinLeft\", \"title\": \"Year of birth\", \"type\": \"temporal\"}, \"x2\": {\"field\": \"BinRight\"}, \"y\": {\"field\": \"NPeople\", \"title\": \"Number of people\", \"type\": \"quantitative\"}}, \"$schema\": \"https://vega.github.io/schema/vega-lite/v5.16.3.json\", \"datasets\": {\"data-d2d460c63142910ec7b1ab7373aa3858\": [{\"OMOP_ID\": \"3020564\", \"NPeople\": 8, \"BinLeft\": \"1909\", \"BinRight\": \"1910\"}, {\"OMOP_ID\": \"3020564\", \"NPeople\": 11, \"BinLeft\": \"1910\", \"BinRight\": \"1911\"}, {\"OMOP_ID\": \"3020564\", \"NPeople\": 30, \"BinLeft\": \"1911\", \"BinRight\": \"1912\"}, {\"OMOP_ID\": \"3020564\", \"NPeople\": 68, \"BinLeft\": \"1912\", \"BinRight\": \"1913\"}, {\"OMOP_ID\": \"3020564\", \"NPeople\": 110, \"BinLeft\": \"1913\", \"BinRight\": \"1914\"}, {\"OMOP_ID\": \"3020564\", \"NPeople\": 170, \"BinLeft\": \"1914\", \"BinRight\": \"1915\"}, {\"OMOP_ID\": \"3020564\", \"NPeople\": 289, \"BinLeft\": \"1915\", \"BinRight\": \"1916\"}, {\"OMOP_ID\": \"3020564\", \"NPeople\": 520, \"BinLeft\": \"1916\", \"BinRight\": \"1917\"}, {\"OMOP_ID\": \"3020564\", \"NPeople\": 813, \"BinLeft\": \"1917\", \"BinRight\": \"1918\"}, {\"OMOP_ID\": \"3020564\", \"NPeople\": 1231, \"BinLeft\": \"1918\", \"BinRight\": \"1919\"}, {\"OMOP_ID\": \"3020564\", \"NPeople\": 1574, \"BinLeft\": \"1919\", \"BinRight\": \"1920\"}, {\"OMOP_ID\": \"3020564\", \"NPeople\": 2820, \"BinLeft\": \"1920\", \"BinRight\": \"1921\"}, {\"OMOP_ID\": \"3020564\", \"NPeople\": 3880, \"BinLeft\": \"1921\", \"BinRight\": \"1922\"}, {\"OMOP_ID\": \"3020564\", \"NPeople\": 5187, \"BinLeft\": \"1922\", \"BinRight\": \"1923\"}, {\"OMOP_ID\": \"3020564\", \"NPeople\": 6923, \"BinLeft\": \"1923\", \"BinRight\": \"1924\"}, {\"OMOP_ID\": \"3020564\", \"NPeople\": 7862, \"BinLeft\": \"2018\", \"BinRight\": \"2019\"}, {\"OMOP_ID\": \"3020564\", \"NPeople\": 8563, \"BinLeft\": \"1924\", \"BinRight\": \"1925\"}, {\"OMOP_ID\": \"3020564\", \"NPeople\": 8591, \"BinLeft\": \"2019\", \"BinRight\": \"inf\"}, {\"OMOP_ID\": \"3020564\", \"NPeople\": 9587, \"BinLeft\": \"2017\", \"BinRight\": \"2018\"}, {\"OMOP_ID\": \"3020564\", \"NPeople\": 10585, \"BinLeft\": \"2016\", \"BinRight\": \"2017\"}, {\"OMOP_ID\": \"3020564\", \"NPeople\": 11033, \"BinLeft\": \"1925\", \"BinRight\": \"1926\"}, {\"OMOP_ID\": \"3020564\", \"NPeople\": 11534, \"BinLeft\": \"2015\", \"BinRight\": \"2016\"}, {\"OMOP_ID\": \"3020564\", \"NPeople\": 12594, \"BinLeft\": \"2014\", \"BinRight\": \"2015\"}, {\"OMOP_ID\": \"3020564\", \"NPeople\": 12718, \"BinLeft\": \"1926\", \"BinRight\": \"1927\"}, {\"OMOP_ID\": \"3020564\", \"NPeople\": 13573, \"BinLeft\": \"2013\", \"BinRight\": \"2014\"}, {\"OMOP_ID\": \"3020564\", \"NPeople\": 14167, \"BinLeft\": \"2012\", \"BinRight\": \"2013\"}, {\"OMOP_ID\": \"3020564\", \"NPeople\": 14886, \"BinLeft\": \"2011\", \"BinRight\": \"2012\"}, {\"OMOP_ID\": \"3020564\", \"NPeople\": 14981, \"BinLeft\": \"1927\", \"BinRight\": \"1928\"}, {\"OMOP_ID\": \"3020564\", \"NPeople\": 16088, \"BinLeft\": \"2010\", \"BinRight\": \"2011\"}, {\"OMOP_ID\": \"3020564\", \"NPeople\": 16984, \"BinLeft\": \"2009\", \"BinRight\": \"2010\"}, {\"OMOP_ID\": \"3020564\", \"NPeople\": 18094, \"BinLeft\": \"1928\", \"BinRight\": \"1929\"}, {\"OMOP_ID\": \"3020564\", \"NPeople\": 18423, \"BinLeft\": \"2008\", \"BinRight\": \"2009\"}, {\"OMOP_ID\": \"3020564\", \"NPeople\": 20458, \"BinLeft\": \"2007\", \"BinRight\": \"2008\"}, {\"OMOP_ID\": \"3020564\", \"NPeople\": 20480, \"BinLeft\": \"1929\", \"BinRight\": \"1930\"}, {\"OMOP_ID\": \"3020564\", \"NPeople\": 22091, \"BinLeft\": \"2006\", \"BinRight\": \"2007\"}, {\"OMOP_ID\": \"3020564\", \"NPeople\": 23284, \"BinLeft\": \"1930\", \"BinRight\": \"1931\"}, {\"OMOP_ID\": \"3020564\", \"NPeople\": 23535, \"BinLeft\": \"2005\", \"BinRight\": \"2006\"}, {\"OMOP_ID\": \"3020564\", \"NPeople\": 24706, \"BinLeft\": \"1931\", \"BinRight\": \"1932\"}, {\"OMOP_ID\": \"3020564\", \"NPeople\": 25572, \"BinLeft\": \"2004\", \"BinRight\": \"2005\"}, {\"OMOP_ID\": \"3020564\", \"NPeople\": 26019, \"BinLeft\": \"1932\", \"BinRight\": \"1933\"}, {\"OMOP_ID\": \"3020564\", \"NPeople\": 26379, \"BinLeft\": \"1933\", \"BinRight\": \"1934\"}, {\"OMOP_ID\": \"3020564\", \"NPeople\": 26545, \"BinLeft\": \"2003\", \"BinRight\": \"2004\"}, {\"OMOP_ID\": \"3020564\", \"NPeople\": 27723, \"BinLeft\": \"2002\", \"BinRight\": \"2003\"}, {\"OMOP_ID\": \"3020564\", \"NPeople\": 29375, \"BinLeft\": \"1934\", \"BinRight\": \"1935\"}, {\"OMOP_ID\": \"3020564\", \"NPeople\": 29422, \"BinLeft\": \"2001\", \"BinRight\": \"2002\"}, {\"OMOP_ID\": \"3020564\", \"NPeople\": 30488, \"BinLeft\": \"2000\", \"BinRight\": \"2001\"}, {\"OMOP_ID\": \"3020564\", \"NPeople\": 31899, \"BinLeft\": \"1999\", \"BinRight\": \"2000\"}, {\"OMOP_ID\": \"3020564\", \"NPeople\": 32137, \"BinLeft\": \"1998\", \"BinRight\": \"1999\"}, {\"OMOP_ID\": \"3020564\", \"NPeople\": 32354, \"BinLeft\": \"1935\", \"BinRight\": \"1936\"}, {\"OMOP_ID\": \"3020564\", \"NPeople\": 33486, \"BinLeft\": \"1936\", \"BinRight\": \"1937\"}, {\"OMOP_ID\": \"3020564\", \"NPeople\": 34310, \"BinLeft\": \"1997\", \"BinRight\": \"1998\"}, {\"OMOP_ID\": \"3020564\", \"NPeople\": 36026, \"BinLeft\": \"1996\", \"BinRight\": \"1997\"}, {\"OMOP_ID\": \"3020564\", \"NPeople\": 36590, \"BinLeft\": \"1937\", \"BinRight\": \"1938\"}, {\"OMOP_ID\": \"3020564\", \"NPeople\": 36955, \"BinLeft\": \"1942\", \"BinRight\": \"1943\"}, {\"OMOP_ID\": \"3020564\", \"NPeople\": 37128, \"BinLeft\": \"1940\", \"BinRight\": \"1941\"}, {\"OMOP_ID\": \"3020564\", \"NPeople\": 37727, \"BinLeft\": \"1995\", \"BinRight\": \"1996\"}, {\"OMOP_ID\": \"3020564\", \"NPeople\": 39884, \"BinLeft\": \"1994\", \"BinRight\": \"1995\"}, {\"OMOP_ID\": \"3020564\", \"NPeople\": 40144, \"BinLeft\": \"1938\", \"BinRight\": \"1939\"}, {\"OMOP_ID\": \"3020564\", \"NPeople\": 40652, \"BinLeft\": \"1993\", \"BinRight\": \"1994\"}, {\"OMOP_ID\": \"3020564\", \"NPeople\": 40810, \"BinLeft\": \"1987\", \"BinRight\": \"1988\"}, {\"OMOP_ID\": \"3020564\", \"NPeople\": 41832, \"BinLeft\": \"1986\", \"BinRight\": \"1987\"}, {\"OMOP_ID\": \"3020564\", \"NPeople\": 41917, \"BinLeft\": \"1989\", \"BinRight\": \"1990\"}, {\"OMOP_ID\": \"3020564\", \"NPeople\": 42189, \"BinLeft\": \"1991\", \"BinRight\": \"1992\"}, {\"OMOP_ID\": \"3020564\", \"NPeople\": 42309, \"BinLeft\": \"1988\", \"BinRight\": \"1989\"}, {\"OMOP_ID\": \"3020564\", \"NPeople\": 42336, \"BinLeft\": \"1992\", \"BinRight\": \"1993\"}, {\"OMOP_ID\": \"3020564\", \"NPeople\": 42377, \"BinLeft\": \"1939\", \"BinRight\": \"1940\"}, {\"OMOP_ID\": \"3020564\", \"NPeople\": 42511, \"BinLeft\": \"1973\", \"BinRight\": \"1974\"}, {\"OMOP_ID\": \"3020564\", \"NPeople\": 42634, \"BinLeft\": \"1990\", \"BinRight\": \"1991\"}, {\"OMOP_ID\": \"3020564\", \"NPeople\": 43080, \"BinLeft\": \"1985\", \"BinRight\": \"1986\"}, {\"OMOP_ID\": \"3020564\", \"NPeople\": 45164, \"BinLeft\": \"1984\", \"BinRight\": \"1985\"}, {\"OMOP_ID\": \"3020564\", \"NPeople\": 45205, \"BinLeft\": \"1980\", \"BinRight\": \"1981\"}, {\"OMOP_ID\": \"3020564\", \"NPeople\": 45249, \"BinLeft\": \"1972\", \"BinRight\": \"1973\"}, {\"OMOP_ID\": \"3020564\", \"NPeople\": 45478, \"BinLeft\": \"1981\", \"BinRight\": \"1982\"}, {\"OMOP_ID\": \"3020564\", \"NPeople\": 45602, \"BinLeft\": \"1979\", \"BinRight\": \"1980\"}, {\"OMOP_ID\": \"3020564\", \"NPeople\": 45677, \"BinLeft\": \"1974\", \"BinRight\": \"1975\"}, {\"OMOP_ID\": \"3020564\", \"NPeople\": 46313, \"BinLeft\": \"1978\", \"BinRight\": \"1979\"}, {\"OMOP_ID\": \"3020564\", \"NPeople\": 46552, \"BinLeft\": \"1943\", \"BinRight\": \"1944\"}, {\"OMOP_ID\": \"3020564\", \"NPeople\": 46781, \"BinLeft\": \"1983\", \"BinRight\": \"1984\"}, {\"OMOP_ID\": \"3020564\", \"NPeople\": 47060, \"BinLeft\": \"1971\", \"BinRight\": \"1972\"}, {\"OMOP_ID\": \"3020564\", \"NPeople\": 47522, \"BinLeft\": \"1982\", \"BinRight\": \"1983\"}, {\"OMOP_ID\": \"3020564\", \"NPeople\": 47706, \"BinLeft\": \"1975\", \"BinRight\": \"1976\"}, {\"OMOP_ID\": \"3020564\", \"NPeople\": 47866, \"BinLeft\": \"1977\", \"BinRight\": \"1978\"}, {\"OMOP_ID\": \"3020564\", \"NPeople\": 48246, \"BinLeft\": \"1976\", \"BinRight\": \"1977\"}, {\"OMOP_ID\": \"3020564\", \"NPeople\": 48780, \"BinLeft\": \"1970\", \"BinRight\": \"1971\"}, {\"OMOP_ID\": \"3020564\", \"NPeople\": 49151, \"BinLeft\": \"1944\", \"BinRight\": \"1945\"}, {\"OMOP_ID\": \"3020564\", \"NPeople\": 50575, \"BinLeft\": \"1969\", \"BinRight\": \"1970\"}, {\"OMOP_ID\": \"3020564\", \"NPeople\": 53270, \"BinLeft\": \"1941\", \"BinRight\": \"1942\"}, {\"OMOP_ID\": \"3020564\", \"NPeople\": 55206, \"BinLeft\": \"1968\", \"BinRight\": \"1969\"}, {\"OMOP_ID\": \"3020564\", \"NPeople\": 57616, \"BinLeft\": \"1967\", \"BinRight\": \"1968\"}, {\"OMOP_ID\": \"3020564\", \"NPeople\": 58221, \"BinLeft\": \"1966\", \"BinRight\": \"1967\"}, {\"OMOP_ID\": \"3020564\", \"NPeople\": 59146, \"BinLeft\": \"1965\", \"BinRight\": \"1966\"}, {\"OMOP_ID\": \"3020564\", \"NPeople\": 60182, \"BinLeft\": \"1964\", \"BinRight\": \"1965\"}, {\"OMOP_ID\": \"3020564\", \"NPeople\": 60835, \"BinLeft\": \"1958\", \"BinRight\": \"1959\"}, {\"OMOP_ID\": \"3020564\", \"NPeople\": 61446, \"BinLeft\": \"1963\", \"BinRight\": \"1964\"}, {\"OMOP_ID\": \"3020564\", \"NPeople\": 61646, \"BinLeft\": \"1945\", \"BinRight\": \"1946\"}, {\"OMOP_ID\": \"3020564\", \"NPeople\": 62054, \"BinLeft\": \"1962\", \"BinRight\": \"1963\"}, {\"OMOP_ID\": \"3020564\", \"NPeople\": 62097, \"BinLeft\": \"1961\", \"BinRight\": \"1962\"}, {\"OMOP_ID\": \"3020564\", \"NPeople\": 62143, \"BinLeft\": \"1960\", \"BinRight\": \"1961\"}, {\"OMOP_ID\": \"3020564\", \"NPeople\": 62438, \"BinLeft\": \"1959\", \"BinRight\": \"1960\"}, {\"OMOP_ID\": \"3020564\", \"NPeople\": 63735, \"BinLeft\": \"1957\", \"BinRight\": \"1958\"}, {\"OMOP_ID\": \"3020564\", \"NPeople\": 64644, \"BinLeft\": \"1953\", \"BinRight\": \"1954\"}, {\"OMOP_ID\": \"3020564\", \"NPeople\": 65272, \"BinLeft\": \"1951\", \"BinRight\": \"1952\"}, {\"OMOP_ID\": \"3020564\", \"NPeople\": 65468, \"BinLeft\": \"1955\", \"BinRight\": \"1956\"}, {\"OMOP_ID\": \"3020564\", \"NPeople\": 65621, \"BinLeft\": \"1954\", \"BinRight\": \"1955\"}, {\"OMOP_ID\": \"3020564\", \"NPeople\": 65781, \"BinLeft\": \"1956\", \"BinRight\": \"1957\"}, {\"OMOP_ID\": \"3020564\", \"NPeople\": 67586, \"BinLeft\": \"1952\", \"BinRight\": \"1953\"}, {\"OMOP_ID\": \"3020564\", \"NPeople\": 67911, \"BinLeft\": \"1950\", \"BinRight\": \"1951\"}, {\"OMOP_ID\": \"3020564\", \"NPeople\": 69664, \"BinLeft\": \"1946\", \"BinRight\": \"1947\"}, {\"OMOP_ID\": \"3020564\", \"NPeople\": 70200, \"BinLeft\": \"1949\", \"BinRight\": \"1950\"}, {\"OMOP_ID\": \"3020564\", \"NPeople\": 71692, \"BinLeft\": \"1948\", \"BinRight\": \"1949\"}, {\"OMOP_ID\": \"3020564\", \"NPeople\": 71714, \"BinLeft\": \"1947\", \"BinRight\": \"1948\"}]}}, {\"mode\": \"vega-lite\"});\n",
       "</script>"
      ],
      "text/plain": [
       "alt.Chart(...)"
      ]
     },
     "metadata": {},
     "output_type": "display_data"
    },
    {
     "data": {
      "text/markdown": [
       "## OMOP ID: 3037522"
      ],
      "text/plain": [
       "<IPython.core.display.Markdown object>"
      ]
     },
     "metadata": {},
     "output_type": "display_data"
    },
    {
     "data": {
      "text/html": [
       "\n",
       "<style>\n",
       "  #altair-viz-a4a7c4465c304fb88549096564ac2212.vega-embed {\n",
       "    width: 100%;\n",
       "    display: flex;\n",
       "  }\n",
       "\n",
       "  #altair-viz-a4a7c4465c304fb88549096564ac2212.vega-embed details,\n",
       "  #altair-viz-a4a7c4465c304fb88549096564ac2212.vega-embed details summary {\n",
       "    position: relative;\n",
       "  }\n",
       "</style>\n",
       "<div id=\"altair-viz-a4a7c4465c304fb88549096564ac2212\"></div>\n",
       "<script type=\"text/javascript\">\n",
       "  var VEGA_DEBUG = (typeof VEGA_DEBUG == \"undefined\") ? {} : VEGA_DEBUG;\n",
       "  (function(spec, embedOpt){\n",
       "    let outputDiv = document.currentScript.previousElementSibling;\n",
       "    if (outputDiv.id !== \"altair-viz-a4a7c4465c304fb88549096564ac2212\") {\n",
       "      outputDiv = document.getElementById(\"altair-viz-a4a7c4465c304fb88549096564ac2212\");\n",
       "    }\n",
       "    const paths = {\n",
       "      \"vega\": \"https://cdn.jsdelivr.net/npm/vega@5?noext\",\n",
       "      \"vega-lib\": \"https://cdn.jsdelivr.net/npm/vega-lib?noext\",\n",
       "      \"vega-lite\": \"https://cdn.jsdelivr.net/npm/vega-lite@5.16.3?noext\",\n",
       "      \"vega-embed\": \"https://cdn.jsdelivr.net/npm/vega-embed@6?noext\",\n",
       "    };\n",
       "\n",
       "    function maybeLoadScript(lib, version) {\n",
       "      var key = `${lib.replace(\"-\", \"\")}_version`;\n",
       "      return (VEGA_DEBUG[key] == version) ?\n",
       "        Promise.resolve(paths[lib]) :\n",
       "        new Promise(function(resolve, reject) {\n",
       "          var s = document.createElement('script');\n",
       "          document.getElementsByTagName(\"head\")[0].appendChild(s);\n",
       "          s.async = true;\n",
       "          s.onload = () => {\n",
       "            VEGA_DEBUG[key] = version;\n",
       "            return resolve(paths[lib]);\n",
       "          };\n",
       "          s.onerror = () => reject(`Error loading script: ${paths[lib]}`);\n",
       "          s.src = paths[lib];\n",
       "        });\n",
       "    }\n",
       "\n",
       "    function showError(err) {\n",
       "      outputDiv.innerHTML = `<div class=\"error\" style=\"color:red;\">${err}</div>`;\n",
       "      throw err;\n",
       "    }\n",
       "\n",
       "    function displayChart(vegaEmbed) {\n",
       "      vegaEmbed(outputDiv, spec, embedOpt)\n",
       "        .catch(err => showError(`Javascript Error: ${err.message}<br>This usually means there's a typo in your chart specification. See the javascript console for the full traceback.`));\n",
       "    }\n",
       "\n",
       "    if(typeof define === \"function\" && define.amd) {\n",
       "      requirejs.config({paths});\n",
       "      require([\"vega-embed\"], displayChart, err => showError(`Error loading script: ${err.message}`));\n",
       "    } else {\n",
       "      maybeLoadScript(\"vega\", \"5\")\n",
       "        .then(() => maybeLoadScript(\"vega-lite\", \"5.16.3\"))\n",
       "        .then(() => maybeLoadScript(\"vega-embed\", \"6\"))\n",
       "        .catch(showError)\n",
       "        .then(() => displayChart(vegaEmbed));\n",
       "    }\n",
       "  })({\"config\": {\"view\": {\"continuousWidth\": 300, \"continuousHeight\": 300}}, \"data\": {\"name\": \"data-aa198f2815cf2d26cb59aa73d5965d45\"}, \"mark\": {\"type\": \"rect\"}, \"encoding\": {\"x\": {\"field\": \"BinLeft\", \"title\": \"Year of birth\", \"type\": \"temporal\"}, \"x2\": {\"field\": \"BinRight\"}, \"y\": {\"field\": \"NPeople\", \"title\": \"Number of people\", \"type\": \"quantitative\"}}, \"$schema\": \"https://vega.github.io/schema/vega-lite/v5.16.3.json\", \"datasets\": {\"data-aa198f2815cf2d26cb59aa73d5965d45\": [{\"OMOP_ID\": \"3037522\", \"NPeople\": 12, \"BinLeft\": \"1922\", \"BinRight\": \"1923\"}, {\"OMOP_ID\": \"3037522\", \"NPeople\": 17, \"BinLeft\": \"1923\", \"BinRight\": \"1924\"}, {\"OMOP_ID\": \"3037522\", \"NPeople\": 22, \"BinLeft\": \"1924\", \"BinRight\": \"1925\"}, {\"OMOP_ID\": \"3037522\", \"NPeople\": 43, \"BinLeft\": \"1925\", \"BinRight\": \"1926\"}, {\"OMOP_ID\": \"3037522\", \"NPeople\": 47, \"BinLeft\": \"1926\", \"BinRight\": \"1927\"}, {\"OMOP_ID\": \"3037522\", \"NPeople\": 85, \"BinLeft\": \"2019\", \"BinRight\": \"inf\"}, {\"OMOP_ID\": \"3037522\", \"NPeople\": 92, \"BinLeft\": \"1927\", \"BinRight\": \"1928\"}, {\"OMOP_ID\": \"3037522\", \"NPeople\": 97, \"BinLeft\": \"2018\", \"BinRight\": \"2019\"}, {\"OMOP_ID\": \"3037522\", \"NPeople\": 109, \"BinLeft\": \"2017\", \"BinRight\": \"2018\"}, {\"OMOP_ID\": \"3037522\", \"NPeople\": 127, \"BinLeft\": \"1928\", \"BinRight\": \"1929\"}, {\"OMOP_ID\": \"3037522\", \"NPeople\": 130, \"BinLeft\": \"2016\", \"BinRight\": \"2017\"}, {\"OMOP_ID\": \"3037522\", \"NPeople\": 138, \"BinLeft\": \"2015\", \"BinRight\": \"2016\"}, {\"OMOP_ID\": \"3037522\", \"NPeople\": 146, \"BinLeft\": \"2013\", \"BinRight\": \"2014\"}, {\"OMOP_ID\": \"3037522\", \"NPeople\": 148, \"BinLeft\": \"2014\", \"BinRight\": \"2015\"}, {\"OMOP_ID\": \"3037522\", \"NPeople\": 188, \"BinLeft\": \"1929\", \"BinRight\": \"1930\"}, {\"OMOP_ID\": \"3037522\", \"NPeople\": 188, \"BinLeft\": \"2012\", \"BinRight\": \"2013\"}, {\"OMOP_ID\": \"3037522\", \"NPeople\": 191, \"BinLeft\": \"2011\", \"BinRight\": \"2012\"}, {\"OMOP_ID\": \"3037522\", \"NPeople\": 226, \"BinLeft\": \"2010\", \"BinRight\": \"2011\"}, {\"OMOP_ID\": \"3037522\", \"NPeople\": 240, \"BinLeft\": \"2009\", \"BinRight\": \"2010\"}, {\"OMOP_ID\": \"3037522\", \"NPeople\": 259, \"BinLeft\": \"1930\", \"BinRight\": \"1931\"}, {\"OMOP_ID\": \"3037522\", \"NPeople\": 267, \"BinLeft\": \"1931\", \"BinRight\": \"1932\"}, {\"OMOP_ID\": \"3037522\", \"NPeople\": 281, \"BinLeft\": \"2008\", \"BinRight\": \"2009\"}, {\"OMOP_ID\": \"3037522\", \"NPeople\": 290, \"BinLeft\": \"2006\", \"BinRight\": \"2007\"}, {\"OMOP_ID\": \"3037522\", \"NPeople\": 293, \"BinLeft\": \"2007\", \"BinRight\": \"2008\"}, {\"OMOP_ID\": \"3037522\", \"NPeople\": 308, \"BinLeft\": \"1932\", \"BinRight\": \"1933\"}, {\"OMOP_ID\": \"3037522\", \"NPeople\": 320, \"BinLeft\": \"2004\", \"BinRight\": \"2005\"}, {\"OMOP_ID\": \"3037522\", \"NPeople\": 344, \"BinLeft\": \"2003\", \"BinRight\": \"2004\"}, {\"OMOP_ID\": \"3037522\", \"NPeople\": 347, \"BinLeft\": \"2000\", \"BinRight\": \"2001\"}, {\"OMOP_ID\": \"3037522\", \"NPeople\": 352, \"BinLeft\": \"2005\", \"BinRight\": \"2006\"}, {\"OMOP_ID\": \"3037522\", \"NPeople\": 363, \"BinLeft\": \"1933\", \"BinRight\": \"1934\"}, {\"OMOP_ID\": \"3037522\", \"NPeople\": 369, \"BinLeft\": \"2001\", \"BinRight\": \"2002\"}, {\"OMOP_ID\": \"3037522\", \"NPeople\": 371, \"BinLeft\": \"2002\", \"BinRight\": \"2003\"}, {\"OMOP_ID\": \"3037522\", \"NPeople\": 454, \"BinLeft\": \"1934\", \"BinRight\": \"1935\"}, {\"OMOP_ID\": \"3037522\", \"NPeople\": 460, \"BinLeft\": \"1999\", \"BinRight\": \"2000\"}, {\"OMOP_ID\": \"3037522\", \"NPeople\": 463, \"BinLeft\": \"1997\", \"BinRight\": \"1998\"}, {\"OMOP_ID\": \"3037522\", \"NPeople\": 465, \"BinLeft\": \"1998\", \"BinRight\": \"1999\"}, {\"OMOP_ID\": \"3037522\", \"NPeople\": 515, \"BinLeft\": \"1996\", \"BinRight\": \"1997\"}, {\"OMOP_ID\": \"3037522\", \"NPeople\": 522, \"BinLeft\": \"1935\", \"BinRight\": \"1936\"}, {\"OMOP_ID\": \"3037522\", \"NPeople\": 593, \"BinLeft\": \"1936\", \"BinRight\": \"1937\"}, {\"OMOP_ID\": \"3037522\", \"NPeople\": 615, \"BinLeft\": \"1995\", \"BinRight\": \"1996\"}, {\"OMOP_ID\": \"3037522\", \"NPeople\": 619, \"BinLeft\": \"1994\", \"BinRight\": \"1995\"}, {\"OMOP_ID\": \"3037522\", \"NPeople\": 624, \"BinLeft\": \"1937\", \"BinRight\": \"1938\"}, {\"OMOP_ID\": \"3037522\", \"NPeople\": 637, \"BinLeft\": \"1993\", \"BinRight\": \"1994\"}, {\"OMOP_ID\": \"3037522\", \"NPeople\": 645, \"BinLeft\": \"1991\", \"BinRight\": \"1992\"}, {\"OMOP_ID\": \"3037522\", \"NPeople\": 677, \"BinLeft\": \"1992\", \"BinRight\": \"1993\"}, {\"OMOP_ID\": \"3037522\", \"NPeople\": 729, \"BinLeft\": \"1990\", \"BinRight\": \"1991\"}, {\"OMOP_ID\": \"3037522\", \"NPeople\": 733, \"BinLeft\": \"1986\", \"BinRight\": \"1987\"}, {\"OMOP_ID\": \"3037522\", \"NPeople\": 750, \"BinLeft\": \"1988\", \"BinRight\": \"1989\"}, {\"OMOP_ID\": \"3037522\", \"NPeople\": 759, \"BinLeft\": \"1940\", \"BinRight\": \"1941\"}, {\"OMOP_ID\": \"3037522\", \"NPeople\": 771, \"BinLeft\": \"1987\", \"BinRight\": \"1988\"}, {\"OMOP_ID\": \"3037522\", \"NPeople\": 776, \"BinLeft\": \"1989\", \"BinRight\": \"1990\"}, {\"OMOP_ID\": \"3037522\", \"NPeople\": 807, \"BinLeft\": \"1938\", \"BinRight\": \"1939\"}, {\"OMOP_ID\": \"3037522\", \"NPeople\": 830, \"BinLeft\": \"1985\", \"BinRight\": \"1986\"}, {\"OMOP_ID\": \"3037522\", \"NPeople\": 831, \"BinLeft\": \"1939\", \"BinRight\": \"1940\"}, {\"OMOP_ID\": \"3037522\", \"NPeople\": 832, \"BinLeft\": \"1942\", \"BinRight\": \"1943\"}, {\"OMOP_ID\": \"3037522\", \"NPeople\": 906, \"BinLeft\": \"1984\", \"BinRight\": \"1985\"}, {\"OMOP_ID\": \"3037522\", \"NPeople\": 938, \"BinLeft\": \"1983\", \"BinRight\": \"1984\"}, {\"OMOP_ID\": \"3037522\", \"NPeople\": 966, \"BinLeft\": \"1980\", \"BinRight\": \"1981\"}, {\"OMOP_ID\": \"3037522\", \"NPeople\": 976, \"BinLeft\": \"1981\", \"BinRight\": \"1982\"}, {\"OMOP_ID\": \"3037522\", \"NPeople\": 997, \"BinLeft\": \"1982\", \"BinRight\": \"1983\"}, {\"OMOP_ID\": \"3037522\", \"NPeople\": 1007, \"BinLeft\": \"1973\", \"BinRight\": \"1974\"}, {\"OMOP_ID\": \"3037522\", \"NPeople\": 1028, \"BinLeft\": \"1979\", \"BinRight\": \"1980\"}, {\"OMOP_ID\": \"3037522\", \"NPeople\": 1045, \"BinLeft\": \"1943\", \"BinRight\": \"1944\"}, {\"OMOP_ID\": \"3037522\", \"NPeople\": 1051, \"BinLeft\": \"1978\", \"BinRight\": \"1979\"}, {\"OMOP_ID\": \"3037522\", \"NPeople\": 1090, \"BinLeft\": \"1944\", \"BinRight\": \"1945\"}, {\"OMOP_ID\": \"3037522\", \"NPeople\": 1096, \"BinLeft\": \"1974\", \"BinRight\": \"1975\"}, {\"OMOP_ID\": \"3037522\", \"NPeople\": 1104, \"BinLeft\": \"1975\", \"BinRight\": \"1976\"}, {\"OMOP_ID\": \"3037522\", \"NPeople\": 1139, \"BinLeft\": \"1977\", \"BinRight\": \"1978\"}, {\"OMOP_ID\": \"3037522\", \"NPeople\": 1143, \"BinLeft\": \"1972\", \"BinRight\": \"1973\"}, {\"OMOP_ID\": \"3037522\", \"NPeople\": 1149, \"BinLeft\": \"1976\", \"BinRight\": \"1977\"}, {\"OMOP_ID\": \"3037522\", \"NPeople\": 1153, \"BinLeft\": \"1971\", \"BinRight\": \"1972\"}, {\"OMOP_ID\": \"3037522\", \"NPeople\": 1181, \"BinLeft\": \"1941\", \"BinRight\": \"1942\"}, {\"OMOP_ID\": \"3037522\", \"NPeople\": 1203, \"BinLeft\": \"1970\", \"BinRight\": \"1971\"}, {\"OMOP_ID\": \"3037522\", \"NPeople\": 1312, \"BinLeft\": \"1969\", \"BinRight\": \"1970\"}, {\"OMOP_ID\": \"3037522\", \"NPeople\": 1322, \"BinLeft\": \"1951\", \"BinRight\": \"1952\"}, {\"OMOP_ID\": \"3037522\", \"NPeople\": 1332, \"BinLeft\": \"1953\", \"BinRight\": \"1954\"}, {\"OMOP_ID\": \"3037522\", \"NPeople\": 1366, \"BinLeft\": \"1950\", \"BinRight\": \"1951\"}, {\"OMOP_ID\": \"3037522\", \"NPeople\": 1388, \"BinLeft\": \"1945\", \"BinRight\": \"1946\"}, {\"OMOP_ID\": \"3037522\", \"NPeople\": 1393, \"BinLeft\": \"1968\", \"BinRight\": \"1969\"}, {\"OMOP_ID\": \"3037522\", \"NPeople\": 1395, \"BinLeft\": \"1954\", \"BinRight\": \"1955\"}, {\"OMOP_ID\": \"3037522\", \"NPeople\": 1400, \"BinLeft\": \"1955\", \"BinRight\": \"1956\"}, {\"OMOP_ID\": \"3037522\", \"NPeople\": 1416, \"BinLeft\": \"1957\", \"BinRight\": \"1958\"}, {\"OMOP_ID\": \"3037522\", \"NPeople\": 1425, \"BinLeft\": \"1952\", \"BinRight\": \"1953\"}, {\"OMOP_ID\": \"3037522\", \"NPeople\": 1430, \"BinLeft\": \"1956\", \"BinRight\": \"1957\"}, {\"OMOP_ID\": \"3037522\", \"NPeople\": 1441, \"BinLeft\": \"1958\", \"BinRight\": \"1959\"}, {\"OMOP_ID\": \"3037522\", \"NPeople\": 1447, \"BinLeft\": \"1949\", \"BinRight\": \"1950\"}, {\"OMOP_ID\": \"3037522\", \"NPeople\": 1483, \"BinLeft\": \"1967\", \"BinRight\": \"1968\"}, {\"OMOP_ID\": \"3037522\", \"NPeople\": 1512, \"BinLeft\": \"1948\", \"BinRight\": \"1949\"}, {\"OMOP_ID\": \"3037522\", \"NPeople\": 1525, \"BinLeft\": \"1947\", \"BinRight\": \"1948\"}, {\"OMOP_ID\": \"3037522\", \"NPeople\": 1535, \"BinLeft\": \"1959\", \"BinRight\": \"1960\"}, {\"OMOP_ID\": \"3037522\", \"NPeople\": 1551, \"BinLeft\": \"1946\", \"BinRight\": \"1947\"}, {\"OMOP_ID\": \"3037522\", \"NPeople\": 1556, \"BinLeft\": \"1962\", \"BinRight\": \"1963\"}, {\"OMOP_ID\": \"3037522\", \"NPeople\": 1560, \"BinLeft\": \"1964\", \"BinRight\": \"1965\"}, {\"OMOP_ID\": \"3037522\", \"NPeople\": 1561, \"BinLeft\": \"1966\", \"BinRight\": \"1967\"}, {\"OMOP_ID\": \"3037522\", \"NPeople\": 1576, \"BinLeft\": \"1960\", \"BinRight\": \"1961\"}, {\"OMOP_ID\": \"3037522\", \"NPeople\": 1607, \"BinLeft\": \"1965\", \"BinRight\": \"1966\"}, {\"OMOP_ID\": \"3037522\", \"NPeople\": 1655, \"BinLeft\": \"1961\", \"BinRight\": \"1962\"}, {\"OMOP_ID\": \"3037522\", \"NPeople\": 1679, \"BinLeft\": \"1963\", \"BinRight\": \"1964\"}]}}, {\"mode\": \"vega-lite\"});\n",
       "</script>"
      ],
      "text/plain": [
       "alt.Chart(...)"
      ]
     },
     "metadata": {},
     "output_type": "display_data"
    },
    {
     "data": {
      "text/markdown": [
       "## OMOP ID: 3035995"
      ],
      "text/plain": [
       "<IPython.core.display.Markdown object>"
      ]
     },
     "metadata": {},
     "output_type": "display_data"
    },
    {
     "data": {
      "text/html": [
       "\n",
       "<style>\n",
       "  #altair-viz-22948ce6de8f495daabe0bafa3fd3e9c.vega-embed {\n",
       "    width: 100%;\n",
       "    display: flex;\n",
       "  }\n",
       "\n",
       "  #altair-viz-22948ce6de8f495daabe0bafa3fd3e9c.vega-embed details,\n",
       "  #altair-viz-22948ce6de8f495daabe0bafa3fd3e9c.vega-embed details summary {\n",
       "    position: relative;\n",
       "  }\n",
       "</style>\n",
       "<div id=\"altair-viz-22948ce6de8f495daabe0bafa3fd3e9c\"></div>\n",
       "<script type=\"text/javascript\">\n",
       "  var VEGA_DEBUG = (typeof VEGA_DEBUG == \"undefined\") ? {} : VEGA_DEBUG;\n",
       "  (function(spec, embedOpt){\n",
       "    let outputDiv = document.currentScript.previousElementSibling;\n",
       "    if (outputDiv.id !== \"altair-viz-22948ce6de8f495daabe0bafa3fd3e9c\") {\n",
       "      outputDiv = document.getElementById(\"altair-viz-22948ce6de8f495daabe0bafa3fd3e9c\");\n",
       "    }\n",
       "    const paths = {\n",
       "      \"vega\": \"https://cdn.jsdelivr.net/npm/vega@5?noext\",\n",
       "      \"vega-lib\": \"https://cdn.jsdelivr.net/npm/vega-lib?noext\",\n",
       "      \"vega-lite\": \"https://cdn.jsdelivr.net/npm/vega-lite@5.16.3?noext\",\n",
       "      \"vega-embed\": \"https://cdn.jsdelivr.net/npm/vega-embed@6?noext\",\n",
       "    };\n",
       "\n",
       "    function maybeLoadScript(lib, version) {\n",
       "      var key = `${lib.replace(\"-\", \"\")}_version`;\n",
       "      return (VEGA_DEBUG[key] == version) ?\n",
       "        Promise.resolve(paths[lib]) :\n",
       "        new Promise(function(resolve, reject) {\n",
       "          var s = document.createElement('script');\n",
       "          document.getElementsByTagName(\"head\")[0].appendChild(s);\n",
       "          s.async = true;\n",
       "          s.onload = () => {\n",
       "            VEGA_DEBUG[key] = version;\n",
       "            return resolve(paths[lib]);\n",
       "          };\n",
       "          s.onerror = () => reject(`Error loading script: ${paths[lib]}`);\n",
       "          s.src = paths[lib];\n",
       "        });\n",
       "    }\n",
       "\n",
       "    function showError(err) {\n",
       "      outputDiv.innerHTML = `<div class=\"error\" style=\"color:red;\">${err}</div>`;\n",
       "      throw err;\n",
       "    }\n",
       "\n",
       "    function displayChart(vegaEmbed) {\n",
       "      vegaEmbed(outputDiv, spec, embedOpt)\n",
       "        .catch(err => showError(`Javascript Error: ${err.message}<br>This usually means there's a typo in your chart specification. See the javascript console for the full traceback.`));\n",
       "    }\n",
       "\n",
       "    if(typeof define === \"function\" && define.amd) {\n",
       "      requirejs.config({paths});\n",
       "      require([\"vega-embed\"], displayChart, err => showError(`Error loading script: ${err.message}`));\n",
       "    } else {\n",
       "      maybeLoadScript(\"vega\", \"5\")\n",
       "        .then(() => maybeLoadScript(\"vega-lite\", \"5.16.3\"))\n",
       "        .then(() => maybeLoadScript(\"vega-embed\", \"6\"))\n",
       "        .catch(showError)\n",
       "        .then(() => displayChart(vegaEmbed));\n",
       "    }\n",
       "  })({\"config\": {\"view\": {\"continuousWidth\": 300, \"continuousHeight\": 300}}, \"data\": {\"name\": \"data-985b9dd62acf24d178572232b8709940\"}, \"mark\": {\"type\": \"rect\"}, \"encoding\": {\"x\": {\"field\": \"BinLeft\", \"title\": \"Year of birth\", \"type\": \"temporal\"}, \"x2\": {\"field\": \"BinRight\"}, \"y\": {\"field\": \"NPeople\", \"title\": \"Number of people\", \"type\": \"quantitative\"}}, \"$schema\": \"https://vega.github.io/schema/vega-lite/v5.16.3.json\", \"datasets\": {\"data-985b9dd62acf24d178572232b8709940\": [{\"OMOP_ID\": \"3035995\", \"NPeople\": 8, \"BinLeft\": \"1911\", \"BinRight\": \"1912\"}, {\"OMOP_ID\": \"3035995\", \"NPeople\": 13, \"BinLeft\": \"1912\", \"BinRight\": \"1913\"}, {\"OMOP_ID\": \"3035995\", \"NPeople\": 31, \"BinLeft\": \"1913\", \"BinRight\": \"1914\"}, {\"OMOP_ID\": \"3035995\", \"NPeople\": 59, \"BinLeft\": \"1914\", \"BinRight\": \"1915\"}, {\"OMOP_ID\": \"3035995\", \"NPeople\": 97, \"BinLeft\": \"1915\", \"BinRight\": \"1916\"}, {\"OMOP_ID\": \"3035995\", \"NPeople\": 165, \"BinLeft\": \"1916\", \"BinRight\": \"1917\"}, {\"OMOP_ID\": \"3035995\", \"NPeople\": 275, \"BinLeft\": \"1917\", \"BinRight\": \"1918\"}, {\"OMOP_ID\": \"3035995\", \"NPeople\": 460, \"BinLeft\": \"1918\", \"BinRight\": \"1919\"}, {\"OMOP_ID\": \"3035995\", \"NPeople\": 608, \"BinLeft\": \"1919\", \"BinRight\": \"1920\"}, {\"OMOP_ID\": \"3035995\", \"NPeople\": 1209, \"BinLeft\": \"1920\", \"BinRight\": \"1921\"}, {\"OMOP_ID\": \"3035995\", \"NPeople\": 1773, \"BinLeft\": \"1921\", \"BinRight\": \"1922\"}, {\"OMOP_ID\": \"3035995\", \"NPeople\": 2513, \"BinLeft\": \"1922\", \"BinRight\": \"1923\"}, {\"OMOP_ID\": \"3035995\", \"NPeople\": 3422, \"BinLeft\": \"2018\", \"BinRight\": \"2019\"}, {\"OMOP_ID\": \"3035995\", \"NPeople\": 3569, \"BinLeft\": \"1923\", \"BinRight\": \"1924\"}, {\"OMOP_ID\": \"3035995\", \"NPeople\": 3994, \"BinLeft\": \"2017\", \"BinRight\": \"2018\"}, {\"OMOP_ID\": \"3035995\", \"NPeople\": 3994, \"BinLeft\": \"2019\", \"BinRight\": \"inf\"}, {\"OMOP_ID\": \"3035995\", \"NPeople\": 4094, \"BinLeft\": \"2015\", \"BinRight\": \"2016\"}, {\"OMOP_ID\": \"3035995\", \"NPeople\": 4126, \"BinLeft\": \"2016\", \"BinRight\": \"2017\"}, {\"OMOP_ID\": \"3035995\", \"NPeople\": 4172, \"BinLeft\": \"2014\", \"BinRight\": \"2015\"}, {\"OMOP_ID\": \"3035995\", \"NPeople\": 4429, \"BinLeft\": \"2013\", \"BinRight\": \"2014\"}, {\"OMOP_ID\": \"3035995\", \"NPeople\": 4538, \"BinLeft\": \"2012\", \"BinRight\": \"2013\"}, {\"OMOP_ID\": \"3035995\", \"NPeople\": 4693, \"BinLeft\": \"1924\", \"BinRight\": \"1925\"}, {\"OMOP_ID\": \"3035995\", \"NPeople\": 4922, \"BinLeft\": \"2011\", \"BinRight\": \"2012\"}, {\"OMOP_ID\": \"3035995\", \"NPeople\": 5487, \"BinLeft\": \"2010\", \"BinRight\": \"2011\"}, {\"OMOP_ID\": \"3035995\", \"NPeople\": 6187, \"BinLeft\": \"2009\", \"BinRight\": \"2010\"}, {\"OMOP_ID\": \"3035995\", \"NPeople\": 6243, \"BinLeft\": \"1925\", \"BinRight\": \"1926\"}, {\"OMOP_ID\": \"3035995\", \"NPeople\": 6869, \"BinLeft\": \"2008\", \"BinRight\": \"2009\"}, {\"OMOP_ID\": \"3035995\", \"NPeople\": 7452, \"BinLeft\": \"1926\", \"BinRight\": \"1927\"}, {\"OMOP_ID\": \"3035995\", \"NPeople\": 7777, \"BinLeft\": \"2007\", \"BinRight\": \"2008\"}, {\"OMOP_ID\": \"3035995\", \"NPeople\": 8785, \"BinLeft\": \"2006\", \"BinRight\": \"2007\"}, {\"OMOP_ID\": \"3035995\", \"NPeople\": 9077, \"BinLeft\": \"1927\", \"BinRight\": \"1928\"}, {\"OMOP_ID\": \"3035995\", \"NPeople\": 9544, \"BinLeft\": \"2005\", \"BinRight\": \"2006\"}, {\"OMOP_ID\": \"3035995\", \"NPeople\": 10703, \"BinLeft\": \"2004\", \"BinRight\": \"2005\"}, {\"OMOP_ID\": \"3035995\", \"NPeople\": 11236, \"BinLeft\": \"2003\", \"BinRight\": \"2004\"}, {\"OMOP_ID\": \"3035995\", \"NPeople\": 11346, \"BinLeft\": \"1928\", \"BinRight\": \"1929\"}, {\"OMOP_ID\": \"3035995\", \"NPeople\": 11887, \"BinLeft\": \"2002\", \"BinRight\": \"2003\"}, {\"OMOP_ID\": \"3035995\", \"NPeople\": 12813, \"BinLeft\": \"2001\", \"BinRight\": \"2002\"}, {\"OMOP_ID\": \"3035995\", \"NPeople\": 13108, \"BinLeft\": \"2000\", \"BinRight\": \"2001\"}, {\"OMOP_ID\": \"3035995\", \"NPeople\": 13241, \"BinLeft\": \"1929\", \"BinRight\": \"1930\"}, {\"OMOP_ID\": \"3035995\", \"NPeople\": 13716, \"BinLeft\": \"1998\", \"BinRight\": \"1999\"}, {\"OMOP_ID\": \"3035995\", \"NPeople\": 13846, \"BinLeft\": \"1999\", \"BinRight\": \"2000\"}, {\"OMOP_ID\": \"3035995\", \"NPeople\": 14679, \"BinLeft\": \"1997\", \"BinRight\": \"1998\"}, {\"OMOP_ID\": \"3035995\", \"NPeople\": 15343, \"BinLeft\": \"1996\", \"BinRight\": \"1997\"}, {\"OMOP_ID\": \"3035995\", \"NPeople\": 15518, \"BinLeft\": \"1930\", \"BinRight\": \"1931\"}, {\"OMOP_ID\": \"3035995\", \"NPeople\": 15832, \"BinLeft\": \"1995\", \"BinRight\": \"1996\"}, {\"OMOP_ID\": \"3035995\", \"NPeople\": 16584, \"BinLeft\": \"1931\", \"BinRight\": \"1932\"}, {\"OMOP_ID\": \"3035995\", \"NPeople\": 16839, \"BinLeft\": \"1994\", \"BinRight\": \"1995\"}, {\"OMOP_ID\": \"3035995\", \"NPeople\": 17236, \"BinLeft\": \"1993\", \"BinRight\": \"1994\"}, {\"OMOP_ID\": \"3035995\", \"NPeople\": 17424, \"BinLeft\": \"1987\", \"BinRight\": \"1988\"}, {\"OMOP_ID\": \"3035995\", \"NPeople\": 17715, \"BinLeft\": \"1932\", \"BinRight\": \"1933\"}, {\"OMOP_ID\": \"3035995\", \"NPeople\": 17789, \"BinLeft\": \"1991\", \"BinRight\": \"1992\"}, {\"OMOP_ID\": \"3035995\", \"NPeople\": 17877, \"BinLeft\": \"1992\", \"BinRight\": \"1993\"}, {\"OMOP_ID\": \"3035995\", \"NPeople\": 18011, \"BinLeft\": \"1989\", \"BinRight\": \"1990\"}, {\"OMOP_ID\": \"3035995\", \"NPeople\": 18240, \"BinLeft\": \"1933\", \"BinRight\": \"1934\"}, {\"OMOP_ID\": \"3035995\", \"NPeople\": 18320, \"BinLeft\": \"1990\", \"BinRight\": \"1991\"}, {\"OMOP_ID\": \"3035995\", \"NPeople\": 18350, \"BinLeft\": \"1986\", \"BinRight\": \"1987\"}, {\"OMOP_ID\": \"3035995\", \"NPeople\": 18357, \"BinLeft\": \"1988\", \"BinRight\": \"1989\"}, {\"OMOP_ID\": \"3035995\", \"NPeople\": 19164, \"BinLeft\": \"1985\", \"BinRight\": \"1986\"}, {\"OMOP_ID\": \"3035995\", \"NPeople\": 19960, \"BinLeft\": \"1973\", \"BinRight\": \"1974\"}, {\"OMOP_ID\": \"3035995\", \"NPeople\": 20001, \"BinLeft\": \"1984\", \"BinRight\": \"1985\"}, {\"OMOP_ID\": \"3035995\", \"NPeople\": 20198, \"BinLeft\": \"1981\", \"BinRight\": \"1982\"}, {\"OMOP_ID\": \"3035995\", \"NPeople\": 20347, \"BinLeft\": \"1934\", \"BinRight\": \"1935\"}, {\"OMOP_ID\": \"3035995\", \"NPeople\": 20358, \"BinLeft\": \"1980\", \"BinRight\": \"1981\"}, {\"OMOP_ID\": \"3035995\", \"NPeople\": 20642, \"BinLeft\": \"1979\", \"BinRight\": \"1980\"}, {\"OMOP_ID\": \"3035995\", \"NPeople\": 20684, \"BinLeft\": \"1983\", \"BinRight\": \"1984\"}, {\"OMOP_ID\": \"3035995\", \"NPeople\": 20852, \"BinLeft\": \"1978\", \"BinRight\": \"1979\"}, {\"OMOP_ID\": \"3035995\", \"NPeople\": 20924, \"BinLeft\": \"1972\", \"BinRight\": \"1973\"}, {\"OMOP_ID\": \"3035995\", \"NPeople\": 21016, \"BinLeft\": \"1982\", \"BinRight\": \"1983\"}, {\"OMOP_ID\": \"3035995\", \"NPeople\": 21365, \"BinLeft\": \"1974\", \"BinRight\": \"1975\"}, {\"OMOP_ID\": \"3035995\", \"NPeople\": 21676, \"BinLeft\": \"1977\", \"BinRight\": \"1978\"}, {\"OMOP_ID\": \"3035995\", \"NPeople\": 22157, \"BinLeft\": \"1975\", \"BinRight\": \"1976\"}, {\"OMOP_ID\": \"3035995\", \"NPeople\": 22193, \"BinLeft\": \"1976\", \"BinRight\": \"1977\"}, {\"OMOP_ID\": \"3035995\", \"NPeople\": 22286, \"BinLeft\": \"1971\", \"BinRight\": \"1972\"}, {\"OMOP_ID\": \"3035995\", \"NPeople\": 22539, \"BinLeft\": \"1935\", \"BinRight\": \"1936\"}, {\"OMOP_ID\": \"3035995\", \"NPeople\": 23319, \"BinLeft\": \"1936\", \"BinRight\": \"1937\"}, {\"OMOP_ID\": \"3035995\", \"NPeople\": 23640, \"BinLeft\": \"1970\", \"BinRight\": \"1971\"}, {\"OMOP_ID\": \"3035995\", \"NPeople\": 24574, \"BinLeft\": \"1969\", \"BinRight\": \"1970\"}, {\"OMOP_ID\": \"3035995\", \"NPeople\": 24623, \"BinLeft\": \"1942\", \"BinRight\": \"1943\"}, {\"OMOP_ID\": \"3035995\", \"NPeople\": 25244, \"BinLeft\": \"1937\", \"BinRight\": \"1938\"}, {\"OMOP_ID\": \"3035995\", \"NPeople\": 25267, \"BinLeft\": \"1940\", \"BinRight\": \"1941\"}, {\"OMOP_ID\": \"3035995\", \"NPeople\": 26911, \"BinLeft\": \"1968\", \"BinRight\": \"1969\"}, {\"OMOP_ID\": \"3035995\", \"NPeople\": 27846, \"BinLeft\": \"1938\", \"BinRight\": \"1939\"}, {\"OMOP_ID\": \"3035995\", \"NPeople\": 28667, \"BinLeft\": \"1967\", \"BinRight\": \"1968\"}, {\"OMOP_ID\": \"3035995\", \"NPeople\": 28900, \"BinLeft\": \"1939\", \"BinRight\": \"1940\"}, {\"OMOP_ID\": \"3035995\", \"NPeople\": 29072, \"BinLeft\": \"1966\", \"BinRight\": \"1967\"}, {\"OMOP_ID\": \"3035995\", \"NPeople\": 29802, \"BinLeft\": \"1965\", \"BinRight\": \"1966\"}, {\"OMOP_ID\": \"3035995\", \"NPeople\": 30803, \"BinLeft\": \"1943\", \"BinRight\": \"1944\"}, {\"OMOP_ID\": \"3035995\", \"NPeople\": 30890, \"BinLeft\": \"1964\", \"BinRight\": \"1965\"}, {\"OMOP_ID\": \"3035995\", \"NPeople\": 31701, \"BinLeft\": \"1963\", \"BinRight\": \"1964\"}, {\"OMOP_ID\": \"3035995\", \"NPeople\": 32107, \"BinLeft\": \"1944\", \"BinRight\": \"1945\"}, {\"OMOP_ID\": \"3035995\", \"NPeople\": 32423, \"BinLeft\": \"1962\", \"BinRight\": \"1963\"}, {\"OMOP_ID\": \"3035995\", \"NPeople\": 32891, \"BinLeft\": \"1961\", \"BinRight\": \"1962\"}, {\"OMOP_ID\": \"3035995\", \"NPeople\": 33328, \"BinLeft\": \"1960\", \"BinRight\": \"1961\"}, {\"OMOP_ID\": \"3035995\", \"NPeople\": 33378, \"BinLeft\": \"1958\", \"BinRight\": \"1959\"}, {\"OMOP_ID\": \"3035995\", \"NPeople\": 33821, \"BinLeft\": \"1959\", \"BinRight\": \"1960\"}, {\"OMOP_ID\": \"3035995\", \"NPeople\": 35593, \"BinLeft\": \"1957\", \"BinRight\": \"1958\"}, {\"OMOP_ID\": \"3035995\", \"NPeople\": 36082, \"BinLeft\": \"1941\", \"BinRight\": \"1942\"}, {\"OMOP_ID\": \"3035995\", \"NPeople\": 37034, \"BinLeft\": \"1956\", \"BinRight\": \"1957\"}, {\"OMOP_ID\": \"3035995\", \"NPeople\": 37335, \"BinLeft\": \"1955\", \"BinRight\": \"1956\"}, {\"OMOP_ID\": \"3035995\", \"NPeople\": 37694, \"BinLeft\": \"1954\", \"BinRight\": \"1955\"}, {\"OMOP_ID\": \"3035995\", \"NPeople\": 37791, \"BinLeft\": \"1953\", \"BinRight\": \"1954\"}, {\"OMOP_ID\": \"3035995\", \"NPeople\": 38920, \"BinLeft\": \"1951\", \"BinRight\": \"1952\"}, {\"OMOP_ID\": \"3035995\", \"NPeople\": 39560, \"BinLeft\": \"1945\", \"BinRight\": \"1946\"}, {\"OMOP_ID\": \"3035995\", \"NPeople\": 39842, \"BinLeft\": \"1952\", \"BinRight\": \"1953\"}, {\"OMOP_ID\": \"3035995\", \"NPeople\": 40978, \"BinLeft\": \"1950\", \"BinRight\": \"1951\"}, {\"OMOP_ID\": \"3035995\", \"NPeople\": 43041, \"BinLeft\": \"1949\", \"BinRight\": \"1950\"}, {\"OMOP_ID\": \"3035995\", \"NPeople\": 44125, \"BinLeft\": \"1946\", \"BinRight\": \"1947\"}, {\"OMOP_ID\": \"3035995\", \"NPeople\": 44285, \"BinLeft\": \"1948\", \"BinRight\": \"1949\"}, {\"OMOP_ID\": \"3035995\", \"NPeople\": 44665, \"BinLeft\": \"1947\", \"BinRight\": \"1948\"}]}}, {\"mode\": \"vega-lite\"});\n",
       "</script>"
      ],
      "text/plain": [
       "alt.Chart(...)"
      ]
     },
     "metadata": {},
     "output_type": "display_data"
    }
   ],
   "source": [
    "for omop_id in omop_ids:\n",
    "    display(Markdown(f\"## OMOP ID: {omop_id}\"))\n",
    "\n",
    "    plot_data = dataf.filter(pl.col(\"OMOP_ID\") == omop_id)\n",
    "    \n",
    "    display(\n",
    "        alt.Chart(plot_data)\n",
    "        .mark_rect()\n",
    "        .encode(\n",
    "            alt.X(\"BinLeft:T\").title(\"Year of birth\"),\n",
    "            alt.X2(\"BinRight:T\"),\n",
    "            alt.Y(\"NPeople\").title(\"Number of people\")\n",
    "        )\n",
    "    )"
   ]
  }
 ],
 "metadata": {
  "kernelspec": {
   "display_name": "Python 3 (ipykernel)",
   "language": "python",
   "name": "python3"
  },
  "language_info": {
   "codemirror_mode": {
    "name": "ipython",
    "version": 3
   },
   "file_extension": ".py",
   "mimetype": "text/x-python",
   "name": "python",
   "nbconvert_exporter": "python",
   "pygments_lexer": "ipython3",
   "version": "3.12.1"
  }
 },
 "nbformat": 4,
 "nbformat_minor": 5
}
