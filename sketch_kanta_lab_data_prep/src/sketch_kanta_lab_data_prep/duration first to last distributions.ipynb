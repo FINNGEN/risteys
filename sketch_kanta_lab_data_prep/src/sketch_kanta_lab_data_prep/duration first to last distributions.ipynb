{
 "cells": [
  {
   "cell_type": "markdown",
   "id": "5f7de98f-e444-43c0-9168-5d55ee396c3a",
   "metadata": {},
   "source": [
    "# Distribution duration first- to last-measuremens"
   ]
  },
  {
   "cell_type": "code",
   "execution_count": 1,
   "id": "bf824390-5c76-4e97-840d-f63ff9dcf4c1",
   "metadata": {},
   "outputs": [],
   "source": [
    "from pathlib import Path\n",
    "\n",
    "import altair as alt\n",
    "import polars as pl\n",
    "from IPython.display import display, Markdown\n",
    "\n",
    "import plotting"
   ]
  },
  {
   "cell_type": "code",
   "execution_count": 2,
   "id": "3a5a6fcb-b99e-4042-8886-7fcaf4ca0511",
   "metadata": {},
   "outputs": [],
   "source": [
    "file = \"/Users/vllorens/data/fimm/finregistry-kanta-lab-values/risteys/stats_duration_first_to_last_distribution__sorted.csv\""
   ]
  },
  {
   "cell_type": "code",
   "execution_count": 29,
   "id": "e65a034b-b94e-46f4-8971-70922d46be64",
   "metadata": {},
   "outputs": [],
   "source": [
    "n_days_in_a_year = 365.25\n",
    "\n",
    "dataf = (\n",
    "    pl.read_csv(\n",
    "        file,\n",
    "        dtypes={\"OMOP_ID\": pl.String}\n",
    "    )\n",
    "    .pipe(plotting.extract_bin_left_right, column_bin=\"Bin\")\n",
    "    .select(\n",
    "        pl.col(\"OMOP_ID\"),\n",
    "        (pl.col(\"BinLeft\").cast(pl.Float64) / n_days_in_a_year).alias(\"BinLeft_years\"),\n",
    "        (pl.col(\"BinRight\").cast(pl.Float64) / n_days_in_a_year).alias(\"BinRight_years\"),\n",
    "        pl.col(\"NPeople\")\n",
    "    )\n",
    ")"
   ]
  },
  {
   "cell_type": "code",
   "execution_count": 30,
   "id": "0333a4b5-7bf0-4b3d-be0a-3a2f3d4ceb77",
   "metadata": {},
   "outputs": [
    {
     "data": {
      "text/html": [
       "<div><style>\n",
       ".dataframe > thead > tr,\n",
       ".dataframe > tbody > tr {\n",
       "  text-align: right;\n",
       "  white-space: pre-wrap;\n",
       "}\n",
       "</style>\n",
       "<small>shape: (303, 4)</small><table border=\"1\" class=\"dataframe\"><thead><tr><th>OMOP_ID</th><th>BinLeft_years</th><th>BinRight_years</th><th>NPeople</th></tr><tr><td>str</td><td>f64</td><td>f64</td><td>i64</td></tr></thead><tbody><tr><td>&quot;3037522&quot;</td><td>4.892567</td><td>4.943895</td><td>21</td></tr><tr><td>&quot;3037522&quot;</td><td>4.995223</td><td>5.04655</td><td>22</td></tr><tr><td>&quot;3037522&quot;</td><td>5.04655</td><td>5.097878</td><td>29</td></tr><tr><td>&quot;3037522&quot;</td><td>4.738584</td><td>4.789911</td><td>30</td></tr><tr><td>&quot;3037522&quot;</td><td>4.5846</td><td>4.635928</td><td>31</td></tr><tr><td>&hellip;</td><td>&hellip;</td><td>&hellip;</td><td>&hellip;</td></tr><tr><td>&quot;3035995&quot;</td><td>0.03833</td><td>0.10661</td><td>38155</td></tr><tr><td>&quot;3035995&quot;</td><td>-inf</td><td>0.03833</td><td>57558</td></tr><tr><td>&quot;3035995&quot;</td><td>6.798084</td><td>inf</td><td>59626</td></tr><tr><td>&quot;3020564&quot;</td><td>-inf</td><td>0.19165</td><td>147785</td></tr><tr><td>&quot;3020564&quot;</td><td>7.564682</td><td>inf</td><td>147888</td></tr></tbody></table></div>"
      ],
      "text/plain": [
       "shape: (303, 4)\n",
       "┌─────────┬───────────────┬────────────────┬─────────┐\n",
       "│ OMOP_ID ┆ BinLeft_years ┆ BinRight_years ┆ NPeople │\n",
       "│ ---     ┆ ---           ┆ ---            ┆ ---     │\n",
       "│ str     ┆ f64           ┆ f64            ┆ i64     │\n",
       "╞═════════╪═══════════════╪════════════════╪═════════╡\n",
       "│ 3037522 ┆ 4.892567      ┆ 4.943895       ┆ 21      │\n",
       "│ 3037522 ┆ 4.995223      ┆ 5.04655        ┆ 22      │\n",
       "│ 3037522 ┆ 5.04655       ┆ 5.097878       ┆ 29      │\n",
       "│ 3037522 ┆ 4.738584      ┆ 4.789911       ┆ 30      │\n",
       "│ 3037522 ┆ 4.5846        ┆ 4.635928       ┆ 31      │\n",
       "│ …       ┆ …             ┆ …              ┆ …       │\n",
       "│ 3035995 ┆ 0.03833       ┆ 0.10661        ┆ 38155   │\n",
       "│ 3035995 ┆ -inf          ┆ 0.03833        ┆ 57558   │\n",
       "│ 3035995 ┆ 6.798084      ┆ inf            ┆ 59626   │\n",
       "│ 3020564 ┆ -inf          ┆ 0.19165        ┆ 147785  │\n",
       "│ 3020564 ┆ 7.564682      ┆ inf            ┆ 147888  │\n",
       "└─────────┴───────────────┴────────────────┴─────────┘"
      ]
     },
     "execution_count": 30,
     "metadata": {},
     "output_type": "execute_result"
    }
   ],
   "source": [
    "dataf"
   ]
  },
  {
   "cell_type": "code",
   "execution_count": 31,
   "id": "b7e6f1af-3647-43dc-a255-c8e3bff528b2",
   "metadata": {},
   "outputs": [],
   "source": [
    "omop_ids = dataf.get_column(\"OMOP_ID\").unique()"
   ]
  },
  {
   "cell_type": "code",
   "execution_count": 34,
   "id": "26e7261a-1490-4e15-9b26-c559f4a4e5f2",
   "metadata": {},
   "outputs": [
    {
     "data": {
      "text/markdown": [
       "## OMOP ID: 3035995"
      ],
      "text/plain": [
       "<IPython.core.display.Markdown object>"
      ]
     },
     "metadata": {},
     "output_type": "display_data"
    },
    {
     "data": {
      "text/html": [
       "\n",
       "<style>\n",
       "  #altair-viz-05628b66514244018c7e7970d0332548.vega-embed {\n",
       "    width: 100%;\n",
       "    display: flex;\n",
       "  }\n",
       "\n",
       "  #altair-viz-05628b66514244018c7e7970d0332548.vega-embed details,\n",
       "  #altair-viz-05628b66514244018c7e7970d0332548.vega-embed details summary {\n",
       "    position: relative;\n",
       "  }\n",
       "</style>\n",
       "<div id=\"altair-viz-05628b66514244018c7e7970d0332548\"></div>\n",
       "<script type=\"text/javascript\">\n",
       "  var VEGA_DEBUG = (typeof VEGA_DEBUG == \"undefined\") ? {} : VEGA_DEBUG;\n",
       "  (function(spec, embedOpt){\n",
       "    let outputDiv = document.currentScript.previousElementSibling;\n",
       "    if (outputDiv.id !== \"altair-viz-05628b66514244018c7e7970d0332548\") {\n",
       "      outputDiv = document.getElementById(\"altair-viz-05628b66514244018c7e7970d0332548\");\n",
       "    }\n",
       "    const paths = {\n",
       "      \"vega\": \"https://cdn.jsdelivr.net/npm/vega@5?noext\",\n",
       "      \"vega-lib\": \"https://cdn.jsdelivr.net/npm/vega-lib?noext\",\n",
       "      \"vega-lite\": \"https://cdn.jsdelivr.net/npm/vega-lite@5.16.3?noext\",\n",
       "      \"vega-embed\": \"https://cdn.jsdelivr.net/npm/vega-embed@6?noext\",\n",
       "    };\n",
       "\n",
       "    function maybeLoadScript(lib, version) {\n",
       "      var key = `${lib.replace(\"-\", \"\")}_version`;\n",
       "      return (VEGA_DEBUG[key] == version) ?\n",
       "        Promise.resolve(paths[lib]) :\n",
       "        new Promise(function(resolve, reject) {\n",
       "          var s = document.createElement('script');\n",
       "          document.getElementsByTagName(\"head\")[0].appendChild(s);\n",
       "          s.async = true;\n",
       "          s.onload = () => {\n",
       "            VEGA_DEBUG[key] = version;\n",
       "            return resolve(paths[lib]);\n",
       "          };\n",
       "          s.onerror = () => reject(`Error loading script: ${paths[lib]}`);\n",
       "          s.src = paths[lib];\n",
       "        });\n",
       "    }\n",
       "\n",
       "    function showError(err) {\n",
       "      outputDiv.innerHTML = `<div class=\"error\" style=\"color:red;\">${err}</div>`;\n",
       "      throw err;\n",
       "    }\n",
       "\n",
       "    function displayChart(vegaEmbed) {\n",
       "      vegaEmbed(outputDiv, spec, embedOpt)\n",
       "        .catch(err => showError(`Javascript Error: ${err.message}<br>This usually means there's a typo in your chart specification. See the javascript console for the full traceback.`));\n",
       "    }\n",
       "\n",
       "    if(typeof define === \"function\" && define.amd) {\n",
       "      requirejs.config({paths});\n",
       "      require([\"vega-embed\"], displayChart, err => showError(`Error loading script: ${err.message}`));\n",
       "    } else {\n",
       "      maybeLoadScript(\"vega\", \"5\")\n",
       "        .then(() => maybeLoadScript(\"vega-lite\", \"5.16.3\"))\n",
       "        .then(() => maybeLoadScript(\"vega-embed\", \"6\"))\n",
       "        .catch(showError)\n",
       "        .then(() => displayChart(vegaEmbed));\n",
       "    }\n",
       "  })({\"config\": {\"view\": {\"continuousWidth\": 300, \"continuousHeight\": 300}}, \"data\": {\"name\": \"data-927ff44f0cbc8733b6200b3166ca8d91\"}, \"mark\": {\"type\": \"rect\"}, \"encoding\": {\"x\": {\"field\": \"BinLeft_years\", \"title\": \"Duration from first to last measurement (years)\", \"type\": \"quantitative\"}, \"x2\": {\"field\": \"BinRight_years\"}, \"y\": {\"field\": \"NPeople\", \"title\": \"Number of people\", \"type\": \"quantitative\"}}, \"$schema\": \"https://vega.github.io/schema/vega-lite/v5.16.3.json\", \"datasets\": {\"data-927ff44f0cbc8733b6200b3166ca8d91\": [{\"OMOP_ID\": \"3035995\", \"BinLeft_years\": 6.72980316512144, \"BinRight_years\": 6.798083504449007, \"NPeople\": 3534}, {\"OMOP_ID\": \"3035995\", \"BinLeft_years\": 6.661522825793873, \"BinRight_years\": 6.72980316512144, \"NPeople\": 3882}, {\"OMOP_ID\": \"3035995\", \"BinLeft_years\": 6.5932424864663055, \"BinRight_years\": 6.661522825793873, \"NPeople\": 4150}, {\"OMOP_ID\": \"3035995\", \"BinLeft_years\": 6.524962147138738, \"BinRight_years\": 6.5932424864663055, \"NPeople\": 4935}, {\"OMOP_ID\": \"3035995\", \"BinLeft_years\": 6.4566818078111705, \"BinRight_years\": 6.524962147138738, \"NPeople\": 4973}, {\"OMOP_ID\": \"3035995\", \"BinLeft_years\": 6.388401468483603, \"BinRight_years\": 6.4566818078111705, \"NPeople\": 5115}, {\"OMOP_ID\": \"3035995\", \"BinLeft_years\": 6.25184078982847, \"BinRight_years\": 6.3201211291560355, \"NPeople\": 5218}, {\"OMOP_ID\": \"3035995\", \"BinLeft_years\": 6.3201211291560355, \"BinRight_years\": 6.388401468483603, \"NPeople\": 5328}, {\"OMOP_ID\": \"3035995\", \"BinLeft_years\": 6.115280111173335, \"BinRight_years\": 6.183560450500902, \"NPeople\": 5434}, {\"OMOP_ID\": \"3035995\", \"BinLeft_years\": 6.183560450500902, \"BinRight_years\": 6.25184078982847, \"NPeople\": 5453}, {\"OMOP_ID\": \"3035995\", \"BinLeft_years\": 6.046999771845767, \"BinRight_years\": 6.115280111173335, \"NPeople\": 5992}, {\"OMOP_ID\": \"3035995\", \"BinLeft_years\": 5.910439093190632, \"BinRight_years\": 5.9787194325182, \"NPeople\": 5997}, {\"OMOP_ID\": \"3035995\", \"BinLeft_years\": 5.773878414535499, \"BinRight_years\": 5.842158753863065, \"NPeople\": 6065}, {\"OMOP_ID\": \"3035995\", \"BinLeft_years\": 5.9787194325182, \"BinRight_years\": 6.046999771845767, \"NPeople\": 6071}, {\"OMOP_ID\": \"3035995\", \"BinLeft_years\": 5.842158753863065, \"BinRight_years\": 5.910439093190632, \"NPeople\": 6096}, {\"OMOP_ID\": \"3035995\", \"BinLeft_years\": 5.637317735880364, \"BinRight_years\": 5.705598075207932, \"NPeople\": 6219}, {\"OMOP_ID\": \"3035995\", \"BinLeft_years\": 5.705598075207932, \"BinRight_years\": 5.773878414535499, \"NPeople\": 6422}, {\"OMOP_ID\": \"3035995\", \"BinLeft_years\": 5.500757057225229, \"BinRight_years\": 5.569037396552797, \"NPeople\": 6713}, {\"OMOP_ID\": \"3035995\", \"BinLeft_years\": 5.569037396552797, \"BinRight_years\": 5.637317735880364, \"NPeople\": 6829}, {\"OMOP_ID\": \"3035995\", \"BinLeft_years\": 5.364196378570094, \"BinRight_years\": 5.432476717897662, \"NPeople\": 6874}, {\"OMOP_ID\": \"3035995\", \"BinLeft_years\": 5.2959160392425275, \"BinRight_years\": 5.364196378570094, \"NPeople\": 7089}, {\"OMOP_ID\": \"3035995\", \"BinLeft_years\": 5.432476717897662, \"BinRight_years\": 5.500757057225229, \"NPeople\": 7199}, {\"OMOP_ID\": \"3035995\", \"BinLeft_years\": 5.22763569991496, \"BinRight_years\": 5.2959160392425275, \"NPeople\": 7310}, {\"OMOP_ID\": \"3035995\", \"BinLeft_years\": 5.1593553605873925, \"BinRight_years\": 5.22763569991496, \"NPeople\": 7378}, {\"OMOP_ID\": \"3035995\", \"BinLeft_years\": 5.022794681932258, \"BinRight_years\": 5.091075021259826, \"NPeople\": 7961}, {\"OMOP_ID\": \"3035995\", \"BinLeft_years\": 5.091075021259826, \"BinRight_years\": 5.1593553605873925, \"NPeople\": 8014}, {\"OMOP_ID\": \"3035995\", \"BinLeft_years\": 4.817953663949557, \"BinRight_years\": 4.886234003277123, \"NPeople\": 8195}, {\"OMOP_ID\": \"3035995\", \"BinLeft_years\": 4.886234003277123, \"BinRight_years\": 4.954514342604691, \"NPeople\": 8295}, {\"OMOP_ID\": \"3035995\", \"BinLeft_years\": 4.954514342604691, \"BinRight_years\": 5.022794681932258, \"NPeople\": 8419}, {\"OMOP_ID\": \"3035995\", \"BinLeft_years\": 4.681392985294423, \"BinRight_years\": 4.749673324621989, \"NPeople\": 8564}, {\"OMOP_ID\": \"3035995\", \"BinLeft_years\": 4.749673324621989, \"BinRight_years\": 4.817953663949557, \"NPeople\": 8728}, {\"OMOP_ID\": \"3035995\", \"BinLeft_years\": 4.544832306639288, \"BinRight_years\": 4.613112645966855, \"NPeople\": 8763}, {\"OMOP_ID\": \"3035995\", \"BinLeft_years\": 4.613112645966855, \"BinRight_years\": 4.681392985294423, \"NPeople\": 8884}, {\"OMOP_ID\": \"3035995\", \"BinLeft_years\": 4.408271627984154, \"BinRight_years\": 4.476551967311721, \"NPeople\": 9003}, {\"OMOP_ID\": \"3035995\", \"BinLeft_years\": 4.339991288656586, \"BinRight_years\": 4.408271627984154, \"NPeople\": 9030}, {\"OMOP_ID\": \"3035995\", \"BinLeft_years\": 4.476551967311721, \"BinRight_years\": 4.544832306639288, \"NPeople\": 9084}, {\"OMOP_ID\": \"3035995\", \"BinLeft_years\": 4.271710949329019, \"BinRight_years\": 4.339991288656586, \"NPeople\": 9189}, {\"OMOP_ID\": \"3035995\", \"BinLeft_years\": 4.203430610001452, \"BinRight_years\": 4.271710949329019, \"NPeople\": 9593}, {\"OMOP_ID\": \"3035995\", \"BinLeft_years\": 4.1351502706738845, \"BinRight_years\": 4.203430610001452, \"NPeople\": 9665}, {\"OMOP_ID\": \"3035995\", \"BinLeft_years\": 4.066869931346317, \"BinRight_years\": 4.1351502706738845, \"NPeople\": 9807}, {\"OMOP_ID\": \"3035995\", \"BinLeft_years\": 3.793748574036048, \"BinRight_years\": 3.8620289133636154, \"NPeople\": 9998}, {\"OMOP_ID\": \"3035995\", \"BinLeft_years\": 3.930309252691183, \"BinRight_years\": 3.99858959201875, \"NPeople\": 10005}, {\"OMOP_ID\": \"3035995\", \"BinLeft_years\": 3.8620289133636154, \"BinRight_years\": 3.930309252691183, \"NPeople\": 10092}, {\"OMOP_ID\": \"3035995\", \"BinLeft_years\": 3.5889075560533463, \"BinRight_years\": 3.657187895380914, \"NPeople\": 10098}, {\"OMOP_ID\": \"3035995\", \"BinLeft_years\": 3.7254682347084804, \"BinRight_years\": 3.793748574036048, \"NPeople\": 10105}, {\"OMOP_ID\": \"3035995\", \"BinLeft_years\": 3.657187895380914, \"BinRight_years\": 3.7254682347084804, \"NPeople\": 10285}, {\"OMOP_ID\": \"3035995\", \"BinLeft_years\": 3.3157861987430772, \"BinRight_years\": 3.3840665380706447, \"NPeople\": 10353}, {\"OMOP_ID\": \"3035995\", \"BinLeft_years\": 3.452346877398212, \"BinRight_years\": 3.520627216725779, \"NPeople\": 10422}, {\"OMOP_ID\": \"3035995\", \"BinLeft_years\": 3.3840665380706447, \"BinRight_years\": 3.452346877398212, \"NPeople\": 10428}, {\"OMOP_ID\": \"3035995\", \"BinLeft_years\": 3.99858959201875, \"BinRight_years\": 4.066869931346317, \"NPeople\": 10609}, {\"OMOP_ID\": \"3035995\", \"BinLeft_years\": 3.520627216725779, \"BinRight_years\": 3.5889075560533463, \"NPeople\": 10702}, {\"OMOP_ID\": \"3035995\", \"BinLeft_years\": 2.632982805467405, \"BinRight_years\": 2.701263144794972, \"NPeople\": 10865}, {\"OMOP_ID\": \"3035995\", \"BinLeft_years\": 2.359861448157136, \"BinRight_years\": 2.428141787484703, \"NPeople\": 10911}, {\"OMOP_ID\": \"3035995\", \"BinLeft_years\": 3.1792255200879427, \"BinRight_years\": 3.2475058594155097, \"NPeople\": 10924}, {\"OMOP_ID\": \"3035995\", \"BinLeft_years\": 2.8378238234501065, \"BinRight_years\": 2.906104162777674, \"NPeople\": 10999}, {\"OMOP_ID\": \"3035995\", \"BinLeft_years\": 3.2475058594155097, \"BinRight_years\": 3.3157861987430772, \"NPeople\": 11007}, {\"OMOP_ID\": \"3035995\", \"BinLeft_years\": 2.7695434841225395, \"BinRight_years\": 2.8378238234501065, \"NPeople\": 11026}, {\"OMOP_ID\": \"3035995\", \"BinLeft_years\": 2.4964221268122704, \"BinRight_years\": 2.564702466139838, \"NPeople\": 11051}, {\"OMOP_ID\": \"3035995\", \"BinLeft_years\": 2.2233007695020013, \"BinRight_years\": 2.291581108829569, \"NPeople\": 11071}, {\"OMOP_ID\": \"3035995\", \"BinLeft_years\": 2.564702466139838, \"BinRight_years\": 2.632982805467405, \"NPeople\": 11143}, {\"OMOP_ID\": \"3035995\", \"BinLeft_years\": 2.701263144794972, \"BinRight_years\": 2.7695434841225395, \"NPeople\": 11231}, {\"OMOP_ID\": \"3035995\", \"BinLeft_years\": 3.1109451807603756, \"BinRight_years\": 3.1792255200879427, \"NPeople\": 11263}, {\"OMOP_ID\": \"3035995\", \"BinLeft_years\": 1.7453383942090308, \"BinRight_years\": 1.8136187335365979, \"NPeople\": 11422}, {\"OMOP_ID\": \"3035995\", \"BinLeft_years\": 2.428141787484703, \"BinRight_years\": 2.4964221268122704, \"NPeople\": 11428}, {\"OMOP_ID\": \"3035995\", \"BinLeft_years\": 2.291581108829569, \"BinRight_years\": 2.359861448157136, \"NPeople\": 11526}, {\"OMOP_ID\": \"3035995\", \"BinLeft_years\": 1.6770580548814633, \"BinRight_years\": 1.7453383942090308, \"NPeople\": 11828}, {\"OMOP_ID\": \"3035995\", \"BinLeft_years\": 1.608777715553896, \"BinRight_years\": 1.6770580548814633, \"NPeople\": 11914}, {\"OMOP_ID\": \"3035995\", \"BinLeft_years\": 3.042664841432808, \"BinRight_years\": 3.1109451807603756, \"NPeople\": 11954}, {\"OMOP_ID\": \"3035995\", \"BinLeft_years\": 1.8136187335365979, \"BinRight_years\": 1.881899072864165, \"NPeople\": 11966}, {\"OMOP_ID\": \"3035995\", \"BinLeft_years\": 1.5404973762263288, \"BinRight_years\": 1.608777715553896, \"NPeople\": 12115}, {\"OMOP_ID\": \"3035995\", \"BinLeft_years\": 2.906104162777674, \"BinRight_years\": 2.974384502105241, \"NPeople\": 12131}, {\"OMOP_ID\": \"3035995\", \"BinLeft_years\": 2.155020430174434, \"BinRight_years\": 2.2233007695020013, \"NPeople\": 12132}, {\"OMOP_ID\": \"3035995\", \"BinLeft_years\": 1.881899072864165, \"BinRight_years\": 1.9501794121917324, \"NPeople\": 12162}, {\"OMOP_ID\": \"3035995\", \"BinLeft_years\": 1.4039366975711944, \"BinRight_years\": 1.4722170368987617, \"NPeople\": 12204}, {\"OMOP_ID\": \"3035995\", \"BinLeft_years\": 1.2673760189160599, \"BinRight_years\": 1.3356563582436272, \"NPeople\": 12292}, {\"OMOP_ID\": \"3035995\", \"BinLeft_years\": 1.3356563582436272, \"BinRight_years\": 1.4039366975711944, \"NPeople\": 12430}, {\"OMOP_ID\": \"3035995\", \"BinLeft_years\": 2.974384502105241, \"BinRight_years\": 3.042664841432808, \"NPeople\": 12471}, {\"OMOP_ID\": \"3035995\", \"BinLeft_years\": 1.4722170368987617, \"BinRight_years\": 1.5404973762263288, \"NPeople\": 12548}, {\"OMOP_ID\": \"3035995\", \"BinLeft_years\": 2.0867400908468667, \"BinRight_years\": 2.155020430174434, \"NPeople\": 12588}, {\"OMOP_ID\": \"3035995\", \"BinLeft_years\": 1.1308153402609253, \"BinRight_years\": 1.1990956795884926, \"NPeople\": 12807}, {\"OMOP_ID\": \"3035995\", \"BinLeft_years\": 1.1990956795884926, \"BinRight_years\": 1.2673760189160599, \"NPeople\": 13189}, {\"OMOP_ID\": \"3035995\", \"BinLeft_years\": 0.7894136436230892, \"BinRight_years\": 0.8576939829506564, \"NPeople\": 13740}, {\"OMOP_ID\": \"3035995\", \"BinLeft_years\": 2.0184597515192997, \"BinRight_years\": 2.0867400908468667, \"NPeople\": 13965}, {\"OMOP_ID\": \"3035995\", \"BinLeft_years\": 0.6528529649679546, \"BinRight_years\": 0.7211333042955219, \"NPeople\": 13985}, {\"OMOP_ID\": \"3035995\", \"BinLeft_years\": 0.7211333042955219, \"BinRight_years\": 0.7894136436230892, \"NPeople\": 14377}, {\"OMOP_ID\": \"3035995\", \"BinLeft_years\": 1.9501794121917324, \"BinRight_years\": 2.0184597515192997, \"NPeople\": 14418}, {\"OMOP_ID\": \"3035995\", \"BinLeft_years\": 0.8576939829506564, \"BinRight_years\": 0.9259743222782236, \"NPeople\": 14679}, {\"OMOP_ID\": \"3035995\", \"BinLeft_years\": 1.062535000933358, \"BinRight_years\": 1.1308153402609253, \"NPeople\": 14853}, {\"OMOP_ID\": \"3035995\", \"BinLeft_years\": 0.5845726256403874, \"BinRight_years\": 0.6528529649679546, \"NPeople\": 15129}, {\"OMOP_ID\": \"3035995\", \"BinLeft_years\": 0.5162922863128202, \"BinRight_years\": 0.5845726256403874, \"NPeople\": 15807}, {\"OMOP_ID\": \"3035995\", \"BinLeft_years\": 0.9259743222782236, \"BinRight_years\": 0.9942546616057909, \"NPeople\": 16654}, {\"OMOP_ID\": \"3035995\", \"BinLeft_years\": 0.44801194698525293, \"BinRight_years\": 0.5162922863128202, \"NPeople\": 16878}, {\"OMOP_ID\": \"3035995\", \"BinLeft_years\": 0.37973160765768565, \"BinRight_years\": 0.44801194698525293, \"NPeople\": 16910}, {\"OMOP_ID\": \"3035995\", \"BinLeft_years\": 0.9942546616057909, \"BinRight_years\": 1.062535000933358, \"NPeople\": 17503}, {\"OMOP_ID\": \"3035995\", \"BinLeft_years\": 0.31145126833011844, \"BinRight_years\": 0.37973160765768565, \"NPeople\": 18026}, {\"OMOP_ID\": \"3035995\", \"BinLeft_years\": 0.24317092900255116, \"BinRight_years\": 0.31145126833011844, \"NPeople\": 21296}, {\"OMOP_ID\": \"3035995\", \"BinLeft_years\": 0.17489058967498392, \"BinRight_years\": 0.24317092900255116, \"NPeople\": 22270}, {\"OMOP_ID\": \"3035995\", \"BinLeft_years\": 0.10661025034741667, \"BinRight_years\": 0.17489058967498392, \"NPeople\": 27974}, {\"OMOP_ID\": \"3035995\", \"BinLeft_years\": 0.038329911019849415, \"BinRight_years\": 0.10661025034741667, \"NPeople\": 38155}, {\"OMOP_ID\": \"3035995\", \"BinLeft_years\": -Infinity, \"BinRight_years\": 0.038329911019849415, \"NPeople\": 57558}, {\"OMOP_ID\": \"3035995\", \"BinLeft_years\": 6.798083504449007, \"BinRight_years\": Infinity, \"NPeople\": 59626}]}}, {\"mode\": \"vega-lite\"});\n",
       "</script>"
      ],
      "text/plain": [
       "alt.Chart(...)"
      ]
     },
     "metadata": {},
     "output_type": "display_data"
    },
    {
     "data": {
      "text/markdown": [
       "## OMOP ID: 3037522"
      ],
      "text/plain": [
       "<IPython.core.display.Markdown object>"
      ]
     },
     "metadata": {},
     "output_type": "display_data"
    },
    {
     "data": {
      "text/html": [
       "\n",
       "<style>\n",
       "  #altair-viz-4d291a897fe548ed93167287c45f8aa9.vega-embed {\n",
       "    width: 100%;\n",
       "    display: flex;\n",
       "  }\n",
       "\n",
       "  #altair-viz-4d291a897fe548ed93167287c45f8aa9.vega-embed details,\n",
       "  #altair-viz-4d291a897fe548ed93167287c45f8aa9.vega-embed details summary {\n",
       "    position: relative;\n",
       "  }\n",
       "</style>\n",
       "<div id=\"altair-viz-4d291a897fe548ed93167287c45f8aa9\"></div>\n",
       "<script type=\"text/javascript\">\n",
       "  var VEGA_DEBUG = (typeof VEGA_DEBUG == \"undefined\") ? {} : VEGA_DEBUG;\n",
       "  (function(spec, embedOpt){\n",
       "    let outputDiv = document.currentScript.previousElementSibling;\n",
       "    if (outputDiv.id !== \"altair-viz-4d291a897fe548ed93167287c45f8aa9\") {\n",
       "      outputDiv = document.getElementById(\"altair-viz-4d291a897fe548ed93167287c45f8aa9\");\n",
       "    }\n",
       "    const paths = {\n",
       "      \"vega\": \"https://cdn.jsdelivr.net/npm/vega@5?noext\",\n",
       "      \"vega-lib\": \"https://cdn.jsdelivr.net/npm/vega-lib?noext\",\n",
       "      \"vega-lite\": \"https://cdn.jsdelivr.net/npm/vega-lite@5.16.3?noext\",\n",
       "      \"vega-embed\": \"https://cdn.jsdelivr.net/npm/vega-embed@6?noext\",\n",
       "    };\n",
       "\n",
       "    function maybeLoadScript(lib, version) {\n",
       "      var key = `${lib.replace(\"-\", \"\")}_version`;\n",
       "      return (VEGA_DEBUG[key] == version) ?\n",
       "        Promise.resolve(paths[lib]) :\n",
       "        new Promise(function(resolve, reject) {\n",
       "          var s = document.createElement('script');\n",
       "          document.getElementsByTagName(\"head\")[0].appendChild(s);\n",
       "          s.async = true;\n",
       "          s.onload = () => {\n",
       "            VEGA_DEBUG[key] = version;\n",
       "            return resolve(paths[lib]);\n",
       "          };\n",
       "          s.onerror = () => reject(`Error loading script: ${paths[lib]}`);\n",
       "          s.src = paths[lib];\n",
       "        });\n",
       "    }\n",
       "\n",
       "    function showError(err) {\n",
       "      outputDiv.innerHTML = `<div class=\"error\" style=\"color:red;\">${err}</div>`;\n",
       "      throw err;\n",
       "    }\n",
       "\n",
       "    function displayChart(vegaEmbed) {\n",
       "      vegaEmbed(outputDiv, spec, embedOpt)\n",
       "        .catch(err => showError(`Javascript Error: ${err.message}<br>This usually means there's a typo in your chart specification. See the javascript console for the full traceback.`));\n",
       "    }\n",
       "\n",
       "    if(typeof define === \"function\" && define.amd) {\n",
       "      requirejs.config({paths});\n",
       "      require([\"vega-embed\"], displayChart, err => showError(`Error loading script: ${err.message}`));\n",
       "    } else {\n",
       "      maybeLoadScript(\"vega\", \"5\")\n",
       "        .then(() => maybeLoadScript(\"vega-lite\", \"5.16.3\"))\n",
       "        .then(() => maybeLoadScript(\"vega-embed\", \"6\"))\n",
       "        .catch(showError)\n",
       "        .then(() => displayChart(vegaEmbed));\n",
       "    }\n",
       "  })({\"config\": {\"view\": {\"continuousWidth\": 300, \"continuousHeight\": 300}}, \"data\": {\"name\": \"data-48a3da1e947a0f36fbbcef2fc2d1c5e0\"}, \"mark\": {\"type\": \"rect\"}, \"encoding\": {\"x\": {\"field\": \"BinLeft_years\", \"title\": \"Duration from first to last measurement (years)\", \"type\": \"quantitative\"}, \"x2\": {\"field\": \"BinRight_years\"}, \"y\": {\"field\": \"NPeople\", \"title\": \"Number of people\", \"type\": \"quantitative\"}}, \"$schema\": \"https://vega.github.io/schema/vega-lite/v5.16.3.json\", \"datasets\": {\"data-48a3da1e947a0f36fbbcef2fc2d1c5e0\": [{\"OMOP_ID\": \"3037522\", \"BinLeft_years\": 4.8925670116635205, \"BinRight_years\": 4.943894800157634, \"NPeople\": 21}, {\"OMOP_ID\": \"3037522\", \"BinLeft_years\": 4.995222588651747, \"BinRight_years\": 5.046550377145859, \"NPeople\": 22}, {\"OMOP_ID\": \"3037522\", \"BinLeft_years\": 5.046550377145859, \"BinRight_years\": 5.0978781656399725, \"NPeople\": 29}, {\"OMOP_ID\": \"3037522\", \"BinLeft_years\": 4.738583646181182, \"BinRight_years\": 4.789911434675295, \"NPeople\": 30}, {\"OMOP_ID\": \"3037522\", \"BinLeft_years\": 4.584600280698843, \"BinRight_years\": 4.635928069192956, \"NPeople\": 31}, {\"OMOP_ID\": \"3037522\", \"BinLeft_years\": 4.635928069192956, \"BinRight_years\": 4.687255857687069, \"NPeople\": 31}, {\"OMOP_ID\": \"3037522\", \"BinLeft_years\": 4.17397797274594, \"BinRight_years\": 4.225305761240053, \"NPeople\": 31}, {\"OMOP_ID\": \"3037522\", \"BinLeft_years\": 4.789911434675295, \"BinRight_years\": 4.841239223169408, \"NPeople\": 33}, {\"OMOP_ID\": \"3037522\", \"BinLeft_years\": 4.327961338228278, \"BinRight_years\": 4.379289126722392, \"NPeople\": 34}, {\"OMOP_ID\": \"3037522\", \"BinLeft_years\": 4.687255857687069, \"BinRight_years\": 4.738583646181182, \"NPeople\": 35}, {\"OMOP_ID\": \"3037522\", \"BinLeft_years\": 4.430616915216504, \"BinRight_years\": 4.481944703710617, \"NPeople\": 36}, {\"OMOP_ID\": \"3037522\", \"BinLeft_years\": 4.841239223169408, \"BinRight_years\": 4.8925670116635205, \"NPeople\": 36}, {\"OMOP_ID\": \"3037522\", \"BinLeft_years\": 4.122650184251826, \"BinRight_years\": 4.17397797274594, \"NPeople\": 36}, {\"OMOP_ID\": \"3037522\", \"BinLeft_years\": 4.5332724922047305, \"BinRight_years\": 4.584600280698843, \"NPeople\": 36}, {\"OMOP_ID\": \"3037522\", \"BinLeft_years\": 4.276633549734165, \"BinRight_years\": 4.327961338228278, \"NPeople\": 36}, {\"OMOP_ID\": \"3037522\", \"BinLeft_years\": 3.9173390302753752, \"BinRight_years\": 3.9686668187694885, \"NPeople\": 38}, {\"OMOP_ID\": \"3037522\", \"BinLeft_years\": 3.660700087804811, \"BinRight_years\": 3.712027876298923, \"NPeople\": 39}, {\"OMOP_ID\": \"3037522\", \"BinLeft_years\": 4.071322395757714, \"BinRight_years\": 4.122650184251826, \"NPeople\": 40}, {\"OMOP_ID\": \"3037522\", \"BinLeft_years\": 3.4553889338283588, \"BinRight_years\": 3.506716722322472, \"NPeople\": 42}, {\"OMOP_ID\": \"3037522\", \"BinLeft_years\": 4.943894800157634, \"BinRight_years\": 4.995222588651747, \"NPeople\": 45}, {\"OMOP_ID\": \"3037522\", \"BinLeft_years\": 3.30140556834602, \"BinRight_years\": 3.352733356840133, \"NPeople\": 45}, {\"OMOP_ID\": \"3037522\", \"BinLeft_years\": 3.506716722322472, \"BinRight_years\": 3.5580445108165843, \"NPeople\": 46}, {\"OMOP_ID\": \"3037522\", \"BinLeft_years\": 4.379289126722392, \"BinRight_years\": 4.430616915216504, \"NPeople\": 46}, {\"OMOP_ID\": \"3037522\", \"BinLeft_years\": 3.866011241781262, \"BinRight_years\": 3.9173390302753752, \"NPeople\": 47}, {\"OMOP_ID\": \"3037522\", \"BinLeft_years\": 4.481944703710617, \"BinRight_years\": 4.5332724922047305, \"NPeople\": 47}, {\"OMOP_ID\": \"3037522\", \"BinLeft_years\": 4.225305761240053, \"BinRight_years\": 4.276633549734165, \"NPeople\": 47}, {\"OMOP_ID\": \"3037522\", \"BinLeft_years\": 4.019994607263601, \"BinRight_years\": 4.071322395757714, \"NPeople\": 47}, {\"OMOP_ID\": \"3037522\", \"BinLeft_years\": 3.6093722993106976, \"BinRight_years\": 3.660700087804811, \"NPeople\": 50}, {\"OMOP_ID\": \"3037522\", \"BinLeft_years\": 3.712027876298923, \"BinRight_years\": 3.7633556647930364, \"NPeople\": 51}, {\"OMOP_ID\": \"3037522\", \"BinLeft_years\": 3.352733356840133, \"BinRight_years\": 3.4040611453342455, \"NPeople\": 51}, {\"OMOP_ID\": \"3037522\", \"BinLeft_years\": 3.5580445108165843, \"BinRight_years\": 3.6093722993106976, \"NPeople\": 51}, {\"OMOP_ID\": \"3037522\", \"BinLeft_years\": 2.736799894910778, \"BinRight_years\": 2.7881276834048907, \"NPeople\": 52}, {\"OMOP_ID\": \"3037522\", \"BinLeft_years\": 2.6854721064166647, \"BinRight_years\": 2.736799894910778, \"NPeople\": 56}, {\"OMOP_ID\": \"3037522\", \"BinLeft_years\": 2.8394554718990035, \"BinRight_years\": 2.8907832603931167, \"NPeople\": 57}, {\"OMOP_ID\": \"3037522\", \"BinLeft_years\": 3.1987499913577944, \"BinRight_years\": 3.2500777798519067, \"NPeople\": 57}, {\"OMOP_ID\": \"3037522\", \"BinLeft_years\": 3.9686668187694885, \"BinRight_years\": 4.019994607263601, \"NPeople\": 60}, {\"OMOP_ID\": \"3037522\", \"BinLeft_years\": 3.8146834532871496, \"BinRight_years\": 3.866011241781262, \"NPeople\": 60}, {\"OMOP_ID\": \"3037522\", \"BinLeft_years\": 2.582816529428439, \"BinRight_years\": 2.634144317922552, \"NPeople\": 61}, {\"OMOP_ID\": \"3037522\", \"BinLeft_years\": 3.7633556647930364, \"BinRight_years\": 3.8146834532871496, \"NPeople\": 61}, {\"OMOP_ID\": \"3037522\", \"BinLeft_years\": 2.531488740934326, \"BinRight_years\": 2.582816529428439, \"NPeople\": 62}, {\"OMOP_ID\": \"3037522\", \"BinLeft_years\": 3.096094414369568, \"BinRight_years\": 3.147422202863681, \"NPeople\": 62}, {\"OMOP_ID\": \"3037522\", \"BinLeft_years\": 2.377505375451987, \"BinRight_years\": 2.4288331639461003, \"NPeople\": 63}, {\"OMOP_ID\": \"3037522\", \"BinLeft_years\": 3.0447666258754555, \"BinRight_years\": 3.096094414369568, \"NPeople\": 64}, {\"OMOP_ID\": \"3037522\", \"BinLeft_years\": 2.634144317922552, \"BinRight_years\": 2.6854721064166647, \"NPeople\": 64}, {\"OMOP_ID\": \"3037522\", \"BinLeft_years\": 3.2500777798519067, \"BinRight_years\": 3.30140556834602, \"NPeople\": 65}, {\"OMOP_ID\": \"3037522\", \"BinLeft_years\": 3.147422202863681, \"BinRight_years\": 3.1987499913577944, \"NPeople\": 65}, {\"OMOP_ID\": \"3037522\", \"BinLeft_years\": 2.8907832603931167, \"BinRight_years\": 2.942111048887229, \"NPeople\": 68}, {\"OMOP_ID\": \"3037522\", \"BinLeft_years\": 1.7615719135226322, \"BinRight_years\": 1.8128997020167452, \"NPeople\": 72}, {\"OMOP_ID\": \"3037522\", \"BinLeft_years\": 2.942111048887229, \"BinRight_years\": 2.9934388373813423, \"NPeople\": 72}, {\"OMOP_ID\": \"3037522\", \"BinLeft_years\": 2.7881276834048907, \"BinRight_years\": 2.8394554718990035, \"NPeople\": 74}, {\"OMOP_ID\": \"3037522\", \"BinLeft_years\": 2.3261775869578742, \"BinRight_years\": 2.377505375451987, \"NPeople\": 74}, {\"OMOP_ID\": \"3037522\", \"BinLeft_years\": 2.4288331639461003, \"BinRight_years\": 2.480160952440213, \"NPeople\": 79}, {\"OMOP_ID\": \"3037522\", \"BinLeft_years\": 3.4040611453342455, \"BinRight_years\": 3.4553889338283588, \"NPeople\": 79}, {\"OMOP_ID\": \"3037522\", \"BinLeft_years\": 2.480160952440213, \"BinRight_years\": 2.531488740934326, \"NPeople\": 81}, {\"OMOP_ID\": \"3037522\", \"BinLeft_years\": 2.9934388373813423, \"BinRight_years\": 3.0447666258754555, \"NPeople\": 82}, {\"OMOP_ID\": \"3037522\", \"BinLeft_years\": 2.2748497984637615, \"BinRight_years\": 2.3261775869578742, \"NPeople\": 84}, {\"OMOP_ID\": \"3037522\", \"BinLeft_years\": 1.8128997020167452, \"BinRight_years\": 1.864227490510858, \"NPeople\": 87}, {\"OMOP_ID\": \"3037522\", \"BinLeft_years\": 2.1721942214755354, \"BinRight_years\": 2.223522009969648, \"NPeople\": 91}, {\"OMOP_ID\": \"3037522\", \"BinLeft_years\": 2.223522009969648, \"BinRight_years\": 2.2748497984637615, \"NPeople\": 92}, {\"OMOP_ID\": \"3037522\", \"BinLeft_years\": 1.7102441250285192, \"BinRight_years\": 1.7615719135226322, \"NPeople\": 98}, {\"OMOP_ID\": \"3037522\", \"BinLeft_years\": 2.0182108559931966, \"BinRight_years\": 2.0695386444873094, \"NPeople\": 100}, {\"OMOP_ID\": \"3037522\", \"BinLeft_years\": 2.0695386444873094, \"BinRight_years\": 2.1208664329814226, \"NPeople\": 101}, {\"OMOP_ID\": \"3037522\", \"BinLeft_years\": 1.6589163365344064, \"BinRight_years\": 1.7102441250285192, \"NPeople\": 102}, {\"OMOP_ID\": \"3037522\", \"BinLeft_years\": 2.1208664329814226, \"BinRight_years\": 2.1721942214755354, \"NPeople\": 103}, {\"OMOP_ID\": \"3037522\", \"BinLeft_years\": 1.864227490510858, \"BinRight_years\": 1.915555279004971, \"NPeople\": 107}, {\"OMOP_ID\": \"3037522\", \"BinLeft_years\": 1.4022773940638418, \"BinRight_years\": 1.4536051825579548, \"NPeople\": 108}, {\"OMOP_ID\": \"3037522\", \"BinLeft_years\": 1.3509496055697288, \"BinRight_years\": 1.4022773940638418, \"NPeople\": 109}, {\"OMOP_ID\": \"3037522\", \"BinLeft_years\": 1.248294028581503, \"BinRight_years\": 1.299621817075616, \"NPeople\": 112}, {\"OMOP_ID\": \"3037522\", \"BinLeft_years\": 1.6075885480402934, \"BinRight_years\": 1.6589163365344064, \"NPeople\": 113}, {\"OMOP_ID\": \"3037522\", \"BinLeft_years\": 1.5562607595461804, \"BinRight_years\": 1.6075885480402934, \"NPeople\": 115}, {\"OMOP_ID\": \"3037522\", \"BinLeft_years\": 1.915555279004971, \"BinRight_years\": 1.966883067499084, \"NPeople\": 119}, {\"OMOP_ID\": \"3037522\", \"BinLeft_years\": 1.299621817075616, \"BinRight_years\": 1.3509496055697288, \"NPeople\": 121}, {\"OMOP_ID\": \"3037522\", \"BinLeft_years\": 1.4536051825579548, \"BinRight_years\": 1.5049329710520676, \"NPeople\": 128}, {\"OMOP_ID\": \"3037522\", \"BinLeft_years\": 1.966883067499084, \"BinRight_years\": 2.0182108559931966, \"NPeople\": 129}, {\"OMOP_ID\": \"3037522\", \"BinLeft_years\": 1.1456384515932772, \"BinRight_years\": 1.19696624008739, \"NPeople\": 133}, {\"OMOP_ID\": \"3037522\", \"BinLeft_years\": 1.5049329710520676, \"BinRight_years\": 1.5562607595461804, \"NPeople\": 141}, {\"OMOP_ID\": \"3037522\", \"BinLeft_years\": 1.19696624008739, \"BinRight_years\": 1.248294028581503, \"NPeople\": 141}, {\"OMOP_ID\": \"3037522\", \"BinLeft_years\": 0.7863439321344865, \"BinRight_years\": 0.8376717206285995, \"NPeople\": 151}, {\"OMOP_ID\": \"3037522\", \"BinLeft_years\": 1.0943106630991641, \"BinRight_years\": 1.1456384515932772, \"NPeople\": 156}, {\"OMOP_ID\": \"3037522\", \"BinLeft_years\": 1.0429828746050511, \"BinRight_years\": 1.0943106630991641, \"NPeople\": 172}, {\"OMOP_ID\": \"3037522\", \"BinLeft_years\": 0.9403272976168253, \"BinRight_years\": 0.9916550861109382, \"NPeople\": 172}, {\"OMOP_ID\": \"3037522\", \"BinLeft_years\": 0.8889995091227124, \"BinRight_years\": 0.9403272976168253, \"NPeople\": 176}, {\"OMOP_ID\": \"3037522\", \"BinLeft_years\": 0.8376717206285995, \"BinRight_years\": 0.8889995091227124, \"NPeople\": 179}, {\"OMOP_ID\": \"3037522\", \"BinLeft_years\": 0.7350161436403736, \"BinRight_years\": 0.7863439321344865, \"NPeople\": 181}, {\"OMOP_ID\": \"3037522\", \"BinLeft_years\": 0.6836883551462607, \"BinRight_years\": 0.7350161436403736, \"NPeople\": 182}, {\"OMOP_ID\": \"3037522\", \"BinLeft_years\": 0.5810327781580349, \"BinRight_years\": 0.6323605666521478, \"NPeople\": 189}, {\"OMOP_ID\": \"3037522\", \"BinLeft_years\": 0.6323605666521478, \"BinRight_years\": 0.6836883551462607, \"NPeople\": 191}, {\"OMOP_ID\": \"3037522\", \"BinLeft_years\": 0.9916550861109382, \"BinRight_years\": 1.0429828746050511, \"NPeople\": 213}, {\"OMOP_ID\": \"3037522\", \"BinLeft_years\": 0.427049412675696, \"BinRight_years\": 0.4783772011698089, \"NPeople\": 239}, {\"OMOP_ID\": \"3037522\", \"BinLeft_years\": 0.5297049896639219, \"BinRight_years\": 0.5810327781580349, \"NPeople\": 258}, {\"OMOP_ID\": \"3037522\", \"BinLeft_years\": 0.3757216241815831, \"BinRight_years\": 0.427049412675696, \"NPeople\": 262}, {\"OMOP_ID\": \"3037522\", \"BinLeft_years\": 0.4783772011698089, \"BinRight_years\": 0.5297049896639219, \"NPeople\": 280}, {\"OMOP_ID\": \"3037522\", \"BinLeft_years\": 0.32439383568747016, \"BinRight_years\": 0.3757216241815831, \"NPeople\": 292}, {\"OMOP_ID\": \"3037522\", \"BinLeft_years\": 0.27306604719335725, \"BinRight_years\": 0.32439383568747016, \"NPeople\": 382}, {\"OMOP_ID\": \"3037522\", \"BinLeft_years\": 0.1704104702051314, \"BinRight_years\": 0.22173825869924432, \"NPeople\": 471}, {\"OMOP_ID\": \"3037522\", \"BinLeft_years\": 0.22173825869924432, \"BinRight_years\": 0.27306604719335725, \"NPeople\": 477}, {\"OMOP_ID\": \"3037522\", \"BinLeft_years\": 0.11908268171101846, \"BinRight_years\": 0.1704104702051314, \"NPeople\": 503}, {\"OMOP_ID\": \"3037522\", \"BinLeft_years\": 0.01642710472279261, \"BinRight_years\": 0.06775489321690553, \"NPeople\": 505}, {\"OMOP_ID\": \"3037522\", \"BinLeft_years\": 0.06775489321690553, \"BinRight_years\": 0.11908268171101846, \"NPeople\": 599}, {\"OMOP_ID\": \"3037522\", \"BinLeft_years\": -Infinity, \"BinRight_years\": 0.01642710472279261, \"NPeople\": 637}, {\"OMOP_ID\": \"3037522\", \"BinLeft_years\": 5.0978781656399725, \"BinRight_years\": Infinity, \"NPeople\": 640}]}}, {\"mode\": \"vega-lite\"});\n",
       "</script>"
      ],
      "text/plain": [
       "alt.Chart(...)"
      ]
     },
     "metadata": {},
     "output_type": "display_data"
    },
    {
     "data": {
      "text/markdown": [
       "## OMOP ID: 3020564"
      ],
      "text/plain": [
       "<IPython.core.display.Markdown object>"
      ]
     },
     "metadata": {},
     "output_type": "display_data"
    },
    {
     "data": {
      "text/html": [
       "\n",
       "<style>\n",
       "  #altair-viz-ea192731194a401ca5cfa0959552522c.vega-embed {\n",
       "    width: 100%;\n",
       "    display: flex;\n",
       "  }\n",
       "\n",
       "  #altair-viz-ea192731194a401ca5cfa0959552522c.vega-embed details,\n",
       "  #altair-viz-ea192731194a401ca5cfa0959552522c.vega-embed details summary {\n",
       "    position: relative;\n",
       "  }\n",
       "</style>\n",
       "<div id=\"altair-viz-ea192731194a401ca5cfa0959552522c\"></div>\n",
       "<script type=\"text/javascript\">\n",
       "  var VEGA_DEBUG = (typeof VEGA_DEBUG == \"undefined\") ? {} : VEGA_DEBUG;\n",
       "  (function(spec, embedOpt){\n",
       "    let outputDiv = document.currentScript.previousElementSibling;\n",
       "    if (outputDiv.id !== \"altair-viz-ea192731194a401ca5cfa0959552522c\") {\n",
       "      outputDiv = document.getElementById(\"altair-viz-ea192731194a401ca5cfa0959552522c\");\n",
       "    }\n",
       "    const paths = {\n",
       "      \"vega\": \"https://cdn.jsdelivr.net/npm/vega@5?noext\",\n",
       "      \"vega-lib\": \"https://cdn.jsdelivr.net/npm/vega-lib?noext\",\n",
       "      \"vega-lite\": \"https://cdn.jsdelivr.net/npm/vega-lite@5.16.3?noext\",\n",
       "      \"vega-embed\": \"https://cdn.jsdelivr.net/npm/vega-embed@6?noext\",\n",
       "    };\n",
       "\n",
       "    function maybeLoadScript(lib, version) {\n",
       "      var key = `${lib.replace(\"-\", \"\")}_version`;\n",
       "      return (VEGA_DEBUG[key] == version) ?\n",
       "        Promise.resolve(paths[lib]) :\n",
       "        new Promise(function(resolve, reject) {\n",
       "          var s = document.createElement('script');\n",
       "          document.getElementsByTagName(\"head\")[0].appendChild(s);\n",
       "          s.async = true;\n",
       "          s.onload = () => {\n",
       "            VEGA_DEBUG[key] = version;\n",
       "            return resolve(paths[lib]);\n",
       "          };\n",
       "          s.onerror = () => reject(`Error loading script: ${paths[lib]}`);\n",
       "          s.src = paths[lib];\n",
       "        });\n",
       "    }\n",
       "\n",
       "    function showError(err) {\n",
       "      outputDiv.innerHTML = `<div class=\"error\" style=\"color:red;\">${err}</div>`;\n",
       "      throw err;\n",
       "    }\n",
       "\n",
       "    function displayChart(vegaEmbed) {\n",
       "      vegaEmbed(outputDiv, spec, embedOpt)\n",
       "        .catch(err => showError(`Javascript Error: ${err.message}<br>This usually means there's a typo in your chart specification. See the javascript console for the full traceback.`));\n",
       "    }\n",
       "\n",
       "    if(typeof define === \"function\" && define.amd) {\n",
       "      requirejs.config({paths});\n",
       "      require([\"vega-embed\"], displayChart, err => showError(`Error loading script: ${err.message}`));\n",
       "    } else {\n",
       "      maybeLoadScript(\"vega\", \"5\")\n",
       "        .then(() => maybeLoadScript(\"vega-lite\", \"5.16.3\"))\n",
       "        .then(() => maybeLoadScript(\"vega-embed\", \"6\"))\n",
       "        .catch(showError)\n",
       "        .then(() => displayChart(vegaEmbed));\n",
       "    }\n",
       "  })({\"config\": {\"view\": {\"continuousWidth\": 300, \"continuousHeight\": 300}}, \"data\": {\"name\": \"data-c9b9331bcd3f784e92b75a444e36fea5\"}, \"mark\": {\"type\": \"rect\"}, \"encoding\": {\"x\": {\"field\": \"BinLeft_years\", \"title\": \"Duration from first to last measurement (years)\", \"type\": \"quantitative\"}, \"x2\": {\"field\": \"BinRight_years\"}, \"y\": {\"field\": \"NPeople\", \"title\": \"Number of people\", \"type\": \"quantitative\"}}, \"$schema\": \"https://vega.github.io/schema/vega-lite/v5.16.3.json\", \"datasets\": {\"data-c9b9331bcd3f784e92b75a444e36fea5\": [{\"OMOP_ID\": \"3020564\", \"BinLeft_years\": 0.6384999896293531, \"BinRight_years\": 0.7129750620510373, \"NPeople\": 20031}, {\"OMOP_ID\": \"3020564\", \"BinLeft_years\": 0.7874501344727217, \"BinRight_years\": 0.861925206894406, \"NPeople\": 20416}, {\"OMOP_ID\": \"3020564\", \"BinLeft_years\": 0.7129750620510373, \"BinRight_years\": 0.7874501344727217, \"NPeople\": 20530}, {\"OMOP_ID\": \"3020564\", \"BinLeft_years\": 0.5640249172076688, \"BinRight_years\": 0.6384999896293531, \"NPeople\": 20538}, {\"OMOP_ID\": \"3020564\", \"BinLeft_years\": 7.341256507580942, \"BinRight_years\": 7.415731580002626, \"NPeople\": 20550}, {\"OMOP_ID\": \"3020564\", \"BinLeft_years\": 7.415731580002626, \"BinRight_years\": 7.490206652424311, \"NPeople\": 20955}, {\"OMOP_ID\": \"3020564\", \"BinLeft_years\": 0.41507477236430007, \"BinRight_years\": 0.4895498447859844, \"NPeople\": 21007}, {\"OMOP_ID\": \"3020564\", \"BinLeft_years\": 0.34059969994261574, \"BinRight_years\": 0.41507477236430007, \"NPeople\": 21161}, {\"OMOP_ID\": \"3020564\", \"BinLeft_years\": 7.266781435159259, \"BinRight_years\": 7.341256507580942, \"NPeople\": 21309}, {\"OMOP_ID\": \"3020564\", \"BinLeft_years\": 6.745455928207468, \"BinRight_years\": 6.819931000629151, \"NPeople\": 21550}, {\"OMOP_ID\": \"3020564\", \"BinLeft_years\": 6.670980855785784, \"BinRight_years\": 6.745455928207468, \"NPeople\": 21571}, {\"OMOP_ID\": \"3020564\", \"BinLeft_years\": 7.490206652424311, \"BinRight_years\": 7.564681724845996, \"NPeople\": 21884}, {\"OMOP_ID\": \"3020564\", \"BinLeft_years\": 1.3832507138461962, \"BinRight_years\": 1.4577257862678807, \"NPeople\": 21890}, {\"OMOP_ID\": \"3020564\", \"BinLeft_years\": 0.4895498447859844, \"BinRight_years\": 0.5640249172076688, \"NPeople\": 21989}, {\"OMOP_ID\": \"3020564\", \"BinLeft_years\": 1.308775641424512, \"BinRight_years\": 1.3832507138461962, \"NPeople\": 22167}, {\"OMOP_ID\": \"3020564\", \"BinLeft_years\": 1.4577257862678807, \"BinRight_years\": 1.532200858689565, \"NPeople\": 22503}, {\"OMOP_ID\": \"3020564\", \"BinLeft_years\": 1.6811510035329338, \"BinRight_years\": 1.755626075954618, \"NPeople\": 22580}, {\"OMOP_ID\": \"3020564\", \"BinLeft_years\": 0.2661246275209314, \"BinRight_years\": 0.34059969994261574, \"NPeople\": 22591}, {\"OMOP_ID\": \"3020564\", \"BinLeft_years\": 7.192306362737574, \"BinRight_years\": 7.266781435159259, \"NPeople\": 22678}, {\"OMOP_ID\": \"3020564\", \"BinLeft_years\": 1.532200858689565, \"BinRight_years\": 1.6066759311112493, \"NPeople\": 22679}, {\"OMOP_ID\": \"3020564\", \"BinLeft_years\": 6.5965057833640985, \"BinRight_years\": 6.670980855785784, \"NPeople\": 22785}, {\"OMOP_ID\": \"3020564\", \"BinLeft_years\": 1.1598254965811432, \"BinRight_years\": 1.2343005690028277, \"NPeople\": 22795}, {\"OMOP_ID\": \"3020564\", \"BinLeft_years\": 6.819931000629151, \"BinRight_years\": 6.8944060730508365, \"NPeople\": 22815}, {\"OMOP_ID\": \"3020564\", \"BinLeft_years\": 0.861925206894406, \"BinRight_years\": 0.9364002793160904, \"NPeople\": 22829}, {\"OMOP_ID\": \"3020564\", \"BinLeft_years\": 7.117831290315889, \"BinRight_years\": 7.192306362737574, \"NPeople\": 22908}, {\"OMOP_ID\": \"3020564\", \"BinLeft_years\": 6.8944060730508365, \"BinRight_years\": 6.968881145472521, \"NPeople\": 23169}, {\"OMOP_ID\": \"3020564\", \"BinLeft_years\": 1.2343005690028277, \"BinRight_years\": 1.308775641424512, \"NPeople\": 23183}, {\"OMOP_ID\": \"3020564\", \"BinLeft_years\": 6.224130421255677, \"BinRight_years\": 6.2986054936773614, \"NPeople\": 23401}, {\"OMOP_ID\": \"3020564\", \"BinLeft_years\": 1.755626075954618, \"BinRight_years\": 1.8301011483763023, \"NPeople\": 23409}, {\"OMOP_ID\": \"3020564\", \"BinLeft_years\": 6.149655348833994, \"BinRight_years\": 6.224130421255677, \"NPeople\": 23475}, {\"OMOP_ID\": \"3020564\", \"BinLeft_years\": 1.6066759311112493, \"BinRight_years\": 1.6811510035329338, \"NPeople\": 23482}, {\"OMOP_ID\": \"3020564\", \"BinLeft_years\": 6.2986054936773614, \"BinRight_years\": 6.373080566099047, \"NPeople\": 23507}, {\"OMOP_ID\": \"3020564\", \"BinLeft_years\": 6.373080566099047, \"BinRight_years\": 6.447555638520731, \"NPeople\": 23638}, {\"OMOP_ID\": \"3020564\", \"BinLeft_years\": 1.085350424159459, \"BinRight_years\": 1.1598254965811432, \"NPeople\": 23737}, {\"OMOP_ID\": \"3020564\", \"BinLeft_years\": 7.043356217894206, \"BinRight_years\": 7.117831290315889, \"NPeople\": 23992}, {\"OMOP_ID\": \"3020564\", \"BinLeft_years\": 1.8301011483763023, \"BinRight_years\": 1.9045762207979868, \"NPeople\": 24090}, {\"OMOP_ID\": \"3020564\", \"BinLeft_years\": 6.522030710942414, \"BinRight_years\": 6.5965057833640985, \"NPeople\": 24219}, {\"OMOP_ID\": \"3020564\", \"BinLeft_years\": 6.968881145472521, \"BinRight_years\": 7.043356217894206, \"NPeople\": 24608}, {\"OMOP_ID\": \"3020564\", \"BinLeft_years\": 6.447555638520731, \"BinRight_years\": 6.522030710942414, \"NPeople\": 24914}, {\"OMOP_ID\": \"3020564\", \"BinLeft_years\": 5.7772799867255715, \"BinRight_years\": 5.851755059147256, \"NPeople\": 25086}, {\"OMOP_ID\": \"3020564\", \"BinLeft_years\": 0.19164955509924708, \"BinRight_years\": 0.2661246275209314, \"NPeople\": 25167}, {\"OMOP_ID\": \"3020564\", \"BinLeft_years\": 5.851755059147256, \"BinRight_years\": 5.926230131568941, \"NPeople\": 25240}, {\"OMOP_ID\": \"3020564\", \"BinLeft_years\": 5.628329841882202, \"BinRight_years\": 5.702804914303887, \"NPeople\": 25584}, {\"OMOP_ID\": \"3020564\", \"BinLeft_years\": 1.0108753517377747, \"BinRight_years\": 1.085350424159459, \"NPeople\": 25720}, {\"OMOP_ID\": \"3020564\", \"BinLeft_years\": 2.2024765104847237, \"BinRight_years\": 2.276951582906408, \"NPeople\": 25730}, {\"OMOP_ID\": \"3020564\", \"BinLeft_years\": 6.075180276412309, \"BinRight_years\": 6.149655348833994, \"NPeople\": 25780}, {\"OMOP_ID\": \"3020564\", \"BinLeft_years\": 2.276951582906408, \"BinRight_years\": 2.3514266553280927, \"NPeople\": 25781}, {\"OMOP_ID\": \"3020564\", \"BinLeft_years\": 5.926230131568941, \"BinRight_years\": 6.000705203990624, \"NPeople\": 25788}, {\"OMOP_ID\": \"3020564\", \"BinLeft_years\": 0.9364002793160904, \"BinRight_years\": 1.0108753517377747, \"NPeople\": 25805}, {\"OMOP_ID\": \"3020564\", \"BinLeft_years\": 5.702804914303887, \"BinRight_years\": 5.7772799867255715, \"NPeople\": 25930}, {\"OMOP_ID\": \"3020564\", \"BinLeft_years\": 6.000705203990624, \"BinRight_years\": 6.075180276412309, \"NPeople\": 25994}, {\"OMOP_ID\": \"3020564\", \"BinLeft_years\": 2.1280014380630394, \"BinRight_years\": 2.2024765104847237, \"NPeople\": 26033}, {\"OMOP_ID\": \"3020564\", \"BinLeft_years\": 1.9045762207979868, \"BinRight_years\": 1.9790512932196707, \"NPeople\": 26578}, {\"OMOP_ID\": \"3020564\", \"BinLeft_years\": 2.425901727749777, \"BinRight_years\": 2.5003768001714612, \"NPeople\": 26594}, {\"OMOP_ID\": \"3020564\", \"BinLeft_years\": 5.553854769460519, \"BinRight_years\": 5.628329841882202, \"NPeople\": 26616}, {\"OMOP_ID\": \"3020564\", \"BinLeft_years\": 5.40490462461715, \"BinRight_years\": 5.479379697038834, \"NPeople\": 26659}, {\"OMOP_ID\": \"3020564\", \"BinLeft_years\": 2.3514266553280927, \"BinRight_years\": 2.425901727749777, \"NPeople\": 27039}, {\"OMOP_ID\": \"3020564\", \"BinLeft_years\": 2.5003768001714612, \"BinRight_years\": 2.5748518725931455, \"NPeople\": 27112}, {\"OMOP_ID\": \"3020564\", \"BinLeft_years\": 2.5748518725931455, \"BinRight_years\": 2.64932694501483, \"NPeople\": 27163}, {\"OMOP_ID\": \"3020564\", \"BinLeft_years\": 2.053526365641355, \"BinRight_years\": 2.1280014380630394, \"NPeople\": 27175}, {\"OMOP_ID\": \"3020564\", \"BinLeft_years\": 5.479379697038834, \"BinRight_years\": 5.553854769460519, \"NPeople\": 27320}, {\"OMOP_ID\": \"3020564\", \"BinLeft_years\": 2.64932694501483, \"BinRight_years\": 2.723802017436514, \"NPeople\": 27548}, {\"OMOP_ID\": \"3020564\", \"BinLeft_years\": 5.255954479773782, \"BinRight_years\": 5.330429552195465, \"NPeople\": 27871}, {\"OMOP_ID\": \"3020564\", \"BinLeft_years\": 5.330429552195465, \"BinRight_years\": 5.40490462461715, \"NPeople\": 28261}, {\"OMOP_ID\": \"3020564\", \"BinLeft_years\": 2.798277089858199, \"BinRight_years\": 2.872752162279883, \"NPeople\": 29087}, {\"OMOP_ID\": \"3020564\", \"BinLeft_years\": 5.1814794073520964, \"BinRight_years\": 5.255954479773782, \"NPeople\": 29165}, {\"OMOP_ID\": \"3020564\", \"BinLeft_years\": 2.723802017436514, \"BinRight_years\": 2.798277089858199, \"NPeople\": 29589}, {\"OMOP_ID\": \"3020564\", \"BinLeft_years\": 5.107004334930413, \"BinRight_years\": 5.1814794073520964, \"NPeople\": 30472}, {\"OMOP_ID\": \"3020564\", \"BinLeft_years\": 1.9790512932196707, \"BinRight_years\": 2.053526365641355, \"NPeople\": 30512}, {\"OMOP_ID\": \"3020564\", \"BinLeft_years\": 3.394077669231673, \"BinRight_years\": 3.4685527416533577, \"NPeople\": 30666}, {\"OMOP_ID\": \"3020564\", \"BinLeft_years\": 3.319602596809989, \"BinRight_years\": 3.394077669231673, \"NPeople\": 31092}, {\"OMOP_ID\": \"3020564\", \"BinLeft_years\": 2.872752162279883, \"BinRight_years\": 2.947227234701567, \"NPeople\": 31104}, {\"OMOP_ID\": \"3020564\", \"BinLeft_years\": 3.5430278140750415, \"BinRight_years\": 3.6175028864967262, \"NPeople\": 31323}, {\"OMOP_ID\": \"3020564\", \"BinLeft_years\": 4.362253610713569, \"BinRight_years\": 4.436728683135254, \"NPeople\": 31393}, {\"OMOP_ID\": \"3020564\", \"BinLeft_years\": 3.6175028864967262, \"BinRight_years\": 3.6919779589184105, \"NPeople\": 31521}, {\"OMOP_ID\": \"3020564\", \"BinLeft_years\": 3.2451275243883044, \"BinRight_years\": 3.319602596809989, \"NPeople\": 31551}, {\"OMOP_ID\": \"3020564\", \"BinLeft_years\": 4.287778538291885, \"BinRight_years\": 4.362253610713569, \"NPeople\": 31589}, {\"OMOP_ID\": \"3020564\", \"BinLeft_years\": 3.7664530313400943, \"BinRight_years\": 3.840928103761779, \"NPeople\": 31633}, {\"OMOP_ID\": \"3020564\", \"BinLeft_years\": 4.138828393448517, \"BinRight_years\": 4.213303465870201, \"NPeople\": 31727}, {\"OMOP_ID\": \"3020564\", \"BinLeft_years\": 4.734628972821992, \"BinRight_years\": 4.809104045243675, \"NPeople\": 31935}, {\"OMOP_ID\": \"3020564\", \"BinLeft_years\": 4.809104045243675, \"BinRight_years\": 4.88357911766536, \"NPeople\": 32019}, {\"OMOP_ID\": \"3020564\", \"BinLeft_years\": 3.17065245196662, \"BinRight_years\": 3.2451275243883044, \"NPeople\": 32052}, {\"OMOP_ID\": \"3020564\", \"BinLeft_years\": 3.6919779589184105, \"BinRight_years\": 3.7664530313400943, \"NPeople\": 32082}, {\"OMOP_ID\": \"3020564\", \"BinLeft_years\": 4.0643533210268314, \"BinRight_years\": 4.138828393448517, \"NPeople\": 32256}, {\"OMOP_ID\": \"3020564\", \"BinLeft_years\": 3.840928103761779, \"BinRight_years\": 3.9154031761834633, \"NPeople\": 32481}, {\"OMOP_ID\": \"3020564\", \"BinLeft_years\": 4.436728683135254, \"BinRight_years\": 4.511203755556938, \"NPeople\": 32583}, {\"OMOP_ID\": \"3020564\", \"BinLeft_years\": 4.6601539004003065, \"BinRight_years\": 4.734628972821992, \"NPeople\": 32589}, {\"OMOP_ID\": \"3020564\", \"BinLeft_years\": 4.88357911766536, \"BinRight_years\": 4.958054190087044, \"NPeople\": 32621}, {\"OMOP_ID\": \"3020564\", \"BinLeft_years\": 5.032529262508728, \"BinRight_years\": 5.107004334930413, \"NPeople\": 32676}, {\"OMOP_ID\": \"3020564\", \"BinLeft_years\": 4.213303465870201, \"BinRight_years\": 4.287778538291885, \"NPeople\": 32855}, {\"OMOP_ID\": \"3020564\", \"BinLeft_years\": 3.4685527416533577, \"BinRight_years\": 3.5430278140750415, \"NPeople\": 32963}, {\"OMOP_ID\": \"3020564\", \"BinLeft_years\": 3.9154031761834633, \"BinRight_years\": 3.9898782486051476, \"NPeople\": 33029}, {\"OMOP_ID\": \"3020564\", \"BinLeft_years\": 4.511203755556938, \"BinRight_years\": 4.585678827978622, \"NPeople\": 33282}, {\"OMOP_ID\": \"3020564\", \"BinLeft_years\": 3.0961773795449354, \"BinRight_years\": 3.17065245196662, \"NPeople\": 33545}, {\"OMOP_ID\": \"3020564\", \"BinLeft_years\": 3.9898782486051476, \"BinRight_years\": 4.0643533210268314, \"NPeople\": 33754}, {\"OMOP_ID\": \"3020564\", \"BinLeft_years\": 4.585678827978622, \"BinRight_years\": 4.6601539004003065, \"NPeople\": 34138}, {\"OMOP_ID\": \"3020564\", \"BinLeft_years\": 3.0217023071232516, \"BinRight_years\": 3.0961773795449354, \"NPeople\": 34531}, {\"OMOP_ID\": \"3020564\", \"BinLeft_years\": 2.947227234701567, \"BinRight_years\": 3.0217023071232516, \"NPeople\": 34588}, {\"OMOP_ID\": \"3020564\", \"BinLeft_years\": 4.958054190087044, \"BinRight_years\": 5.032529262508728, \"NPeople\": 35303}, {\"OMOP_ID\": \"3020564\", \"BinLeft_years\": -Infinity, \"BinRight_years\": 0.19164955509924708, \"NPeople\": 147785}, {\"OMOP_ID\": \"3020564\", \"BinLeft_years\": 7.564681724845996, \"BinRight_years\": Infinity, \"NPeople\": 147888}]}}, {\"mode\": \"vega-lite\"});\n",
       "</script>"
      ],
      "text/plain": [
       "alt.Chart(...)"
      ]
     },
     "metadata": {},
     "output_type": "display_data"
    }
   ],
   "source": [
    "for omop_id in omop_ids:\n",
    "    display(Markdown(f\"## OMOP ID: {omop_id}\"))\n",
    "    \n",
    "    plot_data = dataf.filter(pl.col(\"OMOP_ID\") == omop_id)\n",
    "    \n",
    "    display(\n",
    "        alt.Chart(plot_data).mark_rect().encode(\n",
    "            alt.X(\"BinLeft_years:Q\").title(\"Duration from first to last measurement (years)\"),\n",
    "            alt.X2(\"BinRight_years:Q\"),\n",
    "            alt.Y(\"NPeople:Q\").title(\"Number of people\")\n",
    "        )\n",
    "    )"
   ]
  },
  {
   "cell_type": "code",
   "execution_count": null,
   "id": "7ef75613-e28b-4a66-8cec-29bec4d7eade",
   "metadata": {},
   "outputs": [],
   "source": []
  }
 ],
 "metadata": {
  "kernelspec": {
   "display_name": "Python 3 (ipykernel)",
   "language": "python",
   "name": "python3"
  },
  "language_info": {
   "codemirror_mode": {
    "name": "ipython",
    "version": 3
   },
   "file_extension": ".py",
   "mimetype": "text/x-python",
   "name": "python",
   "nbconvert_exporter": "python",
   "pygments_lexer": "ipython3",
   "version": "3.12.1"
  }
 },
 "nbformat": 4,
 "nbformat_minor": 5
}
