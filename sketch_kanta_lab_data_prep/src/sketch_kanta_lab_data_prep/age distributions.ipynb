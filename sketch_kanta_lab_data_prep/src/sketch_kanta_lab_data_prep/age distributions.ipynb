{
 "cells": [
  {
   "cell_type": "markdown",
   "id": "2473552d-e838-4de7-a400-56974d42861c",
   "metadata": {},
   "source": [
    "# Age Distributions"
   ]
  },
  {
   "cell_type": "code",
   "execution_count": 17,
   "id": "666312a8-c9bf-4c41-a1c3-9ee24ebc224f",
   "metadata": {},
   "outputs": [],
   "source": [
    "from pathlib import Path\n",
    "\n",
    "import altair as alt\n",
    "import polars as pl\n",
    "from IPython.display import display, Markdown\n",
    "\n",
    "import plotting"
   ]
  },
  {
   "cell_type": "code",
   "execution_count": 15,
   "id": "ce6d2455-c24f-4f91-8b70-7d2fc8c03c2e",
   "metadata": {},
   "outputs": [],
   "source": [
    "files = list(map(Path, [\n",
    "    \"/Users/vllorens/data/fimm/finregistry-kanta-lab-values/risteys/stats_age_first_meas_distribution__sorted.csv\",\n",
    "    \"/Users/vllorens/data/fimm/finregistry-kanta-lab-values/risteys/stats_age_last_meas_distribution__sorted.csv\",\n",
    "    \"/Users/vllorens/data/fimm/finregistry-kanta-lab-values/risteys/stats_age_study_start_distribution__sorted.csv\",\n",
    "]))"
   ]
  },
  {
   "cell_type": "code",
   "execution_count": 19,
   "id": "d1500c5a-f993-4aad-a8e0-d62e84ce473e",
   "metadata": {},
   "outputs": [
    {
     "data": {
      "text/markdown": [
       "## OMOP ID: 3020564"
      ],
      "text/plain": [
       "<IPython.core.display.Markdown object>"
      ]
     },
     "metadata": {},
     "output_type": "display_data"
    },
    {
     "data": {
      "text/html": [
       "\n",
       "<style>\n",
       "  #altair-viz-4b6d5de3efb742bd99bed0fde89f8b20.vega-embed {\n",
       "    width: 100%;\n",
       "    display: flex;\n",
       "  }\n",
       "\n",
       "  #altair-viz-4b6d5de3efb742bd99bed0fde89f8b20.vega-embed details,\n",
       "  #altair-viz-4b6d5de3efb742bd99bed0fde89f8b20.vega-embed details summary {\n",
       "    position: relative;\n",
       "  }\n",
       "</style>\n",
       "<div id=\"altair-viz-4b6d5de3efb742bd99bed0fde89f8b20\"></div>\n",
       "<script type=\"text/javascript\">\n",
       "  var VEGA_DEBUG = (typeof VEGA_DEBUG == \"undefined\") ? {} : VEGA_DEBUG;\n",
       "  (function(spec, embedOpt){\n",
       "    let outputDiv = document.currentScript.previousElementSibling;\n",
       "    if (outputDiv.id !== \"altair-viz-4b6d5de3efb742bd99bed0fde89f8b20\") {\n",
       "      outputDiv = document.getElementById(\"altair-viz-4b6d5de3efb742bd99bed0fde89f8b20\");\n",
       "    }\n",
       "    const paths = {\n",
       "      \"vega\": \"https://cdn.jsdelivr.net/npm/vega@5?noext\",\n",
       "      \"vega-lib\": \"https://cdn.jsdelivr.net/npm/vega-lib?noext\",\n",
       "      \"vega-lite\": \"https://cdn.jsdelivr.net/npm/vega-lite@5.16.3?noext\",\n",
       "      \"vega-embed\": \"https://cdn.jsdelivr.net/npm/vega-embed@6?noext\",\n",
       "    };\n",
       "\n",
       "    function maybeLoadScript(lib, version) {\n",
       "      var key = `${lib.replace(\"-\", \"\")}_version`;\n",
       "      return (VEGA_DEBUG[key] == version) ?\n",
       "        Promise.resolve(paths[lib]) :\n",
       "        new Promise(function(resolve, reject) {\n",
       "          var s = document.createElement('script');\n",
       "          document.getElementsByTagName(\"head\")[0].appendChild(s);\n",
       "          s.async = true;\n",
       "          s.onload = () => {\n",
       "            VEGA_DEBUG[key] = version;\n",
       "            return resolve(paths[lib]);\n",
       "          };\n",
       "          s.onerror = () => reject(`Error loading script: ${paths[lib]}`);\n",
       "          s.src = paths[lib];\n",
       "        });\n",
       "    }\n",
       "\n",
       "    function showError(err) {\n",
       "      outputDiv.innerHTML = `<div class=\"error\" style=\"color:red;\">${err}</div>`;\n",
       "      throw err;\n",
       "    }\n",
       "\n",
       "    function displayChart(vegaEmbed) {\n",
       "      vegaEmbed(outputDiv, spec, embedOpt)\n",
       "        .catch(err => showError(`Javascript Error: ${err.message}<br>This usually means there's a typo in your chart specification. See the javascript console for the full traceback.`));\n",
       "    }\n",
       "\n",
       "    if(typeof define === \"function\" && define.amd) {\n",
       "      requirejs.config({paths});\n",
       "      require([\"vega-embed\"], displayChart, err => showError(`Error loading script: ${err.message}`));\n",
       "    } else {\n",
       "      maybeLoadScript(\"vega\", \"5\")\n",
       "        .then(() => maybeLoadScript(\"vega-lite\", \"5.16.3\"))\n",
       "        .then(() => maybeLoadScript(\"vega-embed\", \"6\"))\n",
       "        .catch(showError)\n",
       "        .then(() => displayChart(vegaEmbed));\n",
       "    }\n",
       "  })({\"config\": {\"view\": {\"continuousWidth\": 300, \"continuousHeight\": 300}}, \"data\": {\"name\": \"data-fca354f088c5a8e969fd658fa3c8c5d2\"}, \"mark\": {\"type\": \"rect\"}, \"encoding\": {\"x\": {\"field\": \"BinLeft\", \"title\": \"Age (years)\", \"type\": \"quantitative\"}, \"x2\": {\"field\": \"BinRight\"}, \"y\": {\"field\": \"NPeople\", \"title\": \"Number of people\", \"type\": \"quantitative\"}}, \"$schema\": \"https://vega.github.io/schema/vega-lite/v5.16.3.json\", \"datasets\": {\"data-fca354f088c5a8e969fd658fa3c8c5d2\": [{\"BinLeft\": \"0\", \"BinRight\": \"1\", \"NPeople\": 12667}, {\"BinLeft\": \"1\", \"BinRight\": \"2\", \"NPeople\": 10860}, {\"BinLeft\": \"2\", \"BinRight\": \"3\", \"NPeople\": 10519}, {\"BinLeft\": \"3\", \"BinRight\": \"4\", \"NPeople\": 11262}, {\"BinLeft\": \"4\", \"BinRight\": \"5\", \"NPeople\": 12428}, {\"BinLeft\": \"5\", \"BinRight\": \"6\", \"NPeople\": 12931}, {\"BinLeft\": \"6\", \"BinRight\": \"7\", \"NPeople\": 13961}, {\"BinLeft\": \"7\", \"BinRight\": \"8\", \"NPeople\": 15250}, {\"BinLeft\": \"8\", \"BinRight\": \"9\", \"NPeople\": 14944}, {\"BinLeft\": \"9\", \"BinRight\": \"10\", \"NPeople\": 15377}, {\"BinLeft\": \"10\", \"BinRight\": \"11\", \"NPeople\": 16457}, {\"BinLeft\": \"11\", \"BinRight\": \"12\", \"NPeople\": 19173}, {\"BinLeft\": \"12\", \"BinRight\": \"13\", \"NPeople\": 18016}, {\"BinLeft\": \"13\", \"BinRight\": \"14\", \"NPeople\": 21428}, {\"BinLeft\": \"14\", \"BinRight\": \"15\", \"NPeople\": 28171}, {\"BinLeft\": \"15\", \"BinRight\": \"16\", \"NPeople\": 28334}, {\"BinLeft\": \"16\", \"BinRight\": \"17\", \"NPeople\": 31052}, {\"BinLeft\": \"17\", \"BinRight\": \"18\", \"NPeople\": 31869}, {\"BinLeft\": \"18\", \"BinRight\": \"19\", \"NPeople\": 31803}, {\"BinLeft\": \"19\", \"BinRight\": \"20\", \"NPeople\": 33219}, {\"BinLeft\": \"20\", \"BinRight\": \"21\", \"NPeople\": 34157}, {\"BinLeft\": \"21\", \"BinRight\": \"22\", \"NPeople\": 34756}, {\"BinLeft\": \"22\", \"BinRight\": \"23\", \"NPeople\": 35337}, {\"BinLeft\": \"23\", \"BinRight\": \"24\", \"NPeople\": 36847}, {\"BinLeft\": \"24\", \"BinRight\": \"25\", \"NPeople\": 38967}, {\"BinLeft\": \"25\", \"BinRight\": \"26\", \"NPeople\": 40922}, {\"BinLeft\": \"26\", \"BinRight\": \"27\", \"NPeople\": 41693}, {\"BinLeft\": \"27\", \"BinRight\": \"28\", \"NPeople\": 42189}, {\"BinLeft\": \"28\", \"BinRight\": \"29\", \"NPeople\": 42603}, {\"BinLeft\": \"29\", \"BinRight\": \"30\", \"NPeople\": 43232}, {\"BinLeft\": \"30\", \"BinRight\": \"31\", \"NPeople\": 43507}, {\"BinLeft\": \"31\", \"BinRight\": \"32\", \"NPeople\": 43006}, {\"BinLeft\": \"32\", \"BinRight\": \"33\", \"NPeople\": 43657}, {\"BinLeft\": \"33\", \"BinRight\": \"34\", \"NPeople\": 43563}, {\"BinLeft\": \"34\", \"BinRight\": \"35\", \"NPeople\": 46002}, {\"BinLeft\": \"35\", \"BinRight\": \"36\", \"NPeople\": 46365}, {\"BinLeft\": \"36\", \"BinRight\": \"37\", \"NPeople\": 45455}, {\"BinLeft\": \"37\", \"BinRight\": \"38\", \"NPeople\": 45820}, {\"BinLeft\": \"38\", \"BinRight\": \"39\", \"NPeople\": 46173}, {\"BinLeft\": \"39\", \"BinRight\": \"40\", \"NPeople\": 49286}, {\"BinLeft\": \"40\", \"BinRight\": \"41\", \"NPeople\": 50047}, {\"BinLeft\": \"41\", \"BinRight\": \"42\", \"NPeople\": 46398}, {\"BinLeft\": \"42\", \"BinRight\": \"43\", \"NPeople\": 46202}, {\"BinLeft\": \"43\", \"BinRight\": \"44\", \"NPeople\": 45993}, {\"BinLeft\": \"44\", \"BinRight\": \"45\", \"NPeople\": 48632}, {\"BinLeft\": \"45\", \"BinRight\": \"46\", \"NPeople\": 48953}, {\"BinLeft\": \"46\", \"BinRight\": \"47\", \"NPeople\": 47656}, {\"BinLeft\": \"47\", \"BinRight\": \"48\", \"NPeople\": 49413}, {\"BinLeft\": \"48\", \"BinRight\": \"49\", \"NPeople\": 50989}, {\"BinLeft\": \"49\", \"BinRight\": \"50\", \"NPeople\": 57590}, {\"BinLeft\": \"50\", \"BinRight\": \"51\", \"NPeople\": 60879}, {\"BinLeft\": \"51\", \"BinRight\": \"52\", \"NPeople\": 56284}, {\"BinLeft\": \"52\", \"BinRight\": \"53\", \"NPeople\": 60280}, {\"BinLeft\": \"53\", \"BinRight\": \"54\", \"NPeople\": 61450}, {\"BinLeft\": \"54\", \"BinRight\": \"55\", \"NPeople\": 63660}, {\"BinLeft\": \"55\", \"BinRight\": \"56\", \"NPeople\": 64984}, {\"BinLeft\": \"56\", \"BinRight\": \"57\", \"NPeople\": 62926}, {\"BinLeft\": \"57\", \"BinRight\": \"58\", \"NPeople\": 63866}, {\"BinLeft\": \"58\", \"BinRight\": \"59\", \"NPeople\": 65413}, {\"BinLeft\": \"59\", \"BinRight\": \"60\", \"NPeople\": 68249}, {\"BinLeft\": \"60\", \"BinRight\": \"61\", \"NPeople\": 69006}, {\"BinLeft\": \"61\", \"BinRight\": \"62\", \"NPeople\": 67391}, {\"BinLeft\": \"62\", \"BinRight\": \"63\", \"NPeople\": 69242}, {\"BinLeft\": \"63\", \"BinRight\": \"64\", \"NPeople\": 70500}, {\"BinLeft\": \"64\", \"BinRight\": \"65\", \"NPeople\": 72638}, {\"BinLeft\": \"65\", \"BinRight\": \"66\", \"NPeople\": 71241}, {\"BinLeft\": \"66\", \"BinRight\": \"67\", \"NPeople\": 70967}, {\"BinLeft\": \"67\", \"BinRight\": \"68\", \"NPeople\": 72620}, {\"BinLeft\": \"68\", \"BinRight\": \"69\", \"NPeople\": 72437}, {\"BinLeft\": \"69\", \"BinRight\": \"70\", \"NPeople\": 76914}, {\"BinLeft\": \"70\", \"BinRight\": \"71\", \"NPeople\": 65137}, {\"BinLeft\": \"71\", \"BinRight\": \"72\", \"NPeople\": 61330}, {\"BinLeft\": \"72\", \"BinRight\": \"73\", \"NPeople\": 55947}, {\"BinLeft\": \"73\", \"BinRight\": \"74\", \"NPeople\": 54695}, {\"BinLeft\": \"74\", \"BinRight\": \"75\", \"NPeople\": 53668}, {\"BinLeft\": \"75\", \"BinRight\": \"76\", \"NPeople\": 46959}, {\"BinLeft\": \"76\", \"BinRight\": \"77\", \"NPeople\": 44979}, {\"BinLeft\": \"77\", \"BinRight\": \"78\", \"NPeople\": 42560}, {\"BinLeft\": \"78\", \"BinRight\": \"79\", \"NPeople\": 40414}, {\"BinLeft\": \"79\", \"BinRight\": \"80\", \"NPeople\": 40008}, {\"BinLeft\": \"80\", \"BinRight\": \"81\", \"NPeople\": 35333}, {\"BinLeft\": \"81\", \"BinRight\": \"82\", \"NPeople\": 32466}, {\"BinLeft\": \"82\", \"BinRight\": \"83\", \"NPeople\": 30523}, {\"BinLeft\": \"83\", \"BinRight\": \"84\", \"NPeople\": 28958}, {\"BinLeft\": \"84\", \"BinRight\": \"85\", \"NPeople\": 27792}, {\"BinLeft\": \"85\", \"BinRight\": \"86\", \"NPeople\": 24856}, {\"BinLeft\": \"86\", \"BinRight\": \"87\", \"NPeople\": 22556}, {\"BinLeft\": \"87\", \"BinRight\": \"88\", \"NPeople\": 20058}, {\"BinLeft\": \"88\", \"BinRight\": \"89\", \"NPeople\": 17238}, {\"BinLeft\": \"89\", \"BinRight\": \"90\", \"NPeople\": 14929}, {\"BinLeft\": \"90\", \"BinRight\": \"91\", \"NPeople\": 12153}, {\"BinLeft\": \"91\", \"BinRight\": \"92\", \"NPeople\": 9898}, {\"BinLeft\": \"92\", \"BinRight\": \"93\", \"NPeople\": 8018}, {\"BinLeft\": \"93\", \"BinRight\": \"94\", \"NPeople\": 6010}, {\"BinLeft\": \"94\", \"BinRight\": \"95\", \"NPeople\": 4451}, {\"BinLeft\": \"95\", \"BinRight\": \"96\", \"NPeople\": 2978}, {\"BinLeft\": \"96\", \"BinRight\": \"97\", \"NPeople\": 2056}, {\"BinLeft\": \"97\", \"BinRight\": \"98\", \"NPeople\": 1477}, {\"BinLeft\": \"98\", \"BinRight\": \"99\", \"NPeople\": 907}, {\"BinLeft\": \"99\", \"BinRight\": \"100\", \"NPeople\": 580}, {\"BinLeft\": \"100\", \"BinRight\": \"inf\", \"NPeople\": 767}]}}, {\"mode\": \"vega-lite\"});\n",
       "</script>"
      ],
      "text/plain": [
       "alt.Chart(...)"
      ]
     },
     "metadata": {},
     "output_type": "display_data"
    },
    {
     "data": {
      "text/markdown": [
       "Plot for stats_age_first_meas_distribution__sorted.csv"
      ],
      "text/plain": [
       "<IPython.core.display.Markdown object>"
      ]
     },
     "metadata": {},
     "output_type": "display_data"
    },
    {
     "data": {
      "text/markdown": [
       "<hr>"
      ],
      "text/plain": [
       "<IPython.core.display.Markdown object>"
      ]
     },
     "metadata": {},
     "output_type": "display_data"
    },
    {
     "data": {
      "text/html": [
       "\n",
       "<style>\n",
       "  #altair-viz-d6ec415a46e041f1911f4018587ab672.vega-embed {\n",
       "    width: 100%;\n",
       "    display: flex;\n",
       "  }\n",
       "\n",
       "  #altair-viz-d6ec415a46e041f1911f4018587ab672.vega-embed details,\n",
       "  #altair-viz-d6ec415a46e041f1911f4018587ab672.vega-embed details summary {\n",
       "    position: relative;\n",
       "  }\n",
       "</style>\n",
       "<div id=\"altair-viz-d6ec415a46e041f1911f4018587ab672\"></div>\n",
       "<script type=\"text/javascript\">\n",
       "  var VEGA_DEBUG = (typeof VEGA_DEBUG == \"undefined\") ? {} : VEGA_DEBUG;\n",
       "  (function(spec, embedOpt){\n",
       "    let outputDiv = document.currentScript.previousElementSibling;\n",
       "    if (outputDiv.id !== \"altair-viz-d6ec415a46e041f1911f4018587ab672\") {\n",
       "      outputDiv = document.getElementById(\"altair-viz-d6ec415a46e041f1911f4018587ab672\");\n",
       "    }\n",
       "    const paths = {\n",
       "      \"vega\": \"https://cdn.jsdelivr.net/npm/vega@5?noext\",\n",
       "      \"vega-lib\": \"https://cdn.jsdelivr.net/npm/vega-lib?noext\",\n",
       "      \"vega-lite\": \"https://cdn.jsdelivr.net/npm/vega-lite@5.16.3?noext\",\n",
       "      \"vega-embed\": \"https://cdn.jsdelivr.net/npm/vega-embed@6?noext\",\n",
       "    };\n",
       "\n",
       "    function maybeLoadScript(lib, version) {\n",
       "      var key = `${lib.replace(\"-\", \"\")}_version`;\n",
       "      return (VEGA_DEBUG[key] == version) ?\n",
       "        Promise.resolve(paths[lib]) :\n",
       "        new Promise(function(resolve, reject) {\n",
       "          var s = document.createElement('script');\n",
       "          document.getElementsByTagName(\"head\")[0].appendChild(s);\n",
       "          s.async = true;\n",
       "          s.onload = () => {\n",
       "            VEGA_DEBUG[key] = version;\n",
       "            return resolve(paths[lib]);\n",
       "          };\n",
       "          s.onerror = () => reject(`Error loading script: ${paths[lib]}`);\n",
       "          s.src = paths[lib];\n",
       "        });\n",
       "    }\n",
       "\n",
       "    function showError(err) {\n",
       "      outputDiv.innerHTML = `<div class=\"error\" style=\"color:red;\">${err}</div>`;\n",
       "      throw err;\n",
       "    }\n",
       "\n",
       "    function displayChart(vegaEmbed) {\n",
       "      vegaEmbed(outputDiv, spec, embedOpt)\n",
       "        .catch(err => showError(`Javascript Error: ${err.message}<br>This usually means there's a typo in your chart specification. See the javascript console for the full traceback.`));\n",
       "    }\n",
       "\n",
       "    if(typeof define === \"function\" && define.amd) {\n",
       "      requirejs.config({paths});\n",
       "      require([\"vega-embed\"], displayChart, err => showError(`Error loading script: ${err.message}`));\n",
       "    } else {\n",
       "      maybeLoadScript(\"vega\", \"5\")\n",
       "        .then(() => maybeLoadScript(\"vega-lite\", \"5.16.3\"))\n",
       "        .then(() => maybeLoadScript(\"vega-embed\", \"6\"))\n",
       "        .catch(showError)\n",
       "        .then(() => displayChart(vegaEmbed));\n",
       "    }\n",
       "  })({\"config\": {\"view\": {\"continuousWidth\": 300, \"continuousHeight\": 300}}, \"data\": {\"name\": \"data-b4f4c59710d08fecc0b8592ab607affd\"}, \"mark\": {\"type\": \"rect\"}, \"encoding\": {\"x\": {\"field\": \"BinLeft\", \"title\": \"Age (years)\", \"type\": \"quantitative\"}, \"x2\": {\"field\": \"BinRight\"}, \"y\": {\"field\": \"NPeople\", \"title\": \"Number of people\", \"type\": \"quantitative\"}}, \"$schema\": \"https://vega.github.io/schema/vega-lite/v5.16.3.json\", \"datasets\": {\"data-b4f4c59710d08fecc0b8592ab607affd\": [{\"BinLeft\": \"0\", \"BinRight\": \"1\", \"NPeople\": 8757}, {\"BinLeft\": \"1\", \"BinRight\": \"2\", \"NPeople\": 8773}, {\"BinLeft\": \"2\", \"BinRight\": \"3\", \"NPeople\": 9183}, {\"BinLeft\": \"3\", \"BinRight\": \"4\", \"NPeople\": 10228}, {\"BinLeft\": \"4\", \"BinRight\": \"5\", \"NPeople\": 11563}, {\"BinLeft\": \"5\", \"BinRight\": \"6\", \"NPeople\": 11971}, {\"BinLeft\": \"6\", \"BinRight\": \"7\", \"NPeople\": 12880}, {\"BinLeft\": \"7\", \"BinRight\": \"8\", \"NPeople\": 13951}, {\"BinLeft\": \"8\", \"BinRight\": \"9\", \"NPeople\": 13496}, {\"BinLeft\": \"9\", \"BinRight\": \"10\", \"NPeople\": 13701}, {\"BinLeft\": \"10\", \"BinRight\": \"11\", \"NPeople\": 14711}, {\"BinLeft\": \"11\", \"BinRight\": \"12\", \"NPeople\": 16746}, {\"BinLeft\": \"12\", \"BinRight\": \"13\", \"NPeople\": 15629}, {\"BinLeft\": \"13\", \"BinRight\": \"14\", \"NPeople\": 17569}, {\"BinLeft\": \"14\", \"BinRight\": \"15\", \"NPeople\": 22579}, {\"BinLeft\": \"15\", \"BinRight\": \"16\", \"NPeople\": 23290}, {\"BinLeft\": \"16\", \"BinRight\": \"17\", \"NPeople\": 25507}, {\"BinLeft\": \"17\", \"BinRight\": \"18\", \"NPeople\": 27054}, {\"BinLeft\": \"18\", \"BinRight\": \"19\", \"NPeople\": 28021}, {\"BinLeft\": \"19\", \"BinRight\": \"20\", \"NPeople\": 29207}, {\"BinLeft\": \"20\", \"BinRight\": \"21\", \"NPeople\": 30721}, {\"BinLeft\": \"21\", \"BinRight\": \"22\", \"NPeople\": 31773}, {\"BinLeft\": \"22\", \"BinRight\": \"23\", \"NPeople\": 32488}, {\"BinLeft\": \"23\", \"BinRight\": \"24\", \"NPeople\": 33534}, {\"BinLeft\": \"24\", \"BinRight\": \"25\", \"NPeople\": 35277}, {\"BinLeft\": \"25\", \"BinRight\": \"26\", \"NPeople\": 37511}, {\"BinLeft\": \"26\", \"BinRight\": \"27\", \"NPeople\": 38555}, {\"BinLeft\": \"27\", \"BinRight\": \"28\", \"NPeople\": 39892}, {\"BinLeft\": \"28\", \"BinRight\": \"29\", \"NPeople\": 41075}, {\"BinLeft\": \"29\", \"BinRight\": \"30\", \"NPeople\": 42019}, {\"BinLeft\": \"30\", \"BinRight\": \"31\", \"NPeople\": 42720}, {\"BinLeft\": \"31\", \"BinRight\": \"32\", \"NPeople\": 41666}, {\"BinLeft\": \"32\", \"BinRight\": \"33\", \"NPeople\": 41777}, {\"BinLeft\": \"33\", \"BinRight\": \"34\", \"NPeople\": 41081}, {\"BinLeft\": \"34\", \"BinRight\": \"35\", \"NPeople\": 42595}, {\"BinLeft\": \"35\", \"BinRight\": \"36\", \"NPeople\": 43513}, {\"BinLeft\": \"36\", \"BinRight\": \"37\", \"NPeople\": 43300}, {\"BinLeft\": \"37\", \"BinRight\": \"38\", \"NPeople\": 43696}, {\"BinLeft\": \"38\", \"BinRight\": \"39\", \"NPeople\": 44242}, {\"BinLeft\": \"39\", \"BinRight\": \"40\", \"NPeople\": 46960}, {\"BinLeft\": \"40\", \"BinRight\": \"41\", \"NPeople\": 47588}, {\"BinLeft\": \"41\", \"BinRight\": \"42\", \"NPeople\": 44409}, {\"BinLeft\": \"42\", \"BinRight\": \"43\", \"NPeople\": 44336}, {\"BinLeft\": \"43\", \"BinRight\": \"44\", \"NPeople\": 44308}, {\"BinLeft\": \"44\", \"BinRight\": \"45\", \"NPeople\": 46887}, {\"BinLeft\": \"45\", \"BinRight\": \"46\", \"NPeople\": 47274}, {\"BinLeft\": \"46\", \"BinRight\": \"47\", \"NPeople\": 44804}, {\"BinLeft\": \"47\", \"BinRight\": \"48\", \"NPeople\": 44077}, {\"BinLeft\": \"48\", \"BinRight\": \"49\", \"NPeople\": 43083}, {\"BinLeft\": \"49\", \"BinRight\": \"50\", \"NPeople\": 46550}, {\"BinLeft\": \"50\", \"BinRight\": \"51\", \"NPeople\": 50592}, {\"BinLeft\": \"51\", \"BinRight\": \"52\", \"NPeople\": 48144}, {\"BinLeft\": \"52\", \"BinRight\": \"53\", \"NPeople\": 51069}, {\"BinLeft\": \"53\", \"BinRight\": \"54\", \"NPeople\": 54161}, {\"BinLeft\": \"54\", \"BinRight\": \"55\", \"NPeople\": 56271}, {\"BinLeft\": \"55\", \"BinRight\": \"56\", \"NPeople\": 59279}, {\"BinLeft\": \"56\", \"BinRight\": \"57\", \"NPeople\": 57550}, {\"BinLeft\": \"57\", \"BinRight\": \"58\", \"NPeople\": 57996}, {\"BinLeft\": \"58\", \"BinRight\": \"59\", \"NPeople\": 58642}, {\"BinLeft\": \"59\", \"BinRight\": \"60\", \"NPeople\": 61857}, {\"BinLeft\": \"60\", \"BinRight\": \"61\", \"NPeople\": 63206}, {\"BinLeft\": \"61\", \"BinRight\": \"62\", \"NPeople\": 61016}, {\"BinLeft\": \"62\", \"BinRight\": \"63\", \"NPeople\": 61389}, {\"BinLeft\": \"63\", \"BinRight\": \"64\", \"NPeople\": 62734}, {\"BinLeft\": \"64\", \"BinRight\": \"65\", \"NPeople\": 62647}, {\"BinLeft\": \"65\", \"BinRight\": \"66\", \"NPeople\": 63317}, {\"BinLeft\": \"66\", \"BinRight\": \"67\", \"NPeople\": 63325}, {\"BinLeft\": \"67\", \"BinRight\": \"68\", \"NPeople\": 63852}, {\"BinLeft\": \"68\", \"BinRight\": \"69\", \"NPeople\": 64528}, {\"BinLeft\": \"69\", \"BinRight\": \"70\", \"NPeople\": 66441}, {\"BinLeft\": \"70\", \"BinRight\": \"71\", \"NPeople\": 66686}, {\"BinLeft\": \"71\", \"BinRight\": \"72\", \"NPeople\": 66242}, {\"BinLeft\": \"72\", \"BinRight\": \"73\", \"NPeople\": 67416}, {\"BinLeft\": \"73\", \"BinRight\": \"74\", \"NPeople\": 67728}, {\"BinLeft\": \"74\", \"BinRight\": \"75\", \"NPeople\": 71769}, {\"BinLeft\": \"75\", \"BinRight\": \"76\", \"NPeople\": 66638}, {\"BinLeft\": \"76\", \"BinRight\": \"77\", \"NPeople\": 63643}, {\"BinLeft\": \"77\", \"BinRight\": \"78\", \"NPeople\": 50853}, {\"BinLeft\": \"78\", \"BinRight\": \"79\", \"NPeople\": 47212}, {\"BinLeft\": \"79\", \"BinRight\": \"80\", \"NPeople\": 45988}, {\"BinLeft\": \"80\", \"BinRight\": \"81\", \"NPeople\": 44151}, {\"BinLeft\": \"81\", \"BinRight\": \"82\", \"NPeople\": 45595}, {\"BinLeft\": \"82\", \"BinRight\": \"83\", \"NPeople\": 42161}, {\"BinLeft\": \"83\", \"BinRight\": \"84\", \"NPeople\": 41643}, {\"BinLeft\": \"84\", \"BinRight\": \"85\", \"NPeople\": 39784}, {\"BinLeft\": \"85\", \"BinRight\": \"86\", \"NPeople\": 35900}, {\"BinLeft\": \"86\", \"BinRight\": \"87\", \"NPeople\": 34344}, {\"BinLeft\": \"87\", \"BinRight\": \"88\", \"NPeople\": 32142}, {\"BinLeft\": \"88\", \"BinRight\": \"89\", \"NPeople\": 29160}, {\"BinLeft\": \"89\", \"BinRight\": \"90\", \"NPeople\": 26542}, {\"BinLeft\": \"90\", \"BinRight\": \"91\", \"NPeople\": 24512}, {\"BinLeft\": \"91\", \"BinRight\": \"92\", \"NPeople\": 21567}, {\"BinLeft\": \"92\", \"BinRight\": \"93\", \"NPeople\": 18472}, {\"BinLeft\": \"93\", \"BinRight\": \"94\", \"NPeople\": 15127}, {\"BinLeft\": \"94\", \"BinRight\": \"95\", \"NPeople\": 11806}, {\"BinLeft\": \"95\", \"BinRight\": \"96\", \"NPeople\": 8975}, {\"BinLeft\": \"96\", \"BinRight\": \"97\", \"NPeople\": 6591}, {\"BinLeft\": \"97\", \"BinRight\": \"98\", \"NPeople\": 4747}, {\"BinLeft\": \"98\", \"BinRight\": \"99\", \"NPeople\": 3068}, {\"BinLeft\": \"99\", \"BinRight\": \"100\", \"NPeople\": 2006}, {\"BinLeft\": \"100\", \"BinRight\": \"inf\", \"NPeople\": 2768}]}}, {\"mode\": \"vega-lite\"});\n",
       "</script>"
      ],
      "text/plain": [
       "alt.Chart(...)"
      ]
     },
     "metadata": {},
     "output_type": "display_data"
    },
    {
     "data": {
      "text/markdown": [
       "Plot for stats_age_last_meas_distribution__sorted.csv"
      ],
      "text/plain": [
       "<IPython.core.display.Markdown object>"
      ]
     },
     "metadata": {},
     "output_type": "display_data"
    },
    {
     "data": {
      "text/markdown": [
       "<hr>"
      ],
      "text/plain": [
       "<IPython.core.display.Markdown object>"
      ]
     },
     "metadata": {},
     "output_type": "display_data"
    },
    {
     "data": {
      "text/html": [
       "\n",
       "<style>\n",
       "  #altair-viz-dc76fae00d1847f79d6cfe357c6aab72.vega-embed {\n",
       "    width: 100%;\n",
       "    display: flex;\n",
       "  }\n",
       "\n",
       "  #altair-viz-dc76fae00d1847f79d6cfe357c6aab72.vega-embed details,\n",
       "  #altair-viz-dc76fae00d1847f79d6cfe357c6aab72.vega-embed details summary {\n",
       "    position: relative;\n",
       "  }\n",
       "</style>\n",
       "<div id=\"altair-viz-dc76fae00d1847f79d6cfe357c6aab72\"></div>\n",
       "<script type=\"text/javascript\">\n",
       "  var VEGA_DEBUG = (typeof VEGA_DEBUG == \"undefined\") ? {} : VEGA_DEBUG;\n",
       "  (function(spec, embedOpt){\n",
       "    let outputDiv = document.currentScript.previousElementSibling;\n",
       "    if (outputDiv.id !== \"altair-viz-dc76fae00d1847f79d6cfe357c6aab72\") {\n",
       "      outputDiv = document.getElementById(\"altair-viz-dc76fae00d1847f79d6cfe357c6aab72\");\n",
       "    }\n",
       "    const paths = {\n",
       "      \"vega\": \"https://cdn.jsdelivr.net/npm/vega@5?noext\",\n",
       "      \"vega-lib\": \"https://cdn.jsdelivr.net/npm/vega-lib?noext\",\n",
       "      \"vega-lite\": \"https://cdn.jsdelivr.net/npm/vega-lite@5.16.3?noext\",\n",
       "      \"vega-embed\": \"https://cdn.jsdelivr.net/npm/vega-embed@6?noext\",\n",
       "    };\n",
       "\n",
       "    function maybeLoadScript(lib, version) {\n",
       "      var key = `${lib.replace(\"-\", \"\")}_version`;\n",
       "      return (VEGA_DEBUG[key] == version) ?\n",
       "        Promise.resolve(paths[lib]) :\n",
       "        new Promise(function(resolve, reject) {\n",
       "          var s = document.createElement('script');\n",
       "          document.getElementsByTagName(\"head\")[0].appendChild(s);\n",
       "          s.async = true;\n",
       "          s.onload = () => {\n",
       "            VEGA_DEBUG[key] = version;\n",
       "            return resolve(paths[lib]);\n",
       "          };\n",
       "          s.onerror = () => reject(`Error loading script: ${paths[lib]}`);\n",
       "          s.src = paths[lib];\n",
       "        });\n",
       "    }\n",
       "\n",
       "    function showError(err) {\n",
       "      outputDiv.innerHTML = `<div class=\"error\" style=\"color:red;\">${err}</div>`;\n",
       "      throw err;\n",
       "    }\n",
       "\n",
       "    function displayChart(vegaEmbed) {\n",
       "      vegaEmbed(outputDiv, spec, embedOpt)\n",
       "        .catch(err => showError(`Javascript Error: ${err.message}<br>This usually means there's a typo in your chart specification. See the javascript console for the full traceback.`));\n",
       "    }\n",
       "\n",
       "    if(typeof define === \"function\" && define.amd) {\n",
       "      requirejs.config({paths});\n",
       "      require([\"vega-embed\"], displayChart, err => showError(`Error loading script: ${err.message}`));\n",
       "    } else {\n",
       "      maybeLoadScript(\"vega\", \"5\")\n",
       "        .then(() => maybeLoadScript(\"vega-lite\", \"5.16.3\"))\n",
       "        .then(() => maybeLoadScript(\"vega-embed\", \"6\"))\n",
       "        .catch(showError)\n",
       "        .then(() => displayChart(vegaEmbed));\n",
       "    }\n",
       "  })({\"config\": {\"view\": {\"continuousWidth\": 300, \"continuousHeight\": 300}}, \"data\": {\"name\": \"data-427da3683070f19b55283406b109ce28\"}, \"mark\": {\"type\": \"rect\"}, \"encoding\": {\"x\": {\"field\": \"BinLeft\", \"title\": \"Age (years)\", \"type\": \"quantitative\"}, \"x2\": {\"field\": \"BinRight\"}, \"y\": {\"field\": \"NPeople\", \"title\": \"Number of people\", \"type\": \"quantitative\"}}, \"$schema\": \"https://vega.github.io/schema/vega-lite/v5.16.3.json\", \"datasets\": {\"data-427da3683070f19b55283406b109ce28\": [{\"BinLeft\": \"-inf\", \"BinRight\": \"0\", \"NPeople\": 60722}, {\"BinLeft\": \"0\", \"BinRight\": \"1\", \"NPeople\": 13604}, {\"BinLeft\": \"1\", \"BinRight\": \"2\", \"NPeople\": 14138}, {\"BinLeft\": \"2\", \"BinRight\": \"3\", \"NPeople\": 14865}, {\"BinLeft\": \"3\", \"BinRight\": \"4\", \"NPeople\": 16104}, {\"BinLeft\": \"4\", \"BinRight\": \"5\", \"NPeople\": 17018}, {\"BinLeft\": \"5\", \"BinRight\": \"6\", \"NPeople\": 18378}, {\"BinLeft\": \"6\", \"BinRight\": \"7\", \"NPeople\": 20457}, {\"BinLeft\": \"7\", \"BinRight\": \"8\", \"NPeople\": 22082}, {\"BinLeft\": \"8\", \"BinRight\": \"9\", \"NPeople\": 23590}, {\"BinLeft\": \"9\", \"BinRight\": \"10\", \"NPeople\": 25498}, {\"BinLeft\": \"10\", \"BinRight\": \"11\", \"NPeople\": 26524}, {\"BinLeft\": \"11\", \"BinRight\": \"12\", \"NPeople\": 27736}, {\"BinLeft\": \"12\", \"BinRight\": \"13\", \"NPeople\": 29504}, {\"BinLeft\": \"13\", \"BinRight\": \"14\", \"NPeople\": 30390}, {\"BinLeft\": \"14\", \"BinRight\": \"15\", \"NPeople\": 31879}, {\"BinLeft\": \"15\", \"BinRight\": \"16\", \"NPeople\": 32140}, {\"BinLeft\": \"16\", \"BinRight\": \"17\", \"NPeople\": 34425}, {\"BinLeft\": \"17\", \"BinRight\": \"18\", \"NPeople\": 35903}, {\"BinLeft\": \"18\", \"BinRight\": \"19\", \"NPeople\": 37701}, {\"BinLeft\": \"19\", \"BinRight\": \"20\", \"NPeople\": 39882}, {\"BinLeft\": \"20\", \"BinRight\": \"21\", \"NPeople\": 40803}, {\"BinLeft\": \"21\", \"BinRight\": \"22\", \"NPeople\": 42128}, {\"BinLeft\": \"22\", \"BinRight\": \"23\", \"NPeople\": 42212}, {\"BinLeft\": \"23\", \"BinRight\": \"24\", \"NPeople\": 42606}, {\"BinLeft\": \"24\", \"BinRight\": \"25\", \"NPeople\": 42130}, {\"BinLeft\": \"25\", \"BinRight\": \"26\", \"NPeople\": 42137}, {\"BinLeft\": \"26\", \"BinRight\": \"27\", \"NPeople\": 40778}, {\"BinLeft\": \"27\", \"BinRight\": \"28\", \"NPeople\": 41817}, {\"BinLeft\": \"28\", \"BinRight\": \"29\", \"NPeople\": 43299}, {\"BinLeft\": \"29\", \"BinRight\": \"30\", \"NPeople\": 44970}, {\"BinLeft\": \"30\", \"BinRight\": \"31\", \"NPeople\": 46783}, {\"BinLeft\": \"31\", \"BinRight\": \"32\", \"NPeople\": 47531}, {\"BinLeft\": \"32\", \"BinRight\": \"33\", \"NPeople\": 45661}, {\"BinLeft\": \"33\", \"BinRight\": \"34\", \"NPeople\": 45010}, {\"BinLeft\": \"34\", \"BinRight\": \"35\", \"NPeople\": 45630}, {\"BinLeft\": \"35\", \"BinRight\": \"36\", \"NPeople\": 46294}, {\"BinLeft\": \"36\", \"BinRight\": \"37\", \"NPeople\": 48052}, {\"BinLeft\": \"37\", \"BinRight\": \"38\", \"NPeople\": 48080}, {\"BinLeft\": \"38\", \"BinRight\": \"39\", \"NPeople\": 47708}, {\"BinLeft\": \"39\", \"BinRight\": \"40\", \"NPeople\": 45667}, {\"BinLeft\": \"40\", \"BinRight\": \"41\", \"NPeople\": 42685}, {\"BinLeft\": \"41\", \"BinRight\": \"42\", \"NPeople\": 45100}, {\"BinLeft\": \"42\", \"BinRight\": \"43\", \"NPeople\": 47033}, {\"BinLeft\": \"43\", \"BinRight\": \"44\", \"NPeople\": 48748}, {\"BinLeft\": \"44\", \"BinRight\": \"45\", \"NPeople\": 50783}, {\"BinLeft\": \"45\", \"BinRight\": \"46\", \"NPeople\": 54996}, {\"BinLeft\": \"46\", \"BinRight\": \"47\", \"NPeople\": 57615}, {\"BinLeft\": \"47\", \"BinRight\": \"48\", \"NPeople\": 58211}, {\"BinLeft\": \"48\", \"BinRight\": \"49\", \"NPeople\": 59367}, {\"BinLeft\": \"49\", \"BinRight\": \"50\", \"NPeople\": 59937}, {\"BinLeft\": \"50\", \"BinRight\": \"51\", \"NPeople\": 61500}, {\"BinLeft\": \"51\", \"BinRight\": \"52\", \"NPeople\": 62042}, {\"BinLeft\": \"52\", \"BinRight\": \"53\", \"NPeople\": 62300}, {\"BinLeft\": \"53\", \"BinRight\": \"54\", \"NPeople\": 61937}, {\"BinLeft\": \"54\", \"BinRight\": \"55\", \"NPeople\": 62447}, {\"BinLeft\": \"55\", \"BinRight\": \"56\", \"NPeople\": 60834}, {\"BinLeft\": \"56\", \"BinRight\": \"57\", \"NPeople\": 63933}, {\"BinLeft\": \"57\", \"BinRight\": \"58\", \"NPeople\": 65578}, {\"BinLeft\": \"58\", \"BinRight\": \"59\", \"NPeople\": 65452}, {\"BinLeft\": \"59\", \"BinRight\": \"60\", \"NPeople\": 65610}, {\"BinLeft\": \"60\", \"BinRight\": \"61\", \"NPeople\": 64874}, {\"BinLeft\": \"61\", \"BinRight\": \"62\", \"NPeople\": 67372}, {\"BinLeft\": \"62\", \"BinRight\": \"63\", \"NPeople\": 65287}, {\"BinLeft\": \"63\", \"BinRight\": \"64\", \"NPeople\": 67900}, {\"BinLeft\": \"64\", \"BinRight\": \"65\", \"NPeople\": 70410}, {\"BinLeft\": \"65\", \"BinRight\": \"66\", \"NPeople\": 71475}, {\"BinLeft\": \"66\", \"BinRight\": \"67\", \"NPeople\": 71720}, {\"BinLeft\": \"67\", \"BinRight\": \"68\", \"NPeople\": 69660}, {\"BinLeft\": \"68\", \"BinRight\": \"69\", \"NPeople\": 61861}, {\"BinLeft\": \"69\", \"BinRight\": \"70\", \"NPeople\": 48984}, {\"BinLeft\": \"70\", \"BinRight\": \"71\", \"NPeople\": 46599}, {\"BinLeft\": \"71\", \"BinRight\": \"72\", \"NPeople\": 36901}, {\"BinLeft\": \"72\", \"BinRight\": \"73\", \"NPeople\": 53444}, {\"BinLeft\": \"73\", \"BinRight\": \"74\", \"NPeople\": 37016}, {\"BinLeft\": \"74\", \"BinRight\": \"75\", \"NPeople\": 42372}, {\"BinLeft\": \"75\", \"BinRight\": \"76\", \"NPeople\": 40127}, {\"BinLeft\": \"76\", \"BinRight\": \"77\", \"NPeople\": 36724}, {\"BinLeft\": \"77\", \"BinRight\": \"78\", \"NPeople\": 33383}, {\"BinLeft\": \"78\", \"BinRight\": \"79\", \"NPeople\": 32373}, {\"BinLeft\": \"79\", \"BinRight\": \"80\", \"NPeople\": 29370}, {\"BinLeft\": \"80\", \"BinRight\": \"81\", \"NPeople\": 26468}, {\"BinLeft\": \"81\", \"BinRight\": \"82\", \"NPeople\": 25916}, {\"BinLeft\": \"82\", \"BinRight\": \"83\", \"NPeople\": 24732}, {\"BinLeft\": \"83\", \"BinRight\": \"84\", \"NPeople\": 23270}, {\"BinLeft\": \"84\", \"BinRight\": \"85\", \"NPeople\": 20571}, {\"BinLeft\": \"85\", \"BinRight\": \"86\", \"NPeople\": 18040}, {\"BinLeft\": \"86\", \"BinRight\": \"87\", \"NPeople\": 14987}, {\"BinLeft\": \"87\", \"BinRight\": \"88\", \"NPeople\": 12725}, {\"BinLeft\": \"88\", \"BinRight\": \"89\", \"NPeople\": 11074}, {\"BinLeft\": \"89\", \"BinRight\": \"90\", \"NPeople\": 8530}, {\"BinLeft\": \"90\", \"BinRight\": \"91\", \"NPeople\": 6933}, {\"BinLeft\": \"91\", \"BinRight\": \"92\", \"NPeople\": 5194}, {\"BinLeft\": \"92\", \"BinRight\": \"93\", \"NPeople\": 3896}, {\"BinLeft\": \"93\", \"BinRight\": \"94\", \"NPeople\": 2810}, {\"BinLeft\": \"94\", \"BinRight\": \"95\", \"NPeople\": 1579}, {\"BinLeft\": \"95\", \"BinRight\": \"96\", \"NPeople\": 1231}, {\"BinLeft\": \"96\", \"BinRight\": \"97\", \"NPeople\": 818}, {\"BinLeft\": \"97\", \"BinRight\": \"98\", \"NPeople\": 518}, {\"BinLeft\": \"98\", \"BinRight\": \"99\", \"NPeople\": 291}, {\"BinLeft\": \"99\", \"BinRight\": \"100\", \"NPeople\": 170}, {\"BinLeft\": \"100\", \"BinRight\": \"inf\", \"NPeople\": 230}]}}, {\"mode\": \"vega-lite\"});\n",
       "</script>"
      ],
      "text/plain": [
       "alt.Chart(...)"
      ]
     },
     "metadata": {},
     "output_type": "display_data"
    },
    {
     "data": {
      "text/markdown": [
       "Plot for stats_age_study_start_distribution__sorted.csv"
      ],
      "text/plain": [
       "<IPython.core.display.Markdown object>"
      ]
     },
     "metadata": {},
     "output_type": "display_data"
    },
    {
     "data": {
      "text/markdown": [
       "<hr>"
      ],
      "text/plain": [
       "<IPython.core.display.Markdown object>"
      ]
     },
     "metadata": {},
     "output_type": "display_data"
    },
    {
     "data": {
      "text/markdown": [
       "## OMOP ID: 3035995"
      ],
      "text/plain": [
       "<IPython.core.display.Markdown object>"
      ]
     },
     "metadata": {},
     "output_type": "display_data"
    },
    {
     "data": {
      "text/html": [
       "\n",
       "<style>\n",
       "  #altair-viz-49d87d4a4e7a4a9d84dbabf530c14da3.vega-embed {\n",
       "    width: 100%;\n",
       "    display: flex;\n",
       "  }\n",
       "\n",
       "  #altair-viz-49d87d4a4e7a4a9d84dbabf530c14da3.vega-embed details,\n",
       "  #altair-viz-49d87d4a4e7a4a9d84dbabf530c14da3.vega-embed details summary {\n",
       "    position: relative;\n",
       "  }\n",
       "</style>\n",
       "<div id=\"altair-viz-49d87d4a4e7a4a9d84dbabf530c14da3\"></div>\n",
       "<script type=\"text/javascript\">\n",
       "  var VEGA_DEBUG = (typeof VEGA_DEBUG == \"undefined\") ? {} : VEGA_DEBUG;\n",
       "  (function(spec, embedOpt){\n",
       "    let outputDiv = document.currentScript.previousElementSibling;\n",
       "    if (outputDiv.id !== \"altair-viz-49d87d4a4e7a4a9d84dbabf530c14da3\") {\n",
       "      outputDiv = document.getElementById(\"altair-viz-49d87d4a4e7a4a9d84dbabf530c14da3\");\n",
       "    }\n",
       "    const paths = {\n",
       "      \"vega\": \"https://cdn.jsdelivr.net/npm/vega@5?noext\",\n",
       "      \"vega-lib\": \"https://cdn.jsdelivr.net/npm/vega-lib?noext\",\n",
       "      \"vega-lite\": \"https://cdn.jsdelivr.net/npm/vega-lite@5.16.3?noext\",\n",
       "      \"vega-embed\": \"https://cdn.jsdelivr.net/npm/vega-embed@6?noext\",\n",
       "    };\n",
       "\n",
       "    function maybeLoadScript(lib, version) {\n",
       "      var key = `${lib.replace(\"-\", \"\")}_version`;\n",
       "      return (VEGA_DEBUG[key] == version) ?\n",
       "        Promise.resolve(paths[lib]) :\n",
       "        new Promise(function(resolve, reject) {\n",
       "          var s = document.createElement('script');\n",
       "          document.getElementsByTagName(\"head\")[0].appendChild(s);\n",
       "          s.async = true;\n",
       "          s.onload = () => {\n",
       "            VEGA_DEBUG[key] = version;\n",
       "            return resolve(paths[lib]);\n",
       "          };\n",
       "          s.onerror = () => reject(`Error loading script: ${paths[lib]}`);\n",
       "          s.src = paths[lib];\n",
       "        });\n",
       "    }\n",
       "\n",
       "    function showError(err) {\n",
       "      outputDiv.innerHTML = `<div class=\"error\" style=\"color:red;\">${err}</div>`;\n",
       "      throw err;\n",
       "    }\n",
       "\n",
       "    function displayChart(vegaEmbed) {\n",
       "      vegaEmbed(outputDiv, spec, embedOpt)\n",
       "        .catch(err => showError(`Javascript Error: ${err.message}<br>This usually means there's a typo in your chart specification. See the javascript console for the full traceback.`));\n",
       "    }\n",
       "\n",
       "    if(typeof define === \"function\" && define.amd) {\n",
       "      requirejs.config({paths});\n",
       "      require([\"vega-embed\"], displayChart, err => showError(`Error loading script: ${err.message}`));\n",
       "    } else {\n",
       "      maybeLoadScript(\"vega\", \"5\")\n",
       "        .then(() => maybeLoadScript(\"vega-lite\", \"5.16.3\"))\n",
       "        .then(() => maybeLoadScript(\"vega-embed\", \"6\"))\n",
       "        .catch(showError)\n",
       "        .then(() => displayChart(vegaEmbed));\n",
       "    }\n",
       "  })({\"config\": {\"view\": {\"continuousWidth\": 300, \"continuousHeight\": 300}}, \"data\": {\"name\": \"data-094e91049306f71d496b6c1e6c90c033\"}, \"mark\": {\"type\": \"rect\"}, \"encoding\": {\"x\": {\"field\": \"BinLeft\", \"title\": \"Age (years)\", \"type\": \"quantitative\"}, \"x2\": {\"field\": \"BinRight\"}, \"y\": {\"field\": \"NPeople\", \"title\": \"Number of people\", \"type\": \"quantitative\"}}, \"$schema\": \"https://vega.github.io/schema/vega-lite/v5.16.3.json\", \"datasets\": {\"data-094e91049306f71d496b6c1e6c90c033\": [{\"BinLeft\": \"0\", \"BinRight\": \"1\", \"NPeople\": 7898}, {\"BinLeft\": \"1\", \"BinRight\": \"2\", \"NPeople\": 3950}, {\"BinLeft\": \"2\", \"BinRight\": \"3\", \"NPeople\": 3212}, {\"BinLeft\": \"3\", \"BinRight\": \"4\", \"NPeople\": 3383}, {\"BinLeft\": \"4\", \"BinRight\": \"5\", \"NPeople\": 3940}, {\"BinLeft\": \"5\", \"BinRight\": \"6\", \"NPeople\": 4020}, {\"BinLeft\": \"6\", \"BinRight\": \"7\", \"NPeople\": 4356}, {\"BinLeft\": \"7\", \"BinRight\": \"8\", \"NPeople\": 4733}, {\"BinLeft\": \"8\", \"BinRight\": \"9\", \"NPeople\": 4934}, {\"BinLeft\": \"9\", \"BinRight\": \"10\", \"NPeople\": 5156}, {\"BinLeft\": \"10\", \"BinRight\": \"11\", \"NPeople\": 5774}, {\"BinLeft\": \"11\", \"BinRight\": \"12\", \"NPeople\": 7003}, {\"BinLeft\": \"12\", \"BinRight\": \"13\", \"NPeople\": 6758}, {\"BinLeft\": \"13\", \"BinRight\": \"14\", \"NPeople\": 8727}, {\"BinLeft\": \"14\", \"BinRight\": \"15\", \"NPeople\": 11341}, {\"BinLeft\": \"15\", \"BinRight\": \"16\", \"NPeople\": 11484}, {\"BinLeft\": \"16\", \"BinRight\": \"17\", \"NPeople\": 13373}, {\"BinLeft\": \"17\", \"BinRight\": \"18\", \"NPeople\": 13969}, {\"BinLeft\": \"18\", \"BinRight\": \"19\", \"NPeople\": 13615}, {\"BinLeft\": \"19\", \"BinRight\": \"20\", \"NPeople\": 14073}, {\"BinLeft\": \"20\", \"BinRight\": \"21\", \"NPeople\": 14567}, {\"BinLeft\": \"21\", \"BinRight\": \"22\", \"NPeople\": 15122}, {\"BinLeft\": \"22\", \"BinRight\": \"23\", \"NPeople\": 15350}, {\"BinLeft\": \"23\", \"BinRight\": \"24\", \"NPeople\": 15682}, {\"BinLeft\": \"24\", \"BinRight\": \"25\", \"NPeople\": 16258}, {\"BinLeft\": \"25\", \"BinRight\": \"26\", \"NPeople\": 16825}, {\"BinLeft\": \"26\", \"BinRight\": \"27\", \"NPeople\": 17393}, {\"BinLeft\": \"27\", \"BinRight\": \"28\", \"NPeople\": 17925}, {\"BinLeft\": \"28\", \"BinRight\": \"29\", \"NPeople\": 18276}, {\"BinLeft\": \"29\", \"BinRight\": \"30\", \"NPeople\": 18307}, {\"BinLeft\": \"30\", \"BinRight\": \"31\", \"NPeople\": 18469}, {\"BinLeft\": \"31\", \"BinRight\": \"32\", \"NPeople\": 18721}, {\"BinLeft\": \"32\", \"BinRight\": \"33\", \"NPeople\": 19170}, {\"BinLeft\": \"33\", \"BinRight\": \"34\", \"NPeople\": 19536}, {\"BinLeft\": \"34\", \"BinRight\": \"35\", \"NPeople\": 19771}, {\"BinLeft\": \"35\", \"BinRight\": \"36\", \"NPeople\": 19959}, {\"BinLeft\": \"36\", \"BinRight\": \"37\", \"NPeople\": 20180}, {\"BinLeft\": \"37\", \"BinRight\": \"38\", \"NPeople\": 20763}, {\"BinLeft\": \"38\", \"BinRight\": \"39\", \"NPeople\": 20687}, {\"BinLeft\": \"39\", \"BinRight\": \"40\", \"NPeople\": 21000}, {\"BinLeft\": \"40\", \"BinRight\": \"41\", \"NPeople\": 21274}, {\"BinLeft\": \"41\", \"BinRight\": \"42\", \"NPeople\": 21185}, {\"BinLeft\": \"42\", \"BinRight\": \"43\", \"NPeople\": 21683}, {\"BinLeft\": \"43\", \"BinRight\": \"44\", \"NPeople\": 21201}, {\"BinLeft\": \"44\", \"BinRight\": \"45\", \"NPeople\": 21753}, {\"BinLeft\": \"45\", \"BinRight\": \"46\", \"NPeople\": 21829}, {\"BinLeft\": \"46\", \"BinRight\": \"47\", \"NPeople\": 22316}, {\"BinLeft\": \"47\", \"BinRight\": \"48\", \"NPeople\": 23093}, {\"BinLeft\": \"48\", \"BinRight\": \"49\", \"NPeople\": 23922}, {\"BinLeft\": \"49\", \"BinRight\": \"50\", \"NPeople\": 25627}, {\"BinLeft\": \"50\", \"BinRight\": \"51\", \"NPeople\": 27473}, {\"BinLeft\": \"51\", \"BinRight\": \"52\", \"NPeople\": 27558}, {\"BinLeft\": \"52\", \"BinRight\": \"53\", \"NPeople\": 29392}, {\"BinLeft\": \"53\", \"BinRight\": \"54\", \"NPeople\": 30209}, {\"BinLeft\": \"54\", \"BinRight\": \"55\", \"NPeople\": 31454}, {\"BinLeft\": \"55\", \"BinRight\": \"56\", \"NPeople\": 31908}, {\"BinLeft\": \"56\", \"BinRight\": \"57\", \"NPeople\": 32329}, {\"BinLeft\": \"57\", \"BinRight\": \"58\", \"NPeople\": 33029}, {\"BinLeft\": \"58\", \"BinRight\": \"59\", \"NPeople\": 34140}, {\"BinLeft\": \"59\", \"BinRight\": \"60\", \"NPeople\": 34686}, {\"BinLeft\": \"60\", \"BinRight\": \"61\", \"NPeople\": 36019}, {\"BinLeft\": \"61\", \"BinRight\": \"62\", \"NPeople\": 36024}, {\"BinLeft\": \"62\", \"BinRight\": \"63\", \"NPeople\": 37121}, {\"BinLeft\": \"63\", \"BinRight\": \"64\", \"NPeople\": 37549}, {\"BinLeft\": \"64\", \"BinRight\": \"65\", \"NPeople\": 39277}, {\"BinLeft\": \"65\", \"BinRight\": \"66\", \"NPeople\": 39737}, {\"BinLeft\": \"66\", \"BinRight\": \"67\", \"NPeople\": 40474}, {\"BinLeft\": \"67\", \"BinRight\": \"68\", \"NPeople\": 41186}, {\"BinLeft\": \"68\", \"BinRight\": \"69\", \"NPeople\": 42690}, {\"BinLeft\": \"69\", \"BinRight\": \"70\", \"NPeople\": 43138}, {\"BinLeft\": \"70\", \"BinRight\": \"71\", \"NPeople\": 41683}, {\"BinLeft\": \"71\", \"BinRight\": \"72\", \"NPeople\": 40841}, {\"BinLeft\": \"72\", \"BinRight\": \"73\", \"NPeople\": 39068}, {\"BinLeft\": \"73\", \"BinRight\": \"74\", \"NPeople\": 38022}, {\"BinLeft\": \"74\", \"BinRight\": \"75\", \"NPeople\": 35709}, {\"BinLeft\": \"75\", \"BinRight\": \"76\", \"NPeople\": 33544}, {\"BinLeft\": \"76\", \"BinRight\": \"77\", \"NPeople\": 31736}, {\"BinLeft\": \"77\", \"BinRight\": \"78\", \"NPeople\": 29946}, {\"BinLeft\": \"78\", \"BinRight\": \"79\", \"NPeople\": 29063}, {\"BinLeft\": \"79\", \"BinRight\": \"80\", \"NPeople\": 28097}, {\"BinLeft\": \"80\", \"BinRight\": \"81\", \"NPeople\": 26493}, {\"BinLeft\": \"81\", \"BinRight\": \"82\", \"NPeople\": 25187}, {\"BinLeft\": \"82\", \"BinRight\": \"83\", \"NPeople\": 23457}, {\"BinLeft\": \"83\", \"BinRight\": \"84\", \"NPeople\": 22116}, {\"BinLeft\": \"84\", \"BinRight\": \"85\", \"NPeople\": 20795}, {\"BinLeft\": \"85\", \"BinRight\": \"86\", \"NPeople\": 19101}, {\"BinLeft\": \"86\", \"BinRight\": \"87\", \"NPeople\": 17433}, {\"BinLeft\": \"87\", \"BinRight\": \"88\", \"NPeople\": 15621}, {\"BinLeft\": \"88\", \"BinRight\": \"89\", \"NPeople\": 13861}, {\"BinLeft\": \"89\", \"BinRight\": \"90\", \"NPeople\": 11973}, {\"BinLeft\": \"90\", \"BinRight\": \"91\", \"NPeople\": 9870}, {\"BinLeft\": \"91\", \"BinRight\": \"92\", \"NPeople\": 8050}, {\"BinLeft\": \"92\", \"BinRight\": \"93\", \"NPeople\": 6595}, {\"BinLeft\": \"93\", \"BinRight\": \"94\", \"NPeople\": 5066}, {\"BinLeft\": \"94\", \"BinRight\": \"95\", \"NPeople\": 3703}, {\"BinLeft\": \"95\", \"BinRight\": \"96\", \"NPeople\": 2615}, {\"BinLeft\": \"96\", \"BinRight\": \"97\", \"NPeople\": 1710}, {\"BinLeft\": \"97\", \"BinRight\": \"98\", \"NPeople\": 1158}, {\"BinLeft\": \"98\", \"BinRight\": \"99\", \"NPeople\": 719}, {\"BinLeft\": \"99\", \"BinRight\": \"100\", \"NPeople\": 423}, {\"BinLeft\": \"100\", \"BinRight\": \"inf\", \"NPeople\": 521}]}}, {\"mode\": \"vega-lite\"});\n",
       "</script>"
      ],
      "text/plain": [
       "alt.Chart(...)"
      ]
     },
     "metadata": {},
     "output_type": "display_data"
    },
    {
     "data": {
      "text/markdown": [
       "Plot for stats_age_first_meas_distribution__sorted.csv"
      ],
      "text/plain": [
       "<IPython.core.display.Markdown object>"
      ]
     },
     "metadata": {},
     "output_type": "display_data"
    },
    {
     "data": {
      "text/markdown": [
       "<hr>"
      ],
      "text/plain": [
       "<IPython.core.display.Markdown object>"
      ]
     },
     "metadata": {},
     "output_type": "display_data"
    },
    {
     "data": {
      "text/html": [
       "\n",
       "<style>\n",
       "  #altair-viz-a2930b4d7e0e4d5386494ed44185193f.vega-embed {\n",
       "    width: 100%;\n",
       "    display: flex;\n",
       "  }\n",
       "\n",
       "  #altair-viz-a2930b4d7e0e4d5386494ed44185193f.vega-embed details,\n",
       "  #altair-viz-a2930b4d7e0e4d5386494ed44185193f.vega-embed details summary {\n",
       "    position: relative;\n",
       "  }\n",
       "</style>\n",
       "<div id=\"altair-viz-a2930b4d7e0e4d5386494ed44185193f\"></div>\n",
       "<script type=\"text/javascript\">\n",
       "  var VEGA_DEBUG = (typeof VEGA_DEBUG == \"undefined\") ? {} : VEGA_DEBUG;\n",
       "  (function(spec, embedOpt){\n",
       "    let outputDiv = document.currentScript.previousElementSibling;\n",
       "    if (outputDiv.id !== \"altair-viz-a2930b4d7e0e4d5386494ed44185193f\") {\n",
       "      outputDiv = document.getElementById(\"altair-viz-a2930b4d7e0e4d5386494ed44185193f\");\n",
       "    }\n",
       "    const paths = {\n",
       "      \"vega\": \"https://cdn.jsdelivr.net/npm/vega@5?noext\",\n",
       "      \"vega-lib\": \"https://cdn.jsdelivr.net/npm/vega-lib?noext\",\n",
       "      \"vega-lite\": \"https://cdn.jsdelivr.net/npm/vega-lite@5.16.3?noext\",\n",
       "      \"vega-embed\": \"https://cdn.jsdelivr.net/npm/vega-embed@6?noext\",\n",
       "    };\n",
       "\n",
       "    function maybeLoadScript(lib, version) {\n",
       "      var key = `${lib.replace(\"-\", \"\")}_version`;\n",
       "      return (VEGA_DEBUG[key] == version) ?\n",
       "        Promise.resolve(paths[lib]) :\n",
       "        new Promise(function(resolve, reject) {\n",
       "          var s = document.createElement('script');\n",
       "          document.getElementsByTagName(\"head\")[0].appendChild(s);\n",
       "          s.async = true;\n",
       "          s.onload = () => {\n",
       "            VEGA_DEBUG[key] = version;\n",
       "            return resolve(paths[lib]);\n",
       "          };\n",
       "          s.onerror = () => reject(`Error loading script: ${paths[lib]}`);\n",
       "          s.src = paths[lib];\n",
       "        });\n",
       "    }\n",
       "\n",
       "    function showError(err) {\n",
       "      outputDiv.innerHTML = `<div class=\"error\" style=\"color:red;\">${err}</div>`;\n",
       "      throw err;\n",
       "    }\n",
       "\n",
       "    function displayChart(vegaEmbed) {\n",
       "      vegaEmbed(outputDiv, spec, embedOpt)\n",
       "        .catch(err => showError(`Javascript Error: ${err.message}<br>This usually means there's a typo in your chart specification. See the javascript console for the full traceback.`));\n",
       "    }\n",
       "\n",
       "    if(typeof define === \"function\" && define.amd) {\n",
       "      requirejs.config({paths});\n",
       "      require([\"vega-embed\"], displayChart, err => showError(`Error loading script: ${err.message}`));\n",
       "    } else {\n",
       "      maybeLoadScript(\"vega\", \"5\")\n",
       "        .then(() => maybeLoadScript(\"vega-lite\", \"5.16.3\"))\n",
       "        .then(() => maybeLoadScript(\"vega-embed\", \"6\"))\n",
       "        .catch(showError)\n",
       "        .then(() => displayChart(vegaEmbed));\n",
       "    }\n",
       "  })({\"config\": {\"view\": {\"continuousWidth\": 300, \"continuousHeight\": 300}}, \"data\": {\"name\": \"data-51f451858f802ae7409fd2c78c7e9908\"}, \"mark\": {\"type\": \"rect\"}, \"encoding\": {\"x\": {\"field\": \"BinLeft\", \"title\": \"Age (years)\", \"type\": \"quantitative\"}, \"x2\": {\"field\": \"BinRight\"}, \"y\": {\"field\": \"NPeople\", \"title\": \"Number of people\", \"type\": \"quantitative\"}}, \"$schema\": \"https://vega.github.io/schema/vega-lite/v5.16.3.json\", \"datasets\": {\"data-51f451858f802ae7409fd2c78c7e9908\": [{\"BinLeft\": \"0\", \"BinRight\": \"1\", \"NPeople\": 6400}, {\"BinLeft\": \"1\", \"BinRight\": \"2\", \"NPeople\": 3751}, {\"BinLeft\": \"2\", \"BinRight\": \"3\", \"NPeople\": 3176}, {\"BinLeft\": \"3\", \"BinRight\": \"4\", \"NPeople\": 3373}, {\"BinLeft\": \"4\", \"BinRight\": \"5\", \"NPeople\": 3972}, {\"BinLeft\": \"5\", \"BinRight\": \"6\", \"NPeople\": 3938}, {\"BinLeft\": \"6\", \"BinRight\": \"7\", \"NPeople\": 4216}, {\"BinLeft\": \"7\", \"BinRight\": \"8\", \"NPeople\": 4549}, {\"BinLeft\": \"8\", \"BinRight\": \"9\", \"NPeople\": 4662}, {\"BinLeft\": \"9\", \"BinRight\": \"10\", \"NPeople\": 4826}, {\"BinLeft\": \"10\", \"BinRight\": \"11\", \"NPeople\": 5262}, {\"BinLeft\": \"11\", \"BinRight\": \"12\", \"NPeople\": 6391}, {\"BinLeft\": \"12\", \"BinRight\": \"13\", \"NPeople\": 6159}, {\"BinLeft\": \"13\", \"BinRight\": \"14\", \"NPeople\": 7663}, {\"BinLeft\": \"14\", \"BinRight\": \"15\", \"NPeople\": 9943}, {\"BinLeft\": \"15\", \"BinRight\": \"16\", \"NPeople\": 10047}, {\"BinLeft\": \"16\", \"BinRight\": \"17\", \"NPeople\": 11404}, {\"BinLeft\": \"17\", \"BinRight\": \"18\", \"NPeople\": 12394}, {\"BinLeft\": \"18\", \"BinRight\": \"19\", \"NPeople\": 12522}, {\"BinLeft\": \"19\", \"BinRight\": \"20\", \"NPeople\": 13039}, {\"BinLeft\": \"20\", \"BinRight\": \"21\", \"NPeople\": 13512}, {\"BinLeft\": \"21\", \"BinRight\": \"22\", \"NPeople\": 14076}, {\"BinLeft\": \"22\", \"BinRight\": \"23\", \"NPeople\": 14361}, {\"BinLeft\": \"23\", \"BinRight\": \"24\", \"NPeople\": 14800}, {\"BinLeft\": \"24\", \"BinRight\": \"25\", \"NPeople\": 15202}, {\"BinLeft\": \"25\", \"BinRight\": \"26\", \"NPeople\": 15856}, {\"BinLeft\": \"26\", \"BinRight\": \"27\", \"NPeople\": 16441}, {\"BinLeft\": \"27\", \"BinRight\": \"28\", \"NPeople\": 17143}, {\"BinLeft\": \"28\", \"BinRight\": \"29\", \"NPeople\": 17687}, {\"BinLeft\": \"29\", \"BinRight\": \"30\", \"NPeople\": 17944}, {\"BinLeft\": \"30\", \"BinRight\": \"31\", \"NPeople\": 18054}, {\"BinLeft\": \"31\", \"BinRight\": \"32\", \"NPeople\": 18068}, {\"BinLeft\": \"32\", \"BinRight\": \"33\", \"NPeople\": 18403}, {\"BinLeft\": \"33\", \"BinRight\": \"34\", \"NPeople\": 18553}, {\"BinLeft\": \"34\", \"BinRight\": \"35\", \"NPeople\": 18652}, {\"BinLeft\": \"35\", \"BinRight\": \"36\", \"NPeople\": 19086}, {\"BinLeft\": \"36\", \"BinRight\": \"37\", \"NPeople\": 19547}, {\"BinLeft\": \"37\", \"BinRight\": \"38\", \"NPeople\": 20206}, {\"BinLeft\": \"38\", \"BinRight\": \"39\", \"NPeople\": 20185}, {\"BinLeft\": \"39\", \"BinRight\": \"40\", \"NPeople\": 20575}, {\"BinLeft\": \"40\", \"BinRight\": \"41\", \"NPeople\": 20533}, {\"BinLeft\": \"41\", \"BinRight\": \"42\", \"NPeople\": 20825}, {\"BinLeft\": \"42\", \"BinRight\": \"43\", \"NPeople\": 20879}, {\"BinLeft\": \"43\", \"BinRight\": \"44\", \"NPeople\": 20760}, {\"BinLeft\": \"44\", \"BinRight\": \"45\", \"NPeople\": 21382}, {\"BinLeft\": \"45\", \"BinRight\": \"46\", \"NPeople\": 21458}, {\"BinLeft\": \"46\", \"BinRight\": \"47\", \"NPeople\": 21373}, {\"BinLeft\": \"47\", \"BinRight\": \"48\", \"NPeople\": 21503}, {\"BinLeft\": \"48\", \"BinRight\": \"49\", \"NPeople\": 21859}, {\"BinLeft\": \"49\", \"BinRight\": \"50\", \"NPeople\": 22649}, {\"BinLeft\": \"50\", \"BinRight\": \"51\", \"NPeople\": 24459}, {\"BinLeft\": \"51\", \"BinRight\": \"52\", \"NPeople\": 24936}, {\"BinLeft\": \"52\", \"BinRight\": \"53\", \"NPeople\": 26390}, {\"BinLeft\": \"53\", \"BinRight\": \"54\", \"NPeople\": 28152}, {\"BinLeft\": \"54\", \"BinRight\": \"55\", \"NPeople\": 29294}, {\"BinLeft\": \"55\", \"BinRight\": \"56\", \"NPeople\": 30231}, {\"BinLeft\": \"56\", \"BinRight\": \"57\", \"NPeople\": 30567}, {\"BinLeft\": \"57\", \"BinRight\": \"58\", \"NPeople\": 31588}, {\"BinLeft\": \"58\", \"BinRight\": \"59\", \"NPeople\": 32258}, {\"BinLeft\": \"59\", \"BinRight\": \"60\", \"NPeople\": 33326}, {\"BinLeft\": \"60\", \"BinRight\": \"61\", \"NPeople\": 33868}, {\"BinLeft\": \"61\", \"BinRight\": \"62\", \"NPeople\": 34163}, {\"BinLeft\": \"62\", \"BinRight\": \"63\", \"NPeople\": 34773}, {\"BinLeft\": \"63\", \"BinRight\": \"64\", \"NPeople\": 35543}, {\"BinLeft\": \"64\", \"BinRight\": \"65\", \"NPeople\": 36398}, {\"BinLeft\": \"65\", \"BinRight\": \"66\", \"NPeople\": 37443}, {\"BinLeft\": \"66\", \"BinRight\": \"67\", \"NPeople\": 37928}, {\"BinLeft\": \"67\", \"BinRight\": \"68\", \"NPeople\": 38280}, {\"BinLeft\": \"68\", \"BinRight\": \"69\", \"NPeople\": 39527}, {\"BinLeft\": \"69\", \"BinRight\": \"70\", \"NPeople\": 40852}, {\"BinLeft\": \"70\", \"BinRight\": \"71\", \"NPeople\": 40893}, {\"BinLeft\": \"71\", \"BinRight\": \"72\", \"NPeople\": 41185}, {\"BinLeft\": \"72\", \"BinRight\": \"73\", \"NPeople\": 41747}, {\"BinLeft\": \"73\", \"BinRight\": \"74\", \"NPeople\": 41622}, {\"BinLeft\": \"74\", \"BinRight\": \"75\", \"NPeople\": 41083}, {\"BinLeft\": \"75\", \"BinRight\": \"76\", \"NPeople\": 39026}, {\"BinLeft\": \"76\", \"BinRight\": \"77\", \"NPeople\": 36567}, {\"BinLeft\": \"77\", \"BinRight\": \"78\", \"NPeople\": 31828}, {\"BinLeft\": \"78\", \"BinRight\": \"79\", \"NPeople\": 30676}, {\"BinLeft\": \"79\", \"BinRight\": \"80\", \"NPeople\": 29998}, {\"BinLeft\": \"80\", \"BinRight\": \"81\", \"NPeople\": 29266}, {\"BinLeft\": \"81\", \"BinRight\": \"82\", \"NPeople\": 29047}, {\"BinLeft\": \"82\", \"BinRight\": \"83\", \"NPeople\": 27345}, {\"BinLeft\": \"83\", \"BinRight\": \"84\", \"NPeople\": 26483}, {\"BinLeft\": \"84\", \"BinRight\": \"85\", \"NPeople\": 24969}, {\"BinLeft\": \"85\", \"BinRight\": \"86\", \"NPeople\": 23139}, {\"BinLeft\": \"86\", \"BinRight\": \"87\", \"NPeople\": 21584}, {\"BinLeft\": \"87\", \"BinRight\": \"88\", \"NPeople\": 19685}, {\"BinLeft\": \"88\", \"BinRight\": \"89\", \"NPeople\": 17750}, {\"BinLeft\": \"89\", \"BinRight\": \"90\", \"NPeople\": 15933}, {\"BinLeft\": \"90\", \"BinRight\": \"91\", \"NPeople\": 13863}, {\"BinLeft\": \"91\", \"BinRight\": \"92\", \"NPeople\": 11785}, {\"BinLeft\": \"92\", \"BinRight\": \"93\", \"NPeople\": 9589}, {\"BinLeft\": \"93\", \"BinRight\": \"94\", \"NPeople\": 7659}, {\"BinLeft\": \"94\", \"BinRight\": \"95\", \"NPeople\": 5728}, {\"BinLeft\": \"95\", \"BinRight\": \"96\", \"NPeople\": 4033}, {\"BinLeft\": \"96\", \"BinRight\": \"97\", \"NPeople\": 2772}, {\"BinLeft\": \"97\", \"BinRight\": \"98\", \"NPeople\": 1852}, {\"BinLeft\": \"98\", \"BinRight\": \"99\", \"NPeople\": 1202}, {\"BinLeft\": \"99\", \"BinRight\": \"100\", \"NPeople\": 690}, {\"BinLeft\": \"100\", \"BinRight\": \"inf\", \"NPeople\": 878}]}}, {\"mode\": \"vega-lite\"});\n",
       "</script>"
      ],
      "text/plain": [
       "alt.Chart(...)"
      ]
     },
     "metadata": {},
     "output_type": "display_data"
    },
    {
     "data": {
      "text/markdown": [
       "Plot for stats_age_last_meas_distribution__sorted.csv"
      ],
      "text/plain": [
       "<IPython.core.display.Markdown object>"
      ]
     },
     "metadata": {},
     "output_type": "display_data"
    },
    {
     "data": {
      "text/markdown": [
       "<hr>"
      ],
      "text/plain": [
       "<IPython.core.display.Markdown object>"
      ]
     },
     "metadata": {},
     "output_type": "display_data"
    },
    {
     "data": {
      "text/html": [
       "\n",
       "<style>\n",
       "  #altair-viz-d7209a00c0c64e9292fd1534bad6f83d.vega-embed {\n",
       "    width: 100%;\n",
       "    display: flex;\n",
       "  }\n",
       "\n",
       "  #altair-viz-d7209a00c0c64e9292fd1534bad6f83d.vega-embed details,\n",
       "  #altair-viz-d7209a00c0c64e9292fd1534bad6f83d.vega-embed details summary {\n",
       "    position: relative;\n",
       "  }\n",
       "</style>\n",
       "<div id=\"altair-viz-d7209a00c0c64e9292fd1534bad6f83d\"></div>\n",
       "<script type=\"text/javascript\">\n",
       "  var VEGA_DEBUG = (typeof VEGA_DEBUG == \"undefined\") ? {} : VEGA_DEBUG;\n",
       "  (function(spec, embedOpt){\n",
       "    let outputDiv = document.currentScript.previousElementSibling;\n",
       "    if (outputDiv.id !== \"altair-viz-d7209a00c0c64e9292fd1534bad6f83d\") {\n",
       "      outputDiv = document.getElementById(\"altair-viz-d7209a00c0c64e9292fd1534bad6f83d\");\n",
       "    }\n",
       "    const paths = {\n",
       "      \"vega\": \"https://cdn.jsdelivr.net/npm/vega@5?noext\",\n",
       "      \"vega-lib\": \"https://cdn.jsdelivr.net/npm/vega-lib?noext\",\n",
       "      \"vega-lite\": \"https://cdn.jsdelivr.net/npm/vega-lite@5.16.3?noext\",\n",
       "      \"vega-embed\": \"https://cdn.jsdelivr.net/npm/vega-embed@6?noext\",\n",
       "    };\n",
       "\n",
       "    function maybeLoadScript(lib, version) {\n",
       "      var key = `${lib.replace(\"-\", \"\")}_version`;\n",
       "      return (VEGA_DEBUG[key] == version) ?\n",
       "        Promise.resolve(paths[lib]) :\n",
       "        new Promise(function(resolve, reject) {\n",
       "          var s = document.createElement('script');\n",
       "          document.getElementsByTagName(\"head\")[0].appendChild(s);\n",
       "          s.async = true;\n",
       "          s.onload = () => {\n",
       "            VEGA_DEBUG[key] = version;\n",
       "            return resolve(paths[lib]);\n",
       "          };\n",
       "          s.onerror = () => reject(`Error loading script: ${paths[lib]}`);\n",
       "          s.src = paths[lib];\n",
       "        });\n",
       "    }\n",
       "\n",
       "    function showError(err) {\n",
       "      outputDiv.innerHTML = `<div class=\"error\" style=\"color:red;\">${err}</div>`;\n",
       "      throw err;\n",
       "    }\n",
       "\n",
       "    function displayChart(vegaEmbed) {\n",
       "      vegaEmbed(outputDiv, spec, embedOpt)\n",
       "        .catch(err => showError(`Javascript Error: ${err.message}<br>This usually means there's a typo in your chart specification. See the javascript console for the full traceback.`));\n",
       "    }\n",
       "\n",
       "    if(typeof define === \"function\" && define.amd) {\n",
       "      requirejs.config({paths});\n",
       "      require([\"vega-embed\"], displayChart, err => showError(`Error loading script: ${err.message}`));\n",
       "    } else {\n",
       "      maybeLoadScript(\"vega\", \"5\")\n",
       "        .then(() => maybeLoadScript(\"vega-lite\", \"5.16.3\"))\n",
       "        .then(() => maybeLoadScript(\"vega-embed\", \"6\"))\n",
       "        .catch(showError)\n",
       "        .then(() => displayChart(vegaEmbed));\n",
       "    }\n",
       "  })({\"config\": {\"view\": {\"continuousWidth\": 300, \"continuousHeight\": 300}}, \"data\": {\"name\": \"data-d2e45bc990da5c2805dd731861a48dbc\"}, \"mark\": {\"type\": \"rect\"}, \"encoding\": {\"x\": {\"field\": \"BinLeft\", \"title\": \"Age (years)\", \"type\": \"quantitative\"}, \"x2\": {\"field\": \"BinRight\"}, \"y\": {\"field\": \"NPeople\", \"title\": \"Number of people\", \"type\": \"quantitative\"}}, \"$schema\": \"https://vega.github.io/schema/vega-lite/v5.16.3.json\", \"datasets\": {\"data-d2e45bc990da5c2805dd731861a48dbc\": [{\"BinLeft\": \"-inf\", \"BinRight\": \"0\", \"NPeople\": 23792}, {\"BinLeft\": \"0\", \"BinRight\": \"1\", \"NPeople\": 4439}, {\"BinLeft\": \"1\", \"BinRight\": \"2\", \"NPeople\": 4527}, {\"BinLeft\": \"2\", \"BinRight\": \"3\", \"NPeople\": 4915}, {\"BinLeft\": \"3\", \"BinRight\": \"4\", \"NPeople\": 5487}, {\"BinLeft\": \"4\", \"BinRight\": \"5\", \"NPeople\": 6205}, {\"BinLeft\": \"5\", \"BinRight\": \"6\", \"NPeople\": 6857}, {\"BinLeft\": \"6\", \"BinRight\": \"7\", \"NPeople\": 7772}, {\"BinLeft\": \"7\", \"BinRight\": \"8\", \"NPeople\": 8785}, {\"BinLeft\": \"8\", \"BinRight\": \"9\", \"NPeople\": 9561}, {\"BinLeft\": \"9\", \"BinRight\": \"10\", \"NPeople\": 10674}, {\"BinLeft\": \"10\", \"BinRight\": \"11\", \"NPeople\": 11223}, {\"BinLeft\": \"11\", \"BinRight\": \"12\", \"NPeople\": 11890}, {\"BinLeft\": \"12\", \"BinRight\": \"13\", \"NPeople\": 12852}, {\"BinLeft\": \"13\", \"BinRight\": \"14\", \"NPeople\": 13072}, {\"BinLeft\": \"14\", \"BinRight\": \"15\", \"NPeople\": 13833}, {\"BinLeft\": \"15\", \"BinRight\": \"16\", \"NPeople\": 13704}, {\"BinLeft\": \"16\", \"BinRight\": \"17\", \"NPeople\": 14740}, {\"BinLeft\": \"17\", \"BinRight\": \"18\", \"NPeople\": 15288}, {\"BinLeft\": \"18\", \"BinRight\": \"19\", \"NPeople\": 15819}, {\"BinLeft\": \"19\", \"BinRight\": \"20\", \"NPeople\": 16820}, {\"BinLeft\": \"20\", \"BinRight\": \"21\", \"NPeople\": 17323}, {\"BinLeft\": \"21\", \"BinRight\": \"22\", \"NPeople\": 17779}, {\"BinLeft\": \"22\", \"BinRight\": \"23\", \"NPeople\": 17810}, {\"BinLeft\": \"23\", \"BinRight\": \"24\", \"NPeople\": 18290}, {\"BinLeft\": \"24\", \"BinRight\": \"25\", \"NPeople\": 18118}, {\"BinLeft\": \"25\", \"BinRight\": \"26\", \"NPeople\": 18275}, {\"BinLeft\": \"26\", \"BinRight\": \"27\", \"NPeople\": 17411}, {\"BinLeft\": \"27\", \"BinRight\": \"28\", \"NPeople\": 18331}, {\"BinLeft\": \"28\", \"BinRight\": \"29\", \"NPeople\": 19278}, {\"BinLeft\": \"29\", \"BinRight\": \"30\", \"NPeople\": 19901}, {\"BinLeft\": \"30\", \"BinRight\": \"31\", \"NPeople\": 20692}, {\"BinLeft\": \"31\", \"BinRight\": \"32\", \"NPeople\": 21014}, {\"BinLeft\": \"32\", \"BinRight\": \"33\", \"NPeople\": 20292}, {\"BinLeft\": \"33\", \"BinRight\": \"34\", \"NPeople\": 20267}, {\"BinLeft\": \"34\", \"BinRight\": \"35\", \"NPeople\": 20644}, {\"BinLeft\": \"35\", \"BinRight\": \"36\", \"NPeople\": 20838}, {\"BinLeft\": \"36\", \"BinRight\": \"37\", \"NPeople\": 21779}, {\"BinLeft\": \"37\", \"BinRight\": \"38\", \"NPeople\": 22103}, {\"BinLeft\": \"38\", \"BinRight\": \"39\", \"NPeople\": 22162}, {\"BinLeft\": \"39\", \"BinRight\": \"40\", \"NPeople\": 21356}, {\"BinLeft\": \"40\", \"BinRight\": \"41\", \"NPeople\": 20054}, {\"BinLeft\": \"41\", \"BinRight\": \"42\", \"NPeople\": 20842}, {\"BinLeft\": \"42\", \"BinRight\": \"43\", \"NPeople\": 22268}, {\"BinLeft\": \"43\", \"BinRight\": \"44\", \"NPeople\": 23631}, {\"BinLeft\": \"44\", \"BinRight\": \"45\", \"NPeople\": 24683}, {\"BinLeft\": \"45\", \"BinRight\": \"46\", \"NPeople\": 26807}, {\"BinLeft\": \"46\", \"BinRight\": \"47\", \"NPeople\": 28652}, {\"BinLeft\": \"47\", \"BinRight\": \"48\", \"NPeople\": 29077}, {\"BinLeft\": \"48\", \"BinRight\": \"49\", \"NPeople\": 29916}, {\"BinLeft\": \"49\", \"BinRight\": \"50\", \"NPeople\": 30768}, {\"BinLeft\": \"50\", \"BinRight\": \"51\", \"NPeople\": 31719}, {\"BinLeft\": \"51\", \"BinRight\": \"52\", \"NPeople\": 32415}, {\"BinLeft\": \"52\", \"BinRight\": \"53\", \"NPeople\": 33003}, {\"BinLeft\": \"53\", \"BinRight\": \"54\", \"NPeople\": 33195}, {\"BinLeft\": \"54\", \"BinRight\": \"55\", \"NPeople\": 33839}, {\"BinLeft\": \"55\", \"BinRight\": \"56\", \"NPeople\": 33365}, {\"BinLeft\": \"56\", \"BinRight\": \"57\", \"NPeople\": 35721}, {\"BinLeft\": \"57\", \"BinRight\": \"58\", \"NPeople\": 36919}, {\"BinLeft\": \"58\", \"BinRight\": \"59\", \"NPeople\": 37322}, {\"BinLeft\": \"59\", \"BinRight\": \"60\", \"NPeople\": 37684}, {\"BinLeft\": \"60\", \"BinRight\": \"61\", \"NPeople\": 37929}, {\"BinLeft\": \"61\", \"BinRight\": \"62\", \"NPeople\": 39716}, {\"BinLeft\": \"62\", \"BinRight\": \"63\", \"NPeople\": 38923}, {\"BinLeft\": \"63\", \"BinRight\": \"64\", \"NPeople\": 40973}, {\"BinLeft\": \"64\", \"BinRight\": \"65\", \"NPeople\": 43169}, {\"BinLeft\": \"65\", \"BinRight\": \"66\", \"NPeople\": 44147}, {\"BinLeft\": \"66\", \"BinRight\": \"67\", \"NPeople\": 44672}, {\"BinLeft\": \"67\", \"BinRight\": \"68\", \"NPeople\": 44113}, {\"BinLeft\": \"68\", \"BinRight\": \"69\", \"NPeople\": 39703}, {\"BinLeft\": \"69\", \"BinRight\": \"70\", \"NPeople\": 31991}, {\"BinLeft\": \"70\", \"BinRight\": \"71\", \"NPeople\": 30846}, {\"BinLeft\": \"71\", \"BinRight\": \"72\", \"NPeople\": 24587}, {\"BinLeft\": \"72\", \"BinRight\": \"73\", \"NPeople\": 36191}, {\"BinLeft\": \"73\", \"BinRight\": \"74\", \"NPeople\": 25184}, {\"BinLeft\": \"74\", \"BinRight\": \"75\", \"NPeople\": 28912}, {\"BinLeft\": \"75\", \"BinRight\": \"76\", \"NPeople\": 27826}, {\"BinLeft\": \"76\", \"BinRight\": \"77\", \"NPeople\": 25335}, {\"BinLeft\": \"77\", \"BinRight\": \"78\", \"NPeople\": 23255}, {\"BinLeft\": \"78\", \"BinRight\": \"79\", \"NPeople\": 22540}, {\"BinLeft\": \"79\", \"BinRight\": \"80\", \"NPeople\": 20349}, {\"BinLeft\": \"80\", \"BinRight\": \"81\", \"NPeople\": 18301}, {\"BinLeft\": \"81\", \"BinRight\": \"82\", \"NPeople\": 17648}, {\"BinLeft\": \"82\", \"BinRight\": \"83\", \"NPeople\": 16595}, {\"BinLeft\": \"83\", \"BinRight\": \"84\", \"NPeople\": 15509}, {\"BinLeft\": \"84\", \"BinRight\": \"85\", \"NPeople\": 13306}, {\"BinLeft\": \"85\", \"BinRight\": \"86\", \"NPeople\": 11309}, {\"BinLeft\": \"86\", \"BinRight\": \"87\", \"NPeople\": 9087}, {\"BinLeft\": \"87\", \"BinRight\": \"88\", \"NPeople\": 7454}, {\"BinLeft\": \"88\", \"BinRight\": \"89\", \"NPeople\": 6268}, {\"BinLeft\": \"89\", \"BinRight\": \"90\", \"NPeople\": 4676}, {\"BinLeft\": \"90\", \"BinRight\": \"91\", \"NPeople\": 3575}, {\"BinLeft\": \"91\", \"BinRight\": \"92\", \"NPeople\": 2516}, {\"BinLeft\": \"92\", \"BinRight\": \"93\", \"NPeople\": 1781}, {\"BinLeft\": \"93\", \"BinRight\": \"94\", \"NPeople\": 1207}, {\"BinLeft\": \"94\", \"BinRight\": \"95\", \"NPeople\": 608}, {\"BinLeft\": \"95\", \"BinRight\": \"96\", \"NPeople\": 458}, {\"BinLeft\": \"96\", \"BinRight\": \"97\", \"NPeople\": 279}, {\"BinLeft\": \"97\", \"BinRight\": \"98\", \"NPeople\": 164}, {\"BinLeft\": \"98\", \"BinRight\": \"99\", \"NPeople\": 98}, {\"BinLeft\": \"99\", \"BinRight\": \"100\", \"NPeople\": 59}, {\"BinLeft\": \"100\", \"BinRight\": \"inf\", \"NPeople\": 55}]}}, {\"mode\": \"vega-lite\"});\n",
       "</script>"
      ],
      "text/plain": [
       "alt.Chart(...)"
      ]
     },
     "metadata": {},
     "output_type": "display_data"
    },
    {
     "data": {
      "text/markdown": [
       "Plot for stats_age_study_start_distribution__sorted.csv"
      ],
      "text/plain": [
       "<IPython.core.display.Markdown object>"
      ]
     },
     "metadata": {},
     "output_type": "display_data"
    },
    {
     "data": {
      "text/markdown": [
       "<hr>"
      ],
      "text/plain": [
       "<IPython.core.display.Markdown object>"
      ]
     },
     "metadata": {},
     "output_type": "display_data"
    },
    {
     "data": {
      "text/markdown": [
       "## OMOP ID: 3037522"
      ],
      "text/plain": [
       "<IPython.core.display.Markdown object>"
      ]
     },
     "metadata": {},
     "output_type": "display_data"
    },
    {
     "data": {
      "text/html": [
       "\n",
       "<style>\n",
       "  #altair-viz-0a8237212011431ab5444e2c709108e5.vega-embed {\n",
       "    width: 100%;\n",
       "    display: flex;\n",
       "  }\n",
       "\n",
       "  #altair-viz-0a8237212011431ab5444e2c709108e5.vega-embed details,\n",
       "  #altair-viz-0a8237212011431ab5444e2c709108e5.vega-embed details summary {\n",
       "    position: relative;\n",
       "  }\n",
       "</style>\n",
       "<div id=\"altair-viz-0a8237212011431ab5444e2c709108e5\"></div>\n",
       "<script type=\"text/javascript\">\n",
       "  var VEGA_DEBUG = (typeof VEGA_DEBUG == \"undefined\") ? {} : VEGA_DEBUG;\n",
       "  (function(spec, embedOpt){\n",
       "    let outputDiv = document.currentScript.previousElementSibling;\n",
       "    if (outputDiv.id !== \"altair-viz-0a8237212011431ab5444e2c709108e5\") {\n",
       "      outputDiv = document.getElementById(\"altair-viz-0a8237212011431ab5444e2c709108e5\");\n",
       "    }\n",
       "    const paths = {\n",
       "      \"vega\": \"https://cdn.jsdelivr.net/npm/vega@5?noext\",\n",
       "      \"vega-lib\": \"https://cdn.jsdelivr.net/npm/vega-lib?noext\",\n",
       "      \"vega-lite\": \"https://cdn.jsdelivr.net/npm/vega-lite@5.16.3?noext\",\n",
       "      \"vega-embed\": \"https://cdn.jsdelivr.net/npm/vega-embed@6?noext\",\n",
       "    };\n",
       "\n",
       "    function maybeLoadScript(lib, version) {\n",
       "      var key = `${lib.replace(\"-\", \"\")}_version`;\n",
       "      return (VEGA_DEBUG[key] == version) ?\n",
       "        Promise.resolve(paths[lib]) :\n",
       "        new Promise(function(resolve, reject) {\n",
       "          var s = document.createElement('script');\n",
       "          document.getElementsByTagName(\"head\")[0].appendChild(s);\n",
       "          s.async = true;\n",
       "          s.onload = () => {\n",
       "            VEGA_DEBUG[key] = version;\n",
       "            return resolve(paths[lib]);\n",
       "          };\n",
       "          s.onerror = () => reject(`Error loading script: ${paths[lib]}`);\n",
       "          s.src = paths[lib];\n",
       "        });\n",
       "    }\n",
       "\n",
       "    function showError(err) {\n",
       "      outputDiv.innerHTML = `<div class=\"error\" style=\"color:red;\">${err}</div>`;\n",
       "      throw err;\n",
       "    }\n",
       "\n",
       "    function displayChart(vegaEmbed) {\n",
       "      vegaEmbed(outputDiv, spec, embedOpt)\n",
       "        .catch(err => showError(`Javascript Error: ${err.message}<br>This usually means there's a typo in your chart specification. See the javascript console for the full traceback.`));\n",
       "    }\n",
       "\n",
       "    if(typeof define === \"function\" && define.amd) {\n",
       "      requirejs.config({paths});\n",
       "      require([\"vega-embed\"], displayChart, err => showError(`Error loading script: ${err.message}`));\n",
       "    } else {\n",
       "      maybeLoadScript(\"vega\", \"5\")\n",
       "        .then(() => maybeLoadScript(\"vega-lite\", \"5.16.3\"))\n",
       "        .then(() => maybeLoadScript(\"vega-embed\", \"6\"))\n",
       "        .catch(showError)\n",
       "        .then(() => displayChart(vegaEmbed));\n",
       "    }\n",
       "  })({\"config\": {\"view\": {\"continuousWidth\": 300, \"continuousHeight\": 300}}, \"data\": {\"name\": \"data-ce4ba69de9398d4efad1ee28246e28c2\"}, \"mark\": {\"type\": \"rect\"}, \"encoding\": {\"x\": {\"field\": \"BinLeft\", \"title\": \"Age (years)\", \"type\": \"quantitative\"}, \"x2\": {\"field\": \"BinRight\"}, \"y\": {\"field\": \"NPeople\", \"title\": \"Number of people\", \"type\": \"quantitative\"}}, \"$schema\": \"https://vega.github.io/schema/vega-lite/v5.16.3.json\", \"datasets\": {\"data-ce4ba69de9398d4efad1ee28246e28c2\": [{\"BinLeft\": \"0\", \"BinRight\": \"1\", \"NPeople\": 5}, {\"BinLeft\": \"1\", \"BinRight\": \"2\", \"NPeople\": 73}, {\"BinLeft\": \"2\", \"BinRight\": \"3\", \"NPeople\": 162}, {\"BinLeft\": \"3\", \"BinRight\": \"4\", \"NPeople\": 151}, {\"BinLeft\": \"4\", \"BinRight\": \"5\", \"NPeople\": 155}, {\"BinLeft\": \"5\", \"BinRight\": \"6\", \"NPeople\": 150}, {\"BinLeft\": \"6\", \"BinRight\": \"7\", \"NPeople\": 149}, {\"BinLeft\": \"7\", \"BinRight\": \"8\", \"NPeople\": 148}, {\"BinLeft\": \"8\", \"BinRight\": \"9\", \"NPeople\": 208}, {\"BinLeft\": \"9\", \"BinRight\": \"10\", \"NPeople\": 199}, {\"BinLeft\": \"10\", \"BinRight\": \"11\", \"NPeople\": 219}, {\"BinLeft\": \"11\", \"BinRight\": \"12\", \"NPeople\": 289}, {\"BinLeft\": \"12\", \"BinRight\": \"13\", \"NPeople\": 259}, {\"BinLeft\": \"13\", \"BinRight\": \"14\", \"NPeople\": 323}, {\"BinLeft\": \"14\", \"BinRight\": \"15\", \"NPeople\": 383}, {\"BinLeft\": \"15\", \"BinRight\": \"16\", \"NPeople\": 371}, {\"BinLeft\": \"16\", \"BinRight\": \"17\", \"NPeople\": 386}, {\"BinLeft\": \"17\", \"BinRight\": \"18\", \"NPeople\": 353}, {\"BinLeft\": \"18\", \"BinRight\": \"19\", \"NPeople\": 310}, {\"BinLeft\": \"19\", \"BinRight\": \"20\", \"NPeople\": 363}, {\"BinLeft\": \"20\", \"BinRight\": \"21\", \"NPeople\": 410}, {\"BinLeft\": \"21\", \"BinRight\": \"22\", \"NPeople\": 477}, {\"BinLeft\": \"22\", \"BinRight\": \"23\", \"NPeople\": 548}, {\"BinLeft\": \"23\", \"BinRight\": \"24\", \"NPeople\": 534}, {\"BinLeft\": \"24\", \"BinRight\": \"25\", \"NPeople\": 575}, {\"BinLeft\": \"25\", \"BinRight\": \"26\", \"NPeople\": 608}, {\"BinLeft\": \"26\", \"BinRight\": \"27\", \"NPeople\": 644}, {\"BinLeft\": \"27\", \"BinRight\": \"28\", \"NPeople\": 719}, {\"BinLeft\": \"28\", \"BinRight\": \"29\", \"NPeople\": 682}, {\"BinLeft\": \"29\", \"BinRight\": \"30\", \"NPeople\": 718}, {\"BinLeft\": \"30\", \"BinRight\": \"31\", \"NPeople\": 685}, {\"BinLeft\": \"31\", \"BinRight\": \"32\", \"NPeople\": 748}, {\"BinLeft\": \"32\", \"BinRight\": \"33\", \"NPeople\": 779}, {\"BinLeft\": \"33\", \"BinRight\": \"34\", \"NPeople\": 821}, {\"BinLeft\": \"34\", \"BinRight\": \"35\", \"NPeople\": 847}, {\"BinLeft\": \"35\", \"BinRight\": \"36\", \"NPeople\": 882}, {\"BinLeft\": \"36\", \"BinRight\": \"37\", \"NPeople\": 951}, {\"BinLeft\": \"37\", \"BinRight\": \"38\", \"NPeople\": 926}, {\"BinLeft\": \"38\", \"BinRight\": \"39\", \"NPeople\": 1001}, {\"BinLeft\": \"39\", \"BinRight\": \"40\", \"NPeople\": 1015}, {\"BinLeft\": \"40\", \"BinRight\": \"41\", \"NPeople\": 1005}, {\"BinLeft\": \"41\", \"BinRight\": \"42\", \"NPeople\": 1086}, {\"BinLeft\": \"42\", \"BinRight\": \"43\", \"NPeople\": 1020}, {\"BinLeft\": \"43\", \"BinRight\": \"44\", \"NPeople\": 1059}, {\"BinLeft\": \"44\", \"BinRight\": \"45\", \"NPeople\": 1164}, {\"BinLeft\": \"45\", \"BinRight\": \"46\", \"NPeople\": 1156}, {\"BinLeft\": \"46\", \"BinRight\": \"47\", \"NPeople\": 1080}, {\"BinLeft\": \"47\", \"BinRight\": \"48\", \"NPeople\": 1178}, {\"BinLeft\": \"48\", \"BinRight\": \"49\", \"NPeople\": 1119}, {\"BinLeft\": \"49\", \"BinRight\": \"50\", \"NPeople\": 1251}, {\"BinLeft\": \"50\", \"BinRight\": \"51\", \"NPeople\": 1335}, {\"BinLeft\": \"51\", \"BinRight\": \"52\", \"NPeople\": 1355}, {\"BinLeft\": \"52\", \"BinRight\": \"53\", \"NPeople\": 1520}, {\"BinLeft\": \"53\", \"BinRight\": \"54\", \"NPeople\": 1529}, {\"BinLeft\": \"54\", \"BinRight\": \"55\", \"NPeople\": 1586}, {\"BinLeft\": \"55\", \"BinRight\": \"56\", \"NPeople\": 1660}, {\"BinLeft\": \"56\", \"BinRight\": \"57\", \"NPeople\": 1662}, {\"BinLeft\": \"57\", \"BinRight\": \"58\", \"NPeople\": 1581}, {\"BinLeft\": \"58\", \"BinRight\": \"59\", \"NPeople\": 1560}, {\"BinLeft\": \"59\", \"BinRight\": \"60\", \"NPeople\": 1570}, {\"BinLeft\": \"60\", \"BinRight\": \"61\", \"NPeople\": 1584}, {\"BinLeft\": \"61\", \"BinRight\": \"62\", \"NPeople\": 1498}, {\"BinLeft\": \"62\", \"BinRight\": \"63\", \"NPeople\": 1471}, {\"BinLeft\": \"63\", \"BinRight\": \"64\", \"NPeople\": 1403}, {\"BinLeft\": \"64\", \"BinRight\": \"65\", \"NPeople\": 1237}, {\"BinLeft\": \"65\", \"BinRight\": \"66\", \"NPeople\": 1310}, {\"BinLeft\": \"66\", \"BinRight\": \"67\", \"NPeople\": 1347}, {\"BinLeft\": \"67\", \"BinRight\": \"68\", \"NPeople\": 1435}, {\"BinLeft\": \"68\", \"BinRight\": \"69\", \"NPeople\": 1387}, {\"BinLeft\": \"69\", \"BinRight\": \"70\", \"NPeople\": 1417}, {\"BinLeft\": \"70\", \"BinRight\": \"71\", \"NPeople\": 1483}, {\"BinLeft\": \"71\", \"BinRight\": \"72\", \"NPeople\": 1412}, {\"BinLeft\": \"72\", \"BinRight\": \"73\", \"NPeople\": 1382}, {\"BinLeft\": \"73\", \"BinRight\": \"74\", \"NPeople\": 1347}, {\"BinLeft\": \"74\", \"BinRight\": \"75\", \"NPeople\": 1332}, {\"BinLeft\": \"75\", \"BinRight\": \"76\", \"NPeople\": 1240}, {\"BinLeft\": \"76\", \"BinRight\": \"77\", \"NPeople\": 1223}, {\"BinLeft\": \"77\", \"BinRight\": \"78\", \"NPeople\": 1020}, {\"BinLeft\": \"78\", \"BinRight\": \"79\", \"NPeople\": 965}, {\"BinLeft\": \"79\", \"BinRight\": \"80\", \"NPeople\": 863}, {\"BinLeft\": \"80\", \"BinRight\": \"81\", \"NPeople\": 838}, {\"BinLeft\": \"81\", \"BinRight\": \"82\", \"NPeople\": 718}, {\"BinLeft\": \"82\", \"BinRight\": \"83\", \"NPeople\": 665}, {\"BinLeft\": \"83\", \"BinRight\": \"84\", \"NPeople\": 654}, {\"BinLeft\": \"84\", \"BinRight\": \"85\", \"NPeople\": 527}, {\"BinLeft\": \"85\", \"BinRight\": \"86\", \"NPeople\": 450}, {\"BinLeft\": \"86\", \"BinRight\": \"87\", \"NPeople\": 399}, {\"BinLeft\": \"87\", \"BinRight\": \"88\", \"NPeople\": 296}, {\"BinLeft\": \"88\", \"BinRight\": \"89\", \"NPeople\": 261}, {\"BinLeft\": \"89\", \"BinRight\": \"90\", \"NPeople\": 196}, {\"BinLeft\": \"90\", \"BinRight\": \"91\", \"NPeople\": 152}, {\"BinLeft\": \"91\", \"BinRight\": \"92\", \"NPeople\": 124}, {\"BinLeft\": \"92\", \"BinRight\": \"93\", \"NPeople\": 96}, {\"BinLeft\": \"93\", \"BinRight\": \"94\", \"NPeople\": 49}, {\"BinLeft\": \"94\", \"BinRight\": \"95\", \"NPeople\": 37}, {\"BinLeft\": \"95\", \"BinRight\": \"96\", \"NPeople\": 19}, {\"BinLeft\": \"96\", \"BinRight\": \"97\", \"NPeople\": 10}, {\"BinLeft\": \"97\", \"BinRight\": \"98\", \"NPeople\": 9}]}}, {\"mode\": \"vega-lite\"});\n",
       "</script>"
      ],
      "text/plain": [
       "alt.Chart(...)"
      ]
     },
     "metadata": {},
     "output_type": "display_data"
    },
    {
     "data": {
      "text/markdown": [
       "Plot for stats_age_first_meas_distribution__sorted.csv"
      ],
      "text/plain": [
       "<IPython.core.display.Markdown object>"
      ]
     },
     "metadata": {},
     "output_type": "display_data"
    },
    {
     "data": {
      "text/markdown": [
       "<hr>"
      ],
      "text/plain": [
       "<IPython.core.display.Markdown object>"
      ]
     },
     "metadata": {},
     "output_type": "display_data"
    },
    {
     "data": {
      "text/html": [
       "\n",
       "<style>\n",
       "  #altair-viz-4b089ff4fa0942edb76b9a7eeb71a533.vega-embed {\n",
       "    width: 100%;\n",
       "    display: flex;\n",
       "  }\n",
       "\n",
       "  #altair-viz-4b089ff4fa0942edb76b9a7eeb71a533.vega-embed details,\n",
       "  #altair-viz-4b089ff4fa0942edb76b9a7eeb71a533.vega-embed details summary {\n",
       "    position: relative;\n",
       "  }\n",
       "</style>\n",
       "<div id=\"altair-viz-4b089ff4fa0942edb76b9a7eeb71a533\"></div>\n",
       "<script type=\"text/javascript\">\n",
       "  var VEGA_DEBUG = (typeof VEGA_DEBUG == \"undefined\") ? {} : VEGA_DEBUG;\n",
       "  (function(spec, embedOpt){\n",
       "    let outputDiv = document.currentScript.previousElementSibling;\n",
       "    if (outputDiv.id !== \"altair-viz-4b089ff4fa0942edb76b9a7eeb71a533\") {\n",
       "      outputDiv = document.getElementById(\"altair-viz-4b089ff4fa0942edb76b9a7eeb71a533\");\n",
       "    }\n",
       "    const paths = {\n",
       "      \"vega\": \"https://cdn.jsdelivr.net/npm/vega@5?noext\",\n",
       "      \"vega-lib\": \"https://cdn.jsdelivr.net/npm/vega-lib?noext\",\n",
       "      \"vega-lite\": \"https://cdn.jsdelivr.net/npm/vega-lite@5.16.3?noext\",\n",
       "      \"vega-embed\": \"https://cdn.jsdelivr.net/npm/vega-embed@6?noext\",\n",
       "    };\n",
       "\n",
       "    function maybeLoadScript(lib, version) {\n",
       "      var key = `${lib.replace(\"-\", \"\")}_version`;\n",
       "      return (VEGA_DEBUG[key] == version) ?\n",
       "        Promise.resolve(paths[lib]) :\n",
       "        new Promise(function(resolve, reject) {\n",
       "          var s = document.createElement('script');\n",
       "          document.getElementsByTagName(\"head\")[0].appendChild(s);\n",
       "          s.async = true;\n",
       "          s.onload = () => {\n",
       "            VEGA_DEBUG[key] = version;\n",
       "            return resolve(paths[lib]);\n",
       "          };\n",
       "          s.onerror = () => reject(`Error loading script: ${paths[lib]}`);\n",
       "          s.src = paths[lib];\n",
       "        });\n",
       "    }\n",
       "\n",
       "    function showError(err) {\n",
       "      outputDiv.innerHTML = `<div class=\"error\" style=\"color:red;\">${err}</div>`;\n",
       "      throw err;\n",
       "    }\n",
       "\n",
       "    function displayChart(vegaEmbed) {\n",
       "      vegaEmbed(outputDiv, spec, embedOpt)\n",
       "        .catch(err => showError(`Javascript Error: ${err.message}<br>This usually means there's a typo in your chart specification. See the javascript console for the full traceback.`));\n",
       "    }\n",
       "\n",
       "    if(typeof define === \"function\" && define.amd) {\n",
       "      requirejs.config({paths});\n",
       "      require([\"vega-embed\"], displayChart, err => showError(`Error loading script: ${err.message}`));\n",
       "    } else {\n",
       "      maybeLoadScript(\"vega\", \"5\")\n",
       "        .then(() => maybeLoadScript(\"vega-lite\", \"5.16.3\"))\n",
       "        .then(() => maybeLoadScript(\"vega-embed\", \"6\"))\n",
       "        .catch(showError)\n",
       "        .then(() => displayChart(vegaEmbed));\n",
       "    }\n",
       "  })({\"config\": {\"view\": {\"continuousWidth\": 300, \"continuousHeight\": 300}}, \"data\": {\"name\": \"data-97bb2c97b18589c11b5072e6bf69d003\"}, \"mark\": {\"type\": \"rect\"}, \"encoding\": {\"x\": {\"field\": \"BinLeft\", \"title\": \"Age (years)\", \"type\": \"quantitative\"}, \"x2\": {\"field\": \"BinRight\"}, \"y\": {\"field\": \"NPeople\", \"title\": \"Number of people\", \"type\": \"quantitative\"}}, \"$schema\": \"https://vega.github.io/schema/vega-lite/v5.16.3.json\", \"datasets\": {\"data-97bb2c97b18589c11b5072e6bf69d003\": [{\"BinLeft\": \"0\", \"BinRight\": \"1\", \"NPeople\": 5}, {\"BinLeft\": \"1\", \"BinRight\": \"2\", \"NPeople\": 57}, {\"BinLeft\": \"2\", \"BinRight\": \"3\", \"NPeople\": 142}, {\"BinLeft\": \"3\", \"BinRight\": \"4\", \"NPeople\": 146}, {\"BinLeft\": \"4\", \"BinRight\": \"5\", \"NPeople\": 152}, {\"BinLeft\": \"5\", \"BinRight\": \"6\", \"NPeople\": 154}, {\"BinLeft\": \"6\", \"BinRight\": \"7\", \"NPeople\": 152}, {\"BinLeft\": \"7\", \"BinRight\": \"8\", \"NPeople\": 139}, {\"BinLeft\": \"8\", \"BinRight\": \"9\", \"NPeople\": 188}, {\"BinLeft\": \"9\", \"BinRight\": \"10\", \"NPeople\": 201}, {\"BinLeft\": \"10\", \"BinRight\": \"11\", \"NPeople\": 215}, {\"BinLeft\": \"11\", \"BinRight\": \"12\", \"NPeople\": 261}, {\"BinLeft\": \"12\", \"BinRight\": \"13\", \"NPeople\": 264}, {\"BinLeft\": \"13\", \"BinRight\": \"14\", \"NPeople\": 295}, {\"BinLeft\": \"14\", \"BinRight\": \"15\", \"NPeople\": 360}, {\"BinLeft\": \"15\", \"BinRight\": \"16\", \"NPeople\": 351}, {\"BinLeft\": \"16\", \"BinRight\": \"17\", \"NPeople\": 421}, {\"BinLeft\": \"17\", \"BinRight\": \"18\", \"NPeople\": 363}, {\"BinLeft\": \"18\", \"BinRight\": \"19\", \"NPeople\": 311}, {\"BinLeft\": \"19\", \"BinRight\": \"20\", \"NPeople\": 361}, {\"BinLeft\": \"20\", \"BinRight\": \"21\", \"NPeople\": 397}, {\"BinLeft\": \"21\", \"BinRight\": \"22\", \"NPeople\": 456}, {\"BinLeft\": \"22\", \"BinRight\": \"23\", \"NPeople\": 541}, {\"BinLeft\": \"23\", \"BinRight\": \"24\", \"NPeople\": 523}, {\"BinLeft\": \"24\", \"BinRight\": \"25\", \"NPeople\": 580}, {\"BinLeft\": \"25\", \"BinRight\": \"26\", \"NPeople\": 605}, {\"BinLeft\": \"26\", \"BinRight\": \"27\", \"NPeople\": 639}, {\"BinLeft\": \"27\", \"BinRight\": \"28\", \"NPeople\": 708}, {\"BinLeft\": \"28\", \"BinRight\": \"29\", \"NPeople\": 683}, {\"BinLeft\": \"29\", \"BinRight\": \"30\", \"NPeople\": 693}, {\"BinLeft\": \"30\", \"BinRight\": \"31\", \"NPeople\": 683}, {\"BinLeft\": \"31\", \"BinRight\": \"32\", \"NPeople\": 749}, {\"BinLeft\": \"32\", \"BinRight\": \"33\", \"NPeople\": 781}, {\"BinLeft\": \"33\", \"BinRight\": \"34\", \"NPeople\": 814}, {\"BinLeft\": \"34\", \"BinRight\": \"35\", \"NPeople\": 818}, {\"BinLeft\": \"35\", \"BinRight\": \"36\", \"NPeople\": 857}, {\"BinLeft\": \"36\", \"BinRight\": \"37\", \"NPeople\": 933}, {\"BinLeft\": \"37\", \"BinRight\": \"38\", \"NPeople\": 923}, {\"BinLeft\": \"38\", \"BinRight\": \"39\", \"NPeople\": 983}, {\"BinLeft\": \"39\", \"BinRight\": \"40\", \"NPeople\": 1025}, {\"BinLeft\": \"40\", \"BinRight\": \"41\", \"NPeople\": 1004}, {\"BinLeft\": \"41\", \"BinRight\": \"42\", \"NPeople\": 1050}, {\"BinLeft\": \"42\", \"BinRight\": \"43\", \"NPeople\": 1006}, {\"BinLeft\": \"43\", \"BinRight\": \"44\", \"NPeople\": 1089}, {\"BinLeft\": \"44\", \"BinRight\": \"45\", \"NPeople\": 1132}, {\"BinLeft\": \"45\", \"BinRight\": \"46\", \"NPeople\": 1174}, {\"BinLeft\": \"46\", \"BinRight\": \"47\", \"NPeople\": 1063}, {\"BinLeft\": \"47\", \"BinRight\": \"48\", \"NPeople\": 1186}, {\"BinLeft\": \"48\", \"BinRight\": \"49\", \"NPeople\": 1109}, {\"BinLeft\": \"49\", \"BinRight\": \"50\", \"NPeople\": 1222}, {\"BinLeft\": \"50\", \"BinRight\": \"51\", \"NPeople\": 1295}, {\"BinLeft\": \"51\", \"BinRight\": \"52\", \"NPeople\": 1349}, {\"BinLeft\": \"52\", \"BinRight\": \"53\", \"NPeople\": 1524}, {\"BinLeft\": \"53\", \"BinRight\": \"54\", \"NPeople\": 1511}, {\"BinLeft\": \"54\", \"BinRight\": \"55\", \"NPeople\": 1576}, {\"BinLeft\": \"55\", \"BinRight\": \"56\", \"NPeople\": 1661}, {\"BinLeft\": \"56\", \"BinRight\": \"57\", \"NPeople\": 1628}, {\"BinLeft\": \"57\", \"BinRight\": \"58\", \"NPeople\": 1601}, {\"BinLeft\": \"58\", \"BinRight\": \"59\", \"NPeople\": 1599}, {\"BinLeft\": \"59\", \"BinRight\": \"60\", \"NPeople\": 1584}, {\"BinLeft\": \"60\", \"BinRight\": \"61\", \"NPeople\": 1593}, {\"BinLeft\": \"61\", \"BinRight\": \"62\", \"NPeople\": 1531}, {\"BinLeft\": \"62\", \"BinRight\": \"63\", \"NPeople\": 1480}, {\"BinLeft\": \"63\", \"BinRight\": \"64\", \"NPeople\": 1386}, {\"BinLeft\": \"64\", \"BinRight\": \"65\", \"NPeople\": 1273}, {\"BinLeft\": \"65\", \"BinRight\": \"66\", \"NPeople\": 1304}, {\"BinLeft\": \"66\", \"BinRight\": \"67\", \"NPeople\": 1337}, {\"BinLeft\": \"67\", \"BinRight\": \"68\", \"NPeople\": 1401}, {\"BinLeft\": \"68\", \"BinRight\": \"69\", \"NPeople\": 1383}, {\"BinLeft\": \"69\", \"BinRight\": \"70\", \"NPeople\": 1464}, {\"BinLeft\": \"70\", \"BinRight\": \"71\", \"NPeople\": 1515}, {\"BinLeft\": \"71\", \"BinRight\": \"72\", \"NPeople\": 1409}, {\"BinLeft\": \"72\", \"BinRight\": \"73\", \"NPeople\": 1395}, {\"BinLeft\": \"73\", \"BinRight\": \"74\", \"NPeople\": 1360}, {\"BinLeft\": \"74\", \"BinRight\": \"75\", \"NPeople\": 1349}, {\"BinLeft\": \"75\", \"BinRight\": \"76\", \"NPeople\": 1263}, {\"BinLeft\": \"76\", \"BinRight\": \"77\", \"NPeople\": 1245}, {\"BinLeft\": \"77\", \"BinRight\": \"78\", \"NPeople\": 1056}, {\"BinLeft\": \"78\", \"BinRight\": \"79\", \"NPeople\": 989}, {\"BinLeft\": \"79\", \"BinRight\": \"80\", \"NPeople\": 878}, {\"BinLeft\": \"80\", \"BinRight\": \"81\", \"NPeople\": 852}, {\"BinLeft\": \"81\", \"BinRight\": \"82\", \"NPeople\": 738}, {\"BinLeft\": \"82\", \"BinRight\": \"83\", \"NPeople\": 673}, {\"BinLeft\": \"83\", \"BinRight\": \"84\", \"NPeople\": 682}, {\"BinLeft\": \"84\", \"BinRight\": \"85\", \"NPeople\": 553}, {\"BinLeft\": \"85\", \"BinRight\": \"86\", \"NPeople\": 443}, {\"BinLeft\": \"86\", \"BinRight\": \"87\", \"NPeople\": 427}, {\"BinLeft\": \"87\", \"BinRight\": \"88\", \"NPeople\": 307}, {\"BinLeft\": \"88\", \"BinRight\": \"89\", \"NPeople\": 269}, {\"BinLeft\": \"89\", \"BinRight\": \"90\", \"NPeople\": 203}, {\"BinLeft\": \"90\", \"BinRight\": \"91\", \"NPeople\": 158}, {\"BinLeft\": \"91\", \"BinRight\": \"92\", \"NPeople\": 126}, {\"BinLeft\": \"92\", \"BinRight\": \"93\", \"NPeople\": 98}, {\"BinLeft\": \"93\", \"BinRight\": \"94\", \"NPeople\": 51}, {\"BinLeft\": \"94\", \"BinRight\": \"95\", \"NPeople\": 36}, {\"BinLeft\": \"95\", \"BinRight\": \"96\", \"NPeople\": 20}, {\"BinLeft\": \"96\", \"BinRight\": \"97\", \"NPeople\": 10}, {\"BinLeft\": \"97\", \"BinRight\": \"98\", \"NPeople\": 9}]}}, {\"mode\": \"vega-lite\"});\n",
       "</script>"
      ],
      "text/plain": [
       "alt.Chart(...)"
      ]
     },
     "metadata": {},
     "output_type": "display_data"
    },
    {
     "data": {
      "text/markdown": [
       "Plot for stats_age_last_meas_distribution__sorted.csv"
      ],
      "text/plain": [
       "<IPython.core.display.Markdown object>"
      ]
     },
     "metadata": {},
     "output_type": "display_data"
    },
    {
     "data": {
      "text/markdown": [
       "<hr>"
      ],
      "text/plain": [
       "<IPython.core.display.Markdown object>"
      ]
     },
     "metadata": {},
     "output_type": "display_data"
    },
    {
     "data": {
      "text/html": [
       "\n",
       "<style>\n",
       "  #altair-viz-d479a890d2584455a9aead86a955d6d9.vega-embed {\n",
       "    width: 100%;\n",
       "    display: flex;\n",
       "  }\n",
       "\n",
       "  #altair-viz-d479a890d2584455a9aead86a955d6d9.vega-embed details,\n",
       "  #altair-viz-d479a890d2584455a9aead86a955d6d9.vega-embed details summary {\n",
       "    position: relative;\n",
       "  }\n",
       "</style>\n",
       "<div id=\"altair-viz-d479a890d2584455a9aead86a955d6d9\"></div>\n",
       "<script type=\"text/javascript\">\n",
       "  var VEGA_DEBUG = (typeof VEGA_DEBUG == \"undefined\") ? {} : VEGA_DEBUG;\n",
       "  (function(spec, embedOpt){\n",
       "    let outputDiv = document.currentScript.previousElementSibling;\n",
       "    if (outputDiv.id !== \"altair-viz-d479a890d2584455a9aead86a955d6d9\") {\n",
       "      outputDiv = document.getElementById(\"altair-viz-d479a890d2584455a9aead86a955d6d9\");\n",
       "    }\n",
       "    const paths = {\n",
       "      \"vega\": \"https://cdn.jsdelivr.net/npm/vega@5?noext\",\n",
       "      \"vega-lib\": \"https://cdn.jsdelivr.net/npm/vega-lib?noext\",\n",
       "      \"vega-lite\": \"https://cdn.jsdelivr.net/npm/vega-lite@5.16.3?noext\",\n",
       "      \"vega-embed\": \"https://cdn.jsdelivr.net/npm/vega-embed@6?noext\",\n",
       "    };\n",
       "\n",
       "    function maybeLoadScript(lib, version) {\n",
       "      var key = `${lib.replace(\"-\", \"\")}_version`;\n",
       "      return (VEGA_DEBUG[key] == version) ?\n",
       "        Promise.resolve(paths[lib]) :\n",
       "        new Promise(function(resolve, reject) {\n",
       "          var s = document.createElement('script');\n",
       "          document.getElementsByTagName(\"head\")[0].appendChild(s);\n",
       "          s.async = true;\n",
       "          s.onload = () => {\n",
       "            VEGA_DEBUG[key] = version;\n",
       "            return resolve(paths[lib]);\n",
       "          };\n",
       "          s.onerror = () => reject(`Error loading script: ${paths[lib]}`);\n",
       "          s.src = paths[lib];\n",
       "        });\n",
       "    }\n",
       "\n",
       "    function showError(err) {\n",
       "      outputDiv.innerHTML = `<div class=\"error\" style=\"color:red;\">${err}</div>`;\n",
       "      throw err;\n",
       "    }\n",
       "\n",
       "    function displayChart(vegaEmbed) {\n",
       "      vegaEmbed(outputDiv, spec, embedOpt)\n",
       "        .catch(err => showError(`Javascript Error: ${err.message}<br>This usually means there's a typo in your chart specification. See the javascript console for the full traceback.`));\n",
       "    }\n",
       "\n",
       "    if(typeof define === \"function\" && define.amd) {\n",
       "      requirejs.config({paths});\n",
       "      require([\"vega-embed\"], displayChart, err => showError(`Error loading script: ${err.message}`));\n",
       "    } else {\n",
       "      maybeLoadScript(\"vega\", \"5\")\n",
       "        .then(() => maybeLoadScript(\"vega-lite\", \"5.16.3\"))\n",
       "        .then(() => maybeLoadScript(\"vega-embed\", \"6\"))\n",
       "        .catch(showError)\n",
       "        .then(() => displayChart(vegaEmbed));\n",
       "    }\n",
       "  })({\"config\": {\"view\": {\"continuousWidth\": 300, \"continuousHeight\": 300}}, \"data\": {\"name\": \"data-2cbd95ec01a404cb7b83dcff4c3ffe10\"}, \"mark\": {\"type\": \"rect\"}, \"encoding\": {\"x\": {\"field\": \"BinLeft\", \"title\": \"Age (years)\", \"type\": \"quantitative\"}, \"x2\": {\"field\": \"BinRight\"}, \"y\": {\"field\": \"NPeople\", \"title\": \"Number of people\", \"type\": \"quantitative\"}}, \"$schema\": \"https://vega.github.io/schema/vega-lite/v5.16.3.json\", \"datasets\": {\"data-2cbd95ec01a404cb7b83dcff4c3ffe10\": [{\"BinLeft\": \"-inf\", \"BinRight\": \"0\", \"NPeople\": 707}, {\"BinLeft\": \"0\", \"BinRight\": \"1\", \"NPeople\": 146}, {\"BinLeft\": \"1\", \"BinRight\": \"2\", \"NPeople\": 187}, {\"BinLeft\": \"2\", \"BinRight\": \"3\", \"NPeople\": 192}, {\"BinLeft\": \"3\", \"BinRight\": \"4\", \"NPeople\": 226}, {\"BinLeft\": \"4\", \"BinRight\": \"5\", \"NPeople\": 240}, {\"BinLeft\": \"5\", \"BinRight\": \"6\", \"NPeople\": 281}, {\"BinLeft\": \"6\", \"BinRight\": \"7\", \"NPeople\": 293}, {\"BinLeft\": \"7\", \"BinRight\": \"8\", \"NPeople\": 289}, {\"BinLeft\": \"8\", \"BinRight\": \"9\", \"NPeople\": 353}, {\"BinLeft\": \"9\", \"BinRight\": \"10\", \"NPeople\": 319}, {\"BinLeft\": \"10\", \"BinRight\": \"11\", \"NPeople\": 344}, {\"BinLeft\": \"11\", \"BinRight\": \"12\", \"NPeople\": 370}, {\"BinLeft\": \"12\", \"BinRight\": \"13\", \"NPeople\": 371}, {\"BinLeft\": \"13\", \"BinRight\": \"14\", \"NPeople\": 346}, {\"BinLeft\": \"14\", \"BinRight\": \"15\", \"NPeople\": 460}, {\"BinLeft\": \"15\", \"BinRight\": \"16\", \"NPeople\": 464}, {\"BinLeft\": \"16\", \"BinRight\": \"17\", \"NPeople\": 465}, {\"BinLeft\": \"17\", \"BinRight\": \"18\", \"NPeople\": 512}, {\"BinLeft\": \"18\", \"BinRight\": \"19\", \"NPeople\": 616}, {\"BinLeft\": \"19\", \"BinRight\": \"20\", \"NPeople\": 618}, {\"BinLeft\": \"20\", \"BinRight\": \"21\", \"NPeople\": 640}, {\"BinLeft\": \"21\", \"BinRight\": \"22\", \"NPeople\": 673}, {\"BinLeft\": \"22\", \"BinRight\": \"23\", \"NPeople\": 646}, {\"BinLeft\": \"23\", \"BinRight\": \"24\", \"NPeople\": 729}, {\"BinLeft\": \"24\", \"BinRight\": \"25\", \"NPeople\": 779}, {\"BinLeft\": \"25\", \"BinRight\": \"26\", \"NPeople\": 745}, {\"BinLeft\": \"26\", \"BinRight\": \"27\", \"NPeople\": 771}, {\"BinLeft\": \"27\", \"BinRight\": \"28\", \"NPeople\": 733}, {\"BinLeft\": \"28\", \"BinRight\": \"29\", \"NPeople\": 835}, {\"BinLeft\": \"29\", \"BinRight\": \"30\", \"NPeople\": 904}, {\"BinLeft\": \"30\", \"BinRight\": \"31\", \"NPeople\": 931}, {\"BinLeft\": \"31\", \"BinRight\": \"32\", \"NPeople\": 1003}, {\"BinLeft\": \"32\", \"BinRight\": \"33\", \"NPeople\": 979}, {\"BinLeft\": \"33\", \"BinRight\": \"34\", \"NPeople\": 964}, {\"BinLeft\": \"34\", \"BinRight\": \"35\", \"NPeople\": 1024}, {\"BinLeft\": \"35\", \"BinRight\": \"36\", \"NPeople\": 1055}, {\"BinLeft\": \"36\", \"BinRight\": \"37\", \"NPeople\": 1141}, {\"BinLeft\": \"37\", \"BinRight\": \"38\", \"NPeople\": 1146}, {\"BinLeft\": \"38\", \"BinRight\": \"39\", \"NPeople\": 1101}, {\"BinLeft\": \"39\", \"BinRight\": \"40\", \"NPeople\": 1094}, {\"BinLeft\": \"40\", \"BinRight\": \"41\", \"NPeople\": 1015}, {\"BinLeft\": \"41\", \"BinRight\": \"42\", \"NPeople\": 1142}, {\"BinLeft\": \"42\", \"BinRight\": \"43\", \"NPeople\": 1151}, {\"BinLeft\": \"43\", \"BinRight\": \"44\", \"NPeople\": 1200}, {\"BinLeft\": \"44\", \"BinRight\": \"45\", \"NPeople\": 1318}, {\"BinLeft\": \"45\", \"BinRight\": \"46\", \"NPeople\": 1387}, {\"BinLeft\": \"46\", \"BinRight\": \"47\", \"NPeople\": 1485}, {\"BinLeft\": \"47\", \"BinRight\": \"48\", \"NPeople\": 1558}, {\"BinLeft\": \"48\", \"BinRight\": \"49\", \"NPeople\": 1614}, {\"BinLeft\": \"49\", \"BinRight\": \"50\", \"NPeople\": 1554}, {\"BinLeft\": \"50\", \"BinRight\": \"51\", \"NPeople\": 1678}, {\"BinLeft\": \"51\", \"BinRight\": \"52\", \"NPeople\": 1558}, {\"BinLeft\": \"52\", \"BinRight\": \"53\", \"NPeople\": 1660}, {\"BinLeft\": \"53\", \"BinRight\": \"54\", \"NPeople\": 1570}, {\"BinLeft\": \"54\", \"BinRight\": \"55\", \"NPeople\": 1535}, {\"BinLeft\": \"55\", \"BinRight\": \"56\", \"NPeople\": 1444}, {\"BinLeft\": \"56\", \"BinRight\": \"57\", \"NPeople\": 1419}, {\"BinLeft\": \"57\", \"BinRight\": \"58\", \"NPeople\": 1428}, {\"BinLeft\": \"58\", \"BinRight\": \"59\", \"NPeople\": 1398}, {\"BinLeft\": \"59\", \"BinRight\": \"60\", \"NPeople\": 1396}, {\"BinLeft\": \"60\", \"BinRight\": \"61\", \"NPeople\": 1335}, {\"BinLeft\": \"61\", \"BinRight\": \"62\", \"NPeople\": 1420}, {\"BinLeft\": \"62\", \"BinRight\": \"63\", \"NPeople\": 1325}, {\"BinLeft\": \"63\", \"BinRight\": \"64\", \"NPeople\": 1366}, {\"BinLeft\": \"64\", \"BinRight\": \"65\", \"NPeople\": 1449}, {\"BinLeft\": \"65\", \"BinRight\": \"66\", \"NPeople\": 1506}, {\"BinLeft\": \"66\", \"BinRight\": \"67\", \"NPeople\": 1521}, {\"BinLeft\": \"67\", \"BinRight\": \"68\", \"NPeople\": 1554}, {\"BinLeft\": \"68\", \"BinRight\": \"69\", \"NPeople\": 1395}, {\"BinLeft\": \"69\", \"BinRight\": \"70\", \"NPeople\": 1089}, {\"BinLeft\": \"70\", \"BinRight\": \"71\", \"NPeople\": 1046}, {\"BinLeft\": \"71\", \"BinRight\": \"72\", \"NPeople\": 829}, {\"BinLeft\": \"72\", \"BinRight\": \"73\", \"NPeople\": 1184}, {\"BinLeft\": \"73\", \"BinRight\": \"74\", \"NPeople\": 755}, {\"BinLeft\": \"74\", \"BinRight\": \"75\", \"NPeople\": 832}, {\"BinLeft\": \"75\", \"BinRight\": \"76\", \"NPeople\": 805}, {\"BinLeft\": \"76\", \"BinRight\": \"77\", \"NPeople\": 629}, {\"BinLeft\": \"77\", \"BinRight\": \"78\", \"NPeople\": 593}, {\"BinLeft\": \"78\", \"BinRight\": \"79\", \"NPeople\": 522}, {\"BinLeft\": \"79\", \"BinRight\": \"80\", \"NPeople\": 452}, {\"BinLeft\": \"80\", \"BinRight\": \"81\", \"NPeople\": 365}, {\"BinLeft\": \"81\", \"BinRight\": \"82\", \"NPeople\": 308}, {\"BinLeft\": \"82\", \"BinRight\": \"83\", \"NPeople\": 267}, {\"BinLeft\": \"83\", \"BinRight\": \"84\", \"NPeople\": 259}, {\"BinLeft\": \"84\", \"BinRight\": \"85\", \"NPeople\": 188}, {\"BinLeft\": \"85\", \"BinRight\": \"86\", \"NPeople\": 127}, {\"BinLeft\": \"86\", \"BinRight\": \"87\", \"NPeople\": 92}, {\"BinLeft\": \"87\", \"BinRight\": \"88\", \"NPeople\": 47}, {\"BinLeft\": \"88\", \"BinRight\": \"89\", \"NPeople\": 43}, {\"BinLeft\": \"89\", \"BinRight\": \"90\", \"NPeople\": 22}, {\"BinLeft\": \"90\", \"BinRight\": \"91\", \"NPeople\": 16}, {\"BinLeft\": \"91\", \"BinRight\": \"92\", \"NPeople\": 13}]}}, {\"mode\": \"vega-lite\"});\n",
       "</script>"
      ],
      "text/plain": [
       "alt.Chart(...)"
      ]
     },
     "metadata": {},
     "output_type": "display_data"
    },
    {
     "data": {
      "text/markdown": [
       "Plot for stats_age_study_start_distribution__sorted.csv"
      ],
      "text/plain": [
       "<IPython.core.display.Markdown object>"
      ]
     },
     "metadata": {},
     "output_type": "display_data"
    },
    {
     "data": {
      "text/markdown": [
       "<hr>"
      ],
      "text/plain": [
       "<IPython.core.display.Markdown object>"
      ]
     },
     "metadata": {},
     "output_type": "display_data"
    }
   ],
   "source": [
    "for omop_id in plotting.ALL_OMOP_IDS:\n",
    "    display(Markdown(f\"## OMOP ID: {omop_id}\"))\n",
    "            \n",
    "    for file_path in files:\n",
    "        display(plotting.plot_age_distrib(file_path, omop_id))\n",
    "        display(Markdown(f\"Plot for {file_path.name}\"))\n",
    "        display(Markdown(\"<hr>\"))"
   ]
  }
 ],
 "metadata": {
  "kernelspec": {
   "display_name": "Python 3 (ipykernel)",
   "language": "python",
   "name": "python3"
  },
  "language_info": {
   "codemirror_mode": {
    "name": "ipython",
    "version": 3
   },
   "file_extension": ".py",
   "mimetype": "text/x-python",
   "name": "python",
   "nbconvert_exporter": "python",
   "pygments_lexer": "ipython3",
   "version": "3.12.1"
  }
 },
 "nbformat": 4,
 "nbformat_minor": 5
}
