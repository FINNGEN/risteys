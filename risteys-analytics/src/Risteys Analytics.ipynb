{
 "cells": [
  {
   "cell_type": "markdown",
   "id": "f1063763-d7f7-4525-8515-2953edbebaa6",
   "metadata": {},
   "source": [
    "# Risteys Analytics"
   ]
  },
  {
   "cell_type": "code",
   "execution_count": 1,
   "id": "b33601d4-d0bd-4bd8-9d01-3851b5a77151",
   "metadata": {
    "jupyter": {
     "source_hidden": true
    }
   },
   "outputs": [],
   "source": [
    "import altair as alt\n",
    "import polars as pl\n",
    "from risteys_analytics import analytics"
   ]
  },
  {
   "cell_type": "code",
   "execution_count": 2,
   "id": "cfbcde29-3a1d-4c08-9fc6-a6d317b30d38",
   "metadata": {
    "jupyter": {
     "source_hidden": true
    }
   },
   "outputs": [],
   "source": [
    "df = analytics.parse_log_file(\"../data/access.log\")\n",
    "\n",
    "(\n",
    "    stats_top_hits,\n",
    "    stats_hits_per_day,\n",
    "    stats_top_errors\n",
    ") = analytics.analyse(df, last_n_days=30)\n",
    "times = df.get_column(\"DateTime\")"
   ]
  },
  {
   "cell_type": "code",
   "execution_count": 3,
   "id": "be41d20e-3de5-4882-bffe-b1c15f9de468",
   "metadata": {
    "jupyter": {
     "source_hidden": true
    }
   },
   "outputs": [
    {
     "name": "stdout",
     "output_type": "stream",
     "text": [
      "From 2024-01-22 15:45:27 to 2024-02-07 12:25:50\n"
     ]
    }
   ],
   "source": [
    "print(f\"From {times.min()} to {times.max()}\")"
   ]
  },
  {
   "cell_type": "markdown",
   "id": "b790df48-d95a-493a-815a-a357b1e6a776",
   "metadata": {},
   "source": [
    "## Top page hits"
   ]
  },
  {
   "cell_type": "code",
   "execution_count": 15,
   "id": "5f133cea-9ae9-4bd0-bef5-e179c67833c2",
   "metadata": {
    "jupyter": {
     "source_hidden": true
    }
   },
   "outputs": [
    {
     "data": {
      "text/html": [
       "\n",
       "<style>\n",
       "  #altair-viz-a25459fbc91a45a892fbfafc9b81a14b.vega-embed {\n",
       "    width: 100%;\n",
       "    display: flex;\n",
       "  }\n",
       "\n",
       "  #altair-viz-a25459fbc91a45a892fbfafc9b81a14b.vega-embed details,\n",
       "  #altair-viz-a25459fbc91a45a892fbfafc9b81a14b.vega-embed details summary {\n",
       "    position: relative;\n",
       "  }\n",
       "</style>\n",
       "<div id=\"altair-viz-a25459fbc91a45a892fbfafc9b81a14b\"></div>\n",
       "<script type=\"text/javascript\">\n",
       "  var VEGA_DEBUG = (typeof VEGA_DEBUG == \"undefined\") ? {} : VEGA_DEBUG;\n",
       "  (function(spec, embedOpt){\n",
       "    let outputDiv = document.currentScript.previousElementSibling;\n",
       "    if (outputDiv.id !== \"altair-viz-a25459fbc91a45a892fbfafc9b81a14b\") {\n",
       "      outputDiv = document.getElementById(\"altair-viz-a25459fbc91a45a892fbfafc9b81a14b\");\n",
       "    }\n",
       "    const paths = {\n",
       "      \"vega\": \"https://cdn.jsdelivr.net/npm/vega@5?noext\",\n",
       "      \"vega-lib\": \"https://cdn.jsdelivr.net/npm/vega-lib?noext\",\n",
       "      \"vega-lite\": \"https://cdn.jsdelivr.net/npm/vega-lite@5.16.3?noext\",\n",
       "      \"vega-embed\": \"https://cdn.jsdelivr.net/npm/vega-embed@6?noext\",\n",
       "    };\n",
       "\n",
       "    function maybeLoadScript(lib, version) {\n",
       "      var key = `${lib.replace(\"-\", \"\")}_version`;\n",
       "      return (VEGA_DEBUG[key] == version) ?\n",
       "        Promise.resolve(paths[lib]) :\n",
       "        new Promise(function(resolve, reject) {\n",
       "          var s = document.createElement('script');\n",
       "          document.getElementsByTagName(\"head\")[0].appendChild(s);\n",
       "          s.async = true;\n",
       "          s.onload = () => {\n",
       "            VEGA_DEBUG[key] = version;\n",
       "            return resolve(paths[lib]);\n",
       "          };\n",
       "          s.onerror = () => reject(`Error loading script: ${paths[lib]}`);\n",
       "          s.src = paths[lib];\n",
       "        });\n",
       "    }\n",
       "\n",
       "    function showError(err) {\n",
       "      outputDiv.innerHTML = `<div class=\"error\" style=\"color:red;\">${err}</div>`;\n",
       "      throw err;\n",
       "    }\n",
       "\n",
       "    function displayChart(vegaEmbed) {\n",
       "      vegaEmbed(outputDiv, spec, embedOpt)\n",
       "        .catch(err => showError(`Javascript Error: ${err.message}<br>This usually means there's a typo in your chart specification. See the javascript console for the full traceback.`));\n",
       "    }\n",
       "\n",
       "    if(typeof define === \"function\" && define.amd) {\n",
       "      requirejs.config({paths});\n",
       "      require([\"vega-embed\"], displayChart, err => showError(`Error loading script: ${err.message}`));\n",
       "    } else {\n",
       "      maybeLoadScript(\"vega\", \"5\")\n",
       "        .then(() => maybeLoadScript(\"vega-lite\", \"5.16.3\"))\n",
       "        .then(() => maybeLoadScript(\"vega-embed\", \"6\"))\n",
       "        .catch(showError)\n",
       "        .then(() => displayChart(vegaEmbed));\n",
       "    }\n",
       "  })({\"config\": {\"view\": {\"continuousWidth\": 300, \"continuousHeight\": 300}}, \"data\": {\"name\": \"data-5078cd5ce80643a5652b1ce965f55b4b\"}, \"mark\": {\"type\": \"bar\"}, \"encoding\": {\"x\": {\"field\": \"NHits\", \"type\": \"quantitative\"}, \"y\": {\"axis\": {\"labelAlign\": \"left\", \"labelPadding\": 180}, \"field\": \"Path\", \"sort\": null, \"type\": \"nominal\"}}, \"$schema\": \"https://vega.github.io/schema/vega-lite/v5.16.3.json\", \"datasets\": {\"data-5078cd5ce80643a5652b1ce965f55b4b\": [{\"Path\": \"/\", \"NHits\": 874}, {\"Path\": \"/endpoints/K11_IBD_STRICT\", \"NHits\": 549}, {\"Path\": \"/endpoints/O15_PRE_OR_ECLAMPSIA\", \"NHits\": 259}, {\"Path\": \"/endpoints/K11_OTHDIG\", \"NHits\": 211}, {\"Path\": \"/endpoints/H7_HEREDRETINADYST\", \"NHits\": 189}, {\"Path\": \"/endpoints/H7_AMD\", \"NHits\": 126}, {\"Path\": \"/endpoints/T2D\", \"NHits\": 111}, {\"Path\": \"/endpoints/J10_COPD\", \"NHits\": 103}, {\"Path\": \"/endpoints/K11_CD_STRICT2\", \"NHits\": 100}, {\"Path\": \"/documentation\", \"NHits\": 87}, {\"Path\": \"/endpoints/M13_JUVERHEU\", \"NHits\": 68}, {\"Path\": \"/endpoints/G6_MS\", \"NHits\": 64}, {\"Path\": \"/endpoints/M13_POLYMYO\", \"NHits\": 58}, {\"Path\": \"/endpoints/K11_CHRONPANC\", \"NHits\": 57}, {\"Path\": \"/endpoints/HEIGHT_IRN\", \"NHits\": 49}, {\"Path\": \"/endpoints/K11_CHRONGASTR\", \"NHits\": 48}, {\"Path\": \"/endpoints/L12_HIDRADENITISSUP\", \"NHits\": 46}, {\"Path\": \"/endpoints/NAFLD\", \"NHits\": 45}, {\"Path\": \"/endpoints/KRA_PSY_ANXIETY\", \"NHits\": 44}, {\"Path\": \"/phenocode/HEIGHT_IRN\", \"NHits\": 44}]}}, {\"mode\": \"vega-lite\"});\n",
       "</script>"
      ],
      "text/plain": [
       "alt.Chart(...)"
      ]
     },
     "execution_count": 15,
     "metadata": {},
     "output_type": "execute_result"
    }
   ],
   "source": [
    "alt.Chart(stats_top_hits).mark_bar().encode(\n",
    "    x=alt.X(\"NHits:Q\"),\n",
    "    y=alt.Y(\"Path:N\").axis(labelAlign=\"left\", labelPadding=180).sort(None)\n",
    ")"
   ]
  },
  {
   "cell_type": "markdown",
   "id": "d9a12cae-04c3-4b31-a0be-5aecda6c9c22",
   "metadata": {},
   "source": [
    "## Hits per day"
   ]
  },
  {
   "cell_type": "code",
   "execution_count": 5,
   "id": "fe45dbb8-3dc1-4dc3-b9b8-34e664935601",
   "metadata": {
    "jupyter": {
     "source_hidden": true
    }
   },
   "outputs": [],
   "source": [
    "stats_hits_per_day = stats_hits_per_day.cast({\"Day\": pl.String})"
   ]
  },
  {
   "cell_type": "code",
   "execution_count": 6,
   "id": "422a02e9-aa9e-4cee-8751-d6fef60df246",
   "metadata": {
    "jupyter": {
     "source_hidden": true
    }
   },
   "outputs": [
    {
     "data": {
      "text/html": [
       "\n",
       "<style>\n",
       "  #altair-viz-bc098e2f345b4fef9316894daf89dc40.vega-embed {\n",
       "    width: 100%;\n",
       "    display: flex;\n",
       "  }\n",
       "\n",
       "  #altair-viz-bc098e2f345b4fef9316894daf89dc40.vega-embed details,\n",
       "  #altair-viz-bc098e2f345b4fef9316894daf89dc40.vega-embed details summary {\n",
       "    position: relative;\n",
       "  }\n",
       "</style>\n",
       "<div id=\"altair-viz-bc098e2f345b4fef9316894daf89dc40\"></div>\n",
       "<script type=\"text/javascript\">\n",
       "  var VEGA_DEBUG = (typeof VEGA_DEBUG == \"undefined\") ? {} : VEGA_DEBUG;\n",
       "  (function(spec, embedOpt){\n",
       "    let outputDiv = document.currentScript.previousElementSibling;\n",
       "    if (outputDiv.id !== \"altair-viz-bc098e2f345b4fef9316894daf89dc40\") {\n",
       "      outputDiv = document.getElementById(\"altair-viz-bc098e2f345b4fef9316894daf89dc40\");\n",
       "    }\n",
       "    const paths = {\n",
       "      \"vega\": \"https://cdn.jsdelivr.net/npm/vega@5?noext\",\n",
       "      \"vega-lib\": \"https://cdn.jsdelivr.net/npm/vega-lib?noext\",\n",
       "      \"vega-lite\": \"https://cdn.jsdelivr.net/npm/vega-lite@5.16.3?noext\",\n",
       "      \"vega-embed\": \"https://cdn.jsdelivr.net/npm/vega-embed@6?noext\",\n",
       "    };\n",
       "\n",
       "    function maybeLoadScript(lib, version) {\n",
       "      var key = `${lib.replace(\"-\", \"\")}_version`;\n",
       "      return (VEGA_DEBUG[key] == version) ?\n",
       "        Promise.resolve(paths[lib]) :\n",
       "        new Promise(function(resolve, reject) {\n",
       "          var s = document.createElement('script');\n",
       "          document.getElementsByTagName(\"head\")[0].appendChild(s);\n",
       "          s.async = true;\n",
       "          s.onload = () => {\n",
       "            VEGA_DEBUG[key] = version;\n",
       "            return resolve(paths[lib]);\n",
       "          };\n",
       "          s.onerror = () => reject(`Error loading script: ${paths[lib]}`);\n",
       "          s.src = paths[lib];\n",
       "        });\n",
       "    }\n",
       "\n",
       "    function showError(err) {\n",
       "      outputDiv.innerHTML = `<div class=\"error\" style=\"color:red;\">${err}</div>`;\n",
       "      throw err;\n",
       "    }\n",
       "\n",
       "    function displayChart(vegaEmbed) {\n",
       "      vegaEmbed(outputDiv, spec, embedOpt)\n",
       "        .catch(err => showError(`Javascript Error: ${err.message}<br>This usually means there's a typo in your chart specification. See the javascript console for the full traceback.`));\n",
       "    }\n",
       "\n",
       "    if(typeof define === \"function\" && define.amd) {\n",
       "      requirejs.config({paths});\n",
       "      require([\"vega-embed\"], displayChart, err => showError(`Error loading script: ${err.message}`));\n",
       "    } else {\n",
       "      maybeLoadScript(\"vega\", \"5\")\n",
       "        .then(() => maybeLoadScript(\"vega-lite\", \"5.16.3\"))\n",
       "        .then(() => maybeLoadScript(\"vega-embed\", \"6\"))\n",
       "        .catch(showError)\n",
       "        .then(() => displayChart(vegaEmbed));\n",
       "    }\n",
       "  })({\"config\": {\"view\": {\"continuousWidth\": 300, \"continuousHeight\": 300}}, \"data\": {\"name\": \"data-a38c2020467e6c5cc189ebeb400228ec\"}, \"mark\": {\"type\": \"bar\", \"width\": 12}, \"encoding\": {\"tooltip\": [{\"field\": \"Day\", \"type\": \"temporal\"}, {\"field\": \"HitsPerDay\", \"type\": \"quantitative\"}], \"x\": {\"field\": \"Day\", \"type\": \"temporal\"}, \"y\": {\"field\": \"HitsPerDay\", \"type\": \"quantitative\"}}, \"$schema\": \"https://vega.github.io/schema/vega-lite/v5.16.3.json\", \"datasets\": {\"data-a38c2020467e6c5cc189ebeb400228ec\": [{\"Day\": \"2024-01-22\", \"HitsPerDay\": 1603}, {\"Day\": \"2024-01-23\", \"HitsPerDay\": 1969}, {\"Day\": \"2024-01-24\", \"HitsPerDay\": 1740}, {\"Day\": \"2024-01-25\", \"HitsPerDay\": 1754}, {\"Day\": \"2024-01-26\", \"HitsPerDay\": 1566}, {\"Day\": \"2024-01-27\", \"HitsPerDay\": 3216}, {\"Day\": \"2024-01-28\", \"HitsPerDay\": 1316}, {\"Day\": \"2024-01-29\", \"HitsPerDay\": 442}, {\"Day\": \"2024-02-01\", \"HitsPerDay\": 1}, {\"Day\": \"2024-02-07\", \"HitsPerDay\": 537}]}}, {\"mode\": \"vega-lite\"});\n",
       "</script>"
      ],
      "text/plain": [
       "alt.Chart(...)"
      ]
     },
     "execution_count": 6,
     "metadata": {},
     "output_type": "execute_result"
    }
   ],
   "source": [
    "alt.Chart(stats_hits_per_day).mark_bar(width=12).encode(\n",
    "    x=alt.X(\"Day:T\"),\n",
    "    y=alt.Y(\"HitsPerDay:Q\"),\n",
    "    tooltip=[\"Day:T\", \"HitsPerDay\"]\n",
    ")"
   ]
  },
  {
   "cell_type": "markdown",
   "id": "abdc102f-7681-4e42-abba-c762c1a1761c",
   "metadata": {},
   "source": [
    "## Errors"
   ]
  },
  {
   "cell_type": "code",
   "execution_count": 14,
   "id": "85ed3d0f-850d-47d5-8536-5dc53a9c4b0f",
   "metadata": {
    "jupyter": {
     "source_hidden": true
    }
   },
   "outputs": [
    {
     "data": {
      "text/html": [
       "\n",
       "<style>\n",
       "  #altair-viz-b9fab5682f004dadb13c660354e9a827.vega-embed {\n",
       "    width: 100%;\n",
       "    display: flex;\n",
       "  }\n",
       "\n",
       "  #altair-viz-b9fab5682f004dadb13c660354e9a827.vega-embed details,\n",
       "  #altair-viz-b9fab5682f004dadb13c660354e9a827.vega-embed details summary {\n",
       "    position: relative;\n",
       "  }\n",
       "</style>\n",
       "<div id=\"altair-viz-b9fab5682f004dadb13c660354e9a827\"></div>\n",
       "<script type=\"text/javascript\">\n",
       "  var VEGA_DEBUG = (typeof VEGA_DEBUG == \"undefined\") ? {} : VEGA_DEBUG;\n",
       "  (function(spec, embedOpt){\n",
       "    let outputDiv = document.currentScript.previousElementSibling;\n",
       "    if (outputDiv.id !== \"altair-viz-b9fab5682f004dadb13c660354e9a827\") {\n",
       "      outputDiv = document.getElementById(\"altair-viz-b9fab5682f004dadb13c660354e9a827\");\n",
       "    }\n",
       "    const paths = {\n",
       "      \"vega\": \"https://cdn.jsdelivr.net/npm/vega@5?noext\",\n",
       "      \"vega-lib\": \"https://cdn.jsdelivr.net/npm/vega-lib?noext\",\n",
       "      \"vega-lite\": \"https://cdn.jsdelivr.net/npm/vega-lite@5.16.3?noext\",\n",
       "      \"vega-embed\": \"https://cdn.jsdelivr.net/npm/vega-embed@6?noext\",\n",
       "    };\n",
       "\n",
       "    function maybeLoadScript(lib, version) {\n",
       "      var key = `${lib.replace(\"-\", \"\")}_version`;\n",
       "      return (VEGA_DEBUG[key] == version) ?\n",
       "        Promise.resolve(paths[lib]) :\n",
       "        new Promise(function(resolve, reject) {\n",
       "          var s = document.createElement('script');\n",
       "          document.getElementsByTagName(\"head\")[0].appendChild(s);\n",
       "          s.async = true;\n",
       "          s.onload = () => {\n",
       "            VEGA_DEBUG[key] = version;\n",
       "            return resolve(paths[lib]);\n",
       "          };\n",
       "          s.onerror = () => reject(`Error loading script: ${paths[lib]}`);\n",
       "          s.src = paths[lib];\n",
       "        });\n",
       "    }\n",
       "\n",
       "    function showError(err) {\n",
       "      outputDiv.innerHTML = `<div class=\"error\" style=\"color:red;\">${err}</div>`;\n",
       "      throw err;\n",
       "    }\n",
       "\n",
       "    function displayChart(vegaEmbed) {\n",
       "      vegaEmbed(outputDiv, spec, embedOpt)\n",
       "        .catch(err => showError(`Javascript Error: ${err.message}<br>This usually means there's a typo in your chart specification. See the javascript console for the full traceback.`));\n",
       "    }\n",
       "\n",
       "    if(typeof define === \"function\" && define.amd) {\n",
       "      requirejs.config({paths});\n",
       "      require([\"vega-embed\"], displayChart, err => showError(`Error loading script: ${err.message}`));\n",
       "    } else {\n",
       "      maybeLoadScript(\"vega\", \"5\")\n",
       "        .then(() => maybeLoadScript(\"vega-lite\", \"5.16.3\"))\n",
       "        .then(() => maybeLoadScript(\"vega-embed\", \"6\"))\n",
       "        .catch(showError)\n",
       "        .then(() => displayChart(vegaEmbed));\n",
       "    }\n",
       "  })({\"config\": {\"view\": {\"continuousWidth\": 300, \"continuousHeight\": 300}}, \"data\": {\"name\": \"data-86ef3f73f416e708d0f6ede657e98dad\"}, \"mark\": {\"type\": \"bar\"}, \"encoding\": {\"x\": {\"field\": \"NHits\", \"type\": \"quantitative\"}, \"y\": {\"axis\": {\"labelAlign\": \"left\", \"labelPadding\": 180}, \"field\": \"Path\", \"sort\": null, \"type\": \"nominal\"}}, \"$schema\": \"https://vega.github.io/schema/vega-lite/v5.16.3.json\", \"datasets\": {\"data-86ef3f73f416e708d0f6ede657e98dad\": [{\"Path\": \"/endpoints/HEIGHT_IRN\", \"NHits\": 49}, {\"Path\": \"/endpoints/O15_POSTPART_DEPR\", \"NHits\": 12}, {\"Path\": \"/endpoints/BMI_IRN\", \"NHits\": 10}, {\"Path\": \"/endpoints/WEIGHT_IRN\", \"NHits\": 8}, {\"Path\": \"/endpoints/DM_POLYNEURO\", \"NHits\": 7}, {\"Path\": \"/endpoints/E4_DMNASNOCOMP\", \"NHits\": 7}, {\"Path\": \"/endpoints/DM_RETINA_NOS\", \"NHits\": 6}, {\"Path\": \"/endpoints/DM_COMPLICATIONS\", \"NHits\": 6}, {\"Path\": \"/endpoints/H7_EYELIDDIS/H7_EYELIDNAS\", \"NHits\": 5}, {\"Path\": \"/endpoints/H7_EYELIDDIS/H7_BLEPHAROCHALASIS\", \"NHits\": 5}, {\"Path\": \"/endpoints/E4_DM2NASCOMP\", \"NHits\": 5}, {\"Path\": \"/endpoints/E4_DM1REN\", \"NHits\": 5}, {\"Path\": \"/endpoints/DM_NEPHROPATHY_EXMORE\", \"NHits\": 5}, {\"Path\": \"/endpoints/C3_LIVER_INTRAHEPATIC_BILE_DUCTS_EXALLC\", \"NHits\": 5}, {\"Path\": \"/endpoints/DM_RETINA_PROLIF\", \"NHits\": 4}, {\"Path\": \"/endpoints/E4_FE_DEF/E4_NUTRIDEF\", \"NHits\": 4}, {\"Path\": \"/endpoints/H7_EYELIDDIS/H7_ENTROPION\", \"NHits\": 4}, {\"Path\": \"/\", \"NHits\": 4}, {\"Path\": \"/endpoints/SULFONYLUREAS/DIAB_MED_OTHER\", \"NHits\": 4}, {\"Path\": \"/endpoints/I9_AVBLOCK(Access\", \"NHits\": 4}]}}, {\"mode\": \"vega-lite\"});\n",
       "</script>"
      ],
      "text/plain": [
       "alt.Chart(...)"
      ]
     },
     "execution_count": 14,
     "metadata": {},
     "output_type": "execute_result"
    }
   ],
   "source": [
    "alt.Chart(stats_top_errors).mark_bar().encode(\n",
    "    x=alt.X(\"NHits:Q\"),\n",
    "    y=alt.Y(\"Path:N\").axis(labelAlign=\"left\", labelPadding=180).sort(None)\n",
    ")"
   ]
  }
 ],
 "metadata": {
  "kernelspec": {
   "display_name": "Python 3 (ipykernel)",
   "language": "python",
   "name": "python3"
  },
  "language_info": {
   "codemirror_mode": {
    "name": "ipython",
    "version": 3
   },
   "file_extension": ".py",
   "mimetype": "text/x-python",
   "name": "python",
   "nbconvert_exporter": "python",
   "pygments_lexer": "ipython3",
   "version": "3.12.1"
  }
 },
 "nbformat": 4,
 "nbformat_minor": 5
}
